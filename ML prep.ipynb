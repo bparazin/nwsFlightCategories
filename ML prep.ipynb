{
 "cells": [
  {
   "cell_type": "code",
   "execution_count": 27,
   "id": "47de7742-58fa-49b6-87ae-fafbaf269bdb",
   "metadata": {},
   "outputs": [],
   "source": [
    "import pandas as pd\n",
    "from metar import Metar\n",
    "import numpy as np\n",
    "from IOfuncs import *\n",
    "import datetime as dt"
   ]
  },
  {
   "cell_type": "code",
   "execution_count": 35,
   "id": "900af016-02aa-4d3a-bfd0-c84e534b68a8",
   "metadata": {},
   "outputs": [],
   "source": [
    "def makeDataRow(taf_time, station, lat, lon, metar_path, glamp_path, hrrr_path):\n",
    "    delay_hours = 2\n",
    "    \n",
    "    \n",
    "    rowDF = pd.DataFrame()\n",
    "    #right now hardcoded to look at metars for 2 hours before TAF due and then predictions after\n",
    "    for time in np.arange(-6, -delay_hours+1, 1):\n",
    "        metar_at_time = get_metar_at_time(taf_time + dt.timedelta(hours = time), metar_path, station, download=True)\n",
    "        metar_data = readMetar(metar_at_time)\n",
    "        for datapoint in glamp_data:\n",
    "            rowDF[f'{time} metar {datapoint}'] = metar_data[datapoint]\n",
    "        '''\n",
    "        rowDF[f'{time} metar wind'] = metar_data['wind']\n",
    "        rowDF[f'{time} metar visibility'] = metar_data['vis']\n",
    "        rowDF[f'{time} metar precipitation'] = metar_data['precip']\n",
    "        rowDF[f'{time} metar ceiling'] = metar_data['ceiling']\n",
    "        rowDF[f'{time} metar temp'] = metar_data['temp']\n",
    "        rowDF[f'{time} metar dewpoint'] = metar_data['dew']\n",
    "        rowDF[f'{time} metar pressure'] = metar_data['pressure']\n",
    "        '''\n",
    "    \n",
    "    work_time = dt.timedelta(hours=-delay_hours)\n",
    "    glamp_data = get_glamp_at_time(taf_time + work_time, glamp_path, station, download=True)\n",
    "    hrrr_data = get_hrrr_at_time(taf_time + work_time, hrrr_path, lat, lon, download=True)\n",
    "    for time in np.arange(-delay_hours, 7, 1):\n",
    "        for datapoint in glamp_data:\n",
    "            rowDF[f'{time} glamp {datapoint}'] = glamp_data[datapoint].iloc[time + delay_hours]\n",
    "        for datapoint in hrrr_data:\n",
    "            rowDF[f'{time} hrrr {datapoint}'] = hrrr_data[datapoint].iloc[time + delay_hours]"
   ]
  },
  {
   "cell_type": "code",
   "execution_count": 36,
   "id": "a758b64a-de84-446d-9761-9dbfda568afb",
   "metadata": {},
   "outputs": [
    {
     "name": "stdout",
     "output_type": "stream",
     "text": [
      "-6\n",
      "-5\n",
      "-4\n",
      "-3\n",
      "-2\n"
     ]
    }
   ],
   "source": [
    "makeDataRow('8/23/2020  9:17:00 PM', 40, -70, 'Data/BOS.csv', 'Data/GLAMP data', 'Data/hrrr')"
   ]
  },
  {
   "cell_type": "code",
   "execution_count": null,
   "id": "c0a6eff1-eb23-4ace-b138-ea2986a6c21a",
   "metadata": {},
   "outputs": [],
   "source": []
  }
 ],
 "metadata": {
  "kernelspec": {
   "display_name": "Python 3 (ipykernel)",
   "language": "python",
   "name": "python3"
  },
  "language_info": {
   "codemirror_mode": {
    "name": "ipython",
    "version": 3
   },
   "file_extension": ".py",
   "mimetype": "text/x-python",
   "name": "python",
   "nbconvert_exporter": "python",
   "pygments_lexer": "ipython3",
   "version": "3.10.6"
  }
 },
 "nbformat": 4,
 "nbformat_minor": 5
}
