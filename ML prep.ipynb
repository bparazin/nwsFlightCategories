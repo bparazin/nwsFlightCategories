{
 "cells": [
  {
   "cell_type": "code",
   "execution_count": 1,
   "id": "47de7742-58fa-49b6-87ae-fafbaf269bdb",
   "metadata": {},
   "outputs": [],
   "source": [
    "import pandas as pd\n",
    "from metar import Metar\n",
    "import numpy as np\n",
    "from IOfuncs import *\n",
    "import datetime as dt"
   ]
  },
  {
   "cell_type": "code",
   "execution_count": 50,
   "id": "900af016-02aa-4d3a-bfd0-c84e534b68a8",
   "metadata": {},
   "outputs": [],
   "source": [
    "def make_ml_DataFrame(taf_time, station, lat, lon, metar_path, glamp_path, hrrr_path, delay_hours = 2):\n",
    "    \n",
    "    \n",
    "    metarDF = pd.DataFrame()\n",
    "    glampDF = pd.DataFrame()\n",
    "    hrrrDF = pd.DataFrame()\n",
    "    \n",
    "    #right now hardcoded to look at metars for 2 hours before TAF due and then predictions after\n",
    "    for time in range(-6, -delay_hours, 1):\n",
    "        metar_at_time = get_metar_at_time(taf_time + dt.timedelta(hours = time), metar_path).T\n",
    "        metarDF[f'metar {time}'] = metar_at_time\n",
    "    \n",
    "    work_time = dt.timedelta(hours=-delay_hours)\n",
    "    glamp_data = get_glamp_at_time(taf_time + work_time, glamp_path, station, download=True)\n",
    "    hrrr_data = get_hrrr_at_time(taf_time + work_time, hrrr_path, lat, lon, download=True)\n",
    "    glamp_synoptic_offset = (taf_time.hour - delay_hours) % 6 - 1\n",
    "    for time in range(-delay_hours, 7, 1):\n",
    "        glampDF[f'glamp {time}'] = glamp_data.iloc[time + delay_hours + glamp_synoptic_offset]\n",
    "        hrrrDF[f'hrrr {time}'] = hrrr_data.iloc[time + delay_hours]\n",
    "    \n",
    "    df = pd.concat([metarDF, glampDF, hrrrDF])\n",
    "    v = df.unstack().to_frame().sort_index(level=1).T\n",
    "    v.columns = v.columns.map('_'.join)\n",
    "    return v.dropna(axis = 1)"
   ]
  },
  {
   "cell_type": "code",
   "execution_count": 51,
   "id": "4bb22f87-70cf-43d3-bd2a-89ac83e535c4",
   "metadata": {},
   "outputs": [],
   "source": [
    "taf_time = dt.datetime(year = 2021, month = 8, day = 21, hour = 18, minute = 16)"
   ]
  },
  {
   "cell_type": "code",
   "execution_count": 52,
   "id": "a758b64a-de84-446d-9761-9dbfda568afb",
   "metadata": {},
   "outputs": [
    {
     "data": {
      "text/html": [
       "<div>\n",
       "<style scoped>\n",
       "    .dataframe tbody tr th:only-of-type {\n",
       "        vertical-align: middle;\n",
       "    }\n",
       "\n",
       "    .dataframe tbody tr th {\n",
       "        vertical-align: top;\n",
       "    }\n",
       "\n",
       "    .dataframe thead th {\n",
       "        text-align: right;\n",
       "    }\n",
       "</style>\n",
       "<table border=\"1\" class=\"dataframe\">\n",
       "  <thead>\n",
       "    <tr style=\"text-align: right;\">\n",
       "      <th></th>\n",
       "      <th>hrrr -1_DPT_1000mb</th>\n",
       "      <th>hrrr -2_DPT_1000mb</th>\n",
       "      <th>hrrr 0_DPT_1000mb</th>\n",
       "      <th>hrrr 1_DPT_1000mb</th>\n",
       "      <th>hrrr 2_DPT_1000mb</th>\n",
       "      <th>hrrr 3_DPT_1000mb</th>\n",
       "      <th>hrrr 4_DPT_1000mb</th>\n",
       "      <th>hrrr 5_DPT_1000mb</th>\n",
       "      <th>hrrr 6_DPT_1000mb</th>\n",
       "      <th>hrrr -1_DPT_2m_above_ground</th>\n",
       "      <th>...</th>\n",
       "      <th>glamp 6_wdr</th>\n",
       "      <th>glamp -1_wsp</th>\n",
       "      <th>glamp -2_wsp</th>\n",
       "      <th>glamp 0_wsp</th>\n",
       "      <th>glamp 1_wsp</th>\n",
       "      <th>glamp 2_wsp</th>\n",
       "      <th>glamp 3_wsp</th>\n",
       "      <th>glamp 4_wsp</th>\n",
       "      <th>glamp 5_wsp</th>\n",
       "      <th>glamp 6_wsp</th>\n",
       "    </tr>\n",
       "  </thead>\n",
       "  <tbody>\n",
       "    <tr>\n",
       "      <th>0</th>\n",
       "      <td>292.8</td>\n",
       "      <td>293.5</td>\n",
       "      <td>292.2</td>\n",
       "      <td>292.0</td>\n",
       "      <td>291.8</td>\n",
       "      <td>294.0</td>\n",
       "      <td>293.5</td>\n",
       "      <td>292.2</td>\n",
       "      <td>293.2</td>\n",
       "      <td>293.2</td>\n",
       "      <td>...</td>\n",
       "      <td>90.0</td>\n",
       "      <td>8.0</td>\n",
       "      <td>7.0</td>\n",
       "      <td>9.0</td>\n",
       "      <td>9.0</td>\n",
       "      <td>9.0</td>\n",
       "      <td>9.0</td>\n",
       "      <td>8.0</td>\n",
       "      <td>8.0</td>\n",
       "      <td>7.0</td>\n",
       "    </tr>\n",
       "  </tbody>\n",
       "</table>\n",
       "<p>1 rows × 604 columns</p>\n",
       "</div>"
      ],
      "text/plain": [
       "  hrrr -1_DPT_1000mb hrrr -2_DPT_1000mb hrrr 0_DPT_1000mb hrrr 1_DPT_1000mb  \\\n",
       "0              292.8              293.5             292.2             292.0   \n",
       "\n",
       "  hrrr 2_DPT_1000mb hrrr 3_DPT_1000mb hrrr 4_DPT_1000mb hrrr 5_DPT_1000mb  \\\n",
       "0             291.8             294.0             293.5             292.2   \n",
       "\n",
       "  hrrr 6_DPT_1000mb hrrr -1_DPT_2m_above_ground  ... glamp 6_wdr glamp -1_wsp  \\\n",
       "0             293.2                       293.2  ...        90.0          8.0   \n",
       "\n",
       "  glamp -2_wsp glamp 0_wsp glamp 1_wsp glamp 2_wsp glamp 3_wsp glamp 4_wsp  \\\n",
       "0          7.0         9.0         9.0         9.0         9.0         8.0   \n",
       "\n",
       "  glamp 5_wsp glamp 6_wsp  \n",
       "0         8.0         7.0  \n",
       "\n",
       "[1 rows x 604 columns]"
      ]
     },
     "execution_count": 52,
     "metadata": {},
     "output_type": "execute_result"
    }
   ],
   "source": [
    "make_ml_DataFrame(taf_time, 'kbos', 42.3656, -71.0096, 'Data/BOS.csv', 'Data/GLAMP data/', 'Data/hrrr/')"
   ]
  },
  {
   "cell_type": "code",
   "execution_count": 79,
   "id": "2de18cd0-3b6e-40ac-8543-622a0c1c0d0c",
   "metadata": {},
   "outputs": [],
   "source": [
    "def make_ml_training_DataFrame(taf_time, station, lat, lon, metar_path, glamp_path, hrrr_path, delay_hours = 2):\n",
    "    df = make_ml_DataFrame(taf_time, station, lat, lon, metar_path, glamp_path, hrrr_path, delay_hours = delay_hours)\n",
    "    metar_at_time = get_metar_at_time(taf_time, metar_path)\n",
    "    vis = metar_at_time['vsby'][0]\n",
    "    ceiling = find_ceiling_height(metar_at_time['metar'].iloc[0])\n",
    "    if ceiling is None:\n",
    "        ceiling = 100000\n",
    "        \n",
    "    if ceiling < 500 or vis < 1:\n",
    "        conditions = 0\n",
    "    elif ceiling < 1000 or vis < 3:\n",
    "        conditions = 1\n",
    "    elif ceiling < 3000 or vis < 5:\n",
    "        conditions = 2\n",
    "    else:\n",
    "        conditions = 3\n",
    "    \n",
    "    df['flight category'] = conditions\n",
    "    \n",
    "    return df"
   ]
  },
  {
   "cell_type": "code",
   "execution_count": 80,
   "id": "70d50f25-2915-47d0-8b95-9939441fc0e6",
   "metadata": {},
   "outputs": [
    {
     "ename": "KeyError",
     "evalue": "0",
     "output_type": "error",
     "traceback": [
      "\u001b[0;31m---------------------------------------------------------------------------\u001b[0m",
      "\u001b[0;31mKeyError\u001b[0m                                  Traceback (most recent call last)",
      "File \u001b[0;32m~/anaconda3/envs/nws/lib/python3.10/site-packages/pandas/core/indexes/base.py:3621\u001b[0m, in \u001b[0;36mIndex.get_loc\u001b[0;34m(self, key, method, tolerance)\u001b[0m\n\u001b[1;32m   3620\u001b[0m \u001b[38;5;28;01mtry\u001b[39;00m:\n\u001b[0;32m-> 3621\u001b[0m     \u001b[38;5;28;01mreturn\u001b[39;00m \u001b[38;5;28;43mself\u001b[39;49m\u001b[38;5;241;43m.\u001b[39;49m\u001b[43m_engine\u001b[49m\u001b[38;5;241;43m.\u001b[39;49m\u001b[43mget_loc\u001b[49m\u001b[43m(\u001b[49m\u001b[43mcasted_key\u001b[49m\u001b[43m)\u001b[49m\n\u001b[1;32m   3622\u001b[0m \u001b[38;5;28;01mexcept\u001b[39;00m \u001b[38;5;167;01mKeyError\u001b[39;00m \u001b[38;5;28;01mas\u001b[39;00m err:\n",
      "File \u001b[0;32m~/anaconda3/envs/nws/lib/python3.10/site-packages/pandas/_libs/index.pyx:136\u001b[0m, in \u001b[0;36mpandas._libs.index.IndexEngine.get_loc\u001b[0;34m()\u001b[0m\n",
      "File \u001b[0;32m~/anaconda3/envs/nws/lib/python3.10/site-packages/pandas/_libs/index.pyx:163\u001b[0m, in \u001b[0;36mpandas._libs.index.IndexEngine.get_loc\u001b[0;34m()\u001b[0m\n",
      "File \u001b[0;32mpandas/_libs/hashtable_class_helper.pxi:2131\u001b[0m, in \u001b[0;36mpandas._libs.hashtable.Int64HashTable.get_item\u001b[0;34m()\u001b[0m\n",
      "File \u001b[0;32mpandas/_libs/hashtable_class_helper.pxi:2140\u001b[0m, in \u001b[0;36mpandas._libs.hashtable.Int64HashTable.get_item\u001b[0;34m()\u001b[0m\n",
      "\u001b[0;31mKeyError\u001b[0m: 0",
      "\nThe above exception was the direct cause of the following exception:\n",
      "\u001b[0;31mKeyError\u001b[0m                                  Traceback (most recent call last)",
      "Input \u001b[0;32mIn [80]\u001b[0m, in \u001b[0;36m<cell line: 1>\u001b[0;34m()\u001b[0m\n\u001b[0;32m----> 1\u001b[0m \u001b[43mmake_ml_training_DataFrame\u001b[49m\u001b[43m(\u001b[49m\u001b[43mtaf_time\u001b[49m\u001b[43m,\u001b[49m\u001b[43m \u001b[49m\u001b[38;5;124;43m'\u001b[39;49m\u001b[38;5;124;43mkbos\u001b[39;49m\u001b[38;5;124;43m'\u001b[39;49m\u001b[43m,\u001b[49m\u001b[43m \u001b[49m\u001b[38;5;241;43m42.3656\u001b[39;49m\u001b[43m,\u001b[49m\u001b[43m \u001b[49m\u001b[38;5;241;43m-\u001b[39;49m\u001b[38;5;241;43m71.0096\u001b[39;49m\u001b[43m,\u001b[49m\u001b[43m \u001b[49m\u001b[38;5;124;43m'\u001b[39;49m\u001b[38;5;124;43mData/BOS.csv\u001b[39;49m\u001b[38;5;124;43m'\u001b[39;49m\u001b[43m,\u001b[49m\u001b[43m \u001b[49m\u001b[38;5;124;43m'\u001b[39;49m\u001b[38;5;124;43mData/GLAMP data/\u001b[39;49m\u001b[38;5;124;43m'\u001b[39;49m\u001b[43m,\u001b[49m\u001b[43m \u001b[49m\u001b[38;5;124;43m'\u001b[39;49m\u001b[38;5;124;43mData/hrrr/\u001b[39;49m\u001b[38;5;124;43m'\u001b[39;49m\u001b[43m)\u001b[49m\n",
      "Input \u001b[0;32mIn [79]\u001b[0m, in \u001b[0;36mmake_ml_training_DataFrame\u001b[0;34m(taf_time, station, lat, lon, metar_path, glamp_path, hrrr_path, delay_hours)\u001b[0m\n\u001b[1;32m      2\u001b[0m df \u001b[38;5;241m=\u001b[39m make_ml_DataFrame(taf_time, station, lat, lon, metar_path, glamp_path, hrrr_path, delay_hours \u001b[38;5;241m=\u001b[39m delay_hours)\n\u001b[1;32m      3\u001b[0m metar_at_time \u001b[38;5;241m=\u001b[39m get_metar_at_time(taf_time, metar_path)\n\u001b[0;32m----> 4\u001b[0m vis \u001b[38;5;241m=\u001b[39m \u001b[43mmetar_at_time\u001b[49m\u001b[43m[\u001b[49m\u001b[38;5;124;43m'\u001b[39;49m\u001b[38;5;124;43mvsby\u001b[39;49m\u001b[38;5;124;43m'\u001b[39;49m\u001b[43m]\u001b[49m\u001b[43m[\u001b[49m\u001b[38;5;241;43m0\u001b[39;49m\u001b[43m]\u001b[49m\n\u001b[1;32m      5\u001b[0m ceiling \u001b[38;5;241m=\u001b[39m find_ceiling_height(metar_at_time[\u001b[38;5;124m'\u001b[39m\u001b[38;5;124mmetar\u001b[39m\u001b[38;5;124m'\u001b[39m]\u001b[38;5;241m.\u001b[39miloc[\u001b[38;5;241m0\u001b[39m])\n\u001b[1;32m      6\u001b[0m \u001b[38;5;28;01mif\u001b[39;00m ceiling \u001b[38;5;129;01mis\u001b[39;00m \u001b[38;5;28;01mNone\u001b[39;00m:\n",
      "File \u001b[0;32m~/anaconda3/envs/nws/lib/python3.10/site-packages/pandas/core/series.py:958\u001b[0m, in \u001b[0;36mSeries.__getitem__\u001b[0;34m(self, key)\u001b[0m\n\u001b[1;32m    955\u001b[0m     \u001b[38;5;28;01mreturn\u001b[39;00m \u001b[38;5;28mself\u001b[39m\u001b[38;5;241m.\u001b[39m_values[key]\n\u001b[1;32m    957\u001b[0m \u001b[38;5;28;01melif\u001b[39;00m key_is_scalar:\n\u001b[0;32m--> 958\u001b[0m     \u001b[38;5;28;01mreturn\u001b[39;00m \u001b[38;5;28;43mself\u001b[39;49m\u001b[38;5;241;43m.\u001b[39;49m\u001b[43m_get_value\u001b[49m\u001b[43m(\u001b[49m\u001b[43mkey\u001b[49m\u001b[43m)\u001b[49m\n\u001b[1;32m    960\u001b[0m \u001b[38;5;28;01mif\u001b[39;00m is_hashable(key):\n\u001b[1;32m    961\u001b[0m     \u001b[38;5;66;03m# Otherwise index.get_value will raise InvalidIndexError\u001b[39;00m\n\u001b[1;32m    962\u001b[0m     \u001b[38;5;28;01mtry\u001b[39;00m:\n\u001b[1;32m    963\u001b[0m         \u001b[38;5;66;03m# For labels that don't resolve as scalars like tuples and frozensets\u001b[39;00m\n",
      "File \u001b[0;32m~/anaconda3/envs/nws/lib/python3.10/site-packages/pandas/core/series.py:1069\u001b[0m, in \u001b[0;36mSeries._get_value\u001b[0;34m(self, label, takeable)\u001b[0m\n\u001b[1;32m   1066\u001b[0m     \u001b[38;5;28;01mreturn\u001b[39;00m \u001b[38;5;28mself\u001b[39m\u001b[38;5;241m.\u001b[39m_values[label]\n\u001b[1;32m   1068\u001b[0m \u001b[38;5;66;03m# Similar to Index.get_value, but we do not fall back to positional\u001b[39;00m\n\u001b[0;32m-> 1069\u001b[0m loc \u001b[38;5;241m=\u001b[39m \u001b[38;5;28;43mself\u001b[39;49m\u001b[38;5;241;43m.\u001b[39;49m\u001b[43mindex\u001b[49m\u001b[38;5;241;43m.\u001b[39;49m\u001b[43mget_loc\u001b[49m\u001b[43m(\u001b[49m\u001b[43mlabel\u001b[49m\u001b[43m)\u001b[49m\n\u001b[1;32m   1070\u001b[0m \u001b[38;5;28;01mreturn\u001b[39;00m \u001b[38;5;28mself\u001b[39m\u001b[38;5;241m.\u001b[39mindex\u001b[38;5;241m.\u001b[39m_get_values_for_loc(\u001b[38;5;28mself\u001b[39m, loc, label)\n",
      "File \u001b[0;32m~/anaconda3/envs/nws/lib/python3.10/site-packages/pandas/core/indexes/base.py:3623\u001b[0m, in \u001b[0;36mIndex.get_loc\u001b[0;34m(self, key, method, tolerance)\u001b[0m\n\u001b[1;32m   3621\u001b[0m     \u001b[38;5;28;01mreturn\u001b[39;00m \u001b[38;5;28mself\u001b[39m\u001b[38;5;241m.\u001b[39m_engine\u001b[38;5;241m.\u001b[39mget_loc(casted_key)\n\u001b[1;32m   3622\u001b[0m \u001b[38;5;28;01mexcept\u001b[39;00m \u001b[38;5;167;01mKeyError\u001b[39;00m \u001b[38;5;28;01mas\u001b[39;00m err:\n\u001b[0;32m-> 3623\u001b[0m     \u001b[38;5;28;01mraise\u001b[39;00m \u001b[38;5;167;01mKeyError\u001b[39;00m(key) \u001b[38;5;28;01mfrom\u001b[39;00m \u001b[38;5;21;01merr\u001b[39;00m\n\u001b[1;32m   3624\u001b[0m \u001b[38;5;28;01mexcept\u001b[39;00m \u001b[38;5;167;01mTypeError\u001b[39;00m:\n\u001b[1;32m   3625\u001b[0m     \u001b[38;5;66;03m# If we have a listlike key, _check_indexing_error will raise\u001b[39;00m\n\u001b[1;32m   3626\u001b[0m     \u001b[38;5;66;03m#  InvalidIndexError. Otherwise we fall through and re-raise\u001b[39;00m\n\u001b[1;32m   3627\u001b[0m     \u001b[38;5;66;03m#  the TypeError.\u001b[39;00m\n\u001b[1;32m   3628\u001b[0m     \u001b[38;5;28mself\u001b[39m\u001b[38;5;241m.\u001b[39m_check_indexing_error(key)\n",
      "\u001b[0;31mKeyError\u001b[0m: 0"
     ]
    }
   ],
   "source": [
    "make_ml_training_DataFrame(taf_time, 'kbos', 42.3656, -71.0096, 'Data/BOS.csv', 'Data/GLAMP data/', 'Data/hrrr/')"
   ]
  },
  {
   "cell_type": "code",
   "execution_count": null,
   "id": "bc301d69-8ab5-40e9-b08c-6db2c8e74602",
   "metadata": {},
   "outputs": [],
   "source": []
  }
 ],
 "metadata": {
  "kernelspec": {
   "display_name": "Python 3 (ipykernel)",
   "language": "python",
   "name": "python3"
  },
  "language_info": {
   "codemirror_mode": {
    "name": "ipython",
    "version": 3
   },
   "file_extension": ".py",
   "mimetype": "text/x-python",
   "name": "python",
   "nbconvert_exporter": "python",
   "pygments_lexer": "ipython3",
   "version": "3.10.6"
  }
 },
 "nbformat": 4,
 "nbformat_minor": 5
}
