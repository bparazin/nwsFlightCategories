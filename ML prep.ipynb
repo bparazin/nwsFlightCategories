{
 "cells": [
  {
   "cell_type": "code",
   "execution_count": 1,
   "id": "47de7742-58fa-49b6-87ae-fafbaf269bdb",
   "metadata": {},
   "outputs": [],
   "source": [
    "import pandas as pd\n",
    "from metar import Metar\n",
    "import numpy as np\n",
    "from IOfuncs import *\n",
    "import datetime as dt\n",
    "import warnings\n",
    "from json import JSONDecodeError\n",
    "import matplotlib.pyplot as plt\n",
    "from sklearn.model_selection import train_test_split\n",
    "from sklearn.ensemble import RandomForestClassifier\n",
    "from sklearn.feature_selection import SelectFdr,SelectFpr,f_regression\n",
    "from sklearn.pipeline import Pipeline\n",
    "from sklearn.model_selection import RandomizedSearchCV\n",
    "from sklearn.inspection import permutation_importance\n",
    "from sklearn.neural_network import MLPClassifier\n",
    "warnings.filterwarnings('ignore')"
   ]
  },
  {
   "cell_type": "code",
   "execution_count": 2,
   "id": "900af016-02aa-4d3a-bfd0-c84e534b68a8",
   "metadata": {},
   "outputs": [],
   "source": [
    "def make_ml_data_row(taf_time, station, lat, lon, metar_path, glamp_path, hrrr_path, delay_hours = 2):\n",
    "    if isinstance(metar_path, str):\n",
    "        metar_path = read_metar(metar_path)\n",
    "    metarDF = pd.DataFrame()\n",
    "    glampDF = pd.DataFrame()\n",
    "    hrrrDF = pd.DataFrame()    \n",
    "    \n",
    "    for time in range(-6, -delay_hours, 1):\n",
    "        metar_at_time = get_metar_at_time(taf_time + dt.timedelta(hours = time), metar_path).T\n",
    "        metarDF[f'metar {time}'] = metar_at_time\n",
    "    \n",
    "    work_time = dt.timedelta(hours=-delay_hours)\n",
    "    glamp_data = get_glamp_at_time(taf_time + work_time, glamp_path, station, download=True)\n",
    "    hrrr_data = get_hrrr_at_time(taf_time + work_time, hrrr_path, lat, lon, download=True)\n",
    "    glamp_synoptic_offset = (taf_time.hour - delay_hours) % 6 - 1\n",
    "    for time in range(-delay_hours, 7, 1):\n",
    "        glampDF[f'glamp {time}'] = glamp_data.iloc[time + delay_hours + glamp_synoptic_offset]\n",
    "        hrrrDF[f'hrrr {time}'] = hrrr_data.iloc[time + delay_hours]    \n",
    "        \n",
    "    \n",
    "    df = pd.concat([metarDF, glampDF, hrrrDF])\n",
    "    df.drop(['ftime', 'ftime_utc', 'model', 'runtime', 'runtime_utc', 'station', 'metar', 'peak_wind_time', 'valid', 'Unnamed: 0'], inplace=True)\n",
    "\n",
    "    v = df.unstack().to_frame().sort_index(level=1).T\n",
    "    v.columns = v.columns.map('_'.join)\n",
    "\n",
    "    final = v.dropna(axis = 1)\n",
    "    \n",
    "    return final"
   ]
  },
  {
   "cell_type": "code",
   "execution_count": 3,
   "id": "4bb22f87-70cf-43d3-bd2a-89ac83e535c4",
   "metadata": {},
   "outputs": [],
   "source": [
    "taf_time = dt.datetime(year = 2021, month = 8, day = 21, hour = 18, minute = 0)"
   ]
  },
  {
   "cell_type": "code",
   "execution_count": 4,
   "id": "2de18cd0-3b6e-40ac-8543-622a0c1c0d0c",
   "metadata": {},
   "outputs": [],
   "source": [
    "def make_ml_training_data_row(taf_time, station, lat, lon, metar_path, glamp_path, hrrr_path, asos5_path, delay_hours = 2, tplus_hours = 6):\n",
    "    if isinstance(metar_path, str):\n",
    "        metar_path = full_metar_list = read_metar(metar_path)\n",
    "    if isinstance(asos5_path, str):\n",
    "        asos5_path = read_metar(asos5_path)\n",
    "    \n",
    "    df = make_ml_data_row(taf_time, station, lat, lon, metar_path, glamp_path, hrrr_path, delay_hours = delay_hours)\n",
    "    \n",
    "    for i in range(tplus_hours):\n",
    "        df[f'flight category {i}'] = get_conditions_from_asos(taf_time + dt.timedelta(hours = i), metar_path)\n",
    "        time_series = pd.date_range(taf_time + dt.timedelta(hours = i), taf_time + dt.timedelta(hours = i+1), freq = '5T')\n",
    "        verification_series = np.asarray(asos5_path.truncate(before = taf_time + dt.timedelta(hours = i), \n",
    "                                                             after = taf_time + dt.timedelta(hours = i+1, minutes = -1))['conditions'])\n",
    "        df[f'verification list {i}'] = [None]\n",
    "        df[f'verification list {i}'][0] = verification_series\n",
    "        \n",
    "\n",
    "    return df"
   ]
  },
  {
   "cell_type": "code",
   "execution_count": 5,
   "id": "5671b297-de44-48ab-8021-c82e658fff0b",
   "metadata": {},
   "outputs": [],
   "source": [
    "metar = read_metar('Data/BOS.csv')\n",
    "asos5 = read_metar('Data/BOS_5min.csv')"
   ]
  },
  {
   "cell_type": "code",
   "execution_count": 6,
   "id": "70d50f25-2915-47d0-8b95-9939441fc0e6",
   "metadata": {},
   "outputs": [
    {
     "name": "stdout",
     "output_type": "stream",
     "text": [
      "CPU times: user 92.3 ms, sys: 113 µs, total: 92.4 ms\n",
      "Wall time: 135 ms\n"
     ]
    },
    {
     "data": {
      "text/html": [
       "<div>\n",
       "<style scoped>\n",
       "    .dataframe tbody tr th:only-of-type {\n",
       "        vertical-align: middle;\n",
       "    }\n",
       "\n",
       "    .dataframe tbody tr th {\n",
       "        vertical-align: top;\n",
       "    }\n",
       "\n",
       "    .dataframe thead th {\n",
       "        text-align: right;\n",
       "    }\n",
       "</style>\n",
       "<table border=\"1\" class=\"dataframe\">\n",
       "  <thead>\n",
       "    <tr style=\"text-align: right;\">\n",
       "      <th></th>\n",
       "      <th>hrrr -1_DPT_1000mb</th>\n",
       "      <th>hrrr -2_DPT_1000mb</th>\n",
       "      <th>hrrr 0_DPT_1000mb</th>\n",
       "      <th>hrrr 1_DPT_1000mb</th>\n",
       "      <th>hrrr 2_DPT_1000mb</th>\n",
       "      <th>hrrr 3_DPT_1000mb</th>\n",
       "      <th>hrrr 4_DPT_1000mb</th>\n",
       "      <th>hrrr 5_DPT_1000mb</th>\n",
       "      <th>hrrr 6_DPT_1000mb</th>\n",
       "      <th>hrrr -1_DPT_2m_above_ground</th>\n",
       "      <th>...</th>\n",
       "      <th>flight category 1</th>\n",
       "      <th>verification list 1</th>\n",
       "      <th>flight category 2</th>\n",
       "      <th>verification list 2</th>\n",
       "      <th>flight category 3</th>\n",
       "      <th>verification list 3</th>\n",
       "      <th>flight category 4</th>\n",
       "      <th>verification list 4</th>\n",
       "      <th>flight category 5</th>\n",
       "      <th>verification list 5</th>\n",
       "    </tr>\n",
       "  </thead>\n",
       "  <tbody>\n",
       "    <tr>\n",
       "      <th>0</th>\n",
       "      <td>292.8</td>\n",
       "      <td>293.5</td>\n",
       "      <td>292.2</td>\n",
       "      <td>292.0</td>\n",
       "      <td>291.8</td>\n",
       "      <td>294.0</td>\n",
       "      <td>293.5</td>\n",
       "      <td>292.2</td>\n",
       "      <td>293.2</td>\n",
       "      <td>293.2</td>\n",
       "      <td>...</td>\n",
       "      <td>3</td>\n",
       "      <td>[3, 3, 3, 3, 3, 3, 3, 3, 3, 3, 3, 3]</td>\n",
       "      <td>3</td>\n",
       "      <td>[3, 3, 3, 3, 3, 3, 3, 3, 3, 3]</td>\n",
       "      <td>3</td>\n",
       "      <td>[3, 3, 3, 3, 3, 3, 3, 3, 3, 3, 3, 3]</td>\n",
       "      <td>3</td>\n",
       "      <td>[3, 3, 3, 3, 3, 3, 3, 3, 3, 3]</td>\n",
       "      <td>3</td>\n",
       "      <td>[3, 3, 3, 3, 3, 3, 3, 3, 3, 3, 3]</td>\n",
       "    </tr>\n",
       "  </tbody>\n",
       "</table>\n",
       "<p>1 rows × 523 columns</p>\n",
       "</div>"
      ],
      "text/plain": [
       "  hrrr -1_DPT_1000mb hrrr -2_DPT_1000mb hrrr 0_DPT_1000mb hrrr 1_DPT_1000mb  \\\n",
       "0              292.8              293.5             292.2             292.0   \n",
       "\n",
       "  hrrr 2_DPT_1000mb hrrr 3_DPT_1000mb hrrr 4_DPT_1000mb hrrr 5_DPT_1000mb  \\\n",
       "0             291.8             294.0             293.5             292.2   \n",
       "\n",
       "  hrrr 6_DPT_1000mb hrrr -1_DPT_2m_above_ground  ... flight category 1  \\\n",
       "0             293.2                       293.2  ...                 3   \n",
       "\n",
       "                    verification list 1 flight category 2  \\\n",
       "0  [3, 3, 3, 3, 3, 3, 3, 3, 3, 3, 3, 3]                 3   \n",
       "\n",
       "              verification list 2 flight category 3  \\\n",
       "0  [3, 3, 3, 3, 3, 3, 3, 3, 3, 3]                 3   \n",
       "\n",
       "                    verification list 3 flight category 4  \\\n",
       "0  [3, 3, 3, 3, 3, 3, 3, 3, 3, 3, 3, 3]                 3   \n",
       "\n",
       "              verification list 4 flight category 5  \\\n",
       "0  [3, 3, 3, 3, 3, 3, 3, 3, 3, 3]                 3   \n",
       "\n",
       "                 verification list 5  \n",
       "0  [3, 3, 3, 3, 3, 3, 3, 3, 3, 3, 3]  \n",
       "\n",
       "[1 rows x 523 columns]"
      ]
     },
     "execution_count": 6,
     "metadata": {},
     "output_type": "execute_result"
    }
   ],
   "source": [
    "%%time\n",
    "make_ml_training_data_row(taf_time, 'kbos', 42.3656, -71.0096, metar, 'Data/GLAMP data/', 'Data/hrrr/', asos5)"
   ]
  },
  {
   "cell_type": "code",
   "execution_count": 7,
   "id": "bc301d69-8ab5-40e9-b08c-6db2c8e74602",
   "metadata": {},
   "outputs": [],
   "source": [
    "def make_ml_training_data_set(timelist, station, lat, lon, metar_path, glamp_path, hrrr_path, asos5_path, delay_hours = 2, frequency = '5H'):\n",
    "    training_df = pd.DataFrame()\n",
    "    time_series = pd.Series()\n",
    "    for timepair in timelist:\n",
    "        start_time = timepair[0]\n",
    "        end_time = timepair[1]\n",
    "        time_series = pd.concat([time_series, pd.Series(pd.date_range(start_time, end_time, freq = frequency))])\n",
    "    if isinstance(metar_path, str):\n",
    "        metar_path = read_metar(metar_path)\n",
    "    if isinstance(asos5_path, str):\n",
    "        asos5_path = read_metar(asos5_path)\n",
    "    for time in tqdm(time_series):\n",
    "        try:\n",
    "            training_row = make_ml_training_data_row(time, station, lat, lon, metar_path, glamp_path, hrrr_path, asos5_path, delay_hours = delay_hours)\n",
    "            training_df = training_df.append(training_row)\n",
    "        except (FileNotFoundError, JSONDecodeError):\n",
    "            continue\n",
    "\n",
    "    training_df = training_df.fillna(-99999)\n",
    "    return training_df"
   ]
  },
  {
   "cell_type": "code",
   "execution_count": 8,
   "id": "07d4d136-d999-44e2-bb76-21aaf6bb0574",
   "metadata": {},
   "outputs": [],
   "source": [
    "def prob_of_detection(predicted_results, actual_results, flight_cat):\n",
    "    result_locations = np.where(actual_results==flight_cat)[0]\n",
    "    num_predict = np.sum(predicted_results[result_locations]==flight_cat)\n",
    "    return num_predict / len(result_locations)\n",
    "\n",
    "def false_alarm_rate(predicted_results, actual_results, flight_cat):\n",
    "    num_predict = np.sum(predicted_results==flight_cat)\n",
    "    predict_locations = np.where(predicted_results==flight_cat)[0]\n",
    "    predict_subset = predicted_results[predict_locations]\n",
    "    actual_subset = actual_results[predict_locations]\n",
    "    \n",
    "    false_alarm_count = np.sum(predict_subset!=actual_subset)\n",
    "    \n",
    "    return false_alarm_count/num_predict\n",
    "\n",
    "def critical_success_index(predicted_results, actual_results, flight_cat):\n",
    "    num_predict = np.sum(predicted_results==flight_cat)\n",
    "    predict_locations = np.where(predicted_results==flight_cat)[0]\n",
    "    non_predict_locations = np.where(predicted_results!=flight_cat)[0]\n",
    "    predict_subset = predicted_results[predict_locations]\n",
    "    actual_subset = actual_results[predict_locations]\n",
    "    actual_subset_compliment = actual_results[non_predict_locations]\n",
    "    \n",
    "    hits = np.sum(predict_subset==actual_subset)\n",
    "    false_alarm_count = np.sum(predict_subset!=actual_subset)\n",
    "    misses = np.sum(actual_subset_compliment==flight_cat)\n",
    "    \n",
    "    return hits / (hits + false_alarm_count + misses)"
   ]
  },
  {
   "cell_type": "code",
   "execution_count": 9,
   "id": "ebb51f0b-0872-4fc0-a6d9-b0b8f409c56f",
   "metadata": {},
   "outputs": [],
   "source": [
    "def data_split(data):\n",
    "    y_keys = np.asarray([key for key in data if 'flight category' in key])\n",
    "    val_keys = np.asarray([key for key in data if 'verification list' in key])\n",
    "    X = data.drop(np.concatenate([y_keys, val_keys]), axis=1)\n",
    "    y_list = data[y_keys]\n",
    "    val_list = data[val_keys]\n",
    "    \n",
    "    return X, y_list, val_list\n"
   ]
  },
  {
   "cell_type": "code",
   "execution_count": 10,
   "id": "c5c97f75-0fbb-4eb1-a4f3-0519c6b73fe8",
   "metadata": {},
   "outputs": [],
   "source": [
    "taf_time = dt.datetime(year = 2021, month = 8, day = 21, hour = 18, minute = 0)\n",
    "asos5 = read_metar('Data/BOS_5min.csv')"
   ]
  },
  {
   "cell_type": "code",
   "execution_count": 11,
   "id": "6de7e0c8-1e4d-44e7-ad0f-f0989720a430",
   "metadata": {},
   "outputs": [],
   "source": [
    "def glamp_predict(taf_time, station, glamp_path, asos5_path, delay_hours = 2, t_plus_max = 6):\n",
    "    if isinstance(asos5_path, str):\n",
    "        asos5_path = read_metar(asos5_path)\n",
    "    work_time = dt.timedelta(hours=-delay_hours)\n",
    "    glamp_data = get_glamp_at_time(taf_time + work_time, glamp_path, station, download=True)\n",
    "    glamp_data['ftime'] = pd.to_datetime(glamp_data['ftime'])\n",
    "    df = pd.DataFrame()\n",
    "    verifications = []\n",
    "    for time in range(t_plus_max):\n",
    "        index = np.where(glamp_data['ftime']==(taf_time + dt.timedelta(hours=time)))[0][0]\n",
    "        cei, vis = glamp_data.iloc[index]['cig'], glamp_data.iloc[index]['vis']\n",
    "        if cei == 1 or cei == 2 or vis == 1 or vis == 2:\n",
    "            prediction = 0\n",
    "        elif cei == 3 or vis == 3 or vis == 4:\n",
    "            prediction = 1\n",
    "        elif cei == 4 or cei == 5 or vis == 5:\n",
    "            prediction = 2\n",
    "        else:\n",
    "            prediction = 3\n",
    "        df[f't plus {time} prediction'] = [prediction]\n",
    "        verification_series = np.asarray(asos5_path.truncate(before = taf_time + dt.timedelta(hours = time), \n",
    "                                                             after = taf_time + dt.timedelta(hours = time+1, minutes = -1))['conditions'])\n",
    "        df[f't plus {time} verification'] = [None]\n",
    "        df[f't plus {time} verification'][0] = verification_series\n",
    "    \n",
    "    return df"
   ]
  },
  {
   "cell_type": "code",
   "execution_count": 12,
   "id": "6c4a5145-2ea9-466f-90ec-3774668af456",
   "metadata": {},
   "outputs": [],
   "source": [
    "def glamp_time_series(timelist, station, glamp_path, asos5_path, delay_hours=2, t_plus_max=6, frequency = 'H'):\n",
    "    result = pd.DataFrame()\n",
    "    time_series = pd.Series()\n",
    "    for timepair in timelist:\n",
    "        start_time = timepair[0]\n",
    "        end_time = timepair[1]\n",
    "        time_series = pd.concat([time_series, pd.Series(pd.date_range(start_time, end_time, freq = frequency))])\n",
    "    for time in tqdm(time_series):\n",
    "        try:\n",
    "            result = result.append(glamp_predict(time, station, glamp_path, asos5_path, delay_hours = delay_hours, t_plus_max = t_plus_max))\n",
    "        except FileNotFoundError:\n",
    "            continue\n",
    "    return result"
   ]
  },
  {
   "cell_type": "code",
   "execution_count": 13,
   "id": "a40b6a06-c32d-4b69-9e08-ac56aa4fb5d1",
   "metadata": {
    "tags": []
   },
   "outputs": [
    {
     "name": "stderr",
     "output_type": "stream",
     "text": [
      "  0%|                                                                              | 27/18660 [00:10<1:50:45,  2.80it/s]"
     ]
    },
    {
     "name": "stdout",
     "output_type": "stream",
     "text": [
      "<xarray.Dataset>\n",
      "Dimensions:     ()\n",
      "Coordinates:\n",
      "    x           float64 2.15e+06\n",
      "    y           float64 7.407e+05\n",
      "Data variables:\n",
      "    chunk_id    object ...\n",
      "    chunk_x     int32 ...\n",
      "    chunk_y     int32 ...\n",
      "    in_chunk_x  int32 ...\n",
      "    in_chunk_y  int32 ...\n",
      "    index_x     int32 ...\n",
      "    index_y     int32 ...\n",
      "    latitude    float64 ...\n",
      "    longitude   float64 ...\n"
     ]
    },
    {
     "name": "stderr",
     "output_type": "stream",
     "text": [
      "  0%|                                                                              | 27/18660 [00:13<2:31:39,  2.05it/s]\n"
     ]
    },
    {
     "ename": "ValueError",
     "evalue": "Cannot set a frame with no defined index and a value that cannot be converted to a Series",
     "output_type": "error",
     "traceback": [
      "\u001b[0;31m---------------------------------------------------------------------------\u001b[0m",
      "\u001b[0;31mValueError\u001b[0m                                Traceback (most recent call last)",
      "File \u001b[0;32m~/anaconda3/envs/nws/lib/python3.10/site-packages/pandas/core/frame.py:3892\u001b[0m, in \u001b[0;36mDataFrame._ensure_valid_index\u001b[0;34m(self, value)\u001b[0m\n\u001b[1;32m   3891\u001b[0m \u001b[38;5;28;01mtry\u001b[39;00m:\n\u001b[0;32m-> 3892\u001b[0m     value \u001b[38;5;241m=\u001b[39m \u001b[43mSeries\u001b[49m\u001b[43m(\u001b[49m\u001b[43mvalue\u001b[49m\u001b[43m)\u001b[49m\n\u001b[1;32m   3893\u001b[0m \u001b[38;5;28;01mexcept\u001b[39;00m (\u001b[38;5;167;01mValueError\u001b[39;00m, \u001b[38;5;167;01mNotImplementedError\u001b[39;00m, \u001b[38;5;167;01mTypeError\u001b[39;00m) \u001b[38;5;28;01mas\u001b[39;00m err:\n",
      "File \u001b[0;32m~/anaconda3/envs/nws/lib/python3.10/site-packages/pandas/core/series.py:451\u001b[0m, in \u001b[0;36mSeries.__init__\u001b[0;34m(self, data, index, dtype, name, copy, fastpath)\u001b[0m\n\u001b[1;32m    450\u001b[0m \u001b[38;5;28;01melse\u001b[39;00m:\n\u001b[0;32m--> 451\u001b[0m     data \u001b[38;5;241m=\u001b[39m \u001b[43msanitize_array\u001b[49m\u001b[43m(\u001b[49m\u001b[43mdata\u001b[49m\u001b[43m,\u001b[49m\u001b[43m \u001b[49m\u001b[43mindex\u001b[49m\u001b[43m,\u001b[49m\u001b[43m \u001b[49m\u001b[43mdtype\u001b[49m\u001b[43m,\u001b[49m\u001b[43m \u001b[49m\u001b[43mcopy\u001b[49m\u001b[43m)\u001b[49m\n\u001b[1;32m    453\u001b[0m     manager \u001b[38;5;241m=\u001b[39m get_option(\u001b[38;5;124m\"\u001b[39m\u001b[38;5;124mmode.data_manager\u001b[39m\u001b[38;5;124m\"\u001b[39m)\n",
      "File \u001b[0;32m~/anaconda3/envs/nws/lib/python3.10/site-packages/pandas/core/construction.py:601\u001b[0m, in \u001b[0;36msanitize_array\u001b[0;34m(data, index, dtype, copy, raise_cast_failure, allow_2d)\u001b[0m\n\u001b[1;32m    599\u001b[0m             subarr \u001b[38;5;241m=\u001b[39m maybe_infer_to_datetimelike(subarr)\n\u001b[0;32m--> 601\u001b[0m subarr \u001b[38;5;241m=\u001b[39m \u001b[43m_sanitize_ndim\u001b[49m\u001b[43m(\u001b[49m\u001b[43msubarr\u001b[49m\u001b[43m,\u001b[49m\u001b[43m \u001b[49m\u001b[43mdata\u001b[49m\u001b[43m,\u001b[49m\u001b[43m \u001b[49m\u001b[43mdtype\u001b[49m\u001b[43m,\u001b[49m\u001b[43m \u001b[49m\u001b[43mindex\u001b[49m\u001b[43m,\u001b[49m\u001b[43m \u001b[49m\u001b[43mallow_2d\u001b[49m\u001b[38;5;241;43m=\u001b[39;49m\u001b[43mallow_2d\u001b[49m\u001b[43m)\u001b[49m\n\u001b[1;32m    603\u001b[0m \u001b[38;5;28;01mif\u001b[39;00m \u001b[38;5;28misinstance\u001b[39m(subarr, np\u001b[38;5;241m.\u001b[39mndarray):\n\u001b[1;32m    604\u001b[0m     \u001b[38;5;66;03m# at this point we should have dtype be None or subarr.dtype == dtype\u001b[39;00m\n",
      "File \u001b[0;32m~/anaconda3/envs/nws/lib/python3.10/site-packages/pandas/core/construction.py:652\u001b[0m, in \u001b[0;36m_sanitize_ndim\u001b[0;34m(result, data, dtype, index, allow_2d)\u001b[0m\n\u001b[1;32m    651\u001b[0m         \u001b[38;5;28;01mreturn\u001b[39;00m result\n\u001b[0;32m--> 652\u001b[0m     \u001b[38;5;28;01mraise\u001b[39;00m \u001b[38;5;167;01mValueError\u001b[39;00m(\u001b[38;5;124m\"\u001b[39m\u001b[38;5;124mData must be 1-dimensional\u001b[39m\u001b[38;5;124m\"\u001b[39m)\n\u001b[1;32m    653\u001b[0m \u001b[38;5;28;01mif\u001b[39;00m is_object_dtype(dtype) \u001b[38;5;129;01mand\u001b[39;00m \u001b[38;5;28misinstance\u001b[39m(dtype, ExtensionDtype):\n\u001b[1;32m    654\u001b[0m     \u001b[38;5;66;03m# i.e. PandasDtype(\"O\")\u001b[39;00m\n",
      "\u001b[0;31mValueError\u001b[0m: Data must be 1-dimensional",
      "\nThe above exception was the direct cause of the following exception:\n",
      "\u001b[0;31mValueError\u001b[0m                                Traceback (most recent call last)",
      "Input \u001b[0;32mIn [13]\u001b[0m, in \u001b[0;36m<cell line: 3>\u001b[0;34m()\u001b[0m\n\u001b[1;32m      1\u001b[0m start_date \u001b[38;5;241m=\u001b[39m dt\u001b[38;5;241m.\u001b[39mdatetime(year \u001b[38;5;241m=\u001b[39m \u001b[38;5;241m2020\u001b[39m, month \u001b[38;5;241m=\u001b[39m \u001b[38;5;241m8\u001b[39m, day \u001b[38;5;241m=\u001b[39m \u001b[38;5;241m21\u001b[39m, hour \u001b[38;5;241m=\u001b[39m \u001b[38;5;241m0\u001b[39m, minute \u001b[38;5;241m=\u001b[39m \u001b[38;5;241m0\u001b[39m)\n\u001b[1;32m      2\u001b[0m end_date \u001b[38;5;241m=\u001b[39m dt\u001b[38;5;241m.\u001b[39mdatetime\u001b[38;5;241m.\u001b[39mnow()\n\u001b[0;32m----> 3\u001b[0m data \u001b[38;5;241m=\u001b[39m \u001b[43mmake_ml_training_data_set\u001b[49m\u001b[43m(\u001b[49m\u001b[43m[\u001b[49m\u001b[43m(\u001b[49m\u001b[43mstart_date\u001b[49m\u001b[43m,\u001b[49m\u001b[43m \u001b[49m\u001b[43mend_date\u001b[49m\u001b[43m)\u001b[49m\u001b[43m]\u001b[49m\u001b[43m,\u001b[49m\u001b[43m \u001b[49m\u001b[38;5;124;43m'\u001b[39;49m\u001b[38;5;124;43mkbos\u001b[39;49m\u001b[38;5;124;43m'\u001b[39;49m\u001b[43m,\u001b[49m\u001b[43m \u001b[49m\u001b[38;5;241;43m42.3656\u001b[39;49m\u001b[43m,\u001b[49m\u001b[43m \u001b[49m\u001b[38;5;241;43m-\u001b[39;49m\u001b[38;5;241;43m71.0096\u001b[39;49m\u001b[43m,\u001b[49m\u001b[43m \u001b[49m\u001b[38;5;124;43m'\u001b[39;49m\u001b[38;5;124;43mData/BOS.csv\u001b[39;49m\u001b[38;5;124;43m'\u001b[39;49m\u001b[43m,\u001b[49m\u001b[43m \u001b[49m\u001b[38;5;124;43m'\u001b[39;49m\u001b[38;5;124;43mData/GLAMP data/\u001b[39;49m\u001b[38;5;124;43m'\u001b[39;49m\u001b[43m,\u001b[49m\u001b[43m \u001b[49m\n\u001b[1;32m      4\u001b[0m \u001b[43m                                 \u001b[49m\u001b[38;5;124;43m'\u001b[39;49m\u001b[38;5;124;43mData/hrrr/\u001b[39;49m\u001b[38;5;124;43m'\u001b[39;49m\u001b[43m,\u001b[49m\u001b[43m \u001b[49m\u001b[38;5;124;43m'\u001b[39;49m\u001b[38;5;124;43mData/BOS_5min.csv\u001b[39;49m\u001b[38;5;124;43m'\u001b[39;49m\u001b[43m,\u001b[49m\u001b[43m \u001b[49m\u001b[43mfrequency\u001b[49m\u001b[43m \u001b[49m\u001b[38;5;241;43m=\u001b[39;49m\u001b[43m \u001b[49m\u001b[38;5;124;43m'\u001b[39;49m\u001b[38;5;124;43mH\u001b[39;49m\u001b[38;5;124;43m'\u001b[39;49m\u001b[43m)\u001b[49m\n",
      "Input \u001b[0;32mIn [7]\u001b[0m, in \u001b[0;36mmake_ml_training_data_set\u001b[0;34m(timelist, station, lat, lon, metar_path, glamp_path, hrrr_path, asos5_path, delay_hours, frequency)\u001b[0m\n\u001b[1;32m     12\u001b[0m \u001b[38;5;28;01mfor\u001b[39;00m time \u001b[38;5;129;01min\u001b[39;00m tqdm(time_series):\n\u001b[1;32m     13\u001b[0m     \u001b[38;5;28;01mtry\u001b[39;00m:\n\u001b[0;32m---> 14\u001b[0m         training_row \u001b[38;5;241m=\u001b[39m \u001b[43mmake_ml_training_data_row\u001b[49m\u001b[43m(\u001b[49m\u001b[43mtime\u001b[49m\u001b[43m,\u001b[49m\u001b[43m \u001b[49m\u001b[43mstation\u001b[49m\u001b[43m,\u001b[49m\u001b[43m \u001b[49m\u001b[43mlat\u001b[49m\u001b[43m,\u001b[49m\u001b[43m \u001b[49m\u001b[43mlon\u001b[49m\u001b[43m,\u001b[49m\u001b[43m \u001b[49m\u001b[43mmetar_path\u001b[49m\u001b[43m,\u001b[49m\u001b[43m \u001b[49m\u001b[43mglamp_path\u001b[49m\u001b[43m,\u001b[49m\u001b[43m \u001b[49m\u001b[43mhrrr_path\u001b[49m\u001b[43m,\u001b[49m\u001b[43m \u001b[49m\u001b[43masos5_path\u001b[49m\u001b[43m,\u001b[49m\u001b[43m \u001b[49m\u001b[43mdelay_hours\u001b[49m\u001b[43m \u001b[49m\u001b[38;5;241;43m=\u001b[39;49m\u001b[43m \u001b[49m\u001b[43mdelay_hours\u001b[49m\u001b[43m)\u001b[49m\n\u001b[1;32m     15\u001b[0m         training_df \u001b[38;5;241m=\u001b[39m training_df\u001b[38;5;241m.\u001b[39mappend(training_row)\n\u001b[1;32m     16\u001b[0m     \u001b[38;5;28;01mexcept\u001b[39;00m (\u001b[38;5;167;01mFileNotFoundError\u001b[39;00m, JSONDecodeError):\n",
      "Input \u001b[0;32mIn [4]\u001b[0m, in \u001b[0;36mmake_ml_training_data_row\u001b[0;34m(taf_time, station, lat, lon, metar_path, glamp_path, hrrr_path, asos5_path, delay_hours, tplus_hours)\u001b[0m\n\u001b[1;32m      4\u001b[0m \u001b[38;5;28;01mif\u001b[39;00m \u001b[38;5;28misinstance\u001b[39m(asos5_path, \u001b[38;5;28mstr\u001b[39m):\n\u001b[1;32m      5\u001b[0m     asos5_path \u001b[38;5;241m=\u001b[39m read_metar(asos5_path)\n\u001b[0;32m----> 7\u001b[0m df \u001b[38;5;241m=\u001b[39m \u001b[43mmake_ml_data_row\u001b[49m\u001b[43m(\u001b[49m\u001b[43mtaf_time\u001b[49m\u001b[43m,\u001b[49m\u001b[43m \u001b[49m\u001b[43mstation\u001b[49m\u001b[43m,\u001b[49m\u001b[43m \u001b[49m\u001b[43mlat\u001b[49m\u001b[43m,\u001b[49m\u001b[43m \u001b[49m\u001b[43mlon\u001b[49m\u001b[43m,\u001b[49m\u001b[43m \u001b[49m\u001b[43mmetar_path\u001b[49m\u001b[43m,\u001b[49m\u001b[43m \u001b[49m\u001b[43mglamp_path\u001b[49m\u001b[43m,\u001b[49m\u001b[43m \u001b[49m\u001b[43mhrrr_path\u001b[49m\u001b[43m,\u001b[49m\u001b[43m \u001b[49m\u001b[43mdelay_hours\u001b[49m\u001b[43m \u001b[49m\u001b[38;5;241;43m=\u001b[39;49m\u001b[43m \u001b[49m\u001b[43mdelay_hours\u001b[49m\u001b[43m)\u001b[49m\n\u001b[1;32m      9\u001b[0m \u001b[38;5;28;01mfor\u001b[39;00m i \u001b[38;5;129;01min\u001b[39;00m \u001b[38;5;28mrange\u001b[39m(tplus_hours):\n\u001b[1;32m     10\u001b[0m     df[\u001b[38;5;124mf\u001b[39m\u001b[38;5;124m'\u001b[39m\u001b[38;5;124mflight category \u001b[39m\u001b[38;5;132;01m{\u001b[39;00mi\u001b[38;5;132;01m}\u001b[39;00m\u001b[38;5;124m'\u001b[39m] \u001b[38;5;241m=\u001b[39m get_conditions_from_asos(taf_time \u001b[38;5;241m+\u001b[39m dt\u001b[38;5;241m.\u001b[39mtimedelta(hours \u001b[38;5;241m=\u001b[39m i), metar_path)\n",
      "Input \u001b[0;32mIn [2]\u001b[0m, in \u001b[0;36mmake_ml_data_row\u001b[0;34m(taf_time, station, lat, lon, metar_path, glamp_path, hrrr_path, delay_hours)\u001b[0m\n\u001b[1;32m     12\u001b[0m work_time \u001b[38;5;241m=\u001b[39m dt\u001b[38;5;241m.\u001b[39mtimedelta(hours\u001b[38;5;241m=\u001b[39m\u001b[38;5;241m-\u001b[39mdelay_hours)\n\u001b[1;32m     13\u001b[0m glamp_data \u001b[38;5;241m=\u001b[39m get_glamp_at_time(taf_time \u001b[38;5;241m+\u001b[39m work_time, glamp_path, station, download\u001b[38;5;241m=\u001b[39m\u001b[38;5;28;01mTrue\u001b[39;00m)\n\u001b[0;32m---> 14\u001b[0m hrrr_data \u001b[38;5;241m=\u001b[39m \u001b[43mget_hrrr_at_time\u001b[49m\u001b[43m(\u001b[49m\u001b[43mtaf_time\u001b[49m\u001b[43m \u001b[49m\u001b[38;5;241;43m+\u001b[39;49m\u001b[43m \u001b[49m\u001b[43mwork_time\u001b[49m\u001b[43m,\u001b[49m\u001b[43m \u001b[49m\u001b[43mhrrr_path\u001b[49m\u001b[43m,\u001b[49m\u001b[43m \u001b[49m\u001b[43mlat\u001b[49m\u001b[43m,\u001b[49m\u001b[43m \u001b[49m\u001b[43mlon\u001b[49m\u001b[43m,\u001b[49m\u001b[43m \u001b[49m\u001b[43mdownload\u001b[49m\u001b[38;5;241;43m=\u001b[39;49m\u001b[38;5;28;43;01mTrue\u001b[39;49;00m\u001b[43m)\u001b[49m\n\u001b[1;32m     15\u001b[0m glamp_synoptic_offset \u001b[38;5;241m=\u001b[39m (taf_time\u001b[38;5;241m.\u001b[39mhour \u001b[38;5;241m-\u001b[39m delay_hours) \u001b[38;5;241m%\u001b[39m \u001b[38;5;241m6\u001b[39m \u001b[38;5;241m-\u001b[39m \u001b[38;5;241m1\u001b[39m\n\u001b[1;32m     16\u001b[0m \u001b[38;5;28;01mfor\u001b[39;00m time \u001b[38;5;129;01min\u001b[39;00m \u001b[38;5;28mrange\u001b[39m(\u001b[38;5;241m-\u001b[39mdelay_hours, \u001b[38;5;241m7\u001b[39m, \u001b[38;5;241m1\u001b[39m):\n",
      "File \u001b[0;32m/mnt/c/Users/bpara/Documents/Git/nwsFlightCategories/IOfuncs.py:279\u001b[0m, in \u001b[0;36mget_hrrr_at_time\u001b[0;34m(datetime, path, lat, lon, download, var_list)\u001b[0m\n\u001b[1;32m    277\u001b[0m \u001b[38;5;28;01melse\u001b[39;00m:\n\u001b[1;32m    278\u001b[0m     \u001b[38;5;28;01mif\u001b[39;00m download:\n\u001b[0;32m--> 279\u001b[0m         data \u001b[38;5;241m=\u001b[39m \u001b[43mdownload_hrrr\u001b[49m\u001b[43m(\u001b[49m\u001b[43mdatetime\u001b[49m\u001b[43m,\u001b[49m\u001b[43m \u001b[49m\u001b[43mlat\u001b[49m\u001b[43m,\u001b[49m\u001b[43m \u001b[49m\u001b[43mlon\u001b[49m\u001b[43m,\u001b[49m\u001b[43m \u001b[49m\u001b[43mvar_list\u001b[49m\u001b[38;5;241;43m=\u001b[39;49m\u001b[43mvar_list\u001b[49m\u001b[43m)\u001b[49m\n\u001b[1;32m    280\u001b[0m         data\u001b[38;5;241m.\u001b[39mto_csv(path \u001b[38;5;241m+\u001b[39m fname)\n\u001b[1;32m    281\u001b[0m data \u001b[38;5;241m=\u001b[39m data\u001b[38;5;241m.\u001b[39mreplace([np\u001b[38;5;241m.\u001b[39minf, \u001b[38;5;241m-\u001b[39mnp\u001b[38;5;241m.\u001b[39minf], \u001b[38;5;241m-\u001b[39m\u001b[38;5;241m99999\u001b[39m)\n",
      "File \u001b[0;32m/mnt/c/Users/bpara/Documents/Git/nwsFlightCategories/IOfuncs.py:135\u001b[0m, in \u001b[0;36mdownload_hrrr\u001b[0;34m(datetime, point_lat, point_lon, radius, var_list)\u001b[0m\n\u001b[1;32m    131\u001b[0m     data \u001b[38;5;241m=\u001b[39m retrieve_data(data_url \u001b[38;5;241m+\u001b[39m fcst_chunk_id)\n\u001b[1;32m    132\u001b[0m     gridpoint_forecast \u001b[38;5;241m=\u001b[39m data[:, \n\u001b[1;32m    133\u001b[0m                               [nearest_point\u001b[38;5;241m.\u001b[39min_chunk_x\u001b[38;5;241m-\u001b[39mradius, nearest_point\u001b[38;5;241m.\u001b[39min_chunk_x\u001b[38;5;241m+\u001b[39mradius], \n\u001b[1;32m    134\u001b[0m                               [nearest_point\u001b[38;5;241m.\u001b[39min_chunk_y\u001b[38;5;241m-\u001b[39mradius, nearest_point\u001b[38;5;241m.\u001b[39min_chunk_y\u001b[38;5;241m+\u001b[39mradius]]\n\u001b[0;32m--> 135\u001b[0m     hrrr_df[\u001b[38;5;124mf\u001b[39m\u001b[38;5;124m'\u001b[39m\u001b[38;5;132;01m{\u001b[39;00mvar\u001b[38;5;132;01m}\u001b[39;00m\u001b[38;5;124m_\u001b[39m\u001b[38;5;132;01m{\u001b[39;00mlevel\u001b[38;5;132;01m}\u001b[39;00m\u001b[38;5;124m'\u001b[39m] \u001b[38;5;241m=\u001b[39m gridpoint_forecast\n\u001b[1;32m    136\u001b[0m \u001b[38;5;28;01mreturn\u001b[39;00m hrrr_df\n",
      "File \u001b[0;32m~/anaconda3/envs/nws/lib/python3.10/site-packages/pandas/core/frame.py:3655\u001b[0m, in \u001b[0;36mDataFrame.__setitem__\u001b[0;34m(self, key, value)\u001b[0m\n\u001b[1;32m   3652\u001b[0m     \u001b[38;5;28mself\u001b[39m\u001b[38;5;241m.\u001b[39m_setitem_array([key], value)\n\u001b[1;32m   3653\u001b[0m \u001b[38;5;28;01melse\u001b[39;00m:\n\u001b[1;32m   3654\u001b[0m     \u001b[38;5;66;03m# set column\u001b[39;00m\n\u001b[0;32m-> 3655\u001b[0m     \u001b[38;5;28;43mself\u001b[39;49m\u001b[38;5;241;43m.\u001b[39;49m\u001b[43m_set_item\u001b[49m\u001b[43m(\u001b[49m\u001b[43mkey\u001b[49m\u001b[43m,\u001b[49m\u001b[43m \u001b[49m\u001b[43mvalue\u001b[49m\u001b[43m)\u001b[49m\n",
      "File \u001b[0;32m~/anaconda3/envs/nws/lib/python3.10/site-packages/pandas/core/frame.py:3832\u001b[0m, in \u001b[0;36mDataFrame._set_item\u001b[0;34m(self, key, value)\u001b[0m\n\u001b[1;32m   3822\u001b[0m \u001b[38;5;28;01mdef\u001b[39;00m \u001b[38;5;21m_set_item\u001b[39m(\u001b[38;5;28mself\u001b[39m, key, value) \u001b[38;5;241m-\u001b[39m\u001b[38;5;241m>\u001b[39m \u001b[38;5;28;01mNone\u001b[39;00m:\n\u001b[1;32m   3823\u001b[0m     \u001b[38;5;124;03m\"\"\"\u001b[39;00m\n\u001b[1;32m   3824\u001b[0m \u001b[38;5;124;03m    Add series to DataFrame in specified column.\u001b[39;00m\n\u001b[1;32m   3825\u001b[0m \n\u001b[0;32m   (...)\u001b[0m\n\u001b[1;32m   3830\u001b[0m \u001b[38;5;124;03m    ensure homogeneity.\u001b[39;00m\n\u001b[1;32m   3831\u001b[0m \u001b[38;5;124;03m    \"\"\"\u001b[39;00m\n\u001b[0;32m-> 3832\u001b[0m     value \u001b[38;5;241m=\u001b[39m \u001b[38;5;28;43mself\u001b[39;49m\u001b[38;5;241;43m.\u001b[39;49m\u001b[43m_sanitize_column\u001b[49m\u001b[43m(\u001b[49m\u001b[43mvalue\u001b[49m\u001b[43m)\u001b[49m\n\u001b[1;32m   3834\u001b[0m     \u001b[38;5;28;01mif\u001b[39;00m (\n\u001b[1;32m   3835\u001b[0m         key \u001b[38;5;129;01min\u001b[39;00m \u001b[38;5;28mself\u001b[39m\u001b[38;5;241m.\u001b[39mcolumns\n\u001b[1;32m   3836\u001b[0m         \u001b[38;5;129;01mand\u001b[39;00m value\u001b[38;5;241m.\u001b[39mndim \u001b[38;5;241m==\u001b[39m \u001b[38;5;241m1\u001b[39m\n\u001b[1;32m   3837\u001b[0m         \u001b[38;5;129;01mand\u001b[39;00m \u001b[38;5;129;01mnot\u001b[39;00m is_extension_array_dtype(value)\n\u001b[1;32m   3838\u001b[0m     ):\n\u001b[1;32m   3839\u001b[0m         \u001b[38;5;66;03m# broadcast across multiple columns if necessary\u001b[39;00m\n\u001b[1;32m   3840\u001b[0m         \u001b[38;5;28;01mif\u001b[39;00m \u001b[38;5;129;01mnot\u001b[39;00m \u001b[38;5;28mself\u001b[39m\u001b[38;5;241m.\u001b[39mcolumns\u001b[38;5;241m.\u001b[39mis_unique \u001b[38;5;129;01mor\u001b[39;00m \u001b[38;5;28misinstance\u001b[39m(\u001b[38;5;28mself\u001b[39m\u001b[38;5;241m.\u001b[39mcolumns, MultiIndex):\n",
      "File \u001b[0;32m~/anaconda3/envs/nws/lib/python3.10/site-packages/pandas/core/frame.py:4528\u001b[0m, in \u001b[0;36mDataFrame._sanitize_column\u001b[0;34m(self, value)\u001b[0m\n\u001b[1;32m   4515\u001b[0m \u001b[38;5;28;01mdef\u001b[39;00m \u001b[38;5;21m_sanitize_column\u001b[39m(\u001b[38;5;28mself\u001b[39m, value) \u001b[38;5;241m-\u001b[39m\u001b[38;5;241m>\u001b[39m ArrayLike:\n\u001b[1;32m   4516\u001b[0m     \u001b[38;5;124;03m\"\"\"\u001b[39;00m\n\u001b[1;32m   4517\u001b[0m \u001b[38;5;124;03m    Ensures new columns (which go into the BlockManager as new blocks) are\u001b[39;00m\n\u001b[1;32m   4518\u001b[0m \u001b[38;5;124;03m    always copied and converted into an array.\u001b[39;00m\n\u001b[0;32m   (...)\u001b[0m\n\u001b[1;32m   4526\u001b[0m \u001b[38;5;124;03m    numpy.ndarray or ExtensionArray\u001b[39;00m\n\u001b[1;32m   4527\u001b[0m \u001b[38;5;124;03m    \"\"\"\u001b[39;00m\n\u001b[0;32m-> 4528\u001b[0m     \u001b[38;5;28;43mself\u001b[39;49m\u001b[38;5;241;43m.\u001b[39;49m\u001b[43m_ensure_valid_index\u001b[49m\u001b[43m(\u001b[49m\u001b[43mvalue\u001b[49m\u001b[43m)\u001b[49m\n\u001b[1;32m   4530\u001b[0m     \u001b[38;5;66;03m# We should never get here with DataFrame value\u001b[39;00m\n\u001b[1;32m   4531\u001b[0m     \u001b[38;5;28;01mif\u001b[39;00m \u001b[38;5;28misinstance\u001b[39m(value, Series):\n",
      "File \u001b[0;32m~/anaconda3/envs/nws/lib/python3.10/site-packages/pandas/core/frame.py:3894\u001b[0m, in \u001b[0;36mDataFrame._ensure_valid_index\u001b[0;34m(self, value)\u001b[0m\n\u001b[1;32m   3892\u001b[0m         value \u001b[38;5;241m=\u001b[39m Series(value)\n\u001b[1;32m   3893\u001b[0m     \u001b[38;5;28;01mexcept\u001b[39;00m (\u001b[38;5;167;01mValueError\u001b[39;00m, \u001b[38;5;167;01mNotImplementedError\u001b[39;00m, \u001b[38;5;167;01mTypeError\u001b[39;00m) \u001b[38;5;28;01mas\u001b[39;00m err:\n\u001b[0;32m-> 3894\u001b[0m         \u001b[38;5;28;01mraise\u001b[39;00m \u001b[38;5;167;01mValueError\u001b[39;00m(\n\u001b[1;32m   3895\u001b[0m             \u001b[38;5;124m\"\u001b[39m\u001b[38;5;124mCannot set a frame with no defined index \u001b[39m\u001b[38;5;124m\"\u001b[39m\n\u001b[1;32m   3896\u001b[0m             \u001b[38;5;124m\"\u001b[39m\u001b[38;5;124mand a value that cannot be converted to a Series\u001b[39m\u001b[38;5;124m\"\u001b[39m\n\u001b[1;32m   3897\u001b[0m         ) \u001b[38;5;28;01mfrom\u001b[39;00m \u001b[38;5;21;01merr\u001b[39;00m\n\u001b[1;32m   3899\u001b[0m \u001b[38;5;66;03m# GH31368 preserve name of index\u001b[39;00m\n\u001b[1;32m   3900\u001b[0m index_copy \u001b[38;5;241m=\u001b[39m value\u001b[38;5;241m.\u001b[39mindex\u001b[38;5;241m.\u001b[39mcopy()\n",
      "\u001b[0;31mValueError\u001b[0m: Cannot set a frame with no defined index and a value that cannot be converted to a Series"
     ]
    }
   ],
   "source": [
    "start_date = dt.datetime(year = 2020, month = 8, day = 21, hour = 0, minute = 0)\n",
    "end_date = dt.datetime.now()\n",
    "data = make_ml_training_data_set([(start_date, end_date)], 'kbos', 42.3656, -71.0096, 'Data/BOS.csv', 'Data/GLAMP data/', \n",
    "                                 'Data/hrrr/', 'Data/BOS_5min.csv', frequency = 'H')"
   ]
  },
  {
   "cell_type": "code",
   "execution_count": null,
   "id": "6c55bc23-ebb7-4a06-b0fe-c18630102611",
   "metadata": {
    "tags": []
   },
   "outputs": [],
   "source": [
    "start_date_winter_1 = dt.datetime(year = 2020, month = 12, day = 1, hour = 0, minute = 0)\n",
    "end_date_winter_1 = dt.datetime(year = 2021, month = 2, day = 28, hour = 23, minute = 0)\n",
    "start_date_winter_2 = dt.datetime(year = 2019, month = 12, day = 1, hour = 0, minute = 0)\n",
    "end_date_winter_2 = dt.datetime(year = 2020, month = 2, day = 28, hour = 23, minute = 0)\n",
    "winter_data = make_ml_training_data_set([(start_date_winter_1, end_date_winter_1), (start_date_winter_2, end_date_winter_2)], \n",
    "                                        'kbos', 42.3656, -71.0096, 'Data/BOS.csv',\n",
    "                                        'Data/GLAMP data/', 'Data/hrrr/', 'Data/BOS_5min.csv', frequency = 'H')"
   ]
  },
  {
   "cell_type": "code",
   "execution_count": null,
   "id": "6d2b28e9-1d01-4aaa-b42a-8070085d307f",
   "metadata": {},
   "outputs": [],
   "source": [
    "start_date_spring_1 = dt.datetime(year = 2021, month = 3, day = 1, hour = 0, minute = 0)\n",
    "end_date_spring_1 = dt.datetime(year = 2021, month = 5, day = 31, hour = 23, minute = 0)\n",
    "start_date_spring_2 = dt.datetime(year = 2020, month = 3, day = 1, hour = 0, minute = 0)\n",
    "end_date_spring_2 = dt.datetime(year = 2020, month = 5, day = 31, hour = 23, minute = 0)\n",
    "spring_data = make_ml_training_data_set([(start_date_spring_1, end_date_spring_1), (start_date_spring_2, end_date_spring_2)], \n",
    "                                         'kbos', 42.3656, -71.0096, 'Data/BOS.csv', \n",
    "                                        'Data/GLAMP data/', 'Data/hrrr/', 'Data/BOS_5min.csv', frequency = 'H')"
   ]
  },
  {
   "cell_type": "code",
   "execution_count": null,
   "id": "d29b0b55-c4fb-4214-964b-518e92e742c8",
   "metadata": {},
   "outputs": [],
   "source": [
    "start_date_summer_1 = dt.datetime(year = 2021, month = 6, day = 1, hour = 0, minute = 0)\n",
    "end_date_summer_1 = dt.datetime(year = 2021, month = 8, day = 31, hour = 23, minute = 0)\n",
    "start_date_summer_2 = dt.datetime(year = 2020, month = 6, day = 1, hour = 0, minute = 0)\n",
    "end_date_summer_2 = dt.datetime(year = 2020, month = 8, day = 31, hour = 23, minute = 0)\n",
    "summer_data = make_ml_training_data_set([(start_date_summer_1, end_date_summer_1), (start_date_summer_2, end_date_summer_2)], \n",
    "                                         'kbos', 42.3656, -71.0096, 'Data/BOS.csv', \n",
    "                                        'Data/GLAMP data/', 'Data/hrrr/', 'Data/BOS_5min.csv', frequency = 'H')"
   ]
  },
  {
   "cell_type": "code",
   "execution_count": null,
   "id": "805b35f3-b4b9-4fa8-ac85-9ef8b3558d9e",
   "metadata": {},
   "outputs": [],
   "source": [
    "start_date_fall_1 = dt.datetime(year = 2021, month = 9, day = 1, hour = 0, minute = 0)\n",
    "end_date_fall_1 = dt.datetime(year = 2021, month = 11, day = 30, hour = 23, minute = 0)\n",
    "start_date_fall_2 = dt.datetime(year = 2020, month = 9, day = 1, hour = 0, minute = 0)\n",
    "end_date_fall_2 = dt.datetime(year = 2020, month = 11, day = 30, hour = 23, minute = 0)\n",
    "fall_data = make_ml_training_data_set([(start_date_fall_1, end_date_fall_1), (start_date_fall_2, end_date_fall_2)], \n",
    "                                         'kbos', 42.3656, -71.0096, 'Data/BOS.csv', \n",
    "                                        'Data/GLAMP data/', 'Data/hrrr/', 'Data/BOS_5min.csv', frequency = 'H')"
   ]
  },
  {
   "cell_type": "code",
   "execution_count": null,
   "id": "d9ead147-65f0-4b02-8c73-84c4326b9e98",
   "metadata": {},
   "outputs": [],
   "source": [
    "#The ci interval currently isn't implemented correctly\n",
    "def test_accuracy_metrics(classifier_rf, training_data, flight_cat, use_ci=None, compare=None):\n",
    "    result_df = pd.DataFrame()\n",
    "    (X, y_list, val_list) = data_split(training_data)\n",
    "    for y, val in zip(y_list,val_list):\n",
    "        X_train, X_test, y_train, y_test, _, val_test = train_test_split(X, y_list[y], val_list[val], train_size=0.7, random_state=42)\n",
    "        classifier_rf.fit(X_train, y_train)\n",
    "        predictions = classifier_rf.predict(X_test)\n",
    "        if use_ci is not None: #keep only ones where prob is above CI\n",
    "            predict_probs_mask = classifier_rf.predict_proba(X_test)[:,flight_cat] >= use_ci\n",
    "            for i,prediction in enumerate(predictions):\n",
    "                if prediction == flight_cat and not predict_probs_mask[i]:\n",
    "                    predictions[i] = -1\n",
    "        prob = np.repeat(predictions, [len(verifications) for verifications in val_test])\n",
    "        results = np.concatenate(np.asarray(val_test))\n",
    "        if not compare is None:\n",
    "            result_df[y] = (prob_of_detection(prob, results, flight_cat), \n",
    "                            false_alarm_rate(prob, results, flight_cat), \n",
    "                            critical_success_index(prob, results, flight_cat))\n",
    "        else:\n",
    "            result_df[y] = (prob_of_detection(prob, results, flight_cat) >= compare[0], \n",
    "                            false_alarm_rate(prob, results, flight_cat) <= compare[1], \n",
    "                            critical_success_index(prob, results, flight_cat) >= compare[2])            \n",
    "        result_df.rename({0: 'POD', 1: 'FAR', 2: 'CSI'}, inplace=True)\n",
    "    return result_df"
   ]
  },
  {
   "cell_type": "code",
   "execution_count": null,
   "id": "3cfcc501-cf5f-4911-adae-70cffa021a14",
   "metadata": {},
   "outputs": [],
   "source": [
    "def gfs_accuracy_metrics(gfs_data, flight_cat, t_plus_max=6):\n",
    "    result_df = pd.DataFrame()\n",
    "    for time in range(t_plus_max):\n",
    "        prob = np.repeat(np.asarray(gfs_data[f't plus {time} prediction']), \n",
    "                                [len(verifications) for verifications in gfs_data[f't plus {time} verification']])\n",
    "        results = np.concatenate(np.asarray(gfs_data[f't plus {time} verification']))\n",
    "        result_df[f't plus {time} data'] = (prob_of_detection(prob, results, flight_cat), \n",
    "                            false_alarm_rate(prob, results, flight_cat), \n",
    "                            critical_success_index(prob, results, flight_cat))\n",
    "    return result_df"
   ]
  },
  {
   "cell_type": "code",
   "execution_count": null,
   "id": "86f6226f-5659-4941-a033-dfe4e180809b",
   "metadata": {},
   "outputs": [],
   "source": [
    "def overall_comparison(classifier_rf, training_data, compare):\n",
    "    flight_cats = [0, 1, 2, 3]\n",
    "    total_hits = 0\n",
    "    total_tests = 0\n",
    "    for cat in flight_cats:\n",
    "        result = test_accuracy_metrics(classifier_rf, training_data, cat, compare=compare)\n",
    "        total_hits += result.to_numpy().sum()\n",
    "        total_tests += len(result) * len(result.T)\n",
    "    return total_hits, total_tests"
   ]
  },
  {
   "cell_type": "code",
   "execution_count": null,
   "id": "130f9126-6fef-4852-929a-7dfdc8805ff4",
   "metadata": {},
   "outputs": [],
   "source": [
    "classifier_rf = RandomForestClassifier(random_state=42, n_jobs = -1, class_weight = \"balanced\")\n",
    "classifier_nn = MLPClassifier(random_state=42)\n",
    "#params determined via hyperparam tuning\n",
    "n_estimators = [int(x) for x in np.linspace(200, 2000, 10)]\n",
    "max_depth = [x for x in range(10, 120, 10)]\n",
    "max_depth.append(None)\n",
    "min_samples_split = [2, 5, 10]\n",
    "min_samples_leaf = [1, 2, 4]\n",
    "bootstrap = [True, False]\n",
    "random_grid = {'n_estimators': n_estimators,\n",
    "               'max_depth': max_depth,\n",
    "               'min_samples_split': min_samples_split,\n",
    "               'min_samples_leaf': min_samples_leaf,\n",
    "               'bootstrap': bootstrap}\n",
    "tuned_rf = RandomizedSearchCV(estimator = classifier_rf, param_distributions = random_grid, random_state = 42, n_jobs = -1)\n",
    "k = 0.5\n",
    "gipra_goal = [0.65, 0.38, 0.47]\n",
    "station_goal = [0.75, 0.25, 0.6]"
   ]
  },
  {
   "cell_type": "code",
   "execution_count": 344,
   "id": "c268e080-f20e-4198-85c3-6114b768e214",
   "metadata": {
    "tags": []
   },
   "outputs": [
    {
     "name": "stderr",
     "output_type": "stream",
     "text": [
      "100%|███████████████████████████████████████████████████████████████████████████████| 2160/2160 [01:05<00:00, 32.89it/s]\n"
     ]
    }
   ],
   "source": [
    "gfs_winter = glamp_time_series([(start_date_winter_1, end_date_winter_1)], \n",
    "                  'kbos', 'Data/GLAMP data/', asos5)"
   ]
  },
  {
   "cell_type": "code",
   "execution_count": 31,
   "id": "a6028397-222c-489e-a86f-f3a9159e58d4",
   "metadata": {},
   "outputs": [
    {
     "data": {
      "text/plain": [
       "(array([-1,  0,  1, -1,  0,  1, -1,  0,  1]),\n",
       " array([-1, -1, -1,  0,  0,  0,  1,  1,  1]))"
      ]
     },
     "execution_count": 31,
     "metadata": {},
     "output_type": "execute_result"
    }
   ],
   "source": [
    "x = np.arange(-1, 2)\n",
    "y = np.arange(-1, 2)\n",
    "x_g, y_g = np.meshgrid(x,y)\n",
    "x_g.flatten(), y_g.flatten()"
   ]
  },
  {
   "cell_type": "code",
   "execution_count": 356,
   "id": "cd80b706-9fc7-4c16-9bac-fe94a71e53b3",
   "metadata": {},
   "outputs": [
    {
     "data": {
      "text/html": [
       "<div>\n",
       "<style scoped>\n",
       "    .dataframe tbody tr th:only-of-type {\n",
       "        vertical-align: middle;\n",
       "    }\n",
       "\n",
       "    .dataframe tbody tr th {\n",
       "        vertical-align: top;\n",
       "    }\n",
       "\n",
       "    .dataframe thead th {\n",
       "        text-align: right;\n",
       "    }\n",
       "</style>\n",
       "<table border=\"1\" class=\"dataframe\">\n",
       "  <thead>\n",
       "    <tr style=\"text-align: right;\">\n",
       "      <th></th>\n",
       "      <th>t plus 0 data</th>\n",
       "      <th>t plus 1 data</th>\n",
       "      <th>t plus 2 data</th>\n",
       "      <th>t plus 3 data</th>\n",
       "      <th>t plus 4 data</th>\n",
       "      <th>t plus 5 data</th>\n",
       "    </tr>\n",
       "  </thead>\n",
       "  <tbody>\n",
       "    <tr>\n",
       "      <th>0</th>\n",
       "      <td>0.675497</td>\n",
       "      <td>0.645695</td>\n",
       "      <td>0.652318</td>\n",
       "      <td>0.701987</td>\n",
       "      <td>0.791391</td>\n",
       "      <td>0.798013</td>\n",
       "    </tr>\n",
       "    <tr>\n",
       "      <th>1</th>\n",
       "      <td>0.588710</td>\n",
       "      <td>0.664948</td>\n",
       "      <td>0.705970</td>\n",
       "      <td>0.725389</td>\n",
       "      <td>0.720468</td>\n",
       "      <td>0.741139</td>\n",
       "    </tr>\n",
       "    <tr>\n",
       "      <th>2</th>\n",
       "      <td>0.343434</td>\n",
       "      <td>0.283019</td>\n",
       "      <td>0.254194</td>\n",
       "      <td>0.245940</td>\n",
       "      <td>0.260349</td>\n",
       "      <td>0.242944</td>\n",
       "    </tr>\n",
       "  </tbody>\n",
       "</table>\n",
       "</div>"
      ],
      "text/plain": [
       "   t plus 0 data  t plus 1 data  t plus 2 data  t plus 3 data  t plus 4 data  \\\n",
       "0       0.675497       0.645695       0.652318       0.701987       0.791391   \n",
       "1       0.588710       0.664948       0.705970       0.725389       0.720468   \n",
       "2       0.343434       0.283019       0.254194       0.245940       0.260349   \n",
       "\n",
       "   t plus 5 data  \n",
       "0       0.798013  \n",
       "1       0.741139  \n",
       "2       0.242944  "
      ]
     },
     "execution_count": 356,
     "metadata": {},
     "output_type": "execute_result"
    }
   ],
   "source": [
    "gfs_accuracy_metrics(gfs_winter, 0)"
   ]
  },
  {
   "cell_type": "code",
   "execution_count": 352,
   "id": "961d2a18-450b-43fb-99c6-0625aa74c045",
   "metadata": {
    "tags": []
   },
   "outputs": [
    {
     "name": "stdout",
     "output_type": "stream",
     "text": [
      "CPU times: user 7.25 s, sys: 2.01 s, total: 9.27 s\n",
      "Wall time: 2.6 s\n"
     ]
    },
    {
     "data": {
      "text/html": [
       "<div>\n",
       "<style scoped>\n",
       "    .dataframe tbody tr th:only-of-type {\n",
       "        vertical-align: middle;\n",
       "    }\n",
       "\n",
       "    .dataframe tbody tr th {\n",
       "        vertical-align: top;\n",
       "    }\n",
       "\n",
       "    .dataframe thead th {\n",
       "        text-align: right;\n",
       "    }\n",
       "</style>\n",
       "<table border=\"1\" class=\"dataframe\">\n",
       "  <thead>\n",
       "    <tr style=\"text-align: right;\">\n",
       "      <th></th>\n",
       "      <th>flight category 0</th>\n",
       "      <th>flight category 1</th>\n",
       "      <th>flight category 2</th>\n",
       "      <th>flight category 3</th>\n",
       "      <th>flight category 4</th>\n",
       "      <th>flight category 5</th>\n",
       "    </tr>\n",
       "  </thead>\n",
       "  <tbody>\n",
       "    <tr>\n",
       "      <th>POD</th>\n",
       "      <td>0.818182</td>\n",
       "      <td>0.657534</td>\n",
       "      <td>0.594595</td>\n",
       "      <td>0.786667</td>\n",
       "      <td>0.565574</td>\n",
       "      <td>0.524752</td>\n",
       "    </tr>\n",
       "    <tr>\n",
       "      <th>FAR</th>\n",
       "      <td>0.318182</td>\n",
       "      <td>0.142857</td>\n",
       "      <td>0.352941</td>\n",
       "      <td>0.233766</td>\n",
       "      <td>0.378378</td>\n",
       "      <td>0.231884</td>\n",
       "    </tr>\n",
       "    <tr>\n",
       "      <th>CSI</th>\n",
       "      <td>0.592105</td>\n",
       "      <td>0.592593</td>\n",
       "      <td>0.448980</td>\n",
       "      <td>0.634409</td>\n",
       "      <td>0.420732</td>\n",
       "      <td>0.452991</td>\n",
       "    </tr>\n",
       "  </tbody>\n",
       "</table>\n",
       "</div>"
      ],
      "text/plain": [
       "     flight category 0  flight category 1  flight category 2  \\\n",
       "POD           0.818182           0.657534           0.594595   \n",
       "FAR           0.318182           0.142857           0.352941   \n",
       "CSI           0.592105           0.592593           0.448980   \n",
       "\n",
       "     flight category 3  flight category 4  flight category 5  \n",
       "POD           0.786667           0.565574           0.524752  \n",
       "FAR           0.233766           0.378378           0.231884  \n",
       "CSI           0.634409           0.420732           0.452991  "
      ]
     },
     "execution_count": 352,
     "metadata": {},
     "output_type": "execute_result"
    }
   ],
   "source": [
    "%%time\n",
    "test_accuracy_metrics(classifier_rf, winter_data, 0)"
   ]
  },
  {
   "cell_type": "code",
   "execution_count": 126,
   "id": "cb916ce1-928f-48a5-8ff9-47a01876ad8a",
   "metadata": {
    "tags": []
   },
   "outputs": [
    {
     "name": "stdout",
     "output_type": "stream",
     "text": [
      "CPU times: user 11.8 s, sys: 3.1 s, total: 14.9 s\n",
      "Wall time: 5.77 s\n"
     ]
    },
    {
     "data": {
      "text/html": [
       "<div>\n",
       "<style scoped>\n",
       "    .dataframe tbody tr th:only-of-type {\n",
       "        vertical-align: middle;\n",
       "    }\n",
       "\n",
       "    .dataframe tbody tr th {\n",
       "        vertical-align: top;\n",
       "    }\n",
       "\n",
       "    .dataframe thead th {\n",
       "        text-align: right;\n",
       "    }\n",
       "</style>\n",
       "<table border=\"1\" class=\"dataframe\">\n",
       "  <thead>\n",
       "    <tr style=\"text-align: right;\">\n",
       "      <th></th>\n",
       "      <th>flight category 0</th>\n",
       "      <th>flight category 1</th>\n",
       "      <th>flight category 2</th>\n",
       "      <th>flight category 3</th>\n",
       "      <th>flight category 4</th>\n",
       "      <th>flight category 5</th>\n",
       "    </tr>\n",
       "  </thead>\n",
       "  <tbody>\n",
       "    <tr>\n",
       "      <th>POD</th>\n",
       "      <td>0.993539</td>\n",
       "      <td>0.998208</td>\n",
       "      <td>0.997404</td>\n",
       "      <td>0.995524</td>\n",
       "      <td>0.997582</td>\n",
       "      <td>0.995153</td>\n",
       "    </tr>\n",
       "    <tr>\n",
       "      <th>FAR</th>\n",
       "      <td>0.022720</td>\n",
       "      <td>0.026684</td>\n",
       "      <td>0.032421</td>\n",
       "      <td>0.012214</td>\n",
       "      <td>0.019642</td>\n",
       "      <td>0.015345</td>\n",
       "    </tr>\n",
       "    <tr>\n",
       "      <th>CSI</th>\n",
       "      <td>0.971108</td>\n",
       "      <td>0.971619</td>\n",
       "      <td>0.965149</td>\n",
       "      <td>0.983418</td>\n",
       "      <td>0.978034</td>\n",
       "      <td>0.979955</td>\n",
       "    </tr>\n",
       "  </tbody>\n",
       "</table>\n",
       "</div>"
      ],
      "text/plain": [
       "     flight category 0  flight category 1  flight category 2  \\\n",
       "POD           0.993539           0.998208           0.997404   \n",
       "FAR           0.022720           0.026684           0.032421   \n",
       "CSI           0.971108           0.971619           0.965149   \n",
       "\n",
       "     flight category 3  flight category 4  flight category 5  \n",
       "POD           0.995524           0.997582           0.995153  \n",
       "FAR           0.012214           0.019642           0.015345  \n",
       "CSI           0.983418           0.978034           0.979955  "
      ]
     },
     "execution_count": 126,
     "metadata": {},
     "output_type": "execute_result"
    }
   ],
   "source": [
    "%%time\n",
    "test_accuracy_metrics(classifier_rf, spring_data, 3) #VFR"
   ]
  },
  {
   "cell_type": "code",
   "execution_count": 127,
   "id": "7d44773e-44a8-4f5b-82ac-f0fed4e4de80",
   "metadata": {},
   "outputs": [
    {
     "name": "stdout",
     "output_type": "stream",
     "text": [
      "CPU times: user 13.1 s, sys: 3.36 s, total: 16.4 s\n",
      "Wall time: 5.06 s\n"
     ]
    },
    {
     "data": {
      "text/html": [
       "<div>\n",
       "<style scoped>\n",
       "    .dataframe tbody tr th:only-of-type {\n",
       "        vertical-align: middle;\n",
       "    }\n",
       "\n",
       "    .dataframe tbody tr th {\n",
       "        vertical-align: top;\n",
       "    }\n",
       "\n",
       "    .dataframe thead th {\n",
       "        text-align: right;\n",
       "    }\n",
       "</style>\n",
       "<table border=\"1\" class=\"dataframe\">\n",
       "  <thead>\n",
       "    <tr style=\"text-align: right;\">\n",
       "      <th></th>\n",
       "      <th>flight category 0</th>\n",
       "      <th>flight category 1</th>\n",
       "      <th>flight category 2</th>\n",
       "      <th>flight category 3</th>\n",
       "      <th>flight category 4</th>\n",
       "      <th>flight category 5</th>\n",
       "    </tr>\n",
       "  </thead>\n",
       "  <tbody>\n",
       "    <tr>\n",
       "      <th>POD</th>\n",
       "      <td>0.982595</td>\n",
       "      <td>0.982088</td>\n",
       "      <td>0.981535</td>\n",
       "      <td>0.984618</td>\n",
       "      <td>0.976833</td>\n",
       "      <td>0.981244</td>\n",
       "    </tr>\n",
       "    <tr>\n",
       "      <th>FAR</th>\n",
       "      <td>0.058237</td>\n",
       "      <td>0.048189</td>\n",
       "      <td>0.060061</td>\n",
       "      <td>0.069622</td>\n",
       "      <td>0.070081</td>\n",
       "      <td>0.061680</td>\n",
       "    </tr>\n",
       "    <tr>\n",
       "      <th>CSI</th>\n",
       "      <td>0.926311</td>\n",
       "      <td>0.935569</td>\n",
       "      <td>0.923607</td>\n",
       "      <td>0.917049</td>\n",
       "      <td>0.909852</td>\n",
       "      <td>0.921788</td>\n",
       "    </tr>\n",
       "  </tbody>\n",
       "</table>\n",
       "</div>"
      ],
      "text/plain": [
       "     flight category 0  flight category 1  flight category 2  \\\n",
       "POD           0.982595           0.982088           0.981535   \n",
       "FAR           0.058237           0.048189           0.060061   \n",
       "CSI           0.926311           0.935569           0.923607   \n",
       "\n",
       "     flight category 3  flight category 4  flight category 5  \n",
       "POD           0.984618           0.976833           0.981244  \n",
       "FAR           0.069622           0.070081           0.061680  \n",
       "CSI           0.917049           0.909852           0.921788  "
      ]
     },
     "execution_count": 127,
     "metadata": {},
     "output_type": "execute_result"
    }
   ],
   "source": [
    "%%time\n",
    "test_accuracy_metrics(classifier_rf, summer_data, 3) #VFR"
   ]
  },
  {
   "cell_type": "code",
   "execution_count": 128,
   "id": "57e52bce-b4db-4270-ba3b-3b7805fa43e9",
   "metadata": {},
   "outputs": [
    {
     "name": "stdout",
     "output_type": "stream",
     "text": [
      "CPU times: user 24.4 s, sys: 3.22 s, total: 27.6 s\n",
      "Wall time: 7.44 s\n"
     ]
    },
    {
     "data": {
      "text/html": [
       "<div>\n",
       "<style scoped>\n",
       "    .dataframe tbody tr th:only-of-type {\n",
       "        vertical-align: middle;\n",
       "    }\n",
       "\n",
       "    .dataframe tbody tr th {\n",
       "        vertical-align: top;\n",
       "    }\n",
       "\n",
       "    .dataframe thead th {\n",
       "        text-align: right;\n",
       "    }\n",
       "</style>\n",
       "<table border=\"1\" class=\"dataframe\">\n",
       "  <thead>\n",
       "    <tr style=\"text-align: right;\">\n",
       "      <th></th>\n",
       "      <th>flight category 0</th>\n",
       "      <th>flight category 1</th>\n",
       "      <th>flight category 2</th>\n",
       "      <th>flight category 3</th>\n",
       "      <th>flight category 4</th>\n",
       "      <th>flight category 5</th>\n",
       "    </tr>\n",
       "  </thead>\n",
       "  <tbody>\n",
       "    <tr>\n",
       "      <th>POD</th>\n",
       "      <td>0.979034</td>\n",
       "      <td>0.988166</td>\n",
       "      <td>0.979395</td>\n",
       "      <td>0.981880</td>\n",
       "      <td>0.985417</td>\n",
       "      <td>0.982226</td>\n",
       "    </tr>\n",
       "    <tr>\n",
       "      <th>FAR</th>\n",
       "      <td>0.052926</td>\n",
       "      <td>0.054789</td>\n",
       "      <td>0.054579</td>\n",
       "      <td>0.056719</td>\n",
       "      <td>0.055619</td>\n",
       "      <td>0.056197</td>\n",
       "    </tr>\n",
       "    <tr>\n",
       "      <th>CSI</th>\n",
       "      <td>0.928247</td>\n",
       "      <td>0.934631</td>\n",
       "      <td>0.926983</td>\n",
       "      <td>0.927141</td>\n",
       "      <td>0.931364</td>\n",
       "      <td>0.927955</td>\n",
       "    </tr>\n",
       "  </tbody>\n",
       "</table>\n",
       "</div>"
      ],
      "text/plain": [
       "     flight category 0  flight category 1  flight category 2  \\\n",
       "POD           0.979034           0.988166           0.979395   \n",
       "FAR           0.052926           0.054789           0.054579   \n",
       "CSI           0.928247           0.934631           0.926983   \n",
       "\n",
       "     flight category 3  flight category 4  flight category 5  \n",
       "POD           0.981880           0.985417           0.982226  \n",
       "FAR           0.056719           0.055619           0.056197  \n",
       "CSI           0.927141           0.931364           0.927955  "
      ]
     },
     "execution_count": 128,
     "metadata": {},
     "output_type": "execute_result"
    }
   ],
   "source": [
    "%%time\n",
    "test_accuracy_metrics(classifier_rf, fall_data, 3) #VFR"
   ]
  },
  {
   "cell_type": "code",
   "execution_count": 129,
   "id": "e7fffb07-5777-4b7c-8759-062646275066",
   "metadata": {},
   "outputs": [
    {
     "name": "stdout",
     "output_type": "stream",
     "text": [
      "CPU times: user 12.8 s, sys: 3.33 s, total: 16.1 s\n",
      "Wall time: 5.54 s\n"
     ]
    },
    {
     "data": {
      "text/html": [
       "<div>\n",
       "<style scoped>\n",
       "    .dataframe tbody tr th:only-of-type {\n",
       "        vertical-align: middle;\n",
       "    }\n",
       "\n",
       "    .dataframe tbody tr th {\n",
       "        vertical-align: top;\n",
       "    }\n",
       "\n",
       "    .dataframe thead th {\n",
       "        text-align: right;\n",
       "    }\n",
       "</style>\n",
       "<table border=\"1\" class=\"dataframe\">\n",
       "  <thead>\n",
       "    <tr style=\"text-align: right;\">\n",
       "      <th></th>\n",
       "      <th>flight category 0</th>\n",
       "      <th>flight category 1</th>\n",
       "      <th>flight category 2</th>\n",
       "      <th>flight category 3</th>\n",
       "      <th>flight category 4</th>\n",
       "      <th>flight category 5</th>\n",
       "    </tr>\n",
       "  </thead>\n",
       "  <tbody>\n",
       "    <tr>\n",
       "      <th>POD</th>\n",
       "      <td>0.618785</td>\n",
       "      <td>0.668073</td>\n",
       "      <td>0.715505</td>\n",
       "      <td>0.763948</td>\n",
       "      <td>0.620081</td>\n",
       "      <td>0.578512</td>\n",
       "    </tr>\n",
       "    <tr>\n",
       "      <th>FAR</th>\n",
       "      <td>0.302181</td>\n",
       "      <td>0.314574</td>\n",
       "      <td>0.335535</td>\n",
       "      <td>0.306494</td>\n",
       "      <td>0.291473</td>\n",
       "      <td>0.240506</td>\n",
       "    </tr>\n",
       "    <tr>\n",
       "      <th>CSI</th>\n",
       "      <td>0.488017</td>\n",
       "      <td>0.511302</td>\n",
       "      <td>0.525601</td>\n",
       "      <td>0.571123</td>\n",
       "      <td>0.494054</td>\n",
       "      <td>0.488941</td>\n",
       "    </tr>\n",
       "  </tbody>\n",
       "</table>\n",
       "</div>"
      ],
      "text/plain": [
       "     flight category 0  flight category 1  flight category 2  \\\n",
       "POD           0.618785           0.668073           0.715505   \n",
       "FAR           0.302181           0.314574           0.335535   \n",
       "CSI           0.488017           0.511302           0.525601   \n",
       "\n",
       "     flight category 3  flight category 4  flight category 5  \n",
       "POD           0.763948           0.620081           0.578512  \n",
       "FAR           0.306494           0.291473           0.240506  \n",
       "CSI           0.571123           0.494054           0.488941  "
      ]
     },
     "execution_count": 129,
     "metadata": {},
     "output_type": "execute_result"
    }
   ],
   "source": [
    "%%time\n",
    "test_accuracy_metrics(classifier_rf, winter_data, 2) #MVFR"
   ]
  },
  {
   "cell_type": "code",
   "execution_count": 130,
   "id": "fe93c0ba-700e-4ed6-8803-f68d35df9795",
   "metadata": {},
   "outputs": [
    {
     "name": "stdout",
     "output_type": "stream",
     "text": [
      "CPU times: user 10.2 s, sys: 3.21 s, total: 13.4 s\n",
      "Wall time: 4.53 s\n"
     ]
    },
    {
     "data": {
      "text/html": [
       "<div>\n",
       "<style scoped>\n",
       "    .dataframe tbody tr th:only-of-type {\n",
       "        vertical-align: middle;\n",
       "    }\n",
       "\n",
       "    .dataframe tbody tr th {\n",
       "        vertical-align: top;\n",
       "    }\n",
       "\n",
       "    .dataframe thead th {\n",
       "        text-align: right;\n",
       "    }\n",
       "</style>\n",
       "<table border=\"1\" class=\"dataframe\">\n",
       "  <thead>\n",
       "    <tr style=\"text-align: right;\">\n",
       "      <th></th>\n",
       "      <th>flight category 0</th>\n",
       "      <th>flight category 1</th>\n",
       "      <th>flight category 2</th>\n",
       "      <th>flight category 3</th>\n",
       "      <th>flight category 4</th>\n",
       "      <th>flight category 5</th>\n",
       "    </tr>\n",
       "  </thead>\n",
       "  <tbody>\n",
       "    <tr>\n",
       "      <th>POD</th>\n",
       "      <td>0.553247</td>\n",
       "      <td>0.516908</td>\n",
       "      <td>0.389744</td>\n",
       "      <td>0.662371</td>\n",
       "      <td>0.497191</td>\n",
       "      <td>0.546366</td>\n",
       "    </tr>\n",
       "    <tr>\n",
       "      <th>FAR</th>\n",
       "      <td>0.270548</td>\n",
       "      <td>0.298361</td>\n",
       "      <td>0.371901</td>\n",
       "      <td>0.261494</td>\n",
       "      <td>0.332075</td>\n",
       "      <td>0.212996</td>\n",
       "    </tr>\n",
       "    <tr>\n",
       "      <th>CSI</th>\n",
       "      <td>0.459052</td>\n",
       "      <td>0.423762</td>\n",
       "      <td>0.316667</td>\n",
       "      <td>0.536534</td>\n",
       "      <td>0.398649</td>\n",
       "      <td>0.475983</td>\n",
       "    </tr>\n",
       "  </tbody>\n",
       "</table>\n",
       "</div>"
      ],
      "text/plain": [
       "     flight category 0  flight category 1  flight category 2  \\\n",
       "POD           0.553247           0.516908           0.389744   \n",
       "FAR           0.270548           0.298361           0.371901   \n",
       "CSI           0.459052           0.423762           0.316667   \n",
       "\n",
       "     flight category 3  flight category 4  flight category 5  \n",
       "POD           0.662371           0.497191           0.546366  \n",
       "FAR           0.261494           0.332075           0.212996  \n",
       "CSI           0.536534           0.398649           0.475983  "
      ]
     },
     "execution_count": 130,
     "metadata": {},
     "output_type": "execute_result"
    }
   ],
   "source": [
    "%%time\n",
    "test_accuracy_metrics(classifier_rf, spring_data, 2) #MVFR"
   ]
  },
  {
   "cell_type": "code",
   "execution_count": 131,
   "id": "1350721b-d633-48f3-8fb9-c2cf91fbc525",
   "metadata": {},
   "outputs": [
    {
     "name": "stdout",
     "output_type": "stream",
     "text": [
      "CPU times: user 12.9 s, sys: 3.1 s, total: 16 s\n",
      "Wall time: 4.93 s\n"
     ]
    },
    {
     "data": {
      "text/html": [
       "<div>\n",
       "<style scoped>\n",
       "    .dataframe tbody tr th:only-of-type {\n",
       "        vertical-align: middle;\n",
       "    }\n",
       "\n",
       "    .dataframe tbody tr th {\n",
       "        vertical-align: top;\n",
       "    }\n",
       "\n",
       "    .dataframe thead th {\n",
       "        text-align: right;\n",
       "    }\n",
       "</style>\n",
       "<table border=\"1\" class=\"dataframe\">\n",
       "  <thead>\n",
       "    <tr style=\"text-align: right;\">\n",
       "      <th></th>\n",
       "      <th>flight category 0</th>\n",
       "      <th>flight category 1</th>\n",
       "      <th>flight category 2</th>\n",
       "      <th>flight category 3</th>\n",
       "      <th>flight category 4</th>\n",
       "      <th>flight category 5</th>\n",
       "    </tr>\n",
       "  </thead>\n",
       "  <tbody>\n",
       "    <tr>\n",
       "      <th>POD</th>\n",
       "      <td>0.444844</td>\n",
       "      <td>0.473411</td>\n",
       "      <td>0.406210</td>\n",
       "      <td>0.426846</td>\n",
       "      <td>0.402473</td>\n",
       "      <td>0.428005</td>\n",
       "    </tr>\n",
       "    <tr>\n",
       "      <th>FAR</th>\n",
       "      <td>0.235052</td>\n",
       "      <td>0.272908</td>\n",
       "      <td>0.326180</td>\n",
       "      <td>0.326271</td>\n",
       "      <td>0.379237</td>\n",
       "      <td>0.234043</td>\n",
       "    </tr>\n",
       "    <tr>\n",
       "      <th>CSI</th>\n",
       "      <td>0.391350</td>\n",
       "      <td>0.401982</td>\n",
       "      <td>0.339459</td>\n",
       "      <td>0.353726</td>\n",
       "      <td>0.323043</td>\n",
       "      <td>0.378505</td>\n",
       "    </tr>\n",
       "  </tbody>\n",
       "</table>\n",
       "</div>"
      ],
      "text/plain": [
       "     flight category 0  flight category 1  flight category 2  \\\n",
       "POD           0.444844           0.473411           0.406210   \n",
       "FAR           0.235052           0.272908           0.326180   \n",
       "CSI           0.391350           0.401982           0.339459   \n",
       "\n",
       "     flight category 3  flight category 4  flight category 5  \n",
       "POD           0.426846           0.402473           0.428005  \n",
       "FAR           0.326271           0.379237           0.234043  \n",
       "CSI           0.353726           0.323043           0.378505  "
      ]
     },
     "execution_count": 131,
     "metadata": {},
     "output_type": "execute_result"
    }
   ],
   "source": [
    "%%time\n",
    "test_accuracy_metrics(classifier_rf, summer_data, 2) #MVFR"
   ]
  },
  {
   "cell_type": "code",
   "execution_count": 132,
   "id": "afd1fe46-b88d-4b7d-81e0-a8c331397821",
   "metadata": {},
   "outputs": [
    {
     "name": "stdout",
     "output_type": "stream",
     "text": [
      "CPU times: user 21.4 s, sys: 2.95 s, total: 24.3 s\n",
      "Wall time: 6.04 s\n"
     ]
    },
    {
     "data": {
      "text/html": [
       "<div>\n",
       "<style scoped>\n",
       "    .dataframe tbody tr th:only-of-type {\n",
       "        vertical-align: middle;\n",
       "    }\n",
       "\n",
       "    .dataframe tbody tr th {\n",
       "        vertical-align: top;\n",
       "    }\n",
       "\n",
       "    .dataframe thead th {\n",
       "        text-align: right;\n",
       "    }\n",
       "</style>\n",
       "<table border=\"1\" class=\"dataframe\">\n",
       "  <thead>\n",
       "    <tr style=\"text-align: right;\">\n",
       "      <th></th>\n",
       "      <th>flight category 0</th>\n",
       "      <th>flight category 1</th>\n",
       "      <th>flight category 2</th>\n",
       "      <th>flight category 3</th>\n",
       "      <th>flight category 4</th>\n",
       "      <th>flight category 5</th>\n",
       "    </tr>\n",
       "  </thead>\n",
       "  <tbody>\n",
       "    <tr>\n",
       "      <th>POD</th>\n",
       "      <td>0.560032</td>\n",
       "      <td>0.539732</td>\n",
       "      <td>0.589604</td>\n",
       "      <td>0.582888</td>\n",
       "      <td>0.593727</td>\n",
       "      <td>0.541387</td>\n",
       "    </tr>\n",
       "    <tr>\n",
       "      <th>FAR</th>\n",
       "      <td>0.257479</td>\n",
       "      <td>0.132743</td>\n",
       "      <td>0.276190</td>\n",
       "      <td>0.235471</td>\n",
       "      <td>0.162551</td>\n",
       "      <td>0.234984</td>\n",
       "    </tr>\n",
       "    <tr>\n",
       "      <th>CSI</th>\n",
       "      <td>0.468961</td>\n",
       "      <td>0.498547</td>\n",
       "      <td>0.481317</td>\n",
       "      <td>0.494171</td>\n",
       "      <td>0.532374</td>\n",
       "      <td>0.464194</td>\n",
       "    </tr>\n",
       "  </tbody>\n",
       "</table>\n",
       "</div>"
      ],
      "text/plain": [
       "     flight category 0  flight category 1  flight category 2  \\\n",
       "POD           0.560032           0.539732           0.589604   \n",
       "FAR           0.257479           0.132743           0.276190   \n",
       "CSI           0.468961           0.498547           0.481317   \n",
       "\n",
       "     flight category 3  flight category 4  flight category 5  \n",
       "POD           0.582888           0.593727           0.541387  \n",
       "FAR           0.235471           0.162551           0.234984  \n",
       "CSI           0.494171           0.532374           0.464194  "
      ]
     },
     "execution_count": 132,
     "metadata": {},
     "output_type": "execute_result"
    }
   ],
   "source": [
    "%%time\n",
    "test_accuracy_metrics(classifier_rf, fall_data, 2) #MVFR"
   ]
  },
  {
   "cell_type": "code",
   "execution_count": 133,
   "id": "13a461b8-73ee-42f8-9dcb-996a8dfb526a",
   "metadata": {},
   "outputs": [
    {
     "name": "stdout",
     "output_type": "stream",
     "text": [
      "CPU times: user 11.8 s, sys: 3.02 s, total: 14.9 s\n",
      "Wall time: 4.94 s\n"
     ]
    },
    {
     "data": {
      "text/html": [
       "<div>\n",
       "<style scoped>\n",
       "    .dataframe tbody tr th:only-of-type {\n",
       "        vertical-align: middle;\n",
       "    }\n",
       "\n",
       "    .dataframe tbody tr th {\n",
       "        vertical-align: top;\n",
       "    }\n",
       "\n",
       "    .dataframe thead th {\n",
       "        text-align: right;\n",
       "    }\n",
       "</style>\n",
       "<table border=\"1\" class=\"dataframe\">\n",
       "  <thead>\n",
       "    <tr style=\"text-align: right;\">\n",
       "      <th></th>\n",
       "      <th>flight category 0</th>\n",
       "      <th>flight category 1</th>\n",
       "      <th>flight category 2</th>\n",
       "      <th>flight category 3</th>\n",
       "      <th>flight category 4</th>\n",
       "      <th>flight category 5</th>\n",
       "    </tr>\n",
       "  </thead>\n",
       "  <tbody>\n",
       "    <tr>\n",
       "      <th>POD</th>\n",
       "      <td>0.647059</td>\n",
       "      <td>0.572727</td>\n",
       "      <td>0.509859</td>\n",
       "      <td>0.560510</td>\n",
       "      <td>0.550725</td>\n",
       "      <td>0.708633</td>\n",
       "    </tr>\n",
       "    <tr>\n",
       "      <th>FAR</th>\n",
       "      <td>0.277992</td>\n",
       "      <td>0.297398</td>\n",
       "      <td>0.334559</td>\n",
       "      <td>0.224670</td>\n",
       "      <td>0.312217</td>\n",
       "      <td>0.374603</td>\n",
       "    </tr>\n",
       "    <tr>\n",
       "      <th>CSI</th>\n",
       "      <td>0.518006</td>\n",
       "      <td>0.460976</td>\n",
       "      <td>0.405830</td>\n",
       "      <td>0.482192</td>\n",
       "      <td>0.440580</td>\n",
       "      <td>0.497475</td>\n",
       "    </tr>\n",
       "  </tbody>\n",
       "</table>\n",
       "</div>"
      ],
      "text/plain": [
       "     flight category 0  flight category 1  flight category 2  \\\n",
       "POD           0.647059           0.572727           0.509859   \n",
       "FAR           0.277992           0.297398           0.334559   \n",
       "CSI           0.518006           0.460976           0.405830   \n",
       "\n",
       "     flight category 3  flight category 4  flight category 5  \n",
       "POD           0.560510           0.550725           0.708633  \n",
       "FAR           0.224670           0.312217           0.374603  \n",
       "CSI           0.482192           0.440580           0.497475  "
      ]
     },
     "execution_count": 133,
     "metadata": {},
     "output_type": "execute_result"
    }
   ],
   "source": [
    "%%time\n",
    "test_accuracy_metrics(classifier_rf, winter_data, 1) #IFR"
   ]
  },
  {
   "cell_type": "code",
   "execution_count": 134,
   "id": "3e91b13c-59b4-44ea-b63f-c0258a6adc7b",
   "metadata": {},
   "outputs": [
    {
     "name": "stdout",
     "output_type": "stream",
     "text": [
      "CPU times: user 10.9 s, sys: 3 s, total: 13.9 s\n",
      "Wall time: 5.27 s\n"
     ]
    },
    {
     "data": {
      "text/html": [
       "<div>\n",
       "<style scoped>\n",
       "    .dataframe tbody tr th:only-of-type {\n",
       "        vertical-align: middle;\n",
       "    }\n",
       "\n",
       "    .dataframe tbody tr th {\n",
       "        vertical-align: top;\n",
       "    }\n",
       "\n",
       "    .dataframe thead th {\n",
       "        text-align: right;\n",
       "    }\n",
       "</style>\n",
       "<table border=\"1\" class=\"dataframe\">\n",
       "  <thead>\n",
       "    <tr style=\"text-align: right;\">\n",
       "      <th></th>\n",
       "      <th>flight category 0</th>\n",
       "      <th>flight category 1</th>\n",
       "      <th>flight category 2</th>\n",
       "      <th>flight category 3</th>\n",
       "      <th>flight category 4</th>\n",
       "      <th>flight category 5</th>\n",
       "    </tr>\n",
       "  </thead>\n",
       "  <tbody>\n",
       "    <tr>\n",
       "      <th>POD</th>\n",
       "      <td>0.724942</td>\n",
       "      <td>0.643836</td>\n",
       "      <td>0.723982</td>\n",
       "      <td>0.798611</td>\n",
       "      <td>0.741419</td>\n",
       "      <td>0.812500</td>\n",
       "    </tr>\n",
       "    <tr>\n",
       "      <th>FAR</th>\n",
       "      <td>0.299550</td>\n",
       "      <td>0.271318</td>\n",
       "      <td>0.284116</td>\n",
       "      <td>0.188235</td>\n",
       "      <td>0.230404</td>\n",
       "      <td>0.330472</td>\n",
       "    </tr>\n",
       "    <tr>\n",
       "      <th>CSI</th>\n",
       "      <td>0.553381</td>\n",
       "      <td>0.519337</td>\n",
       "      <td>0.562390</td>\n",
       "      <td>0.673828</td>\n",
       "      <td>0.606742</td>\n",
       "      <td>0.579926</td>\n",
       "    </tr>\n",
       "  </tbody>\n",
       "</table>\n",
       "</div>"
      ],
      "text/plain": [
       "     flight category 0  flight category 1  flight category 2  \\\n",
       "POD           0.724942           0.643836           0.723982   \n",
       "FAR           0.299550           0.271318           0.284116   \n",
       "CSI           0.553381           0.519337           0.562390   \n",
       "\n",
       "     flight category 3  flight category 4  flight category 5  \n",
       "POD           0.798611           0.741419           0.812500  \n",
       "FAR           0.188235           0.230404           0.330472  \n",
       "CSI           0.673828           0.606742           0.579926  "
      ]
     },
     "execution_count": 134,
     "metadata": {},
     "output_type": "execute_result"
    }
   ],
   "source": [
    "%%time\n",
    "test_accuracy_metrics(classifier_rf, spring_data, 1) #IFR"
   ]
  },
  {
   "cell_type": "code",
   "execution_count": 135,
   "id": "d1692107-98ea-40ba-ad1c-2495752bf076",
   "metadata": {},
   "outputs": [
    {
     "name": "stdout",
     "output_type": "stream",
     "text": [
      "CPU times: user 13.1 s, sys: 3.07 s, total: 16.2 s\n",
      "Wall time: 5.31 s\n"
     ]
    },
    {
     "data": {
      "text/html": [
       "<div>\n",
       "<style scoped>\n",
       "    .dataframe tbody tr th:only-of-type {\n",
       "        vertical-align: middle;\n",
       "    }\n",
       "\n",
       "    .dataframe tbody tr th {\n",
       "        vertical-align: top;\n",
       "    }\n",
       "\n",
       "    .dataframe thead th {\n",
       "        text-align: right;\n",
       "    }\n",
       "</style>\n",
       "<table border=\"1\" class=\"dataframe\">\n",
       "  <thead>\n",
       "    <tr style=\"text-align: right;\">\n",
       "      <th></th>\n",
       "      <th>flight category 0</th>\n",
       "      <th>flight category 1</th>\n",
       "      <th>flight category 2</th>\n",
       "      <th>flight category 3</th>\n",
       "      <th>flight category 4</th>\n",
       "      <th>flight category 5</th>\n",
       "    </tr>\n",
       "  </thead>\n",
       "  <tbody>\n",
       "    <tr>\n",
       "      <th>POD</th>\n",
       "      <td>0.727273</td>\n",
       "      <td>0.676596</td>\n",
       "      <td>0.614141</td>\n",
       "      <td>0.471311</td>\n",
       "      <td>0.627083</td>\n",
       "      <td>0.632860</td>\n",
       "    </tr>\n",
       "    <tr>\n",
       "      <th>FAR</th>\n",
       "      <td>0.442202</td>\n",
       "      <td>0.396584</td>\n",
       "      <td>0.353191</td>\n",
       "      <td>0.408740</td>\n",
       "      <td>0.359574</td>\n",
       "      <td>0.427523</td>\n",
       "    </tr>\n",
       "    <tr>\n",
       "      <th>CSI</th>\n",
       "      <td>0.461305</td>\n",
       "      <td>0.468336</td>\n",
       "      <td>0.459909</td>\n",
       "      <td>0.355487</td>\n",
       "      <td>0.463790</td>\n",
       "      <td>0.429752</td>\n",
       "    </tr>\n",
       "  </tbody>\n",
       "</table>\n",
       "</div>"
      ],
      "text/plain": [
       "     flight category 0  flight category 1  flight category 2  \\\n",
       "POD           0.727273           0.676596           0.614141   \n",
       "FAR           0.442202           0.396584           0.353191   \n",
       "CSI           0.461305           0.468336           0.459909   \n",
       "\n",
       "     flight category 3  flight category 4  flight category 5  \n",
       "POD           0.471311           0.627083           0.632860  \n",
       "FAR           0.408740           0.359574           0.427523  \n",
       "CSI           0.355487           0.463790           0.429752  "
      ]
     },
     "execution_count": 135,
     "metadata": {},
     "output_type": "execute_result"
    }
   ],
   "source": [
    "%%time\n",
    "test_accuracy_metrics(classifier_rf, summer_data, 1) #IFR"
   ]
  },
  {
   "cell_type": "code",
   "execution_count": 136,
   "id": "d2f8354f-8563-4b05-a16d-9b1bcaee0ab4",
   "metadata": {},
   "outputs": [
    {
     "name": "stdout",
     "output_type": "stream",
     "text": [
      "CPU times: user 21.1 s, sys: 3.01 s, total: 24.1 s\n",
      "Wall time: 5.94 s\n"
     ]
    },
    {
     "data": {
      "text/html": [
       "<div>\n",
       "<style scoped>\n",
       "    .dataframe tbody tr th:only-of-type {\n",
       "        vertical-align: middle;\n",
       "    }\n",
       "\n",
       "    .dataframe tbody tr th {\n",
       "        vertical-align: top;\n",
       "    }\n",
       "\n",
       "    .dataframe thead th {\n",
       "        text-align: right;\n",
       "    }\n",
       "</style>\n",
       "<table border=\"1\" class=\"dataframe\">\n",
       "  <thead>\n",
       "    <tr style=\"text-align: right;\">\n",
       "      <th></th>\n",
       "      <th>flight category 0</th>\n",
       "      <th>flight category 1</th>\n",
       "      <th>flight category 2</th>\n",
       "      <th>flight category 3</th>\n",
       "      <th>flight category 4</th>\n",
       "      <th>flight category 5</th>\n",
       "    </tr>\n",
       "  </thead>\n",
       "  <tbody>\n",
       "    <tr>\n",
       "      <th>POD</th>\n",
       "      <td>0.63249</td>\n",
       "      <td>0.687671</td>\n",
       "      <td>0.540501</td>\n",
       "      <td>0.534743</td>\n",
       "      <td>0.656897</td>\n",
       "      <td>0.625874</td>\n",
       "    </tr>\n",
       "    <tr>\n",
       "      <th>FAR</th>\n",
       "      <td>0.35724</td>\n",
       "      <td>0.324361</td>\n",
       "      <td>0.319109</td>\n",
       "      <td>0.410982</td>\n",
       "      <td>0.422727</td>\n",
       "      <td>0.448382</td>\n",
       "    </tr>\n",
       "    <tr>\n",
       "      <th>CSI</th>\n",
       "      <td>0.46798</td>\n",
       "      <td>0.516993</td>\n",
       "      <td>0.431257</td>\n",
       "      <td>0.389439</td>\n",
       "      <td>0.443539</td>\n",
       "      <td>0.414832</td>\n",
       "    </tr>\n",
       "  </tbody>\n",
       "</table>\n",
       "</div>"
      ],
      "text/plain": [
       "     flight category 0  flight category 1  flight category 2  \\\n",
       "POD            0.63249           0.687671           0.540501   \n",
       "FAR            0.35724           0.324361           0.319109   \n",
       "CSI            0.46798           0.516993           0.431257   \n",
       "\n",
       "     flight category 3  flight category 4  flight category 5  \n",
       "POD           0.534743           0.656897           0.625874  \n",
       "FAR           0.410982           0.422727           0.448382  \n",
       "CSI           0.389439           0.443539           0.414832  "
      ]
     },
     "execution_count": 136,
     "metadata": {},
     "output_type": "execute_result"
    }
   ],
   "source": [
    "%%time\n",
    "test_accuracy_metrics(classifier_rf, fall_data, 1) #IFR"
   ]
  },
  {
   "cell_type": "code",
   "execution_count": 137,
   "id": "0fbe6008-57d3-4d35-853c-fddb96e7232b",
   "metadata": {},
   "outputs": [
    {
     "name": "stdout",
     "output_type": "stream",
     "text": [
      "CPU times: user 12.2 s, sys: 3.04 s, total: 15.2 s\n",
      "Wall time: 5.1 s\n"
     ]
    },
    {
     "data": {
      "text/html": [
       "<div>\n",
       "<style scoped>\n",
       "    .dataframe tbody tr th:only-of-type {\n",
       "        vertical-align: middle;\n",
       "    }\n",
       "\n",
       "    .dataframe tbody tr th {\n",
       "        vertical-align: top;\n",
       "    }\n",
       "\n",
       "    .dataframe thead th {\n",
       "        text-align: right;\n",
       "    }\n",
       "</style>\n",
       "<table border=\"1\" class=\"dataframe\">\n",
       "  <thead>\n",
       "    <tr style=\"text-align: right;\">\n",
       "      <th></th>\n",
       "      <th>flight category 0</th>\n",
       "      <th>flight category 1</th>\n",
       "      <th>flight category 2</th>\n",
       "      <th>flight category 3</th>\n",
       "      <th>flight category 4</th>\n",
       "      <th>flight category 5</th>\n",
       "    </tr>\n",
       "  </thead>\n",
       "  <tbody>\n",
       "    <tr>\n",
       "      <th>POD</th>\n",
       "      <td>0.818182</td>\n",
       "      <td>0.657534</td>\n",
       "      <td>0.594595</td>\n",
       "      <td>0.786667</td>\n",
       "      <td>0.565574</td>\n",
       "      <td>0.524752</td>\n",
       "    </tr>\n",
       "    <tr>\n",
       "      <th>FAR</th>\n",
       "      <td>0.318182</td>\n",
       "      <td>0.142857</td>\n",
       "      <td>0.352941</td>\n",
       "      <td>0.233766</td>\n",
       "      <td>0.378378</td>\n",
       "      <td>0.231884</td>\n",
       "    </tr>\n",
       "    <tr>\n",
       "      <th>CSI</th>\n",
       "      <td>0.592105</td>\n",
       "      <td>0.592593</td>\n",
       "      <td>0.448980</td>\n",
       "      <td>0.634409</td>\n",
       "      <td>0.420732</td>\n",
       "      <td>0.452991</td>\n",
       "    </tr>\n",
       "  </tbody>\n",
       "</table>\n",
       "</div>"
      ],
      "text/plain": [
       "     flight category 0  flight category 1  flight category 2  \\\n",
       "POD           0.818182           0.657534           0.594595   \n",
       "FAR           0.318182           0.142857           0.352941   \n",
       "CSI           0.592105           0.592593           0.448980   \n",
       "\n",
       "     flight category 3  flight category 4  flight category 5  \n",
       "POD           0.786667           0.565574           0.524752  \n",
       "FAR           0.233766           0.378378           0.231884  \n",
       "CSI           0.634409           0.420732           0.452991  "
      ]
     },
     "execution_count": 137,
     "metadata": {},
     "output_type": "execute_result"
    }
   ],
   "source": [
    "%%time\n",
    "test_accuracy_metrics(classifier_rf, winter_data, 0) #LIFR"
   ]
  },
  {
   "cell_type": "code",
   "execution_count": 138,
   "id": "68d4fa32-b8f1-45bf-9b43-c0913c7b670b",
   "metadata": {},
   "outputs": [
    {
     "name": "stdout",
     "output_type": "stream",
     "text": [
      "CPU times: user 10.7 s, sys: 3.04 s, total: 13.7 s\n",
      "Wall time: 4.94 s\n"
     ]
    },
    {
     "data": {
      "text/html": [
       "<div>\n",
       "<style scoped>\n",
       "    .dataframe tbody tr th:only-of-type {\n",
       "        vertical-align: middle;\n",
       "    }\n",
       "\n",
       "    .dataframe tbody tr th {\n",
       "        vertical-align: top;\n",
       "    }\n",
       "\n",
       "    .dataframe thead th {\n",
       "        text-align: right;\n",
       "    }\n",
       "</style>\n",
       "<table border=\"1\" class=\"dataframe\">\n",
       "  <thead>\n",
       "    <tr style=\"text-align: right;\">\n",
       "      <th></th>\n",
       "      <th>flight category 0</th>\n",
       "      <th>flight category 1</th>\n",
       "      <th>flight category 2</th>\n",
       "      <th>flight category 3</th>\n",
       "      <th>flight category 4</th>\n",
       "      <th>flight category 5</th>\n",
       "    </tr>\n",
       "  </thead>\n",
       "  <tbody>\n",
       "    <tr>\n",
       "      <th>POD</th>\n",
       "      <td>0.609272</td>\n",
       "      <td>0.717105</td>\n",
       "      <td>0.608392</td>\n",
       "      <td>0.807143</td>\n",
       "      <td>0.824818</td>\n",
       "      <td>0.760274</td>\n",
       "    </tr>\n",
       "    <tr>\n",
       "      <th>FAR</th>\n",
       "      <td>0.269841</td>\n",
       "      <td>0.296774</td>\n",
       "      <td>0.093750</td>\n",
       "      <td>0.181159</td>\n",
       "      <td>0.162963</td>\n",
       "      <td>0.075000</td>\n",
       "    </tr>\n",
       "    <tr>\n",
       "      <th>CSI</th>\n",
       "      <td>0.497297</td>\n",
       "      <td>0.550505</td>\n",
       "      <td>0.572368</td>\n",
       "      <td>0.684848</td>\n",
       "      <td>0.710692</td>\n",
       "      <td>0.716129</td>\n",
       "    </tr>\n",
       "  </tbody>\n",
       "</table>\n",
       "</div>"
      ],
      "text/plain": [
       "     flight category 0  flight category 1  flight category 2  \\\n",
       "POD           0.609272           0.717105           0.608392   \n",
       "FAR           0.269841           0.296774           0.093750   \n",
       "CSI           0.497297           0.550505           0.572368   \n",
       "\n",
       "     flight category 3  flight category 4  flight category 5  \n",
       "POD           0.807143           0.824818           0.760274  \n",
       "FAR           0.181159           0.162963           0.075000  \n",
       "CSI           0.684848           0.710692           0.716129  "
      ]
     },
     "execution_count": 138,
     "metadata": {},
     "output_type": "execute_result"
    }
   ],
   "source": [
    "%%time\n",
    "test_accuracy_metrics(classifier_rf, spring_data, 0) #LIFR"
   ]
  },
  {
   "cell_type": "code",
   "execution_count": 139,
   "id": "d91b462c-a8f7-43f0-9fb3-bc78f1f4391c",
   "metadata": {},
   "outputs": [
    {
     "name": "stdout",
     "output_type": "stream",
     "text": [
      "CPU times: user 13.3 s, sys: 3.07 s, total: 16.4 s\n",
      "Wall time: 5.47 s\n"
     ]
    },
    {
     "data": {
      "text/html": [
       "<div>\n",
       "<style scoped>\n",
       "    .dataframe tbody tr th:only-of-type {\n",
       "        vertical-align: middle;\n",
       "    }\n",
       "\n",
       "    .dataframe tbody tr th {\n",
       "        vertical-align: top;\n",
       "    }\n",
       "\n",
       "    .dataframe thead th {\n",
       "        text-align: right;\n",
       "    }\n",
       "</style>\n",
       "<table border=\"1\" class=\"dataframe\">\n",
       "  <thead>\n",
       "    <tr style=\"text-align: right;\">\n",
       "      <th></th>\n",
       "      <th>flight category 0</th>\n",
       "      <th>flight category 1</th>\n",
       "      <th>flight category 2</th>\n",
       "      <th>flight category 3</th>\n",
       "      <th>flight category 4</th>\n",
       "      <th>flight category 5</th>\n",
       "    </tr>\n",
       "  </thead>\n",
       "  <tbody>\n",
       "    <tr>\n",
       "      <th>POD</th>\n",
       "      <td>0.406699</td>\n",
       "      <td>0.508876</td>\n",
       "      <td>0.689655</td>\n",
       "      <td>0.502857</td>\n",
       "      <td>0.552632</td>\n",
       "      <td>0.605556</td>\n",
       "    </tr>\n",
       "    <tr>\n",
       "      <th>FAR</th>\n",
       "      <td>0.440789</td>\n",
       "      <td>0.508571</td>\n",
       "      <td>0.465241</td>\n",
       "      <td>0.476190</td>\n",
       "      <td>0.160000</td>\n",
       "      <td>0.327160</td>\n",
       "    </tr>\n",
       "    <tr>\n",
       "      <th>CSI</th>\n",
       "      <td>0.307971</td>\n",
       "      <td>0.333333</td>\n",
       "      <td>0.431034</td>\n",
       "      <td>0.345098</td>\n",
       "      <td>0.500000</td>\n",
       "      <td>0.467811</td>\n",
       "    </tr>\n",
       "  </tbody>\n",
       "</table>\n",
       "</div>"
      ],
      "text/plain": [
       "     flight category 0  flight category 1  flight category 2  \\\n",
       "POD           0.406699           0.508876           0.689655   \n",
       "FAR           0.440789           0.508571           0.465241   \n",
       "CSI           0.307971           0.333333           0.431034   \n",
       "\n",
       "     flight category 3  flight category 4  flight category 5  \n",
       "POD           0.502857           0.552632           0.605556  \n",
       "FAR           0.476190           0.160000           0.327160  \n",
       "CSI           0.345098           0.500000           0.467811  "
      ]
     },
     "execution_count": 139,
     "metadata": {},
     "output_type": "execute_result"
    }
   ],
   "source": [
    "%%time\n",
    "test_accuracy_metrics(classifier_rf, summer_data, 0) #LIFR"
   ]
  },
  {
   "cell_type": "code",
   "execution_count": 140,
   "id": "5d3da5f7-7df1-450c-9b0d-606d8d6cce42",
   "metadata": {},
   "outputs": [
    {
     "name": "stdout",
     "output_type": "stream",
     "text": [
      "CPU times: user 21.3 s, sys: 2.97 s, total: 24.3 s\n",
      "Wall time: 6.04 s\n"
     ]
    },
    {
     "data": {
      "text/html": [
       "<div>\n",
       "<style scoped>\n",
       "    .dataframe tbody tr th:only-of-type {\n",
       "        vertical-align: middle;\n",
       "    }\n",
       "\n",
       "    .dataframe tbody tr th {\n",
       "        vertical-align: top;\n",
       "    }\n",
       "\n",
       "    .dataframe thead th {\n",
       "        text-align: right;\n",
       "    }\n",
       "</style>\n",
       "<table border=\"1\" class=\"dataframe\">\n",
       "  <thead>\n",
       "    <tr style=\"text-align: right;\">\n",
       "      <th></th>\n",
       "      <th>flight category 0</th>\n",
       "      <th>flight category 1</th>\n",
       "      <th>flight category 2</th>\n",
       "      <th>flight category 3</th>\n",
       "      <th>flight category 4</th>\n",
       "      <th>flight category 5</th>\n",
       "    </tr>\n",
       "  </thead>\n",
       "  <tbody>\n",
       "    <tr>\n",
       "      <th>POD</th>\n",
       "      <td>0.648649</td>\n",
       "      <td>0.758278</td>\n",
       "      <td>0.726937</td>\n",
       "      <td>0.655172</td>\n",
       "      <td>0.446203</td>\n",
       "      <td>0.482866</td>\n",
       "    </tr>\n",
       "    <tr>\n",
       "      <th>FAR</th>\n",
       "      <td>0.307692</td>\n",
       "      <td>0.266026</td>\n",
       "      <td>0.318339</td>\n",
       "      <td>0.243028</td>\n",
       "      <td>0.284264</td>\n",
       "      <td>0.314159</td>\n",
       "    </tr>\n",
       "    <tr>\n",
       "      <th>CSI</th>\n",
       "      <td>0.503497</td>\n",
       "      <td>0.594805</td>\n",
       "      <td>0.542700</td>\n",
       "      <td>0.541311</td>\n",
       "      <td>0.379032</td>\n",
       "      <td>0.395408</td>\n",
       "    </tr>\n",
       "  </tbody>\n",
       "</table>\n",
       "</div>"
      ],
      "text/plain": [
       "     flight category 0  flight category 1  flight category 2  \\\n",
       "POD           0.648649           0.758278           0.726937   \n",
       "FAR           0.307692           0.266026           0.318339   \n",
       "CSI           0.503497           0.594805           0.542700   \n",
       "\n",
       "     flight category 3  flight category 4  flight category 5  \n",
       "POD           0.655172           0.446203           0.482866  \n",
       "FAR           0.243028           0.284264           0.314159  \n",
       "CSI           0.541311           0.379032           0.395408  "
      ]
     },
     "execution_count": 140,
     "metadata": {},
     "output_type": "execute_result"
    }
   ],
   "source": [
    "%%time\n",
    "test_accuracy_metrics(classifier_rf, fall_data, 0) #LIFR"
   ]
  },
  {
   "cell_type": "code",
   "execution_count": 144,
   "id": "18e79b62-61a0-4aef-bc7f-cfb027325431",
   "metadata": {},
   "outputs": [
    {
     "name": "stdout",
     "output_type": "stream",
     "text": [
      "CPU times: user 45.5 s, sys: 12.6 s, total: 58 s\n",
      "Wall time: 18.5 s\n"
     ]
    },
    {
     "data": {
      "text/plain": [
       "(55, 72)"
      ]
     },
     "execution_count": 144,
     "metadata": {},
     "output_type": "execute_result"
    }
   ],
   "source": [
    "%%time\n",
    "overall_comparison(classifier_rf, winter_data, gipra_goal)"
   ]
  },
  {
   "cell_type": "code",
   "execution_count": 145,
   "id": "d9cfa4a9-8614-4f8f-8e84-016ae86f096c",
   "metadata": {},
   "outputs": [
    {
     "name": "stdout",
     "output_type": "stream",
     "text": [
      "CPU times: user 43.3 s, sys: 12.3 s, total: 55.5 s\n",
      "Wall time: 19.1 s\n"
     ]
    },
    {
     "data": {
      "text/plain": [
       "(60, 72)"
      ]
     },
     "execution_count": 145,
     "metadata": {},
     "output_type": "execute_result"
    }
   ],
   "source": [
    "%%time\n",
    "overall_comparison(classifier_rf, spring_data, gipra_goal)"
   ]
  },
  {
   "cell_type": "code",
   "execution_count": 146,
   "id": "e59c1786-e752-4e1a-b149-d64df99b9f50",
   "metadata": {},
   "outputs": [
    {
     "name": "stdout",
     "output_type": "stream",
     "text": [
      "CPU times: user 49.5 s, sys: 12.6 s, total: 1min 2s\n",
      "Wall time: 19 s\n"
     ]
    },
    {
     "data": {
      "text/plain": [
       "(32, 72)"
      ]
     },
     "execution_count": 146,
     "metadata": {},
     "output_type": "execute_result"
    }
   ],
   "source": [
    "%%time\n",
    "overall_comparison(classifier_rf, summer_data, gipra_goal)"
   ]
  },
  {
   "cell_type": "code",
   "execution_count": 147,
   "id": "96c29700-3762-438d-83a1-f0f141068bb8",
   "metadata": {},
   "outputs": [
    {
     "name": "stdout",
     "output_type": "stream",
     "text": [
      "CPU times: user 1min 27s, sys: 11.8 s, total: 1min 39s\n",
      "Wall time: 25.7 s\n"
     ]
    },
    {
     "data": {
      "text/plain": [
       "(47, 72)"
      ]
     },
     "execution_count": 147,
     "metadata": {},
     "output_type": "execute_result"
    }
   ],
   "source": [
    "%%time\n",
    "overall_comparison(classifier_rf, fall_data, gipra_goal)"
   ]
  },
  {
   "cell_type": "code",
   "execution_count": 150,
   "id": "98041a81-e9e9-4aa8-b39e-04518bd377a8",
   "metadata": {},
   "outputs": [
    {
     "name": "stdout",
     "output_type": "stream",
     "text": [
      "CPU times: user 45.6 s, sys: 12.6 s, total: 58.2 s\n",
      "Wall time: 18.3 s\n"
     ]
    },
    {
     "data": {
      "text/plain": [
       "(27, 72)"
      ]
     },
     "execution_count": 150,
     "metadata": {},
     "output_type": "execute_result"
    }
   ],
   "source": [
    "%%time\n",
    "overall_comparison(classifier_rf, winter_data, station_goal)"
   ]
  },
  {
   "cell_type": "code",
   "execution_count": 151,
   "id": "e75e98f9-d96c-4311-b7d4-517ab478f4a0",
   "metadata": {},
   "outputs": [
    {
     "name": "stdout",
     "output_type": "stream",
     "text": [
      "CPU times: user 40.7 s, sys: 12.1 s, total: 52.8 s\n",
      "Wall time: 17.7 s\n"
     ]
    },
    {
     "data": {
      "text/plain": [
       "(35, 72)"
      ]
     },
     "execution_count": 151,
     "metadata": {},
     "output_type": "execute_result"
    }
   ],
   "source": [
    "%%time\n",
    "overall_comparison(classifier_rf, spring_data, station_goal)"
   ]
  },
  {
   "cell_type": "code",
   "execution_count": 152,
   "id": "71b24223-ecfa-48e4-a31d-85a047f280ce",
   "metadata": {},
   "outputs": [
    {
     "name": "stdout",
     "output_type": "stream",
     "text": [
      "CPU times: user 50.8 s, sys: 12.4 s, total: 1min 3s\n",
      "Wall time: 20.1 s\n"
     ]
    },
    {
     "data": {
      "text/plain": [
       "(21, 72)"
      ]
     },
     "execution_count": 152,
     "metadata": {},
     "output_type": "execute_result"
    }
   ],
   "source": [
    "%%time\n",
    "overall_comparison(classifier_rf, summer_data, station_goal)"
   ]
  },
  {
   "cell_type": "code",
   "execution_count": 153,
   "id": "310139cc-f6f9-408e-b2fa-6b6f824dd831",
   "metadata": {},
   "outputs": [
    {
     "name": "stdout",
     "output_type": "stream",
     "text": [
      "CPU times: user 1min 26s, sys: 11.7 s, total: 1min 37s\n",
      "Wall time: 24.5 s\n"
     ]
    },
    {
     "data": {
      "text/plain": [
       "(24, 72)"
      ]
     },
     "execution_count": 153,
     "metadata": {},
     "output_type": "execute_result"
    }
   ],
   "source": [
    "%%time\n",
    "overall_comparison(classifier_rf, fall_data, station_goal)"
   ]
  },
  {
   "cell_type": "code",
   "execution_count": 141,
   "id": "0326811a-31dd-4e90-905a-83dc63f4c081",
   "metadata": {},
   "outputs": [
    {
     "name": "stdout",
     "output_type": "stream",
     "text": [
      "CPU times: user 1.86 s, sys: 508 ms, total: 2.37 s\n",
      "Wall time: 743 ms\n"
     ]
    }
   ],
   "source": [
    "%%time\n",
    "(X, y_list, val_list) = data_split(winter_data)\n",
    "X_train, X_test, y_train, y_test = train_test_split(X, y_list['flight category 0'], train_size=0.7, random_state=42)\n",
    "classifier_rf.fit(X_train, y_train)\n",
    "\n",
    "imports = classifier_rf.feature_importances_"
   ]
  },
  {
   "cell_type": "code",
   "execution_count": 34,
   "id": "23f59bcf-c25b-4950-ad21-0d861d008994",
   "metadata": {},
   "outputs": [
    {
     "data": {
      "text/plain": [
       "array([[0.05, 0.62, 0.17, 0.16],\n",
       "       [0.01, 0.96, 0.03, 0.  ],\n",
       "       [0.04, 0.53, 0.22, 0.21],\n",
       "       [0.02, 0.76, 0.14, 0.08],\n",
       "       [0.02, 0.51, 0.45, 0.02],\n",
       "       [0.03, 0.54, 0.28, 0.15],\n",
       "       [0.03, 0.61, 0.18, 0.18],\n",
       "       [0.05, 0.68, 0.16, 0.11],\n",
       "       [0.01, 0.79, 0.1 , 0.1 ],\n",
       "       [0.05, 0.67, 0.07, 0.21],\n",
       "       [0.32, 0.52, 0.08, 0.08],\n",
       "       [0.34, 0.58, 0.06, 0.02],\n",
       "       [0.11, 0.74, 0.1 , 0.05],\n",
       "       [0.41, 0.51, 0.05, 0.03],\n",
       "       [0.02, 0.76, 0.13, 0.09],\n",
       "       [0.03, 0.67, 0.28, 0.02],\n",
       "       [0.02, 0.78, 0.11, 0.09],\n",
       "       [0.31, 0.59, 0.05, 0.05]])"
      ]
     },
     "execution_count": 34,
     "metadata": {},
     "output_type": "execute_result"
    }
   ],
   "source": [
    "classifier_rf.predict_proba(X_test)[classifier_rf.predict_proba(X_test)[:,1]>0.5]"
   ]
  },
  {
   "cell_type": "code",
   "execution_count": null,
   "id": "39d0c80a-872a-4944-9564-e9409d116dce",
   "metadata": {
    "tags": []
   },
   "outputs": [],
   "source": [
    "importances = [(feature, sig) for feature, sig in zip(classifier_rf.feature_names_in_, imports)]\n",
    "importances.sort(key = lambda x: x[1])\n",
    "importances"
   ]
  },
  {
   "cell_type": "code",
   "execution_count": null,
   "id": "fc8ffd62-e8d5-4a56-8872-bc1690633bfe",
   "metadata": {},
   "outputs": [],
   "source": [
    "%%time\n",
    "result = permutation_importance(\n",
    "    classifier_rf, X_test, y_test, random_state=42, n_jobs=-1\n",
    ")\n",
    "#takes about 10 min"
   ]
  },
  {
   "cell_type": "code",
   "execution_count": null,
   "id": "693fc76e-b673-46e4-8101-158741b6e8b5",
   "metadata": {
    "tags": []
   },
   "outputs": [],
   "source": [
    "importances = [(feature, sig) for feature, sig in zip(classifier_rf.feature_names_in_, result['importances_mean'])]\n",
    "#importances.sort(key = lambda x: x[0].split('_')[1])\n",
    "importances.sort(key = lambda x: -x[1])\n",
    "importances = pd.DataFrame(importances)"
   ]
  },
  {
   "cell_type": "code",
   "execution_count": null,
   "id": "0e06cabf-1513-4184-b2ca-a0af3f0ea372",
   "metadata": {},
   "outputs": [],
   "source": [
    "np.max(importances[1]), np.min(importances[1]), np.mean(importances[1]), np.std(importances[1])"
   ]
  },
  {
   "cell_type": "code",
   "execution_count": null,
   "id": "5cb4dcd4-2d95-473b-9729-acbd645f8654",
   "metadata": {},
   "outputs": [],
   "source": [
    "plt.plot(importances[1])"
   ]
  },
  {
   "cell_type": "code",
   "execution_count": null,
   "id": "0eb2d058-07c2-4201-b42d-1c6e875b2293",
   "metadata": {},
   "outputs": [],
   "source": [
    "with pd.option_context('display.max_rows', 999):\n",
    "    print(importances)"
   ]
  },
  {
   "cell_type": "code",
   "execution_count": null,
   "id": "91b07e7d-5ffe-45c2-b6e3-9e55227a1313",
   "metadata": {},
   "outputs": [],
   "source": [
    "data"
   ]
  },
  {
   "cell_type": "code",
   "execution_count": null,
   "id": "ff1c4712-838e-4246-8ecf-1f6a00feb8f6",
   "metadata": {
    "tags": []
   },
   "outputs": [],
   "source": [
    "condition_list = []\n",
    "asos5 = read_metar('Data/BOS_5min.csv')\n",
    "for _, metar_at_time in tqdm(asos5.iterrows()):\n",
    "    vis = metar_at_time['vsby']\n",
    "    cld_list = np.asarray(metar_at_time[['skyc1', 'skyc2', 'skyc3', 'skyc4']])\n",
    "    hgt_list = np.asarray(metar_at_time[['skyl1', 'skyl2', 'skyl3', 'skyl4']])\n",
    "    ovc_hgt = 100000\n",
    "    bkn_hgt = 100000\n",
    "\n",
    "    if 3 in list(cld_list):\n",
    "        ovc_hgt = hgt_list[cld_list == 3]\n",
    "        if len(ovc_hgt) > 1:\n",
    "            ovc_hgt = np.min(ovc_hgt)\n",
    "    if 2 in list(cld_list):\n",
    "        bkn_hgt = hgt_list[cld_list == 2]\n",
    "        if len(bkn_hgt) > 1:\n",
    "            bkn_hgt = np.min(bkn_hgt)\n",
    "    ceiling = np.min([ovc_hgt, bkn_hgt])\n",
    "\n",
    "    if ceiling < 500 or vis < 1:\n",
    "        conditions = 0\n",
    "    elif ceiling < 1000 or vis < 3:\n",
    "        conditions = 1\n",
    "    elif ceiling < 3000 or vis < 5:\n",
    "        conditions = 2\n",
    "    else:\n",
    "        conditions = 3\n",
    "    condition_list.append(conditions)\n",
    "asos5['conditions'] = condition_list"
   ]
  },
  {
   "cell_type": "code",
   "execution_count": null,
   "id": "df2546db-c4ab-4f02-a3ab-0bc4eb7210f5",
   "metadata": {},
   "outputs": [],
   "source": [
    "asos5.to_csv('Data/BOS_5min.csv')"
   ]
  },
  {
   "cell_type": "code",
   "execution_count": null,
   "id": "69b3c6e4-d7b7-44c3-8d8d-6762bb354e1b",
   "metadata": {},
   "outputs": [],
   "source": []
  }
 ],
 "metadata": {
  "kernelspec": {
   "display_name": "Python 3 (ipykernel)",
   "language": "python",
   "name": "python3"
  },
  "language_info": {
   "codemirror_mode": {
    "name": "ipython",
    "version": 3
   },
   "file_extension": ".py",
   "mimetype": "text/x-python",
   "name": "python",
   "nbconvert_exporter": "python",
   "pygments_lexer": "ipython3",
   "version": "3.10.6"
  }
 },
 "nbformat": 4,
 "nbformat_minor": 5
}
