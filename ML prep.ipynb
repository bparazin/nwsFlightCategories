{
 "cells": [
  {
   "cell_type": "code",
   "execution_count": 1,
   "id": "47de7742-58fa-49b6-87ae-fafbaf269bdb",
   "metadata": {},
   "outputs": [],
   "source": [
    "import pandas as pd\n",
    "from metar import Metar\n",
    "import numpy as np\n",
    "from IOfuncs import *\n",
    "import datetime as dt\n",
    "import warnings\n",
    "from json import JSONDecodeError\n",
    "import matplotlib.pyplot as plt\n",
    "from sklearn.model_selection import train_test_split\n",
    "from sklearn.ensemble import RandomForestClassifier\n",
    "from sklearn.feature_selection import SelectFdr,SelectFpr,f_regression\n",
    "from sklearn.pipeline import Pipeline\n",
    "from sklearn.model_selection import RandomizedSearchCV\n",
    "from sklearn.inspection import permutation_importance\n",
    "from sklearn.neural_network import MLPClassifier\n",
    "warnings.filterwarnings('ignore')"
   ]
  },
  {
   "cell_type": "code",
   "execution_count": 2,
   "id": "900af016-02aa-4d3a-bfd0-c84e534b68a8",
   "metadata": {},
   "outputs": [],
   "source": [
    "def make_ml_data_row(taf_time, station, lat, lon, metar_path, glamp_path, hrrr_path, delay_hours = 2):\n",
    "    if isinstance(metar_path, str):\n",
    "        metar_path = read_metar(metar_path)\n",
    "    metarDF = pd.DataFrame()\n",
    "    glampDF = pd.DataFrame()\n",
    "    hrrrDF = pd.DataFrame()    \n",
    "    \n",
    "    for time in range(-6, -delay_hours, 1):\n",
    "        metar_at_time = get_metar_at_time(taf_time + dt.timedelta(hours = time), metar_path).T\n",
    "        metarDF[f'metar {time}'] = metar_at_time\n",
    "    \n",
    "    work_time = dt.timedelta(hours=-delay_hours)\n",
    "    glamp_data = get_glamp_at_time(taf_time + work_time, glamp_path, station, download=True)\n",
    "    hrrr_data = get_hrrr_at_time(taf_time + work_time, hrrr_path, lat, lon, download=True)\n",
    "    glamp_synoptic_offset = (taf_time.hour - delay_hours) % 6 - 1\n",
    "    for time in range(-delay_hours, 7, 1):\n",
    "        glampDF[f'glamp {time}'] = glamp_data.iloc[time + delay_hours + glamp_synoptic_offset]\n",
    "        hrrrDF[f'hrrr {time}'] = hrrr_data.iloc[time + delay_hours]    \n",
    "        \n",
    "    \n",
    "    df = pd.concat([metarDF, glampDF, hrrrDF])\n",
    "    df.drop(['ftime', 'ftime_utc', 'model', 'runtime', 'runtime_utc', 'station', 'metar', 'peak_wind_time', 'valid', 'Unnamed: 0'], inplace=True)\n",
    "\n",
    "    v = df.unstack().to_frame().sort_index(level=1).T\n",
    "    v.columns = v.columns.map('_'.join)\n",
    "\n",
    "    final = v.dropna(axis = 1)\n",
    "    \n",
    "    return final"
   ]
  },
  {
   "cell_type": "code",
   "execution_count": 3,
   "id": "4bb22f87-70cf-43d3-bd2a-89ac83e535c4",
   "metadata": {},
   "outputs": [],
   "source": [
    "taf_time = dt.datetime(year = 2021, month = 8, day = 21, hour = 18, minute = 0)"
   ]
  },
  {
   "cell_type": "code",
   "execution_count": 4,
   "id": "2de18cd0-3b6e-40ac-8543-622a0c1c0d0c",
   "metadata": {},
   "outputs": [],
   "source": [
    "def make_ml_training_data_row(taf_time, station, lat, lon, metar_path, glamp_path, hrrr_path, asos5_path, delay_hours = 2, tplus_hours = 6):\n",
    "    if isinstance(metar_path, str):\n",
    "        metar_path = full_metar_list = read_metar(metar_path)\n",
    "    if isinstance(asos5_path, str):\n",
    "        asos5_path = read_metar(asos5_path)\n",
    "    \n",
    "    df = make_ml_data_row(taf_time, station, lat, lon, metar_path, glamp_path, hrrr_path, delay_hours = delay_hours)\n",
    "    \n",
    "    for i in range(tplus_hours):\n",
    "        df[f'flight category {i}'] = get_conditions_from_asos(taf_time + dt.timedelta(hours = i), metar_path)\n",
    "        time_series = pd.date_range(taf_time + dt.timedelta(hours = i), taf_time + dt.timedelta(hours = i+1), freq = '5T')\n",
    "        verification_series = np.asarray(asos5_path.truncate(before = taf_time + dt.timedelta(hours = i), \n",
    "                                                             after = taf_time + dt.timedelta(hours = i+1, minutes = -1))['conditions'])\n",
    "        df[f'verification list {i}'] = [None]\n",
    "        df[f'verification list {i}'][0] = verification_series\n",
    "        \n",
    "\n",
    "    return df"
   ]
  },
  {
   "cell_type": "code",
   "execution_count": 5,
   "id": "5671b297-de44-48ab-8021-c82e658fff0b",
   "metadata": {},
   "outputs": [],
   "source": [
    "metar = read_metar('Data/BOS.csv')\n",
    "asos5 = read_metar('Data/BOS_5min.csv')"
   ]
  },
  {
   "cell_type": "code",
   "execution_count": 6,
   "id": "70d50f25-2915-47d0-8b95-9939441fc0e6",
   "metadata": {},
   "outputs": [
    {
     "name": "stdout",
     "output_type": "stream",
     "text": [
      "CPU times: user 162 ms, sys: 135 µs, total: 163 ms\n",
      "Wall time: 217 ms\n"
     ]
    },
    {
     "data": {
      "text/html": [
       "<div>\n",
       "<style scoped>\n",
       "    .dataframe tbody tr th:only-of-type {\n",
       "        vertical-align: middle;\n",
       "    }\n",
       "\n",
       "    .dataframe tbody tr th {\n",
       "        vertical-align: top;\n",
       "    }\n",
       "\n",
       "    .dataframe thead th {\n",
       "        text-align: right;\n",
       "    }\n",
       "</style>\n",
       "<table border=\"1\" class=\"dataframe\">\n",
       "  <thead>\n",
       "    <tr style=\"text-align: right;\">\n",
       "      <th></th>\n",
       "      <th>hrrr -1_DPT_1000mb</th>\n",
       "      <th>hrrr -2_DPT_1000mb</th>\n",
       "      <th>hrrr 0_DPT_1000mb</th>\n",
       "      <th>hrrr 1_DPT_1000mb</th>\n",
       "      <th>hrrr 2_DPT_1000mb</th>\n",
       "      <th>hrrr 3_DPT_1000mb</th>\n",
       "      <th>hrrr 4_DPT_1000mb</th>\n",
       "      <th>hrrr 5_DPT_1000mb</th>\n",
       "      <th>hrrr 6_DPT_1000mb</th>\n",
       "      <th>hrrr -1_DPT_2m_above_ground</th>\n",
       "      <th>...</th>\n",
       "      <th>flight category 1</th>\n",
       "      <th>verification list 1</th>\n",
       "      <th>flight category 2</th>\n",
       "      <th>verification list 2</th>\n",
       "      <th>flight category 3</th>\n",
       "      <th>verification list 3</th>\n",
       "      <th>flight category 4</th>\n",
       "      <th>verification list 4</th>\n",
       "      <th>flight category 5</th>\n",
       "      <th>verification list 5</th>\n",
       "    </tr>\n",
       "  </thead>\n",
       "  <tbody>\n",
       "    <tr>\n",
       "      <th>0</th>\n",
       "      <td>292.8</td>\n",
       "      <td>293.5</td>\n",
       "      <td>292.2</td>\n",
       "      <td>292.0</td>\n",
       "      <td>291.8</td>\n",
       "      <td>294.0</td>\n",
       "      <td>293.5</td>\n",
       "      <td>292.2</td>\n",
       "      <td>293.2</td>\n",
       "      <td>293.2</td>\n",
       "      <td>...</td>\n",
       "      <td>3</td>\n",
       "      <td>[3, 3, 3, 3, 3, 3, 3, 3, 3, 3, 3, 3]</td>\n",
       "      <td>3</td>\n",
       "      <td>[3, 3, 3, 3, 3, 3, 3, 3, 3, 3]</td>\n",
       "      <td>3</td>\n",
       "      <td>[3, 3, 3, 3, 3, 3, 3, 3, 3, 3, 3, 3]</td>\n",
       "      <td>3</td>\n",
       "      <td>[3, 3, 3, 3, 3, 3, 3, 3, 3, 3]</td>\n",
       "      <td>3</td>\n",
       "      <td>[3, 3, 3, 3, 3, 3, 3, 3, 3, 3, 3]</td>\n",
       "    </tr>\n",
       "  </tbody>\n",
       "</table>\n",
       "<p>1 rows × 523 columns</p>\n",
       "</div>"
      ],
      "text/plain": [
       "  hrrr -1_DPT_1000mb hrrr -2_DPT_1000mb hrrr 0_DPT_1000mb hrrr 1_DPT_1000mb  \\\n",
       "0              292.8              293.5             292.2             292.0   \n",
       "\n",
       "  hrrr 2_DPT_1000mb hrrr 3_DPT_1000mb hrrr 4_DPT_1000mb hrrr 5_DPT_1000mb  \\\n",
       "0             291.8             294.0             293.5             292.2   \n",
       "\n",
       "  hrrr 6_DPT_1000mb hrrr -1_DPT_2m_above_ground  ... flight category 1  \\\n",
       "0             293.2                       293.2  ...                 3   \n",
       "\n",
       "                    verification list 1 flight category 2  \\\n",
       "0  [3, 3, 3, 3, 3, 3, 3, 3, 3, 3, 3, 3]                 3   \n",
       "\n",
       "              verification list 2 flight category 3  \\\n",
       "0  [3, 3, 3, 3, 3, 3, 3, 3, 3, 3]                 3   \n",
       "\n",
       "                    verification list 3 flight category 4  \\\n",
       "0  [3, 3, 3, 3, 3, 3, 3, 3, 3, 3, 3, 3]                 3   \n",
       "\n",
       "              verification list 4 flight category 5  \\\n",
       "0  [3, 3, 3, 3, 3, 3, 3, 3, 3, 3]                 3   \n",
       "\n",
       "                 verification list 5  \n",
       "0  [3, 3, 3, 3, 3, 3, 3, 3, 3, 3, 3]  \n",
       "\n",
       "[1 rows x 523 columns]"
      ]
     },
     "execution_count": 6,
     "metadata": {},
     "output_type": "execute_result"
    }
   ],
   "source": [
    "%%time\n",
    "make_ml_training_data_row(taf_time, 'kbos', 42.3656, -71.0096, metar, 'Data/GLAMP data/', 'Data/hrrr/', asos5)"
   ]
  },
  {
   "cell_type": "code",
   "execution_count": 7,
   "id": "bc301d69-8ab5-40e9-b08c-6db2c8e74602",
   "metadata": {},
   "outputs": [],
   "source": [
    "def make_ml_training_data_set(timelist, station, lat, lon, metar_path, glamp_path, hrrr_path, asos5_path, delay_hours = 2, frequency = '5H'):\n",
    "    training_df = pd.DataFrame()\n",
    "    time_series = pd.Series()\n",
    "    for timepair in timelist:\n",
    "        start_time = timepair[0]\n",
    "        end_time = timepair[1]\n",
    "        time_series = pd.concat([time_series, pd.Series(pd.date_range(start_time, end_time, freq = frequency))])\n",
    "    if isinstance(metar_path, str):\n",
    "        metar_path = read_metar(metar_path)\n",
    "    if isinstance(asos5_path, str):\n",
    "        asos5_path = read_metar(asos5_path)\n",
    "    for time in tqdm(time_series):\n",
    "        try:\n",
    "            training_row = make_ml_training_data_row(time, station, lat, lon, metar_path, glamp_path, hrrr_path, asos5_path, delay_hours = delay_hours)\n",
    "            training_df = training_df.append(training_row)\n",
    "        except (FileNotFoundError, JSONDecodeError):\n",
    "            continue\n",
    "\n",
    "    training_df = training_df.fillna(-99999)\n",
    "    return training_df"
   ]
  },
  {
   "cell_type": "code",
   "execution_count": 8,
   "id": "07d4d136-d999-44e2-bb76-21aaf6bb0574",
   "metadata": {},
   "outputs": [],
   "source": [
    "def prob_of_detection(predicted_results, actual_results, flight_cat):\n",
    "    result_locations = np.where(actual_results==flight_cat)[0]\n",
    "    num_predict = np.sum(predicted_results[result_locations]==flight_cat)\n",
    "    return num_predict / len(result_locations)\n",
    "\n",
    "def false_alarm_rate(predicted_results, actual_results, flight_cat):\n",
    "    num_predict = np.sum(predicted_results==flight_cat)\n",
    "    predict_locations = np.where(predicted_results==flight_cat)[0]\n",
    "    predict_subset = predicted_results[predict_locations]\n",
    "    actual_subset = actual_results[predict_locations]\n",
    "    \n",
    "    false_alarm_count = np.sum(predict_subset!=actual_subset)\n",
    "    \n",
    "    return false_alarm_count/num_predict\n",
    "\n",
    "def critical_success_index(predicted_results, actual_results, flight_cat):\n",
    "    num_predict = np.sum(predicted_results==flight_cat)\n",
    "    predict_locations = np.where(predicted_results==flight_cat)[0]\n",
    "    non_predict_locations = np.where(predicted_results!=flight_cat)[0]\n",
    "    predict_subset = predicted_results[predict_locations]\n",
    "    actual_subset = actual_results[predict_locations]\n",
    "    actual_subset_compliment = actual_results[non_predict_locations]\n",
    "    \n",
    "    hits = np.sum(predict_subset==actual_subset)\n",
    "    false_alarm_count = np.sum(predict_subset!=actual_subset)\n",
    "    misses = np.sum(actual_subset_compliment==flight_cat)\n",
    "    \n",
    "    return hits / (hits + false_alarm_count + misses)"
   ]
  },
  {
   "cell_type": "code",
   "execution_count": 9,
   "id": "ebb51f0b-0872-4fc0-a6d9-b0b8f409c56f",
   "metadata": {},
   "outputs": [],
   "source": [
    "def data_split(data):\n",
    "    y_keys = np.asarray([key for key in data if 'flight category' in key])\n",
    "    val_keys = np.asarray([key for key in data if 'verification list' in key])\n",
    "    X = data.drop(np.concatenate([y_keys, val_keys]), axis=1)\n",
    "    y_list = data[y_keys]\n",
    "    val_list = data[val_keys]\n",
    "    \n",
    "    return X, y_list, val_list\n"
   ]
  },
  {
   "cell_type": "code",
   "execution_count": 10,
   "id": "c5c97f75-0fbb-4eb1-a4f3-0519c6b73fe8",
   "metadata": {},
   "outputs": [],
   "source": [
    "taf_time = dt.datetime(year = 2021, month = 8, day = 21, hour = 18, minute = 0)\n",
    "asos5 = read_metar('Data/BOS_5min.csv')"
   ]
  },
  {
   "cell_type": "code",
   "execution_count": 11,
   "id": "6de7e0c8-1e4d-44e7-ad0f-f0989720a430",
   "metadata": {},
   "outputs": [],
   "source": [
    "def glamp_predict(taf_time, station, glamp_path, asos5_path, delay_hours = 2, t_plus_max = 6):\n",
    "    if isinstance(asos5_path, str):\n",
    "        asos5_path = read_metar(asos5_path)\n",
    "    work_time = dt.timedelta(hours=-delay_hours)\n",
    "    glamp_data = get_glamp_at_time(taf_time + work_time, glamp_path, station, download=True)\n",
    "    glamp_data['ftime'] = pd.to_datetime(glamp_data['ftime'])\n",
    "    df = pd.DataFrame()\n",
    "    verifications = []\n",
    "    for time in range(t_plus_max):\n",
    "        index = np.where(glamp_data['ftime']==(taf_time + dt.timedelta(hours=time)))[0][0]\n",
    "        cei, vis = glamp_data.iloc[index]['cig'], glamp_data.iloc[index]['vis']\n",
    "        if cei == 1 or cei == 2 or vis == 1 or vis == 2:\n",
    "            prediction = 0\n",
    "        elif cei == 3 or vis == 3 or vis == 4:\n",
    "            prediction = 1\n",
    "        elif cei == 4 or cei == 5 or vis == 5:\n",
    "            prediction = 2\n",
    "        else:\n",
    "            prediction = 3\n",
    "        df[f't plus {time} prediction'] = [prediction]\n",
    "        verification_series = np.asarray(asos5_path.truncate(before = taf_time + dt.timedelta(hours = time), \n",
    "                                                             after = taf_time + dt.timedelta(hours = time+1, minutes = -1))['conditions'])\n",
    "        df[f't plus {time} verification'] = [None]\n",
    "        df[f't plus {time} verification'][0] = verification_series\n",
    "    \n",
    "    return df"
   ]
  },
  {
   "cell_type": "code",
   "execution_count": 12,
   "id": "6c4a5145-2ea9-466f-90ec-3774668af456",
   "metadata": {},
   "outputs": [],
   "source": [
    "def glamp_time_series(timelist, station, glamp_path, asos5_path, delay_hours=2, t_plus_max=6, frequency = 'H'):\n",
    "    result = pd.DataFrame()\n",
    "    time_series = pd.Series()\n",
    "    for timepair in timelist:\n",
    "        start_time = timepair[0]\n",
    "        end_time = timepair[1]\n",
    "        time_series = pd.concat([time_series, pd.Series(pd.date_range(start_time, end_time, freq = frequency))])\n",
    "    for time in tqdm(time_series):\n",
    "        try:\n",
    "            result = result.append(glamp_predict(time, station, glamp_path, asos5_path, delay_hours = delay_hours, t_plus_max = t_plus_max))\n",
    "        except FileNotFoundError:\n",
    "            continue\n",
    "    return result"
   ]
  },
  {
   "cell_type": "code",
   "execution_count": 13,
   "id": "a40b6a06-c32d-4b69-9e08-ac56aa4fb5d1",
   "metadata": {
    "tags": []
   },
   "outputs": [
    {
     "name": "stderr",
     "output_type": "stream",
     "text": [
      " 95%|███████████████████████████████████████████████████████████████████████▎   | 17759/18663 [5:26:32<16:37,  1.10s/it]\n"
     ]
    },
    {
     "ename": "ConnectionError",
     "evalue": "('Connection aborted.', RemoteDisconnected('Remote end closed connection without response'))",
     "output_type": "error",
     "traceback": [
      "\u001b[0;31m---------------------------------------------------------------------------\u001b[0m",
      "\u001b[0;31mRemoteDisconnected\u001b[0m                        Traceback (most recent call last)",
      "File \u001b[0;32m~/anaconda3/envs/nws/lib/python3.10/site-packages/urllib3/connectionpool.py:703\u001b[0m, in \u001b[0;36mHTTPConnectionPool.urlopen\u001b[0;34m(self, method, url, body, headers, retries, redirect, assert_same_host, timeout, pool_timeout, release_conn, chunked, body_pos, **response_kw)\u001b[0m\n\u001b[1;32m    702\u001b[0m \u001b[38;5;66;03m# Make the request on the httplib connection object.\u001b[39;00m\n\u001b[0;32m--> 703\u001b[0m httplib_response \u001b[38;5;241m=\u001b[39m \u001b[38;5;28;43mself\u001b[39;49m\u001b[38;5;241;43m.\u001b[39;49m\u001b[43m_make_request\u001b[49m\u001b[43m(\u001b[49m\n\u001b[1;32m    704\u001b[0m \u001b[43m    \u001b[49m\u001b[43mconn\u001b[49m\u001b[43m,\u001b[49m\n\u001b[1;32m    705\u001b[0m \u001b[43m    \u001b[49m\u001b[43mmethod\u001b[49m\u001b[43m,\u001b[49m\n\u001b[1;32m    706\u001b[0m \u001b[43m    \u001b[49m\u001b[43murl\u001b[49m\u001b[43m,\u001b[49m\n\u001b[1;32m    707\u001b[0m \u001b[43m    \u001b[49m\u001b[43mtimeout\u001b[49m\u001b[38;5;241;43m=\u001b[39;49m\u001b[43mtimeout_obj\u001b[49m\u001b[43m,\u001b[49m\n\u001b[1;32m    708\u001b[0m \u001b[43m    \u001b[49m\u001b[43mbody\u001b[49m\u001b[38;5;241;43m=\u001b[39;49m\u001b[43mbody\u001b[49m\u001b[43m,\u001b[49m\n\u001b[1;32m    709\u001b[0m \u001b[43m    \u001b[49m\u001b[43mheaders\u001b[49m\u001b[38;5;241;43m=\u001b[39;49m\u001b[43mheaders\u001b[49m\u001b[43m,\u001b[49m\n\u001b[1;32m    710\u001b[0m \u001b[43m    \u001b[49m\u001b[43mchunked\u001b[49m\u001b[38;5;241;43m=\u001b[39;49m\u001b[43mchunked\u001b[49m\u001b[43m,\u001b[49m\n\u001b[1;32m    711\u001b[0m \u001b[43m\u001b[49m\u001b[43m)\u001b[49m\n\u001b[1;32m    713\u001b[0m \u001b[38;5;66;03m# If we're going to release the connection in ``finally:``, then\u001b[39;00m\n\u001b[1;32m    714\u001b[0m \u001b[38;5;66;03m# the response doesn't need to know about the connection. Otherwise\u001b[39;00m\n\u001b[1;32m    715\u001b[0m \u001b[38;5;66;03m# it will also try to release it and we'll have a double-release\u001b[39;00m\n\u001b[1;32m    716\u001b[0m \u001b[38;5;66;03m# mess.\u001b[39;00m\n",
      "File \u001b[0;32m~/anaconda3/envs/nws/lib/python3.10/site-packages/urllib3/connectionpool.py:449\u001b[0m, in \u001b[0;36mHTTPConnectionPool._make_request\u001b[0;34m(self, conn, method, url, timeout, chunked, **httplib_request_kw)\u001b[0m\n\u001b[1;32m    445\u001b[0m         \u001b[38;5;28;01mexcept\u001b[39;00m \u001b[38;5;167;01mBaseException\u001b[39;00m \u001b[38;5;28;01mas\u001b[39;00m e:\n\u001b[1;32m    446\u001b[0m             \u001b[38;5;66;03m# Remove the TypeError from the exception chain in\u001b[39;00m\n\u001b[1;32m    447\u001b[0m             \u001b[38;5;66;03m# Python 3 (including for exceptions like SystemExit).\u001b[39;00m\n\u001b[1;32m    448\u001b[0m             \u001b[38;5;66;03m# Otherwise it looks like a bug in the code.\u001b[39;00m\n\u001b[0;32m--> 449\u001b[0m             \u001b[43msix\u001b[49m\u001b[38;5;241;43m.\u001b[39;49m\u001b[43mraise_from\u001b[49m\u001b[43m(\u001b[49m\u001b[43me\u001b[49m\u001b[43m,\u001b[49m\u001b[43m \u001b[49m\u001b[38;5;28;43;01mNone\u001b[39;49;00m\u001b[43m)\u001b[49m\n\u001b[1;32m    450\u001b[0m \u001b[38;5;28;01mexcept\u001b[39;00m (SocketTimeout, BaseSSLError, SocketError) \u001b[38;5;28;01mas\u001b[39;00m e:\n",
      "File \u001b[0;32m<string>:3\u001b[0m, in \u001b[0;36mraise_from\u001b[0;34m(value, from_value)\u001b[0m\n",
      "File \u001b[0;32m~/anaconda3/envs/nws/lib/python3.10/site-packages/urllib3/connectionpool.py:444\u001b[0m, in \u001b[0;36mHTTPConnectionPool._make_request\u001b[0;34m(self, conn, method, url, timeout, chunked, **httplib_request_kw)\u001b[0m\n\u001b[1;32m    443\u001b[0m \u001b[38;5;28;01mtry\u001b[39;00m:\n\u001b[0;32m--> 444\u001b[0m     httplib_response \u001b[38;5;241m=\u001b[39m \u001b[43mconn\u001b[49m\u001b[38;5;241;43m.\u001b[39;49m\u001b[43mgetresponse\u001b[49m\u001b[43m(\u001b[49m\u001b[43m)\u001b[49m\n\u001b[1;32m    445\u001b[0m \u001b[38;5;28;01mexcept\u001b[39;00m \u001b[38;5;167;01mBaseException\u001b[39;00m \u001b[38;5;28;01mas\u001b[39;00m e:\n\u001b[1;32m    446\u001b[0m     \u001b[38;5;66;03m# Remove the TypeError from the exception chain in\u001b[39;00m\n\u001b[1;32m    447\u001b[0m     \u001b[38;5;66;03m# Python 3 (including for exceptions like SystemExit).\u001b[39;00m\n\u001b[1;32m    448\u001b[0m     \u001b[38;5;66;03m# Otherwise it looks like a bug in the code.\u001b[39;00m\n",
      "File \u001b[0;32m~/anaconda3/envs/nws/lib/python3.10/http/client.py:1374\u001b[0m, in \u001b[0;36mHTTPConnection.getresponse\u001b[0;34m(self)\u001b[0m\n\u001b[1;32m   1373\u001b[0m \u001b[38;5;28;01mtry\u001b[39;00m:\n\u001b[0;32m-> 1374\u001b[0m     \u001b[43mresponse\u001b[49m\u001b[38;5;241;43m.\u001b[39;49m\u001b[43mbegin\u001b[49m\u001b[43m(\u001b[49m\u001b[43m)\u001b[49m\n\u001b[1;32m   1375\u001b[0m \u001b[38;5;28;01mexcept\u001b[39;00m \u001b[38;5;167;01mConnectionError\u001b[39;00m:\n",
      "File \u001b[0;32m~/anaconda3/envs/nws/lib/python3.10/http/client.py:318\u001b[0m, in \u001b[0;36mHTTPResponse.begin\u001b[0;34m(self)\u001b[0m\n\u001b[1;32m    317\u001b[0m \u001b[38;5;28;01mwhile\u001b[39;00m \u001b[38;5;28;01mTrue\u001b[39;00m:\n\u001b[0;32m--> 318\u001b[0m     version, status, reason \u001b[38;5;241m=\u001b[39m \u001b[38;5;28;43mself\u001b[39;49m\u001b[38;5;241;43m.\u001b[39;49m\u001b[43m_read_status\u001b[49m\u001b[43m(\u001b[49m\u001b[43m)\u001b[49m\n\u001b[1;32m    319\u001b[0m     \u001b[38;5;28;01mif\u001b[39;00m status \u001b[38;5;241m!=\u001b[39m CONTINUE:\n",
      "File \u001b[0;32m~/anaconda3/envs/nws/lib/python3.10/http/client.py:287\u001b[0m, in \u001b[0;36mHTTPResponse._read_status\u001b[0;34m(self)\u001b[0m\n\u001b[1;32m    284\u001b[0m \u001b[38;5;28;01mif\u001b[39;00m \u001b[38;5;129;01mnot\u001b[39;00m line:\n\u001b[1;32m    285\u001b[0m     \u001b[38;5;66;03m# Presumably, the server closed the connection before\u001b[39;00m\n\u001b[1;32m    286\u001b[0m     \u001b[38;5;66;03m# sending a valid response.\u001b[39;00m\n\u001b[0;32m--> 287\u001b[0m     \u001b[38;5;28;01mraise\u001b[39;00m RemoteDisconnected(\u001b[38;5;124m\"\u001b[39m\u001b[38;5;124mRemote end closed connection without\u001b[39m\u001b[38;5;124m\"\u001b[39m\n\u001b[1;32m    288\u001b[0m                              \u001b[38;5;124m\"\u001b[39m\u001b[38;5;124m response\u001b[39m\u001b[38;5;124m\"\u001b[39m)\n\u001b[1;32m    289\u001b[0m \u001b[38;5;28;01mtry\u001b[39;00m:\n",
      "\u001b[0;31mRemoteDisconnected\u001b[0m: Remote end closed connection without response",
      "\nDuring handling of the above exception, another exception occurred:\n",
      "\u001b[0;31mProtocolError\u001b[0m                             Traceback (most recent call last)",
      "File \u001b[0;32m~/anaconda3/envs/nws/lib/python3.10/site-packages/requests/adapters.py:489\u001b[0m, in \u001b[0;36mHTTPAdapter.send\u001b[0;34m(self, request, stream, timeout, verify, cert, proxies)\u001b[0m\n\u001b[1;32m    488\u001b[0m \u001b[38;5;28;01mif\u001b[39;00m \u001b[38;5;129;01mnot\u001b[39;00m chunked:\n\u001b[0;32m--> 489\u001b[0m     resp \u001b[38;5;241m=\u001b[39m \u001b[43mconn\u001b[49m\u001b[38;5;241;43m.\u001b[39;49m\u001b[43murlopen\u001b[49m\u001b[43m(\u001b[49m\n\u001b[1;32m    490\u001b[0m \u001b[43m        \u001b[49m\u001b[43mmethod\u001b[49m\u001b[38;5;241;43m=\u001b[39;49m\u001b[43mrequest\u001b[49m\u001b[38;5;241;43m.\u001b[39;49m\u001b[43mmethod\u001b[49m\u001b[43m,\u001b[49m\n\u001b[1;32m    491\u001b[0m \u001b[43m        \u001b[49m\u001b[43murl\u001b[49m\u001b[38;5;241;43m=\u001b[39;49m\u001b[43murl\u001b[49m\u001b[43m,\u001b[49m\n\u001b[1;32m    492\u001b[0m \u001b[43m        \u001b[49m\u001b[43mbody\u001b[49m\u001b[38;5;241;43m=\u001b[39;49m\u001b[43mrequest\u001b[49m\u001b[38;5;241;43m.\u001b[39;49m\u001b[43mbody\u001b[49m\u001b[43m,\u001b[49m\n\u001b[1;32m    493\u001b[0m \u001b[43m        \u001b[49m\u001b[43mheaders\u001b[49m\u001b[38;5;241;43m=\u001b[39;49m\u001b[43mrequest\u001b[49m\u001b[38;5;241;43m.\u001b[39;49m\u001b[43mheaders\u001b[49m\u001b[43m,\u001b[49m\n\u001b[1;32m    494\u001b[0m \u001b[43m        \u001b[49m\u001b[43mredirect\u001b[49m\u001b[38;5;241;43m=\u001b[39;49m\u001b[38;5;28;43;01mFalse\u001b[39;49;00m\u001b[43m,\u001b[49m\n\u001b[1;32m    495\u001b[0m \u001b[43m        \u001b[49m\u001b[43massert_same_host\u001b[49m\u001b[38;5;241;43m=\u001b[39;49m\u001b[38;5;28;43;01mFalse\u001b[39;49;00m\u001b[43m,\u001b[49m\n\u001b[1;32m    496\u001b[0m \u001b[43m        \u001b[49m\u001b[43mpreload_content\u001b[49m\u001b[38;5;241;43m=\u001b[39;49m\u001b[38;5;28;43;01mFalse\u001b[39;49;00m\u001b[43m,\u001b[49m\n\u001b[1;32m    497\u001b[0m \u001b[43m        \u001b[49m\u001b[43mdecode_content\u001b[49m\u001b[38;5;241;43m=\u001b[39;49m\u001b[38;5;28;43;01mFalse\u001b[39;49;00m\u001b[43m,\u001b[49m\n\u001b[1;32m    498\u001b[0m \u001b[43m        \u001b[49m\u001b[43mretries\u001b[49m\u001b[38;5;241;43m=\u001b[39;49m\u001b[38;5;28;43mself\u001b[39;49m\u001b[38;5;241;43m.\u001b[39;49m\u001b[43mmax_retries\u001b[49m\u001b[43m,\u001b[49m\n\u001b[1;32m    499\u001b[0m \u001b[43m        \u001b[49m\u001b[43mtimeout\u001b[49m\u001b[38;5;241;43m=\u001b[39;49m\u001b[43mtimeout\u001b[49m\u001b[43m,\u001b[49m\n\u001b[1;32m    500\u001b[0m \u001b[43m    \u001b[49m\u001b[43m)\u001b[49m\n\u001b[1;32m    502\u001b[0m \u001b[38;5;66;03m# Send the request.\u001b[39;00m\n\u001b[1;32m    503\u001b[0m \u001b[38;5;28;01melse\u001b[39;00m:\n",
      "File \u001b[0;32m~/anaconda3/envs/nws/lib/python3.10/site-packages/urllib3/connectionpool.py:787\u001b[0m, in \u001b[0;36mHTTPConnectionPool.urlopen\u001b[0;34m(self, method, url, body, headers, retries, redirect, assert_same_host, timeout, pool_timeout, release_conn, chunked, body_pos, **response_kw)\u001b[0m\n\u001b[1;32m    785\u001b[0m     e \u001b[38;5;241m=\u001b[39m ProtocolError(\u001b[38;5;124m\"\u001b[39m\u001b[38;5;124mConnection aborted.\u001b[39m\u001b[38;5;124m\"\u001b[39m, e)\n\u001b[0;32m--> 787\u001b[0m retries \u001b[38;5;241m=\u001b[39m \u001b[43mretries\u001b[49m\u001b[38;5;241;43m.\u001b[39;49m\u001b[43mincrement\u001b[49m\u001b[43m(\u001b[49m\n\u001b[1;32m    788\u001b[0m \u001b[43m    \u001b[49m\u001b[43mmethod\u001b[49m\u001b[43m,\u001b[49m\u001b[43m \u001b[49m\u001b[43murl\u001b[49m\u001b[43m,\u001b[49m\u001b[43m \u001b[49m\u001b[43merror\u001b[49m\u001b[38;5;241;43m=\u001b[39;49m\u001b[43me\u001b[49m\u001b[43m,\u001b[49m\u001b[43m \u001b[49m\u001b[43m_pool\u001b[49m\u001b[38;5;241;43m=\u001b[39;49m\u001b[38;5;28;43mself\u001b[39;49m\u001b[43m,\u001b[49m\u001b[43m \u001b[49m\u001b[43m_stacktrace\u001b[49m\u001b[38;5;241;43m=\u001b[39;49m\u001b[43msys\u001b[49m\u001b[38;5;241;43m.\u001b[39;49m\u001b[43mexc_info\u001b[49m\u001b[43m(\u001b[49m\u001b[43m)\u001b[49m\u001b[43m[\u001b[49m\u001b[38;5;241;43m2\u001b[39;49m\u001b[43m]\u001b[49m\n\u001b[1;32m    789\u001b[0m \u001b[43m\u001b[49m\u001b[43m)\u001b[49m\n\u001b[1;32m    790\u001b[0m retries\u001b[38;5;241m.\u001b[39msleep()\n",
      "File \u001b[0;32m~/anaconda3/envs/nws/lib/python3.10/site-packages/urllib3/util/retry.py:550\u001b[0m, in \u001b[0;36mRetry.increment\u001b[0;34m(self, method, url, response, error, _pool, _stacktrace)\u001b[0m\n\u001b[1;32m    549\u001b[0m \u001b[38;5;28;01mif\u001b[39;00m read \u001b[38;5;129;01mis\u001b[39;00m \u001b[38;5;28;01mFalse\u001b[39;00m \u001b[38;5;129;01mor\u001b[39;00m \u001b[38;5;129;01mnot\u001b[39;00m \u001b[38;5;28mself\u001b[39m\u001b[38;5;241m.\u001b[39m_is_method_retryable(method):\n\u001b[0;32m--> 550\u001b[0m     \u001b[38;5;28;01mraise\u001b[39;00m \u001b[43msix\u001b[49m\u001b[38;5;241;43m.\u001b[39;49m\u001b[43mreraise\u001b[49m\u001b[43m(\u001b[49m\u001b[38;5;28;43mtype\u001b[39;49m\u001b[43m(\u001b[49m\u001b[43merror\u001b[49m\u001b[43m)\u001b[49m\u001b[43m,\u001b[49m\u001b[43m \u001b[49m\u001b[43merror\u001b[49m\u001b[43m,\u001b[49m\u001b[43m \u001b[49m\u001b[43m_stacktrace\u001b[49m\u001b[43m)\u001b[49m\n\u001b[1;32m    551\u001b[0m \u001b[38;5;28;01melif\u001b[39;00m read \u001b[38;5;129;01mis\u001b[39;00m \u001b[38;5;129;01mnot\u001b[39;00m \u001b[38;5;28;01mNone\u001b[39;00m:\n",
      "File \u001b[0;32m~/anaconda3/envs/nws/lib/python3.10/site-packages/urllib3/packages/six.py:769\u001b[0m, in \u001b[0;36mreraise\u001b[0;34m(tp, value, tb)\u001b[0m\n\u001b[1;32m    768\u001b[0m \u001b[38;5;28;01mif\u001b[39;00m value\u001b[38;5;241m.\u001b[39m__traceback__ \u001b[38;5;129;01mis\u001b[39;00m \u001b[38;5;129;01mnot\u001b[39;00m tb:\n\u001b[0;32m--> 769\u001b[0m     \u001b[38;5;28;01mraise\u001b[39;00m value\u001b[38;5;241m.\u001b[39mwith_traceback(tb)\n\u001b[1;32m    770\u001b[0m \u001b[38;5;28;01mraise\u001b[39;00m value\n",
      "File \u001b[0;32m~/anaconda3/envs/nws/lib/python3.10/site-packages/urllib3/connectionpool.py:703\u001b[0m, in \u001b[0;36mHTTPConnectionPool.urlopen\u001b[0;34m(self, method, url, body, headers, retries, redirect, assert_same_host, timeout, pool_timeout, release_conn, chunked, body_pos, **response_kw)\u001b[0m\n\u001b[1;32m    702\u001b[0m \u001b[38;5;66;03m# Make the request on the httplib connection object.\u001b[39;00m\n\u001b[0;32m--> 703\u001b[0m httplib_response \u001b[38;5;241m=\u001b[39m \u001b[38;5;28;43mself\u001b[39;49m\u001b[38;5;241;43m.\u001b[39;49m\u001b[43m_make_request\u001b[49m\u001b[43m(\u001b[49m\n\u001b[1;32m    704\u001b[0m \u001b[43m    \u001b[49m\u001b[43mconn\u001b[49m\u001b[43m,\u001b[49m\n\u001b[1;32m    705\u001b[0m \u001b[43m    \u001b[49m\u001b[43mmethod\u001b[49m\u001b[43m,\u001b[49m\n\u001b[1;32m    706\u001b[0m \u001b[43m    \u001b[49m\u001b[43murl\u001b[49m\u001b[43m,\u001b[49m\n\u001b[1;32m    707\u001b[0m \u001b[43m    \u001b[49m\u001b[43mtimeout\u001b[49m\u001b[38;5;241;43m=\u001b[39;49m\u001b[43mtimeout_obj\u001b[49m\u001b[43m,\u001b[49m\n\u001b[1;32m    708\u001b[0m \u001b[43m    \u001b[49m\u001b[43mbody\u001b[49m\u001b[38;5;241;43m=\u001b[39;49m\u001b[43mbody\u001b[49m\u001b[43m,\u001b[49m\n\u001b[1;32m    709\u001b[0m \u001b[43m    \u001b[49m\u001b[43mheaders\u001b[49m\u001b[38;5;241;43m=\u001b[39;49m\u001b[43mheaders\u001b[49m\u001b[43m,\u001b[49m\n\u001b[1;32m    710\u001b[0m \u001b[43m    \u001b[49m\u001b[43mchunked\u001b[49m\u001b[38;5;241;43m=\u001b[39;49m\u001b[43mchunked\u001b[49m\u001b[43m,\u001b[49m\n\u001b[1;32m    711\u001b[0m \u001b[43m\u001b[49m\u001b[43m)\u001b[49m\n\u001b[1;32m    713\u001b[0m \u001b[38;5;66;03m# If we're going to release the connection in ``finally:``, then\u001b[39;00m\n\u001b[1;32m    714\u001b[0m \u001b[38;5;66;03m# the response doesn't need to know about the connection. Otherwise\u001b[39;00m\n\u001b[1;32m    715\u001b[0m \u001b[38;5;66;03m# it will also try to release it and we'll have a double-release\u001b[39;00m\n\u001b[1;32m    716\u001b[0m \u001b[38;5;66;03m# mess.\u001b[39;00m\n",
      "File \u001b[0;32m~/anaconda3/envs/nws/lib/python3.10/site-packages/urllib3/connectionpool.py:449\u001b[0m, in \u001b[0;36mHTTPConnectionPool._make_request\u001b[0;34m(self, conn, method, url, timeout, chunked, **httplib_request_kw)\u001b[0m\n\u001b[1;32m    445\u001b[0m         \u001b[38;5;28;01mexcept\u001b[39;00m \u001b[38;5;167;01mBaseException\u001b[39;00m \u001b[38;5;28;01mas\u001b[39;00m e:\n\u001b[1;32m    446\u001b[0m             \u001b[38;5;66;03m# Remove the TypeError from the exception chain in\u001b[39;00m\n\u001b[1;32m    447\u001b[0m             \u001b[38;5;66;03m# Python 3 (including for exceptions like SystemExit).\u001b[39;00m\n\u001b[1;32m    448\u001b[0m             \u001b[38;5;66;03m# Otherwise it looks like a bug in the code.\u001b[39;00m\n\u001b[0;32m--> 449\u001b[0m             \u001b[43msix\u001b[49m\u001b[38;5;241;43m.\u001b[39;49m\u001b[43mraise_from\u001b[49m\u001b[43m(\u001b[49m\u001b[43me\u001b[49m\u001b[43m,\u001b[49m\u001b[43m \u001b[49m\u001b[38;5;28;43;01mNone\u001b[39;49;00m\u001b[43m)\u001b[49m\n\u001b[1;32m    450\u001b[0m \u001b[38;5;28;01mexcept\u001b[39;00m (SocketTimeout, BaseSSLError, SocketError) \u001b[38;5;28;01mas\u001b[39;00m e:\n",
      "File \u001b[0;32m<string>:3\u001b[0m, in \u001b[0;36mraise_from\u001b[0;34m(value, from_value)\u001b[0m\n",
      "File \u001b[0;32m~/anaconda3/envs/nws/lib/python3.10/site-packages/urllib3/connectionpool.py:444\u001b[0m, in \u001b[0;36mHTTPConnectionPool._make_request\u001b[0;34m(self, conn, method, url, timeout, chunked, **httplib_request_kw)\u001b[0m\n\u001b[1;32m    443\u001b[0m \u001b[38;5;28;01mtry\u001b[39;00m:\n\u001b[0;32m--> 444\u001b[0m     httplib_response \u001b[38;5;241m=\u001b[39m \u001b[43mconn\u001b[49m\u001b[38;5;241;43m.\u001b[39;49m\u001b[43mgetresponse\u001b[49m\u001b[43m(\u001b[49m\u001b[43m)\u001b[49m\n\u001b[1;32m    445\u001b[0m \u001b[38;5;28;01mexcept\u001b[39;00m \u001b[38;5;167;01mBaseException\u001b[39;00m \u001b[38;5;28;01mas\u001b[39;00m e:\n\u001b[1;32m    446\u001b[0m     \u001b[38;5;66;03m# Remove the TypeError from the exception chain in\u001b[39;00m\n\u001b[1;32m    447\u001b[0m     \u001b[38;5;66;03m# Python 3 (including for exceptions like SystemExit).\u001b[39;00m\n\u001b[1;32m    448\u001b[0m     \u001b[38;5;66;03m# Otherwise it looks like a bug in the code.\u001b[39;00m\n",
      "File \u001b[0;32m~/anaconda3/envs/nws/lib/python3.10/http/client.py:1374\u001b[0m, in \u001b[0;36mHTTPConnection.getresponse\u001b[0;34m(self)\u001b[0m\n\u001b[1;32m   1373\u001b[0m \u001b[38;5;28;01mtry\u001b[39;00m:\n\u001b[0;32m-> 1374\u001b[0m     \u001b[43mresponse\u001b[49m\u001b[38;5;241;43m.\u001b[39;49m\u001b[43mbegin\u001b[49m\u001b[43m(\u001b[49m\u001b[43m)\u001b[49m\n\u001b[1;32m   1375\u001b[0m \u001b[38;5;28;01mexcept\u001b[39;00m \u001b[38;5;167;01mConnectionError\u001b[39;00m:\n",
      "File \u001b[0;32m~/anaconda3/envs/nws/lib/python3.10/http/client.py:318\u001b[0m, in \u001b[0;36mHTTPResponse.begin\u001b[0;34m(self)\u001b[0m\n\u001b[1;32m    317\u001b[0m \u001b[38;5;28;01mwhile\u001b[39;00m \u001b[38;5;28;01mTrue\u001b[39;00m:\n\u001b[0;32m--> 318\u001b[0m     version, status, reason \u001b[38;5;241m=\u001b[39m \u001b[38;5;28;43mself\u001b[39;49m\u001b[38;5;241;43m.\u001b[39;49m\u001b[43m_read_status\u001b[49m\u001b[43m(\u001b[49m\u001b[43m)\u001b[49m\n\u001b[1;32m    319\u001b[0m     \u001b[38;5;28;01mif\u001b[39;00m status \u001b[38;5;241m!=\u001b[39m CONTINUE:\n",
      "File \u001b[0;32m~/anaconda3/envs/nws/lib/python3.10/http/client.py:287\u001b[0m, in \u001b[0;36mHTTPResponse._read_status\u001b[0;34m(self)\u001b[0m\n\u001b[1;32m    284\u001b[0m \u001b[38;5;28;01mif\u001b[39;00m \u001b[38;5;129;01mnot\u001b[39;00m line:\n\u001b[1;32m    285\u001b[0m     \u001b[38;5;66;03m# Presumably, the server closed the connection before\u001b[39;00m\n\u001b[1;32m    286\u001b[0m     \u001b[38;5;66;03m# sending a valid response.\u001b[39;00m\n\u001b[0;32m--> 287\u001b[0m     \u001b[38;5;28;01mraise\u001b[39;00m RemoteDisconnected(\u001b[38;5;124m\"\u001b[39m\u001b[38;5;124mRemote end closed connection without\u001b[39m\u001b[38;5;124m\"\u001b[39m\n\u001b[1;32m    288\u001b[0m                              \u001b[38;5;124m\"\u001b[39m\u001b[38;5;124m response\u001b[39m\u001b[38;5;124m\"\u001b[39m)\n\u001b[1;32m    289\u001b[0m \u001b[38;5;28;01mtry\u001b[39;00m:\n",
      "\u001b[0;31mProtocolError\u001b[0m: ('Connection aborted.', RemoteDisconnected('Remote end closed connection without response'))",
      "\nDuring handling of the above exception, another exception occurred:\n",
      "\u001b[0;31mConnectionError\u001b[0m                           Traceback (most recent call last)",
      "Input \u001b[0;32mIn [13]\u001b[0m, in \u001b[0;36m<cell line: 3>\u001b[0;34m()\u001b[0m\n\u001b[1;32m      1\u001b[0m start_date \u001b[38;5;241m=\u001b[39m dt\u001b[38;5;241m.\u001b[39mdatetime(year \u001b[38;5;241m=\u001b[39m \u001b[38;5;241m2020\u001b[39m, month \u001b[38;5;241m=\u001b[39m \u001b[38;5;241m8\u001b[39m, day \u001b[38;5;241m=\u001b[39m \u001b[38;5;241m21\u001b[39m, hour \u001b[38;5;241m=\u001b[39m \u001b[38;5;241m0\u001b[39m, minute \u001b[38;5;241m=\u001b[39m \u001b[38;5;241m0\u001b[39m)\n\u001b[1;32m      2\u001b[0m end_date \u001b[38;5;241m=\u001b[39m dt\u001b[38;5;241m.\u001b[39mdatetime\u001b[38;5;241m.\u001b[39mnow()\n\u001b[0;32m----> 3\u001b[0m data \u001b[38;5;241m=\u001b[39m \u001b[43mmake_ml_training_data_set\u001b[49m\u001b[43m(\u001b[49m\u001b[43m[\u001b[49m\u001b[43m(\u001b[49m\u001b[43mstart_date\u001b[49m\u001b[43m,\u001b[49m\u001b[43m \u001b[49m\u001b[43mend_date\u001b[49m\u001b[43m)\u001b[49m\u001b[43m]\u001b[49m\u001b[43m,\u001b[49m\u001b[43m \u001b[49m\u001b[38;5;124;43m'\u001b[39;49m\u001b[38;5;124;43mkbos\u001b[39;49m\u001b[38;5;124;43m'\u001b[39;49m\u001b[43m,\u001b[49m\u001b[43m \u001b[49m\u001b[38;5;241;43m42.3656\u001b[39;49m\u001b[43m,\u001b[49m\u001b[43m \u001b[49m\u001b[38;5;241;43m-\u001b[39;49m\u001b[38;5;241;43m71.0096\u001b[39;49m\u001b[43m,\u001b[49m\u001b[43m \u001b[49m\u001b[38;5;124;43m'\u001b[39;49m\u001b[38;5;124;43mData/BOS.csv\u001b[39;49m\u001b[38;5;124;43m'\u001b[39;49m\u001b[43m,\u001b[49m\u001b[43m \u001b[49m\u001b[38;5;124;43m'\u001b[39;49m\u001b[38;5;124;43mData/GLAMP data/\u001b[39;49m\u001b[38;5;124;43m'\u001b[39;49m\u001b[43m,\u001b[49m\u001b[43m \u001b[49m\n\u001b[1;32m      4\u001b[0m \u001b[43m                                 \u001b[49m\u001b[38;5;124;43m'\u001b[39;49m\u001b[38;5;124;43mData/hrrr/\u001b[39;49m\u001b[38;5;124;43m'\u001b[39;49m\u001b[43m,\u001b[49m\u001b[43m \u001b[49m\u001b[38;5;124;43m'\u001b[39;49m\u001b[38;5;124;43mData/BOS_5min.csv\u001b[39;49m\u001b[38;5;124;43m'\u001b[39;49m\u001b[43m,\u001b[49m\u001b[43m \u001b[49m\u001b[43mfrequency\u001b[49m\u001b[43m \u001b[49m\u001b[38;5;241;43m=\u001b[39;49m\u001b[43m \u001b[49m\u001b[38;5;124;43m'\u001b[39;49m\u001b[38;5;124;43mH\u001b[39;49m\u001b[38;5;124;43m'\u001b[39;49m\u001b[43m)\u001b[49m\n",
      "Input \u001b[0;32mIn [7]\u001b[0m, in \u001b[0;36mmake_ml_training_data_set\u001b[0;34m(timelist, station, lat, lon, metar_path, glamp_path, hrrr_path, asos5_path, delay_hours, frequency)\u001b[0m\n\u001b[1;32m     12\u001b[0m \u001b[38;5;28;01mfor\u001b[39;00m time \u001b[38;5;129;01min\u001b[39;00m tqdm(time_series):\n\u001b[1;32m     13\u001b[0m     \u001b[38;5;28;01mtry\u001b[39;00m:\n\u001b[0;32m---> 14\u001b[0m         training_row \u001b[38;5;241m=\u001b[39m \u001b[43mmake_ml_training_data_row\u001b[49m\u001b[43m(\u001b[49m\u001b[43mtime\u001b[49m\u001b[43m,\u001b[49m\u001b[43m \u001b[49m\u001b[43mstation\u001b[49m\u001b[43m,\u001b[49m\u001b[43m \u001b[49m\u001b[43mlat\u001b[49m\u001b[43m,\u001b[49m\u001b[43m \u001b[49m\u001b[43mlon\u001b[49m\u001b[43m,\u001b[49m\u001b[43m \u001b[49m\u001b[43mmetar_path\u001b[49m\u001b[43m,\u001b[49m\u001b[43m \u001b[49m\u001b[43mglamp_path\u001b[49m\u001b[43m,\u001b[49m\u001b[43m \u001b[49m\u001b[43mhrrr_path\u001b[49m\u001b[43m,\u001b[49m\u001b[43m \u001b[49m\u001b[43masos5_path\u001b[49m\u001b[43m,\u001b[49m\u001b[43m \u001b[49m\u001b[43mdelay_hours\u001b[49m\u001b[43m \u001b[49m\u001b[38;5;241;43m=\u001b[39;49m\u001b[43m \u001b[49m\u001b[43mdelay_hours\u001b[49m\u001b[43m)\u001b[49m\n\u001b[1;32m     15\u001b[0m         training_df \u001b[38;5;241m=\u001b[39m training_df\u001b[38;5;241m.\u001b[39mappend(training_row)\n\u001b[1;32m     16\u001b[0m     \u001b[38;5;28;01mexcept\u001b[39;00m (\u001b[38;5;167;01mFileNotFoundError\u001b[39;00m, JSONDecodeError):\n",
      "Input \u001b[0;32mIn [4]\u001b[0m, in \u001b[0;36mmake_ml_training_data_row\u001b[0;34m(taf_time, station, lat, lon, metar_path, glamp_path, hrrr_path, asos5_path, delay_hours, tplus_hours)\u001b[0m\n\u001b[1;32m      4\u001b[0m \u001b[38;5;28;01mif\u001b[39;00m \u001b[38;5;28misinstance\u001b[39m(asos5_path, \u001b[38;5;28mstr\u001b[39m):\n\u001b[1;32m      5\u001b[0m     asos5_path \u001b[38;5;241m=\u001b[39m read_metar(asos5_path)\n\u001b[0;32m----> 7\u001b[0m df \u001b[38;5;241m=\u001b[39m \u001b[43mmake_ml_data_row\u001b[49m\u001b[43m(\u001b[49m\u001b[43mtaf_time\u001b[49m\u001b[43m,\u001b[49m\u001b[43m \u001b[49m\u001b[43mstation\u001b[49m\u001b[43m,\u001b[49m\u001b[43m \u001b[49m\u001b[43mlat\u001b[49m\u001b[43m,\u001b[49m\u001b[43m \u001b[49m\u001b[43mlon\u001b[49m\u001b[43m,\u001b[49m\u001b[43m \u001b[49m\u001b[43mmetar_path\u001b[49m\u001b[43m,\u001b[49m\u001b[43m \u001b[49m\u001b[43mglamp_path\u001b[49m\u001b[43m,\u001b[49m\u001b[43m \u001b[49m\u001b[43mhrrr_path\u001b[49m\u001b[43m,\u001b[49m\u001b[43m \u001b[49m\u001b[43mdelay_hours\u001b[49m\u001b[43m \u001b[49m\u001b[38;5;241;43m=\u001b[39;49m\u001b[43m \u001b[49m\u001b[43mdelay_hours\u001b[49m\u001b[43m)\u001b[49m\n\u001b[1;32m      9\u001b[0m \u001b[38;5;28;01mfor\u001b[39;00m i \u001b[38;5;129;01min\u001b[39;00m \u001b[38;5;28mrange\u001b[39m(tplus_hours):\n\u001b[1;32m     10\u001b[0m     df[\u001b[38;5;124mf\u001b[39m\u001b[38;5;124m'\u001b[39m\u001b[38;5;124mflight category \u001b[39m\u001b[38;5;132;01m{\u001b[39;00mi\u001b[38;5;132;01m}\u001b[39;00m\u001b[38;5;124m'\u001b[39m] \u001b[38;5;241m=\u001b[39m get_conditions_from_asos(taf_time \u001b[38;5;241m+\u001b[39m dt\u001b[38;5;241m.\u001b[39mtimedelta(hours \u001b[38;5;241m=\u001b[39m i), metar_path)\n",
      "Input \u001b[0;32mIn [2]\u001b[0m, in \u001b[0;36mmake_ml_data_row\u001b[0;34m(taf_time, station, lat, lon, metar_path, glamp_path, hrrr_path, delay_hours)\u001b[0m\n\u001b[1;32m     10\u001b[0m     metarDF[\u001b[38;5;124mf\u001b[39m\u001b[38;5;124m'\u001b[39m\u001b[38;5;124mmetar \u001b[39m\u001b[38;5;132;01m{\u001b[39;00mtime\u001b[38;5;132;01m}\u001b[39;00m\u001b[38;5;124m'\u001b[39m] \u001b[38;5;241m=\u001b[39m metar_at_time\n\u001b[1;32m     12\u001b[0m work_time \u001b[38;5;241m=\u001b[39m dt\u001b[38;5;241m.\u001b[39mtimedelta(hours\u001b[38;5;241m=\u001b[39m\u001b[38;5;241m-\u001b[39mdelay_hours)\n\u001b[0;32m---> 13\u001b[0m glamp_data \u001b[38;5;241m=\u001b[39m \u001b[43mget_glamp_at_time\u001b[49m\u001b[43m(\u001b[49m\u001b[43mtaf_time\u001b[49m\u001b[43m \u001b[49m\u001b[38;5;241;43m+\u001b[39;49m\u001b[43m \u001b[49m\u001b[43mwork_time\u001b[49m\u001b[43m,\u001b[49m\u001b[43m \u001b[49m\u001b[43mglamp_path\u001b[49m\u001b[43m,\u001b[49m\u001b[43m \u001b[49m\u001b[43mstation\u001b[49m\u001b[43m,\u001b[49m\u001b[43m \u001b[49m\u001b[43mdownload\u001b[49m\u001b[38;5;241;43m=\u001b[39;49m\u001b[38;5;28;43;01mTrue\u001b[39;49;00m\u001b[43m)\u001b[49m\n\u001b[1;32m     14\u001b[0m hrrr_data \u001b[38;5;241m=\u001b[39m get_hrrr_at_time(taf_time \u001b[38;5;241m+\u001b[39m work_time, hrrr_path, lat, lon, download\u001b[38;5;241m=\u001b[39m\u001b[38;5;28;01mTrue\u001b[39;00m)\n\u001b[1;32m     15\u001b[0m glamp_synoptic_offset \u001b[38;5;241m=\u001b[39m (taf_time\u001b[38;5;241m.\u001b[39mhour \u001b[38;5;241m-\u001b[39m delay_hours) \u001b[38;5;241m%\u001b[39m \u001b[38;5;241m6\u001b[39m \u001b[38;5;241m-\u001b[39m \u001b[38;5;241m1\u001b[39m\n",
      "File \u001b[0;32m/mnt/c/Users/bpara/Documents/Git/nwsFlightCategories/IOfuncs.py:254\u001b[0m, in \u001b[0;36mget_glamp_at_time\u001b[0;34m(datetime, path, station, download)\u001b[0m\n\u001b[1;32m    252\u001b[0m \u001b[38;5;28;01melse\u001b[39;00m:\n\u001b[1;32m    253\u001b[0m     \u001b[38;5;28;01mif\u001b[39;00m download:\n\u001b[0;32m--> 254\u001b[0m         result \u001b[38;5;241m=\u001b[39m \u001b[43mdownload_glamp\u001b[49m\u001b[43m(\u001b[49m\u001b[43mglamp_run_time\u001b[49m\u001b[43m,\u001b[49m\u001b[43m \u001b[49m\u001b[43mstation\u001b[49m\u001b[43m)\u001b[49m\n\u001b[1;32m    255\u001b[0m         result\u001b[38;5;241m.\u001b[39mto_csv(path \u001b[38;5;241m+\u001b[39m fname)\n\u001b[1;32m    257\u001b[0m result[\u001b[38;5;124m'\u001b[39m\u001b[38;5;124mcc1\u001b[39m\u001b[38;5;124m'\u001b[39m] \u001b[38;5;241m=\u001b[39m result[\u001b[38;5;124m'\u001b[39m\u001b[38;5;124mcc1\u001b[39m\u001b[38;5;124m'\u001b[39m]\u001b[38;5;241m.\u001b[39mmap(CC1_CATS)\n",
      "File \u001b[0;32m/mnt/c/Users/bpara/Documents/Git/nwsFlightCategories/IOfuncs.py:141\u001b[0m, in \u001b[0;36mdownload_glamp\u001b[0;34m(datetime, station)\u001b[0m\n\u001b[1;32m    136\u001b[0m base_url \u001b[38;5;241m=\u001b[39m \u001b[38;5;124m'\u001b[39m\u001b[38;5;124mhttps://mesonet.agron.iastate.edu/api/1/mos.json\u001b[39m\u001b[38;5;124m'\u001b[39m\n\u001b[1;32m    138\u001b[0m params \u001b[38;5;241m=\u001b[39m {\u001b[38;5;124m'\u001b[39m\u001b[38;5;124mstation\u001b[39m\u001b[38;5;124m'\u001b[39m: station,\n\u001b[1;32m    139\u001b[0m           \u001b[38;5;124m'\u001b[39m\u001b[38;5;124mmodel\u001b[39m\u001b[38;5;124m'\u001b[39m: \u001b[38;5;124m'\u001b[39m\u001b[38;5;124mLAV\u001b[39m\u001b[38;5;124m'\u001b[39m,\n\u001b[1;32m    140\u001b[0m           \u001b[38;5;124m'\u001b[39m\u001b[38;5;124mruntime\u001b[39m\u001b[38;5;124m'\u001b[39m: datetime}\n\u001b[0;32m--> 141\u001b[0m response \u001b[38;5;241m=\u001b[39m \u001b[43mrequests\u001b[49m\u001b[38;5;241;43m.\u001b[39;49m\u001b[43mget\u001b[49m\u001b[43m(\u001b[49m\u001b[43mbase_url\u001b[49m\u001b[43m,\u001b[49m\u001b[43m \u001b[49m\u001b[43mparams\u001b[49m\u001b[38;5;241;43m=\u001b[39;49m\u001b[43mparams\u001b[49m\u001b[43m)\u001b[49m\n\u001b[1;32m    142\u001b[0m \u001b[38;5;28;01mif\u001b[39;00m response\u001b[38;5;241m.\u001b[39mstatus_code\u001b[38;5;241m==\u001b[39m\u001b[38;5;241m404\u001b[39m:\n\u001b[1;32m    143\u001b[0m     \u001b[38;5;28;01mraise\u001b[39;00m \u001b[38;5;167;01mFileNotFoundError\u001b[39;00m(\u001b[38;5;124m'\u001b[39m\u001b[38;5;124mFile not found on database\u001b[39m\u001b[38;5;124m'\u001b[39m)\n",
      "File \u001b[0;32m~/anaconda3/envs/nws/lib/python3.10/site-packages/requests/api.py:73\u001b[0m, in \u001b[0;36mget\u001b[0;34m(url, params, **kwargs)\u001b[0m\n\u001b[1;32m     62\u001b[0m \u001b[38;5;28;01mdef\u001b[39;00m \u001b[38;5;21mget\u001b[39m(url, params\u001b[38;5;241m=\u001b[39m\u001b[38;5;28;01mNone\u001b[39;00m, \u001b[38;5;241m*\u001b[39m\u001b[38;5;241m*\u001b[39mkwargs):\n\u001b[1;32m     63\u001b[0m     \u001b[38;5;124mr\u001b[39m\u001b[38;5;124;03m\"\"\"Sends a GET request.\u001b[39;00m\n\u001b[1;32m     64\u001b[0m \n\u001b[1;32m     65\u001b[0m \u001b[38;5;124;03m    :param url: URL for the new :class:`Request` object.\u001b[39;00m\n\u001b[0;32m   (...)\u001b[0m\n\u001b[1;32m     70\u001b[0m \u001b[38;5;124;03m    :rtype: requests.Response\u001b[39;00m\n\u001b[1;32m     71\u001b[0m \u001b[38;5;124;03m    \"\"\"\u001b[39;00m\n\u001b[0;32m---> 73\u001b[0m     \u001b[38;5;28;01mreturn\u001b[39;00m \u001b[43mrequest\u001b[49m\u001b[43m(\u001b[49m\u001b[38;5;124;43m\"\u001b[39;49m\u001b[38;5;124;43mget\u001b[39;49m\u001b[38;5;124;43m\"\u001b[39;49m\u001b[43m,\u001b[49m\u001b[43m \u001b[49m\u001b[43murl\u001b[49m\u001b[43m,\u001b[49m\u001b[43m \u001b[49m\u001b[43mparams\u001b[49m\u001b[38;5;241;43m=\u001b[39;49m\u001b[43mparams\u001b[49m\u001b[43m,\u001b[49m\u001b[43m \u001b[49m\u001b[38;5;241;43m*\u001b[39;49m\u001b[38;5;241;43m*\u001b[39;49m\u001b[43mkwargs\u001b[49m\u001b[43m)\u001b[49m\n",
      "File \u001b[0;32m~/anaconda3/envs/nws/lib/python3.10/site-packages/requests/api.py:59\u001b[0m, in \u001b[0;36mrequest\u001b[0;34m(method, url, **kwargs)\u001b[0m\n\u001b[1;32m     55\u001b[0m \u001b[38;5;66;03m# By using the 'with' statement we are sure the session is closed, thus we\u001b[39;00m\n\u001b[1;32m     56\u001b[0m \u001b[38;5;66;03m# avoid leaving sockets open which can trigger a ResourceWarning in some\u001b[39;00m\n\u001b[1;32m     57\u001b[0m \u001b[38;5;66;03m# cases, and look like a memory leak in others.\u001b[39;00m\n\u001b[1;32m     58\u001b[0m \u001b[38;5;28;01mwith\u001b[39;00m sessions\u001b[38;5;241m.\u001b[39mSession() \u001b[38;5;28;01mas\u001b[39;00m session:\n\u001b[0;32m---> 59\u001b[0m     \u001b[38;5;28;01mreturn\u001b[39;00m \u001b[43msession\u001b[49m\u001b[38;5;241;43m.\u001b[39;49m\u001b[43mrequest\u001b[49m\u001b[43m(\u001b[49m\u001b[43mmethod\u001b[49m\u001b[38;5;241;43m=\u001b[39;49m\u001b[43mmethod\u001b[49m\u001b[43m,\u001b[49m\u001b[43m \u001b[49m\u001b[43murl\u001b[49m\u001b[38;5;241;43m=\u001b[39;49m\u001b[43murl\u001b[49m\u001b[43m,\u001b[49m\u001b[43m \u001b[49m\u001b[38;5;241;43m*\u001b[39;49m\u001b[38;5;241;43m*\u001b[39;49m\u001b[43mkwargs\u001b[49m\u001b[43m)\u001b[49m\n",
      "File \u001b[0;32m~/anaconda3/envs/nws/lib/python3.10/site-packages/requests/sessions.py:587\u001b[0m, in \u001b[0;36mSession.request\u001b[0;34m(self, method, url, params, data, headers, cookies, files, auth, timeout, allow_redirects, proxies, hooks, stream, verify, cert, json)\u001b[0m\n\u001b[1;32m    582\u001b[0m send_kwargs \u001b[38;5;241m=\u001b[39m {\n\u001b[1;32m    583\u001b[0m     \u001b[38;5;124m\"\u001b[39m\u001b[38;5;124mtimeout\u001b[39m\u001b[38;5;124m\"\u001b[39m: timeout,\n\u001b[1;32m    584\u001b[0m     \u001b[38;5;124m\"\u001b[39m\u001b[38;5;124mallow_redirects\u001b[39m\u001b[38;5;124m\"\u001b[39m: allow_redirects,\n\u001b[1;32m    585\u001b[0m }\n\u001b[1;32m    586\u001b[0m send_kwargs\u001b[38;5;241m.\u001b[39mupdate(settings)\n\u001b[0;32m--> 587\u001b[0m resp \u001b[38;5;241m=\u001b[39m \u001b[38;5;28;43mself\u001b[39;49m\u001b[38;5;241;43m.\u001b[39;49m\u001b[43msend\u001b[49m\u001b[43m(\u001b[49m\u001b[43mprep\u001b[49m\u001b[43m,\u001b[49m\u001b[43m \u001b[49m\u001b[38;5;241;43m*\u001b[39;49m\u001b[38;5;241;43m*\u001b[39;49m\u001b[43msend_kwargs\u001b[49m\u001b[43m)\u001b[49m\n\u001b[1;32m    589\u001b[0m \u001b[38;5;28;01mreturn\u001b[39;00m resp\n",
      "File \u001b[0;32m~/anaconda3/envs/nws/lib/python3.10/site-packages/requests/sessions.py:701\u001b[0m, in \u001b[0;36mSession.send\u001b[0;34m(self, request, **kwargs)\u001b[0m\n\u001b[1;32m    698\u001b[0m start \u001b[38;5;241m=\u001b[39m preferred_clock()\n\u001b[1;32m    700\u001b[0m \u001b[38;5;66;03m# Send the request\u001b[39;00m\n\u001b[0;32m--> 701\u001b[0m r \u001b[38;5;241m=\u001b[39m \u001b[43madapter\u001b[49m\u001b[38;5;241;43m.\u001b[39;49m\u001b[43msend\u001b[49m\u001b[43m(\u001b[49m\u001b[43mrequest\u001b[49m\u001b[43m,\u001b[49m\u001b[43m \u001b[49m\u001b[38;5;241;43m*\u001b[39;49m\u001b[38;5;241;43m*\u001b[39;49m\u001b[43mkwargs\u001b[49m\u001b[43m)\u001b[49m\n\u001b[1;32m    703\u001b[0m \u001b[38;5;66;03m# Total elapsed time of the request (approximately)\u001b[39;00m\n\u001b[1;32m    704\u001b[0m elapsed \u001b[38;5;241m=\u001b[39m preferred_clock() \u001b[38;5;241m-\u001b[39m start\n",
      "File \u001b[0;32m~/anaconda3/envs/nws/lib/python3.10/site-packages/requests/adapters.py:547\u001b[0m, in \u001b[0;36mHTTPAdapter.send\u001b[0;34m(self, request, stream, timeout, verify, cert, proxies)\u001b[0m\n\u001b[1;32m    544\u001b[0m             \u001b[38;5;28;01mraise\u001b[39;00m\n\u001b[1;32m    546\u001b[0m \u001b[38;5;28;01mexcept\u001b[39;00m (ProtocolError, \u001b[38;5;167;01mOSError\u001b[39;00m) \u001b[38;5;28;01mas\u001b[39;00m err:\n\u001b[0;32m--> 547\u001b[0m     \u001b[38;5;28;01mraise\u001b[39;00m \u001b[38;5;167;01mConnectionError\u001b[39;00m(err, request\u001b[38;5;241m=\u001b[39mrequest)\n\u001b[1;32m    549\u001b[0m \u001b[38;5;28;01mexcept\u001b[39;00m MaxRetryError \u001b[38;5;28;01mas\u001b[39;00m e:\n\u001b[1;32m    550\u001b[0m     \u001b[38;5;28;01mif\u001b[39;00m \u001b[38;5;28misinstance\u001b[39m(e\u001b[38;5;241m.\u001b[39mreason, ConnectTimeoutError):\n\u001b[1;32m    551\u001b[0m         \u001b[38;5;66;03m# TODO: Remove this in 3.0.0: see #2811\u001b[39;00m\n",
      "\u001b[0;31mConnectionError\u001b[0m: ('Connection aborted.', RemoteDisconnected('Remote end closed connection without response'))"
     ]
    }
   ],
   "source": [
    "start_date = dt.datetime(year = 2020, month = 8, day = 21, hour = 0, minute = 0)\n",
    "end_date = dt.datetime.now()\n",
    "data = make_ml_training_data_set([(start_date, end_date)], 'kbos', 42.3656, -71.0096, 'Data/BOS.csv', 'Data/GLAMP data/', \n",
    "                                 'Data/hrrr/', 'Data/BOS_5min.csv', frequency = 'H')"
   ]
  },
  {
   "cell_type": "code",
   "execution_count": null,
   "id": "6c55bc23-ebb7-4a06-b0fe-c18630102611",
   "metadata": {
    "tags": []
   },
   "outputs": [],
   "source": [
    "start_date_winter_1 = dt.datetime(year = 2020, month = 12, day = 1, hour = 0, minute = 0)\n",
    "end_date_winter_1 = dt.datetime(year = 2021, month = 2, day = 28, hour = 23, minute = 0)\n",
    "start_date_winter_2 = dt.datetime(year = 2019, month = 12, day = 1, hour = 0, minute = 0)\n",
    "end_date_winter_2 = dt.datetime(year = 2020, month = 2, day = 28, hour = 23, minute = 0)\n",
    "winter_data = make_ml_training_data_set([(start_date_winter_1, end_date_winter_1), (start_date_winter_2, end_date_winter_2)], \n",
    "                                        'kbos', 42.3656, -71.0096, 'Data/BOS.csv',\n",
    "                                        'Data/GLAMP data/', 'Data/hrrr/', 'Data/BOS_5min.csv', frequency = 'H')"
   ]
  },
  {
   "cell_type": "code",
   "execution_count": null,
   "id": "6d2b28e9-1d01-4aaa-b42a-8070085d307f",
   "metadata": {},
   "outputs": [],
   "source": [
    "start_date_spring_1 = dt.datetime(year = 2021, month = 3, day = 1, hour = 0, minute = 0)\n",
    "end_date_spring_1 = dt.datetime(year = 2021, month = 5, day = 31, hour = 23, minute = 0)\n",
    "start_date_spring_2 = dt.datetime(year = 2020, month = 3, day = 1, hour = 0, minute = 0)\n",
    "end_date_spring_2 = dt.datetime(year = 2020, month = 5, day = 31, hour = 23, minute = 0)\n",
    "spring_data = make_ml_training_data_set([(start_date_spring_1, end_date_spring_1), (start_date_spring_2, end_date_spring_2)], \n",
    "                                         'kbos', 42.3656, -71.0096, 'Data/BOS.csv', \n",
    "                                        'Data/GLAMP data/', 'Data/hrrr/', 'Data/BOS_5min.csv', frequency = 'H')"
   ]
  },
  {
   "cell_type": "code",
   "execution_count": null,
   "id": "d29b0b55-c4fb-4214-964b-518e92e742c8",
   "metadata": {},
   "outputs": [],
   "source": [
    "start_date_summer_1 = dt.datetime(year = 2021, month = 6, day = 1, hour = 0, minute = 0)\n",
    "end_date_summer_1 = dt.datetime(year = 2021, month = 8, day = 31, hour = 23, minute = 0)\n",
    "start_date_summer_2 = dt.datetime(year = 2020, month = 6, day = 1, hour = 0, minute = 0)\n",
    "end_date_summer_2 = dt.datetime(year = 2020, month = 8, day = 31, hour = 23, minute = 0)\n",
    "summer_data = make_ml_training_data_set([(start_date_summer_1, end_date_summer_1), (start_date_summer_2, end_date_summer_2)], \n",
    "                                         'kbos', 42.3656, -71.0096, 'Data/BOS.csv', \n",
    "                                        'Data/GLAMP data/', 'Data/hrrr/', 'Data/BOS_5min.csv', frequency = 'H')"
   ]
  },
  {
   "cell_type": "code",
   "execution_count": null,
   "id": "805b35f3-b4b9-4fa8-ac85-9ef8b3558d9e",
   "metadata": {},
   "outputs": [],
   "source": [
    "start_date_fall_1 = dt.datetime(year = 2021, month = 9, day = 1, hour = 0, minute = 0)\n",
    "end_date_fall_1 = dt.datetime(year = 2021, month = 11, day = 30, hour = 23, minute = 0)\n",
    "start_date_fall_2 = dt.datetime(year = 2020, month = 9, day = 1, hour = 0, minute = 0)\n",
    "end_date_fall_2 = dt.datetime(year = 2020, month = 11, day = 30, hour = 23, minute = 0)\n",
    "fall_data = make_ml_training_data_set([(start_date_fall_1, end_date_fall_1), (start_date_fall_2, end_date_fall_2)], \n",
    "                                         'kbos', 42.3656, -71.0096, 'Data/BOS.csv', \n",
    "                                        'Data/GLAMP data/', 'Data/hrrr/', 'Data/BOS_5min.csv', frequency = 'H')"
   ]
  },
  {
   "cell_type": "code",
   "execution_count": null,
   "id": "d9ead147-65f0-4b02-8c73-84c4326b9e98",
   "metadata": {},
   "outputs": [],
   "source": [
    "#The ci interval currently isn't implemented correctly\n",
    "def test_accuracy_metrics(classifier_rf, training_data, flight_cat, use_ci=None, compare=None):\n",
    "    result_df = pd.DataFrame()\n",
    "    (X, y_list, val_list) = data_split(training_data)\n",
    "    for y, val in zip(y_list,val_list):\n",
    "        X_train, X_test, y_train, y_test, _, val_test = train_test_split(X, y_list[y], val_list[val], train_size=0.7, random_state=42)\n",
    "        classifier_rf.fit(X_train, y_train)\n",
    "        predictions = classifier_rf.predict(X_test)\n",
    "        if use_ci is not None: #keep only ones where prob is above CI\n",
    "            predict_probs_mask = classifier_rf.predict_proba(X_test)[:,flight_cat] >= use_ci\n",
    "            for i,prediction in enumerate(predictions):\n",
    "                if prediction == flight_cat and not predict_probs_mask[i]:\n",
    "                    predictions[i] = -1\n",
    "        prob = np.repeat(predictions, [len(verifications) for verifications in val_test])\n",
    "        results = np.concatenate(np.asarray(val_test))\n",
    "        if not compare is None:\n",
    "            result_df[y] = (prob_of_detection(prob, results, flight_cat), \n",
    "                            false_alarm_rate(prob, results, flight_cat), \n",
    "                            critical_success_index(prob, results, flight_cat))\n",
    "        else:\n",
    "            result_df[y] = (prob_of_detection(prob, results, flight_cat) >= compare[0], \n",
    "                            false_alarm_rate(prob, results, flight_cat) <= compare[1], \n",
    "                            critical_success_index(prob, results, flight_cat) >= compare[2])            \n",
    "        result_df.rename({0: 'POD', 1: 'FAR', 2: 'CSI'}, inplace=True)\n",
    "    return result_df"
   ]
  },
  {
   "cell_type": "code",
   "execution_count": null,
   "id": "3cfcc501-cf5f-4911-adae-70cffa021a14",
   "metadata": {},
   "outputs": [],
   "source": [
    "def gfs_accuracy_metrics(gfs_data, flight_cat, t_plus_max=6):\n",
    "    result_df = pd.DataFrame()\n",
    "    for time in range(t_plus_max):\n",
    "        prob = np.repeat(np.asarray(gfs_data[f't plus {time} prediction']), \n",
    "                                [len(verifications) for verifications in gfs_data[f't plus {time} verification']])\n",
    "        results = np.concatenate(np.asarray(gfs_data[f't plus {time} verification']))\n",
    "        result_df[f't plus {time} data'] = (prob_of_detection(prob, results, flight_cat), \n",
    "                            false_alarm_rate(prob, results, flight_cat), \n",
    "                            critical_success_index(prob, results, flight_cat))\n",
    "    return result_df"
   ]
  },
  {
   "cell_type": "code",
   "execution_count": null,
   "id": "86f6226f-5659-4941-a033-dfe4e180809b",
   "metadata": {},
   "outputs": [],
   "source": [
    "def overall_comparison(classifier_rf, training_data, compare):\n",
    "    flight_cats = [0, 1, 2, 3]\n",
    "    total_hits = 0\n",
    "    total_tests = 0\n",
    "    for cat in flight_cats:\n",
    "        result = test_accuracy_metrics(classifier_rf, training_data, cat, compare=compare)\n",
    "        total_hits += result.to_numpy().sum()\n",
    "        total_tests += len(result) * len(result.T)\n",
    "    return total_hits, total_tests"
   ]
  },
  {
   "cell_type": "code",
   "execution_count": null,
   "id": "130f9126-6fef-4852-929a-7dfdc8805ff4",
   "metadata": {},
   "outputs": [],
   "source": [
    "classifier_rf = RandomForestClassifier(random_state=42, n_jobs = -1, class_weight = \"balanced\")\n",
    "classifier_nn = MLPClassifier(random_state=42)\n",
    "#params determined via hyperparam tuning\n",
    "n_estimators = [int(x) for x in np.linspace(200, 2000, 10)]\n",
    "max_depth = [x for x in range(10, 120, 10)]\n",
    "max_depth.append(None)\n",
    "min_samples_split = [2, 5, 10]\n",
    "min_samples_leaf = [1, 2, 4]\n",
    "bootstrap = [True, False]\n",
    "random_grid = {'n_estimators': n_estimators,\n",
    "               'max_depth': max_depth,\n",
    "               'min_samples_split': min_samples_split,\n",
    "               'min_samples_leaf': min_samples_leaf,\n",
    "               'bootstrap': bootstrap}\n",
    "tuned_rf = RandomizedSearchCV(estimator = classifier_rf, param_distributions = random_grid, random_state = 42, n_jobs = -1)\n",
    "k = 0.5\n",
    "gipra_goal = [0.65, 0.38, 0.47]\n",
    "station_goal = [0.75, 0.25, 0.6]"
   ]
  },
  {
   "cell_type": "code",
   "execution_count": null,
   "id": "c268e080-f20e-4198-85c3-6114b768e214",
   "metadata": {
    "tags": []
   },
   "outputs": [],
   "source": [
    "gfs_winter = glamp_time_series([(start_date_winter_1, end_date_winter_1)], \n",
    "                  'kbos', 'Data/GLAMP data/', asos5)"
   ]
  },
  {
   "cell_type": "code",
   "execution_count": null,
   "id": "a6028397-222c-489e-a86f-f3a9159e58d4",
   "metadata": {},
   "outputs": [],
   "source": [
    "x = np.arange(-1, 2)\n",
    "y = np.arange(-1, 2)\n",
    "x_g, y_g = np.meshgrid(x,y)\n",
    "x_g.flatten(), y_g.flatten()"
   ]
  },
  {
   "cell_type": "code",
   "execution_count": null,
   "id": "cd80b706-9fc7-4c16-9bac-fe94a71e53b3",
   "metadata": {},
   "outputs": [],
   "source": [
    "gfs_accuracy_metrics(gfs_winter, 0)"
   ]
  },
  {
   "cell_type": "code",
   "execution_count": null,
   "id": "961d2a18-450b-43fb-99c6-0625aa74c045",
   "metadata": {
    "tags": []
   },
   "outputs": [],
   "source": [
    "%%time\n",
    "test_accuracy_metrics(classifier_rf, winter_data, 0)"
   ]
  },
  {
   "cell_type": "code",
   "execution_count": null,
   "id": "cb916ce1-928f-48a5-8ff9-47a01876ad8a",
   "metadata": {
    "tags": []
   },
   "outputs": [],
   "source": [
    "%%time\n",
    "test_accuracy_metrics(classifier_rf, spring_data, 3) #VFR"
   ]
  },
  {
   "cell_type": "code",
   "execution_count": null,
   "id": "7d44773e-44a8-4f5b-82ac-f0fed4e4de80",
   "metadata": {},
   "outputs": [],
   "source": [
    "%%time\n",
    "test_accuracy_metrics(classifier_rf, summer_data, 3) #VFR"
   ]
  },
  {
   "cell_type": "code",
   "execution_count": null,
   "id": "57e52bce-b4db-4270-ba3b-3b7805fa43e9",
   "metadata": {},
   "outputs": [],
   "source": [
    "%%time\n",
    "test_accuracy_metrics(classifier_rf, fall_data, 3) #VFR"
   ]
  },
  {
   "cell_type": "code",
   "execution_count": null,
   "id": "e7fffb07-5777-4b7c-8759-062646275066",
   "metadata": {},
   "outputs": [],
   "source": [
    "%%time\n",
    "test_accuracy_metrics(classifier_rf, winter_data, 2) #MVFR"
   ]
  },
  {
   "cell_type": "code",
   "execution_count": null,
   "id": "fe93c0ba-700e-4ed6-8803-f68d35df9795",
   "metadata": {},
   "outputs": [],
   "source": [
    "%%time\n",
    "test_accuracy_metrics(classifier_rf, spring_data, 2) #MVFR"
   ]
  },
  {
   "cell_type": "code",
   "execution_count": null,
   "id": "1350721b-d633-48f3-8fb9-c2cf91fbc525",
   "metadata": {},
   "outputs": [],
   "source": [
    "%%time\n",
    "test_accuracy_metrics(classifier_rf, summer_data, 2) #MVFR"
   ]
  },
  {
   "cell_type": "code",
   "execution_count": null,
   "id": "afd1fe46-b88d-4b7d-81e0-a8c331397821",
   "metadata": {},
   "outputs": [],
   "source": [
    "%%time\n",
    "test_accuracy_metrics(classifier_rf, fall_data, 2) #MVFR"
   ]
  },
  {
   "cell_type": "code",
   "execution_count": null,
   "id": "13a461b8-73ee-42f8-9dcb-996a8dfb526a",
   "metadata": {},
   "outputs": [],
   "source": [
    "%%time\n",
    "test_accuracy_metrics(classifier_rf, winter_data, 1) #IFR"
   ]
  },
  {
   "cell_type": "code",
   "execution_count": null,
   "id": "3e91b13c-59b4-44ea-b63f-c0258a6adc7b",
   "metadata": {},
   "outputs": [],
   "source": [
    "%%time\n",
    "test_accuracy_metrics(classifier_rf, spring_data, 1) #IFR"
   ]
  },
  {
   "cell_type": "code",
   "execution_count": null,
   "id": "d1692107-98ea-40ba-ad1c-2495752bf076",
   "metadata": {},
   "outputs": [],
   "source": [
    "%%time\n",
    "test_accuracy_metrics(classifier_rf, summer_data, 1) #IFR"
   ]
  },
  {
   "cell_type": "code",
   "execution_count": null,
   "id": "d2f8354f-8563-4b05-a16d-9b1bcaee0ab4",
   "metadata": {},
   "outputs": [],
   "source": [
    "%%time\n",
    "test_accuracy_metrics(classifier_rf, fall_data, 1) #IFR"
   ]
  },
  {
   "cell_type": "code",
   "execution_count": null,
   "id": "0fbe6008-57d3-4d35-853c-fddb96e7232b",
   "metadata": {},
   "outputs": [],
   "source": [
    "%%time\n",
    "test_accuracy_metrics(classifier_rf, winter_data, 0) #LIFR"
   ]
  },
  {
   "cell_type": "code",
   "execution_count": null,
   "id": "68d4fa32-b8f1-45bf-9b43-c0913c7b670b",
   "metadata": {},
   "outputs": [],
   "source": [
    "%%time\n",
    "test_accuracy_metrics(classifier_rf, spring_data, 0) #LIFR"
   ]
  },
  {
   "cell_type": "code",
   "execution_count": null,
   "id": "d91b462c-a8f7-43f0-9fb3-bc78f1f4391c",
   "metadata": {},
   "outputs": [],
   "source": [
    "%%time\n",
    "test_accuracy_metrics(classifier_rf, summer_data, 0) #LIFR"
   ]
  },
  {
   "cell_type": "code",
   "execution_count": null,
   "id": "5d3da5f7-7df1-450c-9b0d-606d8d6cce42",
   "metadata": {},
   "outputs": [],
   "source": [
    "%%time\n",
    "test_accuracy_metrics(classifier_rf, fall_data, 0) #LIFR"
   ]
  },
  {
   "cell_type": "code",
   "execution_count": null,
   "id": "18e79b62-61a0-4aef-bc7f-cfb027325431",
   "metadata": {},
   "outputs": [],
   "source": [
    "%%time\n",
    "overall_comparison(classifier_rf, winter_data, gipra_goal)"
   ]
  },
  {
   "cell_type": "code",
   "execution_count": null,
   "id": "d9cfa4a9-8614-4f8f-8e84-016ae86f096c",
   "metadata": {},
   "outputs": [],
   "source": [
    "%%time\n",
    "overall_comparison(classifier_rf, spring_data, gipra_goal)"
   ]
  },
  {
   "cell_type": "code",
   "execution_count": null,
   "id": "e59c1786-e752-4e1a-b149-d64df99b9f50",
   "metadata": {},
   "outputs": [],
   "source": [
    "%%time\n",
    "overall_comparison(classifier_rf, summer_data, gipra_goal)"
   ]
  },
  {
   "cell_type": "code",
   "execution_count": null,
   "id": "96c29700-3762-438d-83a1-f0f141068bb8",
   "metadata": {},
   "outputs": [],
   "source": [
    "%%time\n",
    "overall_comparison(classifier_rf, fall_data, gipra_goal)"
   ]
  },
  {
   "cell_type": "code",
   "execution_count": null,
   "id": "98041a81-e9e9-4aa8-b39e-04518bd377a8",
   "metadata": {},
   "outputs": [],
   "source": [
    "%%time\n",
    "overall_comparison(classifier_rf, winter_data, station_goal)"
   ]
  },
  {
   "cell_type": "code",
   "execution_count": null,
   "id": "e75e98f9-d96c-4311-b7d4-517ab478f4a0",
   "metadata": {},
   "outputs": [],
   "source": [
    "%%time\n",
    "overall_comparison(classifier_rf, spring_data, station_goal)"
   ]
  },
  {
   "cell_type": "code",
   "execution_count": null,
   "id": "71b24223-ecfa-48e4-a31d-85a047f280ce",
   "metadata": {},
   "outputs": [],
   "source": [
    "%%time\n",
    "overall_comparison(classifier_rf, summer_data, station_goal)"
   ]
  },
  {
   "cell_type": "code",
   "execution_count": null,
   "id": "310139cc-f6f9-408e-b2fa-6b6f824dd831",
   "metadata": {},
   "outputs": [],
   "source": [
    "%%time\n",
    "overall_comparison(classifier_rf, fall_data, station_goal)"
   ]
  },
  {
   "cell_type": "code",
   "execution_count": null,
   "id": "0326811a-31dd-4e90-905a-83dc63f4c081",
   "metadata": {},
   "outputs": [],
   "source": [
    "%%time\n",
    "(X, y_list, val_list) = data_split(winter_data)\n",
    "X_train, X_test, y_train, y_test = train_test_split(X, y_list['flight category 0'], train_size=0.7, random_state=42)\n",
    "classifier_rf.fit(X_train, y_train)\n",
    "\n",
    "imports = classifier_rf.feature_importances_"
   ]
  },
  {
   "cell_type": "code",
   "execution_count": null,
   "id": "23f59bcf-c25b-4950-ad21-0d861d008994",
   "metadata": {},
   "outputs": [],
   "source": [
    "classifier_rf.predict_proba(X_test)[classifier_rf.predict_proba(X_test)[:,1]>0.5]"
   ]
  },
  {
   "cell_type": "code",
   "execution_count": null,
   "id": "39d0c80a-872a-4944-9564-e9409d116dce",
   "metadata": {
    "tags": []
   },
   "outputs": [],
   "source": [
    "importances = [(feature, sig) for feature, sig in zip(classifier_rf.feature_names_in_, imports)]\n",
    "importances.sort(key = lambda x: x[1])\n",
    "importances"
   ]
  },
  {
   "cell_type": "code",
   "execution_count": null,
   "id": "fc8ffd62-e8d5-4a56-8872-bc1690633bfe",
   "metadata": {},
   "outputs": [],
   "source": [
    "%%time\n",
    "result = permutation_importance(\n",
    "    classifier_rf, X_test, y_test, random_state=42, n_jobs=-1\n",
    ")\n",
    "#takes about 10 min"
   ]
  },
  {
   "cell_type": "code",
   "execution_count": null,
   "id": "693fc76e-b673-46e4-8101-158741b6e8b5",
   "metadata": {
    "tags": []
   },
   "outputs": [],
   "source": [
    "importances = [(feature, sig) for feature, sig in zip(classifier_rf.feature_names_in_, result['importances_mean'])]\n",
    "#importances.sort(key = lambda x: x[0].split('_')[1])\n",
    "importances.sort(key = lambda x: -x[1])\n",
    "importances = pd.DataFrame(importances)"
   ]
  },
  {
   "cell_type": "code",
   "execution_count": null,
   "id": "0e06cabf-1513-4184-b2ca-a0af3f0ea372",
   "metadata": {},
   "outputs": [],
   "source": [
    "np.max(importances[1]), np.min(importances[1]), np.mean(importances[1]), np.std(importances[1])"
   ]
  },
  {
   "cell_type": "code",
   "execution_count": null,
   "id": "5cb4dcd4-2d95-473b-9729-acbd645f8654",
   "metadata": {},
   "outputs": [],
   "source": [
    "plt.plot(importances[1])"
   ]
  },
  {
   "cell_type": "code",
   "execution_count": null,
   "id": "0eb2d058-07c2-4201-b42d-1c6e875b2293",
   "metadata": {},
   "outputs": [],
   "source": [
    "with pd.option_context('display.max_rows', 999):\n",
    "    print(importances)"
   ]
  },
  {
   "cell_type": "code",
   "execution_count": null,
   "id": "91b07e7d-5ffe-45c2-b6e3-9e55227a1313",
   "metadata": {},
   "outputs": [],
   "source": [
    "data"
   ]
  },
  {
   "cell_type": "code",
   "execution_count": null,
   "id": "ff1c4712-838e-4246-8ecf-1f6a00feb8f6",
   "metadata": {
    "tags": []
   },
   "outputs": [],
   "source": [
    "condition_list = []\n",
    "asos5 = read_metar('Data/BOS_5min.csv')\n",
    "for _, metar_at_time in tqdm(asos5.iterrows()):\n",
    "    vis = metar_at_time['vsby']\n",
    "    cld_list = np.asarray(metar_at_time[['skyc1', 'skyc2', 'skyc3', 'skyc4']])\n",
    "    hgt_list = np.asarray(metar_at_time[['skyl1', 'skyl2', 'skyl3', 'skyl4']])\n",
    "    ovc_hgt = 100000\n",
    "    bkn_hgt = 100000\n",
    "\n",
    "    if 3 in list(cld_list):\n",
    "        ovc_hgt = hgt_list[cld_list == 3]\n",
    "        if len(ovc_hgt) > 1:\n",
    "            ovc_hgt = np.min(ovc_hgt)\n",
    "    if 2 in list(cld_list):\n",
    "        bkn_hgt = hgt_list[cld_list == 2]\n",
    "        if len(bkn_hgt) > 1:\n",
    "            bkn_hgt = np.min(bkn_hgt)\n",
    "    ceiling = np.min([ovc_hgt, bkn_hgt])\n",
    "\n",
    "    if ceiling < 500 or vis < 1:\n",
    "        conditions = 0\n",
    "    elif ceiling < 1000 or vis < 3:\n",
    "        conditions = 1\n",
    "    elif ceiling < 3000 or vis < 5:\n",
    "        conditions = 2\n",
    "    else:\n",
    "        conditions = 3\n",
    "    condition_list.append(conditions)\n",
    "asos5['conditions'] = condition_list"
   ]
  },
  {
   "cell_type": "code",
   "execution_count": null,
   "id": "df2546db-c4ab-4f02-a3ab-0bc4eb7210f5",
   "metadata": {},
   "outputs": [],
   "source": [
    "asos5.to_csv('Data/BOS_5min.csv')"
   ]
  },
  {
   "cell_type": "code",
   "execution_count": null,
   "id": "69b3c6e4-d7b7-44c3-8d8d-6762bb354e1b",
   "metadata": {},
   "outputs": [],
   "source": []
  }
 ],
 "metadata": {
  "kernelspec": {
   "display_name": "Python 3 (ipykernel)",
   "language": "python",
   "name": "python3"
  },
  "language_info": {
   "codemirror_mode": {
    "name": "ipython",
    "version": 3
   },
   "file_extension": ".py",
   "mimetype": "text/x-python",
   "name": "python",
   "nbconvert_exporter": "python",
   "pygments_lexer": "ipython3",
   "version": "3.10.6"
  }
 },
 "nbformat": 4,
 "nbformat_minor": 5
}
