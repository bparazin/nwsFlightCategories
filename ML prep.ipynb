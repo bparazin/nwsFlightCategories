{
 "cells": [
  {
   "cell_type": "code",
   "execution_count": 1,
   "id": "47de7742-58fa-49b6-87ae-fafbaf269bdb",
   "metadata": {},
   "outputs": [],
   "source": [
    "import pandas as pd\n",
    "from metar import Metar\n",
    "import numpy as np\n",
    "from IOfuncs import *\n",
    "import datetime as dt\n",
    "import warnings\n",
    "from json import JSONDecodeError\n",
    "import matplotlib.pyplot as plt\n",
    "from sklearn.model_selection import train_test_split\n",
    "from sklearn.ensemble import RandomForestClassifier\n",
    "from sklearn.feature_selection import SelectFdr,SelectFpr,f_regression\n",
    "from sklearn.pipeline import Pipeline\n",
    "from sklearn.model_selection import RandomizedSearchCV\n",
    "from sklearn.inspection import permutation_importance\n",
    "from sklearn.neural_network import MLPClassifier\n",
    "warnings.filterwarnings('ignore')"
   ]
  },
  {
   "cell_type": "code",
   "execution_count": 2,
   "id": "900af016-02aa-4d3a-bfd0-c84e534b68a8",
   "metadata": {},
   "outputs": [],
   "source": [
    "def make_ml_data_row(taf_time, station, lat, lon, metar_path, glamp_path, hrrr_path, delay_hours = 2):\n",
    "    if isinstance(metar_path, str):\n",
    "        metar_path = read_metar(metar_path)\n",
    "    metarDF = pd.DataFrame()\n",
    "    glampDF = pd.DataFrame()\n",
    "    hrrrDF = pd.DataFrame()    \n",
    "    \n",
    "    for time in range(-6, -delay_hours, 1):\n",
    "        metar_at_time = get_metar_at_time(taf_time + dt.timedelta(hours = time), metar_path).T\n",
    "        metarDF[f'metar {time}'] = metar_at_time\n",
    "    \n",
    "    work_time = dt.timedelta(hours=-delay_hours)\n",
    "    glamp_data = get_glamp_at_time(taf_time + work_time, glamp_path, station, download=True)\n",
    "    hrrr_data = get_hrrr_at_time(taf_time + work_time, hrrr_path, lat, lon, download=True)\n",
    "    glamp_synoptic_offset = (taf_time.hour - delay_hours) % 6 - 1\n",
    "    for time in range(-delay_hours, 7, 1):\n",
    "        glampDF[f'glamp {time}'] = glamp_data.iloc[time + delay_hours + glamp_synoptic_offset]\n",
    "        hrrrDF[f'hrrr {time}'] = hrrr_data.iloc[time + delay_hours]    \n",
    "        \n",
    "    \n",
    "    df = pd.concat([metarDF, glampDF, hrrrDF])\n",
    "    df.drop(['ftime', 'ftime_utc', 'model', 'runtime', 'runtime_utc', 'station', 'metar', 'peak_wind_time', 'valid', 'Unnamed: 0'], inplace=True)\n",
    "\n",
    "    v = df.unstack().to_frame().sort_index(level=1).T\n",
    "    v.columns = v.columns.map('_'.join)\n",
    "\n",
    "    final = v.dropna(axis = 1)\n",
    "    \n",
    "    return final"
   ]
  },
  {
   "cell_type": "code",
   "execution_count": 3,
   "id": "4bb22f87-70cf-43d3-bd2a-89ac83e535c4",
   "metadata": {},
   "outputs": [],
   "source": [
    "taf_time = dt.datetime(year = 2021, month = 8, day = 21, hour = 18, minute = 0)"
   ]
  },
  {
   "cell_type": "code",
   "execution_count": 4,
   "id": "2de18cd0-3b6e-40ac-8543-622a0c1c0d0c",
   "metadata": {},
   "outputs": [],
   "source": [
    "def make_ml_training_data_row(taf_time, station, lat, lon, metar_path, glamp_path, hrrr_path, asos5_path, delay_hours = 2, tplus_hours = 6):\n",
    "    if isinstance(metar_path, str):\n",
    "        metar_path = full_metar_list = read_metar(metar_path)\n",
    "    if isinstance(asos5_path, str):\n",
    "        asos5_path = read_metar(asos5_path)\n",
    "    \n",
    "    df = make_ml_data_row(taf_time, station, lat, lon, metar_path, glamp_path, hrrr_path, delay_hours = delay_hours)\n",
    "    \n",
    "    for i in range(tplus_hours):\n",
    "        df[f'flight category {i}'] = get_conditions_from_asos(taf_time + dt.timedelta(hours = i), metar_path)\n",
    "        time_series = pd.date_range(taf_time + dt.timedelta(hours = i), taf_time + dt.timedelta(hours = i+1), freq = '5T')\n",
    "        verification_series = np.asarray(asos5_path.truncate(before = taf_time + dt.timedelta(hours = i), \n",
    "                                                             after = taf_time + dt.timedelta(hours = i+1, minutes = -1))['conditions'])\n",
    "        df[f'verification list {i}'] = [None]\n",
    "        df[f'verification list {i}'][0] = verification_series\n",
    "        \n",
    "\n",
    "    return df"
   ]
  },
  {
   "cell_type": "code",
   "execution_count": 5,
   "id": "5671b297-de44-48ab-8021-c82e658fff0b",
   "metadata": {},
   "outputs": [],
   "source": [
    "metar = read_metar('Data/BOS.csv')\n",
    "asos5 = read_metar('Data/BOS_5min.csv')"
   ]
  },
  {
   "cell_type": "code",
   "execution_count": 6,
   "id": "70d50f25-2915-47d0-8b95-9939441fc0e6",
   "metadata": {},
   "outputs": [
    {
     "name": "stdout",
     "output_type": "stream",
     "text": [
      "CPU times: user 114 ms, sys: 2.31 ms, total: 116 ms\n",
      "Wall time: 188 ms\n"
     ]
    },
    {
     "data": {
      "text/html": [
       "<div>\n",
       "<style scoped>\n",
       "    .dataframe tbody tr th:only-of-type {\n",
       "        vertical-align: middle;\n",
       "    }\n",
       "\n",
       "    .dataframe tbody tr th {\n",
       "        vertical-align: top;\n",
       "    }\n",
       "\n",
       "    .dataframe thead th {\n",
       "        text-align: right;\n",
       "    }\n",
       "</style>\n",
       "<table border=\"1\" class=\"dataframe\">\n",
       "  <thead>\n",
       "    <tr style=\"text-align: right;\">\n",
       "      <th></th>\n",
       "      <th>hrrr -1_DPT_1000mb</th>\n",
       "      <th>hrrr -2_DPT_1000mb</th>\n",
       "      <th>hrrr 0_DPT_1000mb</th>\n",
       "      <th>hrrr 1_DPT_1000mb</th>\n",
       "      <th>hrrr 2_DPT_1000mb</th>\n",
       "      <th>hrrr 3_DPT_1000mb</th>\n",
       "      <th>hrrr 4_DPT_1000mb</th>\n",
       "      <th>hrrr 5_DPT_1000mb</th>\n",
       "      <th>hrrr 6_DPT_1000mb</th>\n",
       "      <th>hrrr -1_DPT_2m_above_ground</th>\n",
       "      <th>...</th>\n",
       "      <th>flight category 1</th>\n",
       "      <th>verification list 1</th>\n",
       "      <th>flight category 2</th>\n",
       "      <th>verification list 2</th>\n",
       "      <th>flight category 3</th>\n",
       "      <th>verification list 3</th>\n",
       "      <th>flight category 4</th>\n",
       "      <th>verification list 4</th>\n",
       "      <th>flight category 5</th>\n",
       "      <th>verification list 5</th>\n",
       "    </tr>\n",
       "  </thead>\n",
       "  <tbody>\n",
       "    <tr>\n",
       "      <th>0</th>\n",
       "      <td>292.8</td>\n",
       "      <td>293.5</td>\n",
       "      <td>292.2</td>\n",
       "      <td>292.0</td>\n",
       "      <td>291.8</td>\n",
       "      <td>294.0</td>\n",
       "      <td>293.5</td>\n",
       "      <td>292.2</td>\n",
       "      <td>293.2</td>\n",
       "      <td>293.2</td>\n",
       "      <td>...</td>\n",
       "      <td>3</td>\n",
       "      <td>[3, 3, 3, 3, 3, 3, 3, 3, 3, 3, 3, 3]</td>\n",
       "      <td>3</td>\n",
       "      <td>[3, 3, 3, 3, 3, 3, 3, 3, 3, 3]</td>\n",
       "      <td>3</td>\n",
       "      <td>[3, 3, 3, 3, 3, 3, 3, 3, 3, 3, 3, 3]</td>\n",
       "      <td>3</td>\n",
       "      <td>[3, 3, 3, 3, 3, 3, 3, 3, 3, 3]</td>\n",
       "      <td>3</td>\n",
       "      <td>[3, 3, 3, 3, 3, 3, 3, 3, 3, 3, 3]</td>\n",
       "    </tr>\n",
       "  </tbody>\n",
       "</table>\n",
       "<p>1 rows × 523 columns</p>\n",
       "</div>"
      ],
      "text/plain": [
       "  hrrr -1_DPT_1000mb hrrr -2_DPT_1000mb hrrr 0_DPT_1000mb hrrr 1_DPT_1000mb  \\\n",
       "0              292.8              293.5             292.2             292.0   \n",
       "\n",
       "  hrrr 2_DPT_1000mb hrrr 3_DPT_1000mb hrrr 4_DPT_1000mb hrrr 5_DPT_1000mb  \\\n",
       "0             291.8             294.0             293.5             292.2   \n",
       "\n",
       "  hrrr 6_DPT_1000mb hrrr -1_DPT_2m_above_ground  ... flight category 1  \\\n",
       "0             293.2                       293.2  ...                 3   \n",
       "\n",
       "                    verification list 1 flight category 2  \\\n",
       "0  [3, 3, 3, 3, 3, 3, 3, 3, 3, 3, 3, 3]                 3   \n",
       "\n",
       "              verification list 2 flight category 3  \\\n",
       "0  [3, 3, 3, 3, 3, 3, 3, 3, 3, 3]                 3   \n",
       "\n",
       "                    verification list 3 flight category 4  \\\n",
       "0  [3, 3, 3, 3, 3, 3, 3, 3, 3, 3, 3, 3]                 3   \n",
       "\n",
       "              verification list 4 flight category 5  \\\n",
       "0  [3, 3, 3, 3, 3, 3, 3, 3, 3, 3]                 3   \n",
       "\n",
       "                 verification list 5  \n",
       "0  [3, 3, 3, 3, 3, 3, 3, 3, 3, 3, 3]  \n",
       "\n",
       "[1 rows x 523 columns]"
      ]
     },
     "execution_count": 6,
     "metadata": {},
     "output_type": "execute_result"
    }
   ],
   "source": [
    "%%time\n",
    "make_ml_training_data_row(taf_time, 'kbos', 42.3656, -71.0096, metar, 'Data/GLAMP data/', 'Data/hrrr/', asos5)"
   ]
  },
  {
   "cell_type": "code",
   "execution_count": 7,
   "id": "bc301d69-8ab5-40e9-b08c-6db2c8e74602",
   "metadata": {},
   "outputs": [],
   "source": [
    "def make_ml_training_data_set(timelist, station, lat, lon, metar_path, glamp_path, hrrr_path, asos5_path, delay_hours = 2, frequency = '5H'):\n",
    "    training_df = pd.DataFrame()\n",
    "    time_series = pd.Series()\n",
    "    for timepair in timelist:\n",
    "        start_time = timepair[0]\n",
    "        end_time = timepair[1]\n",
    "        time_series = pd.concat([time_series, pd.Series(pd.date_range(start_time, end_time, freq = frequency))])\n",
    "    if isinstance(metar_path, str):\n",
    "        metar_path = read_metar(metar_path)\n",
    "    if isinstance(asos5_path, str):\n",
    "        asos5_path = read_metar(asos5_path)\n",
    "    for time in tqdm(time_series):\n",
    "        try:\n",
    "            training_row = make_ml_training_data_row(time, station, lat, lon, metar_path, glamp_path, hrrr_path, asos5_path, delay_hours = delay_hours)\n",
    "            training_df = pd.concat([training_df, training_row])\n",
    "        except (FileNotFoundError, JSONDecodeError):\n",
    "            continue\n",
    "\n",
    "    training_df = training_df.fillna(-99999)\n",
    "    return training_df"
   ]
  },
  {
   "cell_type": "code",
   "execution_count": 8,
   "id": "07d4d136-d999-44e2-bb76-21aaf6bb0574",
   "metadata": {},
   "outputs": [],
   "source": [
    "def prob_of_detection(predicted_results, actual_results, flight_cat):\n",
    "    result_locations = np.where(actual_results==flight_cat)[0]\n",
    "    num_predict = np.sum(predicted_results[result_locations]==flight_cat)\n",
    "    return num_predict / len(result_locations)\n",
    "\n",
    "def false_alarm_rate(predicted_results, actual_results, flight_cat):\n",
    "    num_predict = np.sum(predicted_results==flight_cat)\n",
    "    predict_locations = np.where(predicted_results==flight_cat)[0]\n",
    "    predict_subset = predicted_results[predict_locations]\n",
    "    actual_subset = actual_results[predict_locations]\n",
    "    \n",
    "    false_alarm_count = np.sum(predict_subset!=actual_subset)\n",
    "    \n",
    "    return false_alarm_count/num_predict\n",
    "\n",
    "def critical_success_index(predicted_results, actual_results, flight_cat):\n",
    "    num_predict = np.sum(predicted_results==flight_cat)\n",
    "    predict_locations = np.where(predicted_results==flight_cat)[0]\n",
    "    non_predict_locations = np.where(predicted_results!=flight_cat)[0]\n",
    "    predict_subset = predicted_results[predict_locations]\n",
    "    actual_subset = actual_results[predict_locations]\n",
    "    actual_subset_compliment = actual_results[non_predict_locations]\n",
    "    \n",
    "    hits = np.sum(predict_subset==actual_subset)\n",
    "    false_alarm_count = np.sum(predict_subset!=actual_subset)\n",
    "    misses = np.sum(actual_subset_compliment==flight_cat)\n",
    "    \n",
    "    return hits / (hits + false_alarm_count + misses)"
   ]
  },
  {
   "cell_type": "code",
   "execution_count": 9,
   "id": "ebb51f0b-0872-4fc0-a6d9-b0b8f409c56f",
   "metadata": {},
   "outputs": [],
   "source": [
    "def data_split(data):\n",
    "    y_keys = np.asarray([key for key in data if 'flight category' in key])\n",
    "    val_keys = np.asarray([key for key in data if 'verification list' in key])\n",
    "    X = data.drop(np.concatenate([y_keys, val_keys]), axis=1)\n",
    "    y_list = data[y_keys]\n",
    "    val_list = data[val_keys]\n",
    "    \n",
    "    return X, y_list, val_list\n"
   ]
  },
  {
   "cell_type": "code",
   "execution_count": 10,
   "id": "0ee189a5-973e-4c8a-83c1-5ecfe91fbee0",
   "metadata": {
    "collapsed": true,
    "jupyter": {
     "outputs_hidden": true
    },
    "tags": []
   },
   "outputs": [
    {
     "name": "stderr",
     "output_type": "stream",
     "text": [
      "  0%|▏                                                                             | 55/24160 [00:23<2:52:26,  2.33it/s]\n"
     ]
    },
    {
     "ename": "KeyboardInterrupt",
     "evalue": "",
     "output_type": "error",
     "traceback": [
      "\u001b[0;31m---------------------------------------------------------------------------\u001b[0m",
      "\u001b[0;31mKeyboardInterrupt\u001b[0m                         Traceback (most recent call last)",
      "Input \u001b[0;32mIn [10]\u001b[0m, in \u001b[0;36m<cell line: 3>\u001b[0;34m()\u001b[0m\n\u001b[1;32m      1\u001b[0m start_date \u001b[38;5;241m=\u001b[39m dt\u001b[38;5;241m.\u001b[39mdatetime(year \u001b[38;5;241m=\u001b[39m \u001b[38;5;241m2020\u001b[39m, month \u001b[38;5;241m=\u001b[39m \u001b[38;5;241m1\u001b[39m, day \u001b[38;5;241m=\u001b[39m \u001b[38;5;241m1\u001b[39m, hour \u001b[38;5;241m=\u001b[39m \u001b[38;5;241m0\u001b[39m, minute \u001b[38;5;241m=\u001b[39m \u001b[38;5;241m0\u001b[39m)\n\u001b[1;32m      2\u001b[0m end_date \u001b[38;5;241m=\u001b[39m dt\u001b[38;5;241m.\u001b[39mdatetime\u001b[38;5;241m.\u001b[39mnow()\n\u001b[0;32m----> 3\u001b[0m data \u001b[38;5;241m=\u001b[39m \u001b[43mmake_ml_training_data_set\u001b[49m\u001b[43m(\u001b[49m\u001b[43m[\u001b[49m\u001b[43m(\u001b[49m\u001b[43mstart_date\u001b[49m\u001b[43m,\u001b[49m\u001b[43m \u001b[49m\u001b[43mend_date\u001b[49m\u001b[43m)\u001b[49m\u001b[43m]\u001b[49m\u001b[43m,\u001b[49m\u001b[43m \u001b[49m\u001b[38;5;124;43m'\u001b[39;49m\u001b[38;5;124;43mkbos\u001b[39;49m\u001b[38;5;124;43m'\u001b[39;49m\u001b[43m,\u001b[49m\u001b[43m \u001b[49m\u001b[38;5;241;43m42.3656\u001b[39;49m\u001b[43m,\u001b[49m\u001b[43m \u001b[49m\u001b[38;5;241;43m-\u001b[39;49m\u001b[38;5;241;43m71.0096\u001b[39;49m\u001b[43m,\u001b[49m\u001b[43m \u001b[49m\u001b[38;5;124;43m'\u001b[39;49m\u001b[38;5;124;43mData/BOS.csv\u001b[39;49m\u001b[38;5;124;43m'\u001b[39;49m\u001b[43m,\u001b[49m\u001b[43m \u001b[49m\u001b[38;5;124;43m'\u001b[39;49m\u001b[38;5;124;43mData/GLAMP data/\u001b[39;49m\u001b[38;5;124;43m'\u001b[39;49m\u001b[43m,\u001b[49m\u001b[43m \u001b[49m\n\u001b[1;32m      4\u001b[0m \u001b[43m                                 \u001b[49m\u001b[38;5;124;43m'\u001b[39;49m\u001b[38;5;124;43mData/hrrr/\u001b[39;49m\u001b[38;5;124;43m'\u001b[39;49m\u001b[43m,\u001b[49m\u001b[43m \u001b[49m\u001b[38;5;124;43m'\u001b[39;49m\u001b[38;5;124;43mData/BOS_5min.csv\u001b[39;49m\u001b[38;5;124;43m'\u001b[39;49m\u001b[43m,\u001b[49m\u001b[43m \u001b[49m\u001b[43mfrequency\u001b[49m\u001b[43m \u001b[49m\u001b[38;5;241;43m=\u001b[39;49m\u001b[43m \u001b[49m\u001b[38;5;124;43m'\u001b[39;49m\u001b[38;5;124;43mH\u001b[39;49m\u001b[38;5;124;43m'\u001b[39;49m\u001b[43m)\u001b[49m\n",
      "Input \u001b[0;32mIn [7]\u001b[0m, in \u001b[0;36mmake_ml_training_data_set\u001b[0;34m(timelist, station, lat, lon, metar_path, glamp_path, hrrr_path, asos5_path, delay_hours, frequency)\u001b[0m\n\u001b[1;32m     12\u001b[0m \u001b[38;5;28;01mfor\u001b[39;00m time \u001b[38;5;129;01min\u001b[39;00m tqdm(time_series):\n\u001b[1;32m     13\u001b[0m     \u001b[38;5;28;01mtry\u001b[39;00m:\n\u001b[0;32m---> 14\u001b[0m         training_row \u001b[38;5;241m=\u001b[39m \u001b[43mmake_ml_training_data_row\u001b[49m\u001b[43m(\u001b[49m\u001b[43mtime\u001b[49m\u001b[43m,\u001b[49m\u001b[43m \u001b[49m\u001b[43mstation\u001b[49m\u001b[43m,\u001b[49m\u001b[43m \u001b[49m\u001b[43mlat\u001b[49m\u001b[43m,\u001b[49m\u001b[43m \u001b[49m\u001b[43mlon\u001b[49m\u001b[43m,\u001b[49m\u001b[43m \u001b[49m\u001b[43mmetar_path\u001b[49m\u001b[43m,\u001b[49m\u001b[43m \u001b[49m\u001b[43mglamp_path\u001b[49m\u001b[43m,\u001b[49m\u001b[43m \u001b[49m\u001b[43mhrrr_path\u001b[49m\u001b[43m,\u001b[49m\u001b[43m \u001b[49m\u001b[43masos5_path\u001b[49m\u001b[43m,\u001b[49m\u001b[43m \u001b[49m\u001b[43mdelay_hours\u001b[49m\u001b[43m \u001b[49m\u001b[38;5;241;43m=\u001b[39;49m\u001b[43m \u001b[49m\u001b[43mdelay_hours\u001b[49m\u001b[43m)\u001b[49m\n\u001b[1;32m     15\u001b[0m         training_df \u001b[38;5;241m=\u001b[39m pd\u001b[38;5;241m.\u001b[39mconcat([training_df, training_row])\n\u001b[1;32m     16\u001b[0m     \u001b[38;5;28;01mexcept\u001b[39;00m (\u001b[38;5;167;01mFileNotFoundError\u001b[39;00m, JSONDecodeError):\n",
      "Input \u001b[0;32mIn [4]\u001b[0m, in \u001b[0;36mmake_ml_training_data_row\u001b[0;34m(taf_time, station, lat, lon, metar_path, glamp_path, hrrr_path, asos5_path, delay_hours, tplus_hours)\u001b[0m\n\u001b[1;32m      4\u001b[0m \u001b[38;5;28;01mif\u001b[39;00m \u001b[38;5;28misinstance\u001b[39m(asos5_path, \u001b[38;5;28mstr\u001b[39m):\n\u001b[1;32m      5\u001b[0m     asos5_path \u001b[38;5;241m=\u001b[39m read_metar(asos5_path)\n\u001b[0;32m----> 7\u001b[0m df \u001b[38;5;241m=\u001b[39m \u001b[43mmake_ml_data_row\u001b[49m\u001b[43m(\u001b[49m\u001b[43mtaf_time\u001b[49m\u001b[43m,\u001b[49m\u001b[43m \u001b[49m\u001b[43mstation\u001b[49m\u001b[43m,\u001b[49m\u001b[43m \u001b[49m\u001b[43mlat\u001b[49m\u001b[43m,\u001b[49m\u001b[43m \u001b[49m\u001b[43mlon\u001b[49m\u001b[43m,\u001b[49m\u001b[43m \u001b[49m\u001b[43mmetar_path\u001b[49m\u001b[43m,\u001b[49m\u001b[43m \u001b[49m\u001b[43mglamp_path\u001b[49m\u001b[43m,\u001b[49m\u001b[43m \u001b[49m\u001b[43mhrrr_path\u001b[49m\u001b[43m,\u001b[49m\u001b[43m \u001b[49m\u001b[43mdelay_hours\u001b[49m\u001b[43m \u001b[49m\u001b[38;5;241;43m=\u001b[39;49m\u001b[43m \u001b[49m\u001b[43mdelay_hours\u001b[49m\u001b[43m)\u001b[49m\n\u001b[1;32m      9\u001b[0m \u001b[38;5;28;01mfor\u001b[39;00m i \u001b[38;5;129;01min\u001b[39;00m \u001b[38;5;28mrange\u001b[39m(tplus_hours):\n\u001b[1;32m     10\u001b[0m     df[\u001b[38;5;124mf\u001b[39m\u001b[38;5;124m'\u001b[39m\u001b[38;5;124mflight category \u001b[39m\u001b[38;5;132;01m{\u001b[39;00mi\u001b[38;5;132;01m}\u001b[39;00m\u001b[38;5;124m'\u001b[39m] \u001b[38;5;241m=\u001b[39m get_conditions_from_asos(taf_time \u001b[38;5;241m+\u001b[39m dt\u001b[38;5;241m.\u001b[39mtimedelta(hours \u001b[38;5;241m=\u001b[39m i), metar_path)\n",
      "Input \u001b[0;32mIn [2]\u001b[0m, in \u001b[0;36mmake_ml_data_row\u001b[0;34m(taf_time, station, lat, lon, metar_path, glamp_path, hrrr_path, delay_hours)\u001b[0m\n\u001b[1;32m     10\u001b[0m     metarDF[\u001b[38;5;124mf\u001b[39m\u001b[38;5;124m'\u001b[39m\u001b[38;5;124mmetar \u001b[39m\u001b[38;5;132;01m{\u001b[39;00mtime\u001b[38;5;132;01m}\u001b[39;00m\u001b[38;5;124m'\u001b[39m] \u001b[38;5;241m=\u001b[39m metar_at_time\n\u001b[1;32m     12\u001b[0m work_time \u001b[38;5;241m=\u001b[39m dt\u001b[38;5;241m.\u001b[39mtimedelta(hours\u001b[38;5;241m=\u001b[39m\u001b[38;5;241m-\u001b[39mdelay_hours)\n\u001b[0;32m---> 13\u001b[0m glamp_data \u001b[38;5;241m=\u001b[39m \u001b[43mget_glamp_at_time\u001b[49m\u001b[43m(\u001b[49m\u001b[43mtaf_time\u001b[49m\u001b[43m \u001b[49m\u001b[38;5;241;43m+\u001b[39;49m\u001b[43m \u001b[49m\u001b[43mwork_time\u001b[49m\u001b[43m,\u001b[49m\u001b[43m \u001b[49m\u001b[43mglamp_path\u001b[49m\u001b[43m,\u001b[49m\u001b[43m \u001b[49m\u001b[43mstation\u001b[49m\u001b[43m,\u001b[49m\u001b[43m \u001b[49m\u001b[43mdownload\u001b[49m\u001b[38;5;241;43m=\u001b[39;49m\u001b[38;5;28;43;01mTrue\u001b[39;49;00m\u001b[43m)\u001b[49m\n\u001b[1;32m     14\u001b[0m hrrr_data \u001b[38;5;241m=\u001b[39m get_hrrr_at_time(taf_time \u001b[38;5;241m+\u001b[39m work_time, hrrr_path, lat, lon, download\u001b[38;5;241m=\u001b[39m\u001b[38;5;28;01mTrue\u001b[39;00m)\n\u001b[1;32m     15\u001b[0m glamp_synoptic_offset \u001b[38;5;241m=\u001b[39m (taf_time\u001b[38;5;241m.\u001b[39mhour \u001b[38;5;241m-\u001b[39m delay_hours) \u001b[38;5;241m%\u001b[39m \u001b[38;5;241m6\u001b[39m \u001b[38;5;241m-\u001b[39m \u001b[38;5;241m1\u001b[39m\n",
      "File \u001b[0;32m/mnt/c/Users/bpara/Documents/Git/nwsFlightCategories/IOfuncs.py:254\u001b[0m, in \u001b[0;36mget_glamp_at_time\u001b[0;34m(datetime, path, station, download)\u001b[0m\n\u001b[1;32m    252\u001b[0m \u001b[38;5;28;01melse\u001b[39;00m:\n\u001b[1;32m    253\u001b[0m     \u001b[38;5;28;01mif\u001b[39;00m download:\n\u001b[0;32m--> 254\u001b[0m         result \u001b[38;5;241m=\u001b[39m \u001b[43mdownload_glamp\u001b[49m\u001b[43m(\u001b[49m\u001b[43mglamp_run_time\u001b[49m\u001b[43m,\u001b[49m\u001b[43m \u001b[49m\u001b[43mstation\u001b[49m\u001b[43m)\u001b[49m\n\u001b[1;32m    255\u001b[0m         result\u001b[38;5;241m.\u001b[39mto_csv(path \u001b[38;5;241m+\u001b[39m fname)\n\u001b[1;32m    257\u001b[0m result[\u001b[38;5;124m'\u001b[39m\u001b[38;5;124mcc1\u001b[39m\u001b[38;5;124m'\u001b[39m] \u001b[38;5;241m=\u001b[39m result[\u001b[38;5;124m'\u001b[39m\u001b[38;5;124mcc1\u001b[39m\u001b[38;5;124m'\u001b[39m]\u001b[38;5;241m.\u001b[39mmap(CC1_CATS)\n",
      "File \u001b[0;32m/mnt/c/Users/bpara/Documents/Git/nwsFlightCategories/IOfuncs.py:141\u001b[0m, in \u001b[0;36mdownload_glamp\u001b[0;34m(datetime, station)\u001b[0m\n\u001b[1;32m    136\u001b[0m base_url \u001b[38;5;241m=\u001b[39m \u001b[38;5;124m'\u001b[39m\u001b[38;5;124mhttps://mesonet.agron.iastate.edu/api/1/mos.json\u001b[39m\u001b[38;5;124m'\u001b[39m\n\u001b[1;32m    138\u001b[0m params \u001b[38;5;241m=\u001b[39m {\u001b[38;5;124m'\u001b[39m\u001b[38;5;124mstation\u001b[39m\u001b[38;5;124m'\u001b[39m: station,\n\u001b[1;32m    139\u001b[0m           \u001b[38;5;124m'\u001b[39m\u001b[38;5;124mmodel\u001b[39m\u001b[38;5;124m'\u001b[39m: \u001b[38;5;124m'\u001b[39m\u001b[38;5;124mLAV\u001b[39m\u001b[38;5;124m'\u001b[39m,\n\u001b[1;32m    140\u001b[0m           \u001b[38;5;124m'\u001b[39m\u001b[38;5;124mruntime\u001b[39m\u001b[38;5;124m'\u001b[39m: datetime}\n\u001b[0;32m--> 141\u001b[0m response \u001b[38;5;241m=\u001b[39m \u001b[43mrequests\u001b[49m\u001b[38;5;241;43m.\u001b[39;49m\u001b[43mget\u001b[49m\u001b[43m(\u001b[49m\u001b[43mbase_url\u001b[49m\u001b[43m,\u001b[49m\u001b[43m \u001b[49m\u001b[43mparams\u001b[49m\u001b[38;5;241;43m=\u001b[39;49m\u001b[43mparams\u001b[49m\u001b[43m)\u001b[49m\n\u001b[1;32m    142\u001b[0m \u001b[38;5;28;01mif\u001b[39;00m response\u001b[38;5;241m.\u001b[39mstatus_code\u001b[38;5;241m==\u001b[39m\u001b[38;5;241m404\u001b[39m:\n\u001b[1;32m    143\u001b[0m     \u001b[38;5;28;01mraise\u001b[39;00m \u001b[38;5;167;01mFileNotFoundError\u001b[39;00m(\u001b[38;5;124m'\u001b[39m\u001b[38;5;124mFile not found on database\u001b[39m\u001b[38;5;124m'\u001b[39m)\n",
      "File \u001b[0;32m~/anaconda3/envs/nws/lib/python3.10/site-packages/requests/api.py:73\u001b[0m, in \u001b[0;36mget\u001b[0;34m(url, params, **kwargs)\u001b[0m\n\u001b[1;32m     62\u001b[0m \u001b[38;5;28;01mdef\u001b[39;00m \u001b[38;5;21mget\u001b[39m(url, params\u001b[38;5;241m=\u001b[39m\u001b[38;5;28;01mNone\u001b[39;00m, \u001b[38;5;241m*\u001b[39m\u001b[38;5;241m*\u001b[39mkwargs):\n\u001b[1;32m     63\u001b[0m     \u001b[38;5;124mr\u001b[39m\u001b[38;5;124;03m\"\"\"Sends a GET request.\u001b[39;00m\n\u001b[1;32m     64\u001b[0m \n\u001b[1;32m     65\u001b[0m \u001b[38;5;124;03m    :param url: URL for the new :class:`Request` object.\u001b[39;00m\n\u001b[0;32m   (...)\u001b[0m\n\u001b[1;32m     70\u001b[0m \u001b[38;5;124;03m    :rtype: requests.Response\u001b[39;00m\n\u001b[1;32m     71\u001b[0m \u001b[38;5;124;03m    \"\"\"\u001b[39;00m\n\u001b[0;32m---> 73\u001b[0m     \u001b[38;5;28;01mreturn\u001b[39;00m \u001b[43mrequest\u001b[49m\u001b[43m(\u001b[49m\u001b[38;5;124;43m\"\u001b[39;49m\u001b[38;5;124;43mget\u001b[39;49m\u001b[38;5;124;43m\"\u001b[39;49m\u001b[43m,\u001b[49m\u001b[43m \u001b[49m\u001b[43murl\u001b[49m\u001b[43m,\u001b[49m\u001b[43m \u001b[49m\u001b[43mparams\u001b[49m\u001b[38;5;241;43m=\u001b[39;49m\u001b[43mparams\u001b[49m\u001b[43m,\u001b[49m\u001b[43m \u001b[49m\u001b[38;5;241;43m*\u001b[39;49m\u001b[38;5;241;43m*\u001b[39;49m\u001b[43mkwargs\u001b[49m\u001b[43m)\u001b[49m\n",
      "File \u001b[0;32m~/anaconda3/envs/nws/lib/python3.10/site-packages/requests/api.py:59\u001b[0m, in \u001b[0;36mrequest\u001b[0;34m(method, url, **kwargs)\u001b[0m\n\u001b[1;32m     55\u001b[0m \u001b[38;5;66;03m# By using the 'with' statement we are sure the session is closed, thus we\u001b[39;00m\n\u001b[1;32m     56\u001b[0m \u001b[38;5;66;03m# avoid leaving sockets open which can trigger a ResourceWarning in some\u001b[39;00m\n\u001b[1;32m     57\u001b[0m \u001b[38;5;66;03m# cases, and look like a memory leak in others.\u001b[39;00m\n\u001b[1;32m     58\u001b[0m \u001b[38;5;28;01mwith\u001b[39;00m sessions\u001b[38;5;241m.\u001b[39mSession() \u001b[38;5;28;01mas\u001b[39;00m session:\n\u001b[0;32m---> 59\u001b[0m     \u001b[38;5;28;01mreturn\u001b[39;00m \u001b[43msession\u001b[49m\u001b[38;5;241;43m.\u001b[39;49m\u001b[43mrequest\u001b[49m\u001b[43m(\u001b[49m\u001b[43mmethod\u001b[49m\u001b[38;5;241;43m=\u001b[39;49m\u001b[43mmethod\u001b[49m\u001b[43m,\u001b[49m\u001b[43m \u001b[49m\u001b[43murl\u001b[49m\u001b[38;5;241;43m=\u001b[39;49m\u001b[43murl\u001b[49m\u001b[43m,\u001b[49m\u001b[43m \u001b[49m\u001b[38;5;241;43m*\u001b[39;49m\u001b[38;5;241;43m*\u001b[39;49m\u001b[43mkwargs\u001b[49m\u001b[43m)\u001b[49m\n",
      "File \u001b[0;32m~/anaconda3/envs/nws/lib/python3.10/site-packages/requests/sessions.py:587\u001b[0m, in \u001b[0;36mSession.request\u001b[0;34m(self, method, url, params, data, headers, cookies, files, auth, timeout, allow_redirects, proxies, hooks, stream, verify, cert, json)\u001b[0m\n\u001b[1;32m    582\u001b[0m send_kwargs \u001b[38;5;241m=\u001b[39m {\n\u001b[1;32m    583\u001b[0m     \u001b[38;5;124m\"\u001b[39m\u001b[38;5;124mtimeout\u001b[39m\u001b[38;5;124m\"\u001b[39m: timeout,\n\u001b[1;32m    584\u001b[0m     \u001b[38;5;124m\"\u001b[39m\u001b[38;5;124mallow_redirects\u001b[39m\u001b[38;5;124m\"\u001b[39m: allow_redirects,\n\u001b[1;32m    585\u001b[0m }\n\u001b[1;32m    586\u001b[0m send_kwargs\u001b[38;5;241m.\u001b[39mupdate(settings)\n\u001b[0;32m--> 587\u001b[0m resp \u001b[38;5;241m=\u001b[39m \u001b[38;5;28;43mself\u001b[39;49m\u001b[38;5;241;43m.\u001b[39;49m\u001b[43msend\u001b[49m\u001b[43m(\u001b[49m\u001b[43mprep\u001b[49m\u001b[43m,\u001b[49m\u001b[43m \u001b[49m\u001b[38;5;241;43m*\u001b[39;49m\u001b[38;5;241;43m*\u001b[39;49m\u001b[43msend_kwargs\u001b[49m\u001b[43m)\u001b[49m\n\u001b[1;32m    589\u001b[0m \u001b[38;5;28;01mreturn\u001b[39;00m resp\n",
      "File \u001b[0;32m~/anaconda3/envs/nws/lib/python3.10/site-packages/requests/sessions.py:701\u001b[0m, in \u001b[0;36mSession.send\u001b[0;34m(self, request, **kwargs)\u001b[0m\n\u001b[1;32m    698\u001b[0m start \u001b[38;5;241m=\u001b[39m preferred_clock()\n\u001b[1;32m    700\u001b[0m \u001b[38;5;66;03m# Send the request\u001b[39;00m\n\u001b[0;32m--> 701\u001b[0m r \u001b[38;5;241m=\u001b[39m \u001b[43madapter\u001b[49m\u001b[38;5;241;43m.\u001b[39;49m\u001b[43msend\u001b[49m\u001b[43m(\u001b[49m\u001b[43mrequest\u001b[49m\u001b[43m,\u001b[49m\u001b[43m \u001b[49m\u001b[38;5;241;43m*\u001b[39;49m\u001b[38;5;241;43m*\u001b[39;49m\u001b[43mkwargs\u001b[49m\u001b[43m)\u001b[49m\n\u001b[1;32m    703\u001b[0m \u001b[38;5;66;03m# Total elapsed time of the request (approximately)\u001b[39;00m\n\u001b[1;32m    704\u001b[0m elapsed \u001b[38;5;241m=\u001b[39m preferred_clock() \u001b[38;5;241m-\u001b[39m start\n",
      "File \u001b[0;32m~/anaconda3/envs/nws/lib/python3.10/site-packages/requests/adapters.py:489\u001b[0m, in \u001b[0;36mHTTPAdapter.send\u001b[0;34m(self, request, stream, timeout, verify, cert, proxies)\u001b[0m\n\u001b[1;32m    487\u001b[0m \u001b[38;5;28;01mtry\u001b[39;00m:\n\u001b[1;32m    488\u001b[0m     \u001b[38;5;28;01mif\u001b[39;00m \u001b[38;5;129;01mnot\u001b[39;00m chunked:\n\u001b[0;32m--> 489\u001b[0m         resp \u001b[38;5;241m=\u001b[39m \u001b[43mconn\u001b[49m\u001b[38;5;241;43m.\u001b[39;49m\u001b[43murlopen\u001b[49m\u001b[43m(\u001b[49m\n\u001b[1;32m    490\u001b[0m \u001b[43m            \u001b[49m\u001b[43mmethod\u001b[49m\u001b[38;5;241;43m=\u001b[39;49m\u001b[43mrequest\u001b[49m\u001b[38;5;241;43m.\u001b[39;49m\u001b[43mmethod\u001b[49m\u001b[43m,\u001b[49m\n\u001b[1;32m    491\u001b[0m \u001b[43m            \u001b[49m\u001b[43murl\u001b[49m\u001b[38;5;241;43m=\u001b[39;49m\u001b[43murl\u001b[49m\u001b[43m,\u001b[49m\n\u001b[1;32m    492\u001b[0m \u001b[43m            \u001b[49m\u001b[43mbody\u001b[49m\u001b[38;5;241;43m=\u001b[39;49m\u001b[43mrequest\u001b[49m\u001b[38;5;241;43m.\u001b[39;49m\u001b[43mbody\u001b[49m\u001b[43m,\u001b[49m\n\u001b[1;32m    493\u001b[0m \u001b[43m            \u001b[49m\u001b[43mheaders\u001b[49m\u001b[38;5;241;43m=\u001b[39;49m\u001b[43mrequest\u001b[49m\u001b[38;5;241;43m.\u001b[39;49m\u001b[43mheaders\u001b[49m\u001b[43m,\u001b[49m\n\u001b[1;32m    494\u001b[0m \u001b[43m            \u001b[49m\u001b[43mredirect\u001b[49m\u001b[38;5;241;43m=\u001b[39;49m\u001b[38;5;28;43;01mFalse\u001b[39;49;00m\u001b[43m,\u001b[49m\n\u001b[1;32m    495\u001b[0m \u001b[43m            \u001b[49m\u001b[43massert_same_host\u001b[49m\u001b[38;5;241;43m=\u001b[39;49m\u001b[38;5;28;43;01mFalse\u001b[39;49;00m\u001b[43m,\u001b[49m\n\u001b[1;32m    496\u001b[0m \u001b[43m            \u001b[49m\u001b[43mpreload_content\u001b[49m\u001b[38;5;241;43m=\u001b[39;49m\u001b[38;5;28;43;01mFalse\u001b[39;49;00m\u001b[43m,\u001b[49m\n\u001b[1;32m    497\u001b[0m \u001b[43m            \u001b[49m\u001b[43mdecode_content\u001b[49m\u001b[38;5;241;43m=\u001b[39;49m\u001b[38;5;28;43;01mFalse\u001b[39;49;00m\u001b[43m,\u001b[49m\n\u001b[1;32m    498\u001b[0m \u001b[43m            \u001b[49m\u001b[43mretries\u001b[49m\u001b[38;5;241;43m=\u001b[39;49m\u001b[38;5;28;43mself\u001b[39;49m\u001b[38;5;241;43m.\u001b[39;49m\u001b[43mmax_retries\u001b[49m\u001b[43m,\u001b[49m\n\u001b[1;32m    499\u001b[0m \u001b[43m            \u001b[49m\u001b[43mtimeout\u001b[49m\u001b[38;5;241;43m=\u001b[39;49m\u001b[43mtimeout\u001b[49m\u001b[43m,\u001b[49m\n\u001b[1;32m    500\u001b[0m \u001b[43m        \u001b[49m\u001b[43m)\u001b[49m\n\u001b[1;32m    502\u001b[0m     \u001b[38;5;66;03m# Send the request.\u001b[39;00m\n\u001b[1;32m    503\u001b[0m     \u001b[38;5;28;01melse\u001b[39;00m:\n\u001b[1;32m    504\u001b[0m         \u001b[38;5;28;01mif\u001b[39;00m \u001b[38;5;28mhasattr\u001b[39m(conn, \u001b[38;5;124m\"\u001b[39m\u001b[38;5;124mproxy_pool\u001b[39m\u001b[38;5;124m\"\u001b[39m):\n",
      "File \u001b[0;32m~/anaconda3/envs/nws/lib/python3.10/site-packages/urllib3/connectionpool.py:703\u001b[0m, in \u001b[0;36mHTTPConnectionPool.urlopen\u001b[0;34m(self, method, url, body, headers, retries, redirect, assert_same_host, timeout, pool_timeout, release_conn, chunked, body_pos, **response_kw)\u001b[0m\n\u001b[1;32m    700\u001b[0m     \u001b[38;5;28mself\u001b[39m\u001b[38;5;241m.\u001b[39m_prepare_proxy(conn)\n\u001b[1;32m    702\u001b[0m \u001b[38;5;66;03m# Make the request on the httplib connection object.\u001b[39;00m\n\u001b[0;32m--> 703\u001b[0m httplib_response \u001b[38;5;241m=\u001b[39m \u001b[38;5;28;43mself\u001b[39;49m\u001b[38;5;241;43m.\u001b[39;49m\u001b[43m_make_request\u001b[49m\u001b[43m(\u001b[49m\n\u001b[1;32m    704\u001b[0m \u001b[43m    \u001b[49m\u001b[43mconn\u001b[49m\u001b[43m,\u001b[49m\n\u001b[1;32m    705\u001b[0m \u001b[43m    \u001b[49m\u001b[43mmethod\u001b[49m\u001b[43m,\u001b[49m\n\u001b[1;32m    706\u001b[0m \u001b[43m    \u001b[49m\u001b[43murl\u001b[49m\u001b[43m,\u001b[49m\n\u001b[1;32m    707\u001b[0m \u001b[43m    \u001b[49m\u001b[43mtimeout\u001b[49m\u001b[38;5;241;43m=\u001b[39;49m\u001b[43mtimeout_obj\u001b[49m\u001b[43m,\u001b[49m\n\u001b[1;32m    708\u001b[0m \u001b[43m    \u001b[49m\u001b[43mbody\u001b[49m\u001b[38;5;241;43m=\u001b[39;49m\u001b[43mbody\u001b[49m\u001b[43m,\u001b[49m\n\u001b[1;32m    709\u001b[0m \u001b[43m    \u001b[49m\u001b[43mheaders\u001b[49m\u001b[38;5;241;43m=\u001b[39;49m\u001b[43mheaders\u001b[49m\u001b[43m,\u001b[49m\n\u001b[1;32m    710\u001b[0m \u001b[43m    \u001b[49m\u001b[43mchunked\u001b[49m\u001b[38;5;241;43m=\u001b[39;49m\u001b[43mchunked\u001b[49m\u001b[43m,\u001b[49m\n\u001b[1;32m    711\u001b[0m \u001b[43m\u001b[49m\u001b[43m)\u001b[49m\n\u001b[1;32m    713\u001b[0m \u001b[38;5;66;03m# If we're going to release the connection in ``finally:``, then\u001b[39;00m\n\u001b[1;32m    714\u001b[0m \u001b[38;5;66;03m# the response doesn't need to know about the connection. Otherwise\u001b[39;00m\n\u001b[1;32m    715\u001b[0m \u001b[38;5;66;03m# it will also try to release it and we'll have a double-release\u001b[39;00m\n\u001b[1;32m    716\u001b[0m \u001b[38;5;66;03m# mess.\u001b[39;00m\n\u001b[1;32m    717\u001b[0m response_conn \u001b[38;5;241m=\u001b[39m conn \u001b[38;5;28;01mif\u001b[39;00m \u001b[38;5;129;01mnot\u001b[39;00m release_conn \u001b[38;5;28;01melse\u001b[39;00m \u001b[38;5;28;01mNone\u001b[39;00m\n",
      "File \u001b[0;32m~/anaconda3/envs/nws/lib/python3.10/site-packages/urllib3/connectionpool.py:386\u001b[0m, in \u001b[0;36mHTTPConnectionPool._make_request\u001b[0;34m(self, conn, method, url, timeout, chunked, **httplib_request_kw)\u001b[0m\n\u001b[1;32m    384\u001b[0m \u001b[38;5;66;03m# Trigger any extra validation we need to do.\u001b[39;00m\n\u001b[1;32m    385\u001b[0m \u001b[38;5;28;01mtry\u001b[39;00m:\n\u001b[0;32m--> 386\u001b[0m     \u001b[38;5;28;43mself\u001b[39;49m\u001b[38;5;241;43m.\u001b[39;49m\u001b[43m_validate_conn\u001b[49m\u001b[43m(\u001b[49m\u001b[43mconn\u001b[49m\u001b[43m)\u001b[49m\n\u001b[1;32m    387\u001b[0m \u001b[38;5;28;01mexcept\u001b[39;00m (SocketTimeout, BaseSSLError) \u001b[38;5;28;01mas\u001b[39;00m e:\n\u001b[1;32m    388\u001b[0m     \u001b[38;5;66;03m# Py2 raises this as a BaseSSLError, Py3 raises it as socket timeout.\u001b[39;00m\n\u001b[1;32m    389\u001b[0m     \u001b[38;5;28mself\u001b[39m\u001b[38;5;241m.\u001b[39m_raise_timeout(err\u001b[38;5;241m=\u001b[39me, url\u001b[38;5;241m=\u001b[39murl, timeout_value\u001b[38;5;241m=\u001b[39mconn\u001b[38;5;241m.\u001b[39mtimeout)\n",
      "File \u001b[0;32m~/anaconda3/envs/nws/lib/python3.10/site-packages/urllib3/connectionpool.py:1042\u001b[0m, in \u001b[0;36mHTTPSConnectionPool._validate_conn\u001b[0;34m(self, conn)\u001b[0m\n\u001b[1;32m   1040\u001b[0m \u001b[38;5;66;03m# Force connect early to allow us to validate the connection.\u001b[39;00m\n\u001b[1;32m   1041\u001b[0m \u001b[38;5;28;01mif\u001b[39;00m \u001b[38;5;129;01mnot\u001b[39;00m \u001b[38;5;28mgetattr\u001b[39m(conn, \u001b[38;5;124m\"\u001b[39m\u001b[38;5;124msock\u001b[39m\u001b[38;5;124m\"\u001b[39m, \u001b[38;5;28;01mNone\u001b[39;00m):  \u001b[38;5;66;03m# AppEngine might not have  `.sock`\u001b[39;00m\n\u001b[0;32m-> 1042\u001b[0m     \u001b[43mconn\u001b[49m\u001b[38;5;241;43m.\u001b[39;49m\u001b[43mconnect\u001b[49m\u001b[43m(\u001b[49m\u001b[43m)\u001b[49m\n\u001b[1;32m   1044\u001b[0m \u001b[38;5;28;01mif\u001b[39;00m \u001b[38;5;129;01mnot\u001b[39;00m conn\u001b[38;5;241m.\u001b[39mis_verified:\n\u001b[1;32m   1045\u001b[0m     warnings\u001b[38;5;241m.\u001b[39mwarn(\n\u001b[1;32m   1046\u001b[0m         (\n\u001b[1;32m   1047\u001b[0m             \u001b[38;5;124m\"\u001b[39m\u001b[38;5;124mUnverified HTTPS request is being made to host \u001b[39m\u001b[38;5;124m'\u001b[39m\u001b[38;5;132;01m%s\u001b[39;00m\u001b[38;5;124m'\u001b[39m\u001b[38;5;124m. \u001b[39m\u001b[38;5;124m\"\u001b[39m\n\u001b[0;32m   (...)\u001b[0m\n\u001b[1;32m   1052\u001b[0m         InsecureRequestWarning,\n\u001b[1;32m   1053\u001b[0m     )\n",
      "File \u001b[0;32m~/anaconda3/envs/nws/lib/python3.10/site-packages/urllib3/connection.py:358\u001b[0m, in \u001b[0;36mHTTPSConnection.connect\u001b[0;34m(self)\u001b[0m\n\u001b[1;32m    356\u001b[0m \u001b[38;5;28;01mdef\u001b[39;00m \u001b[38;5;21mconnect\u001b[39m(\u001b[38;5;28mself\u001b[39m):\n\u001b[1;32m    357\u001b[0m     \u001b[38;5;66;03m# Add certificate verification\u001b[39;00m\n\u001b[0;32m--> 358\u001b[0m     \u001b[38;5;28mself\u001b[39m\u001b[38;5;241m.\u001b[39msock \u001b[38;5;241m=\u001b[39m conn \u001b[38;5;241m=\u001b[39m \u001b[38;5;28;43mself\u001b[39;49m\u001b[38;5;241;43m.\u001b[39;49m\u001b[43m_new_conn\u001b[49m\u001b[43m(\u001b[49m\u001b[43m)\u001b[49m\n\u001b[1;32m    359\u001b[0m     hostname \u001b[38;5;241m=\u001b[39m \u001b[38;5;28mself\u001b[39m\u001b[38;5;241m.\u001b[39mhost\n\u001b[1;32m    360\u001b[0m     tls_in_tls \u001b[38;5;241m=\u001b[39m \u001b[38;5;28;01mFalse\u001b[39;00m\n",
      "File \u001b[0;32m~/anaconda3/envs/nws/lib/python3.10/site-packages/urllib3/connection.py:174\u001b[0m, in \u001b[0;36mHTTPConnection._new_conn\u001b[0;34m(self)\u001b[0m\n\u001b[1;32m    171\u001b[0m     extra_kw[\u001b[38;5;124m\"\u001b[39m\u001b[38;5;124msocket_options\u001b[39m\u001b[38;5;124m\"\u001b[39m] \u001b[38;5;241m=\u001b[39m \u001b[38;5;28mself\u001b[39m\u001b[38;5;241m.\u001b[39msocket_options\n\u001b[1;32m    173\u001b[0m \u001b[38;5;28;01mtry\u001b[39;00m:\n\u001b[0;32m--> 174\u001b[0m     conn \u001b[38;5;241m=\u001b[39m \u001b[43mconnection\u001b[49m\u001b[38;5;241;43m.\u001b[39;49m\u001b[43mcreate_connection\u001b[49m\u001b[43m(\u001b[49m\n\u001b[1;32m    175\u001b[0m \u001b[43m        \u001b[49m\u001b[43m(\u001b[49m\u001b[38;5;28;43mself\u001b[39;49m\u001b[38;5;241;43m.\u001b[39;49m\u001b[43m_dns_host\u001b[49m\u001b[43m,\u001b[49m\u001b[43m \u001b[49m\u001b[38;5;28;43mself\u001b[39;49m\u001b[38;5;241;43m.\u001b[39;49m\u001b[43mport\u001b[49m\u001b[43m)\u001b[49m\u001b[43m,\u001b[49m\u001b[43m \u001b[49m\u001b[38;5;28;43mself\u001b[39;49m\u001b[38;5;241;43m.\u001b[39;49m\u001b[43mtimeout\u001b[49m\u001b[43m,\u001b[49m\u001b[43m \u001b[49m\u001b[38;5;241;43m*\u001b[39;49m\u001b[38;5;241;43m*\u001b[39;49m\u001b[43mextra_kw\u001b[49m\n\u001b[1;32m    176\u001b[0m \u001b[43m    \u001b[49m\u001b[43m)\u001b[49m\n\u001b[1;32m    178\u001b[0m \u001b[38;5;28;01mexcept\u001b[39;00m SocketTimeout:\n\u001b[1;32m    179\u001b[0m     \u001b[38;5;28;01mraise\u001b[39;00m ConnectTimeoutError(\n\u001b[1;32m    180\u001b[0m         \u001b[38;5;28mself\u001b[39m,\n\u001b[1;32m    181\u001b[0m         \u001b[38;5;124m\"\u001b[39m\u001b[38;5;124mConnection to \u001b[39m\u001b[38;5;132;01m%s\u001b[39;00m\u001b[38;5;124m timed out. (connect timeout=\u001b[39m\u001b[38;5;132;01m%s\u001b[39;00m\u001b[38;5;124m)\u001b[39m\u001b[38;5;124m\"\u001b[39m\n\u001b[1;32m    182\u001b[0m         \u001b[38;5;241m%\u001b[39m (\u001b[38;5;28mself\u001b[39m\u001b[38;5;241m.\u001b[39mhost, \u001b[38;5;28mself\u001b[39m\u001b[38;5;241m.\u001b[39mtimeout),\n\u001b[1;32m    183\u001b[0m     )\n",
      "File \u001b[0;32m~/anaconda3/envs/nws/lib/python3.10/site-packages/urllib3/util/connection.py:85\u001b[0m, in \u001b[0;36mcreate_connection\u001b[0;34m(address, timeout, source_address, socket_options)\u001b[0m\n\u001b[1;32m     83\u001b[0m     \u001b[38;5;28;01mif\u001b[39;00m source_address:\n\u001b[1;32m     84\u001b[0m         sock\u001b[38;5;241m.\u001b[39mbind(source_address)\n\u001b[0;32m---> 85\u001b[0m     \u001b[43msock\u001b[49m\u001b[38;5;241;43m.\u001b[39;49m\u001b[43mconnect\u001b[49m\u001b[43m(\u001b[49m\u001b[43msa\u001b[49m\u001b[43m)\u001b[49m\n\u001b[1;32m     86\u001b[0m     \u001b[38;5;28;01mreturn\u001b[39;00m sock\n\u001b[1;32m     88\u001b[0m \u001b[38;5;28;01mexcept\u001b[39;00m socket\u001b[38;5;241m.\u001b[39merror \u001b[38;5;28;01mas\u001b[39;00m e:\n",
      "\u001b[0;31mKeyboardInterrupt\u001b[0m: "
     ]
    }
   ],
   "source": [
    "start_date = dt.datetime(year = 2020, month = 1, day = 1, hour = 0, minute = 0)\n",
    "end_date = dt.datetime.now()\n",
    "data = make_ml_training_data_set([(start_date, end_date)], 'kbos', 42.3656, -71.0096, 'Data/BOS.csv', 'Data/GLAMP data/', \n",
    "                                 'Data/hrrr/', 'Data/BOS_5min.csv', frequency = 'H')"
   ]
  },
  {
   "cell_type": "code",
   "execution_count": 11,
   "id": "0fa7f6c8-59f3-4d94-9b1d-8fd0a24072c3",
   "metadata": {},
   "outputs": [
    {
     "ename": "NameError",
     "evalue": "name 'data' is not defined",
     "output_type": "error",
     "traceback": [
      "\u001b[0;31m---------------------------------------------------------------------------\u001b[0m",
      "\u001b[0;31mNameError\u001b[0m                                 Traceback (most recent call last)",
      "Input \u001b[0;32mIn [11]\u001b[0m, in \u001b[0;36m<cell line: 1>\u001b[0;34m()\u001b[0m\n\u001b[0;32m----> 1\u001b[0m \u001b[43mdata\u001b[49m\u001b[38;5;241m.\u001b[39mto_csv(\u001b[38;5;124m'\u001b[39m\u001b[38;5;124msince2020.csv\u001b[39m\u001b[38;5;124m'\u001b[39m)\n",
      "\u001b[0;31mNameError\u001b[0m: name 'data' is not defined"
     ]
    }
   ],
   "source": [
    "data.to_csv('since2020.csv')"
   ]
  },
  {
   "cell_type": "code",
   "execution_count": 12,
   "id": "6c55bc23-ebb7-4a06-b0fe-c18630102611",
   "metadata": {},
   "outputs": [
    {
     "name": "stderr",
     "output_type": "stream",
     "text": [
      "100%|███████████████████████████████████████████████████████████████████████████████| 4320/4320 [22:04<00:00,  3.26it/s]\n"
     ]
    }
   ],
   "source": [
    "start_date_winter_1 = dt.datetime(year = 2020, month = 12, day = 1, hour = 0, minute = 0)\n",
    "end_date_winter_1 = dt.datetime(year = 2021, month = 2, day = 28, hour = 23, minute = 0)\n",
    "start_date_winter_2 = dt.datetime(year = 2019, month = 12, day = 1, hour = 0, minute = 0)\n",
    "end_date_winter_2 = dt.datetime(year = 2020, month = 2, day = 28, hour = 23, minute = 0)\n",
    "winter_data = make_ml_training_data_set([(start_date_winter_1, end_date_winter_1), (start_date_winter_2, end_date_winter_2)], \n",
    "                                        'kbos', 42.3656, -71.0096, 'Data/BOS.csv',\n",
    "                                        'Data/GLAMP data/', 'Data/hrrr/', 'Data/BOS_5min.csv', frequency = 'H')"
   ]
  },
  {
   "cell_type": "code",
   "execution_count": 13,
   "id": "6d2b28e9-1d01-4aaa-b42a-8070085d307f",
   "metadata": {},
   "outputs": [
    {
     "name": "stderr",
     "output_type": "stream",
     "text": [
      "100%|███████████████████████████████████████████████████████████████████████████████| 4416/4416 [23:03<00:00,  3.19it/s]\n"
     ]
    }
   ],
   "source": [
    "start_date_spring_1 = dt.datetime(year = 2021, month = 3, day = 1, hour = 0, minute = 0)\n",
    "end_date_spring_1 = dt.datetime(year = 2021, month = 5, day = 31, hour = 23, minute = 0)\n",
    "start_date_spring_2 = dt.datetime(year = 2020, month = 3, day = 1, hour = 0, minute = 0)\n",
    "end_date_spring_2 = dt.datetime(year = 2020, month = 5, day = 31, hour = 23, minute = 0)\n",
    "spring_data = make_ml_training_data_set([(start_date_spring_1, end_date_spring_1), (start_date_spring_2, end_date_spring_2)], \n",
    "                                         'kbos', 42.3656, -71.0096, 'Data/BOS.csv', \n",
    "                                        'Data/GLAMP data/', 'Data/hrrr/', 'Data/BOS_5min.csv', frequency = 'H')"
   ]
  },
  {
   "cell_type": "code",
   "execution_count": 117,
   "id": "d9ead147-65f0-4b02-8c73-84c4326b9e98",
   "metadata": {},
   "outputs": [],
   "source": [
    "def test_accuracy_metrics(classifier_rf, training_data, flight_cat, use_ci=None):\n",
    "    result_df = pd.DataFrame()\n",
    "    (X, y_list, val_list) = data_split(training_data)\n",
    "    for y, val in zip(y_list,val_list):\n",
    "        X_train, X_test, y_train, y_test, _, val_test = train_test_split(X, y_list[y], val_list[val], train_size=0.7, random_state=42)\n",
    "        classifier_rf.fit(X_train, y_train)\n",
    "        if use_ci is not None: #keep only ones where prob is above CI\n",
    "            initial_count = np.sum(classifier_rf.predict(X_test)==flight_cat)\n",
    "            predict_probs_mask = classifier_rf.predict_proba(X_test)[:,flight_cat] >= use_ci\n",
    "            val_test = val_test[predict_probs_mask]\n",
    "            X_test = X_test[predict_probs_mask]\n",
    "            print(f'Total predicted events of this type: {initial_count}, number of events with prob above ci: {np.sum(predict_probs_mask)}')\n",
    "        prob = np.repeat(classifier_rf.predict(X_test), [len(verifications) for verifications in val_test])\n",
    "        results = np.concatenate(np.asarray(val_test))\n",
    "        result_df[y] = (prob_of_detection(prob, results, flight_cat), \n",
    "                        false_alarm_rate(prob, results, flight_cat), \n",
    "                        critical_success_index(prob, results, flight_cat))\n",
    "        result_df.rename({0: 'POD', 1: 'FAR', 2: 'CSI'}, inplace=True)\n",
    "    return result_df"
   ]
  },
  {
   "cell_type": "code",
   "execution_count": 136,
   "id": "130f9126-6fef-4852-929a-7dfdc8805ff4",
   "metadata": {},
   "outputs": [],
   "source": [
    "classifier_rf = RandomForestClassifier(random_state=42, n_jobs = -1)\n",
    "classifier_nn = MLPClassifier(random_state=42)\n",
    "#params determined via hyperparam tuning\n",
    "n_estimators = [int(x) for x in np.linspace(200, 2000, 10)]\n",
    "max_depth = [x for x in range(10, 120, 10)]\n",
    "max_depth.append(None)\n",
    "min_samples_split = [2, 5, 10]\n",
    "min_samples_leaf = [1, 2, 4]\n",
    "bootstrap = [True, False]\n",
    "random_grid = {'n_estimators': n_estimators,\n",
    "               'max_depth': max_depth,\n",
    "               'min_samples_split': min_samples_split,\n",
    "               'min_samples_leaf': min_samples_leaf,\n",
    "               'bootstrap': bootstrap}\n",
    "tuned_rf = RandomizedSearchCV(estimator = classifier_rf, param_distributions = random_grid, random_state = 42, n_jobs = -1)\n",
    "k = 0.35"
   ]
  },
  {
   "cell_type": "code",
   "execution_count": 137,
   "id": "83ad0564-35f3-4a51-8efc-21989b9a6a6c",
   "metadata": {
    "tags": []
   },
   "outputs": [
    {
     "name": "stdout",
     "output_type": "stream",
     "text": [
      "Total predicted events: 581, number of events with prob above ci: 586\n",
      "Total predicted events: 578, number of events with prob above ci: 584\n",
      "Total predicted events: 584, number of events with prob above ci: 587\n",
      "Total predicted events: 577, number of events with prob above ci: 580\n",
      "Total predicted events: 581, number of events with prob above ci: 583\n",
      "Total predicted events: 584, number of events with prob above ci: 586\n",
      "CPU times: user 8.02 s, sys: 2.68 s, total: 10.7 s\n",
      "Wall time: 3.51 s\n"
     ]
    },
    {
     "data": {
      "text/html": [
       "<div>\n",
       "<style scoped>\n",
       "    .dataframe tbody tr th:only-of-type {\n",
       "        vertical-align: middle;\n",
       "    }\n",
       "\n",
       "    .dataframe tbody tr th {\n",
       "        vertical-align: top;\n",
       "    }\n",
       "\n",
       "    .dataframe thead th {\n",
       "        text-align: right;\n",
       "    }\n",
       "</style>\n",
       "<table border=\"1\" class=\"dataframe\">\n",
       "  <thead>\n",
       "    <tr style=\"text-align: right;\">\n",
       "      <th></th>\n",
       "      <th>flight category 0</th>\n",
       "      <th>flight category 1</th>\n",
       "      <th>flight category 2</th>\n",
       "      <th>flight category 3</th>\n",
       "      <th>flight category 4</th>\n",
       "      <th>flight category 5</th>\n",
       "    </tr>\n",
       "  </thead>\n",
       "  <tbody>\n",
       "    <tr>\n",
       "      <th>POD</th>\n",
       "      <td>0.999513</td>\n",
       "      <td>0.999346</td>\n",
       "      <td>0.998699</td>\n",
       "      <td>0.999840</td>\n",
       "      <td>0.997250</td>\n",
       "      <td>1.000000</td>\n",
       "    </tr>\n",
       "    <tr>\n",
       "      <th>FAR</th>\n",
       "      <td>0.022240</td>\n",
       "      <td>0.020349</td>\n",
       "      <td>0.029249</td>\n",
       "      <td>0.013909</td>\n",
       "      <td>0.016746</td>\n",
       "      <td>0.020962</td>\n",
       "    </tr>\n",
       "    <tr>\n",
       "      <th>CSI</th>\n",
       "      <td>0.977294</td>\n",
       "      <td>0.979023</td>\n",
       "      <td>0.969525</td>\n",
       "      <td>0.985936</td>\n",
       "      <td>0.980595</td>\n",
       "      <td>0.979038</td>\n",
       "    </tr>\n",
       "  </tbody>\n",
       "</table>\n",
       "</div>"
      ],
      "text/plain": [
       "     flight category 0  flight category 1  flight category 2  \\\n",
       "POD           0.999513           0.999346           0.998699   \n",
       "FAR           0.022240           0.020349           0.029249   \n",
       "CSI           0.977294           0.979023           0.969525   \n",
       "\n",
       "     flight category 3  flight category 4  flight category 5  \n",
       "POD           0.999840           0.997250           1.000000  \n",
       "FAR           0.013909           0.016746           0.020962  \n",
       "CSI           0.985936           0.980595           0.979038  "
      ]
     },
     "execution_count": 137,
     "metadata": {},
     "output_type": "execute_result"
    }
   ],
   "source": [
    "%%time\n",
    "test_accuracy_metrics(classifier_rf, spring_data, 3, use_ci = k) #VFR"
   ]
  },
  {
   "cell_type": "code",
   "execution_count": 138,
   "id": "cb916ce1-928f-48a5-8ff9-47a01876ad8a",
   "metadata": {
    "tags": []
   },
   "outputs": [
    {
     "name": "stdout",
     "output_type": "stream",
     "text": [
      "CPU times: user 6.97 s, sys: 2.06 s, total: 9.03 s\n",
      "Wall time: 2.6 s\n"
     ]
    },
    {
     "data": {
      "text/html": [
       "<div>\n",
       "<style scoped>\n",
       "    .dataframe tbody tr th:only-of-type {\n",
       "        vertical-align: middle;\n",
       "    }\n",
       "\n",
       "    .dataframe tbody tr th {\n",
       "        vertical-align: top;\n",
       "    }\n",
       "\n",
       "    .dataframe thead th {\n",
       "        text-align: right;\n",
       "    }\n",
       "</style>\n",
       "<table border=\"1\" class=\"dataframe\">\n",
       "  <thead>\n",
       "    <tr style=\"text-align: right;\">\n",
       "      <th></th>\n",
       "      <th>flight category 0</th>\n",
       "      <th>flight category 1</th>\n",
       "      <th>flight category 2</th>\n",
       "      <th>flight category 3</th>\n",
       "      <th>flight category 4</th>\n",
       "      <th>flight category 5</th>\n",
       "    </tr>\n",
       "  </thead>\n",
       "  <tbody>\n",
       "    <tr>\n",
       "      <th>POD</th>\n",
       "      <td>0.994993</td>\n",
       "      <td>0.995928</td>\n",
       "      <td>0.996106</td>\n",
       "      <td>0.997442</td>\n",
       "      <td>0.993714</td>\n",
       "      <td>0.995961</td>\n",
       "    </tr>\n",
       "    <tr>\n",
       "      <th>FAR</th>\n",
       "      <td>0.023307</td>\n",
       "      <td>0.022229</td>\n",
       "      <td>0.029249</td>\n",
       "      <td>0.013909</td>\n",
       "      <td>0.016746</td>\n",
       "      <td>0.020962</td>\n",
       "    </tr>\n",
       "    <tr>\n",
       "      <th>CSI</th>\n",
       "      <td>0.971915</td>\n",
       "      <td>0.973877</td>\n",
       "      <td>0.967081</td>\n",
       "      <td>0.983604</td>\n",
       "      <td>0.977175</td>\n",
       "      <td>0.975166</td>\n",
       "    </tr>\n",
       "  </tbody>\n",
       "</table>\n",
       "</div>"
      ],
      "text/plain": [
       "     flight category 0  flight category 1  flight category 2  \\\n",
       "POD           0.994993           0.995928           0.996106   \n",
       "FAR           0.023307           0.022229           0.029249   \n",
       "CSI           0.971915           0.973877           0.967081   \n",
       "\n",
       "     flight category 3  flight category 4  flight category 5  \n",
       "POD           0.997442           0.993714           0.995961  \n",
       "FAR           0.013909           0.016746           0.020962  \n",
       "CSI           0.983604           0.977175           0.975166  "
      ]
     },
     "execution_count": 138,
     "metadata": {},
     "output_type": "execute_result"
    }
   ],
   "source": [
    "%%time\n",
    "test_accuracy_metrics(classifier_rf, spring_data, 3) #VFR"
   ]
  },
  {
   "cell_type": "code",
   "execution_count": 139,
   "id": "d0a08bf8-10dc-405c-9323-bebcaad685b5",
   "metadata": {
    "tags": []
   },
   "outputs": [
    {
     "name": "stdout",
     "output_type": "stream",
     "text": [
      "Total predicted events: 515, number of events with prob above ci: 529\n",
      "Total predicted events: 504, number of events with prob above ci: 524\n",
      "Total predicted events: 510, number of events with prob above ci: 529\n",
      "Total predicted events: 506, number of events with prob above ci: 526\n",
      "Total predicted events: 514, number of events with prob above ci: 530\n",
      "Total predicted events: 524, number of events with prob above ci: 540\n",
      "CPU times: user 9.32 s, sys: 2.61 s, total: 11.9 s\n",
      "Wall time: 3.62 s\n"
     ]
    },
    {
     "data": {
      "text/html": [
       "<div>\n",
       "<style scoped>\n",
       "    .dataframe tbody tr th:only-of-type {\n",
       "        vertical-align: middle;\n",
       "    }\n",
       "\n",
       "    .dataframe tbody tr th {\n",
       "        vertical-align: top;\n",
       "    }\n",
       "\n",
       "    .dataframe thead th {\n",
       "        text-align: right;\n",
       "    }\n",
       "</style>\n",
       "<table border=\"1\" class=\"dataframe\">\n",
       "  <thead>\n",
       "    <tr style=\"text-align: right;\">\n",
       "      <th></th>\n",
       "      <th>flight category 0</th>\n",
       "      <th>flight category 1</th>\n",
       "      <th>flight category 2</th>\n",
       "      <th>flight category 3</th>\n",
       "      <th>flight category 4</th>\n",
       "      <th>flight category 5</th>\n",
       "    </tr>\n",
       "  </thead>\n",
       "  <tbody>\n",
       "    <tr>\n",
       "      <th>POD</th>\n",
       "      <td>0.987689</td>\n",
       "      <td>0.987674</td>\n",
       "      <td>0.988172</td>\n",
       "      <td>0.975541</td>\n",
       "      <td>0.989702</td>\n",
       "      <td>0.988204</td>\n",
       "    </tr>\n",
       "    <tr>\n",
       "      <th>FAR</th>\n",
       "      <td>0.059355</td>\n",
       "      <td>0.054482</td>\n",
       "      <td>0.050642</td>\n",
       "      <td>0.044388</td>\n",
       "      <td>0.064637</td>\n",
       "      <td>0.064516</td>\n",
       "    </tr>\n",
       "    <tr>\n",
       "      <th>CSI</th>\n",
       "      <td>0.929744</td>\n",
       "      <td>0.934491</td>\n",
       "      <td>0.938691</td>\n",
       "      <td>0.933251</td>\n",
       "      <td>0.926347</td>\n",
       "      <td>0.925153</td>\n",
       "    </tr>\n",
       "  </tbody>\n",
       "</table>\n",
       "</div>"
      ],
      "text/plain": [
       "     flight category 0  flight category 1  flight category 2  \\\n",
       "POD           0.987689           0.987674           0.988172   \n",
       "FAR           0.059355           0.054482           0.050642   \n",
       "CSI           0.929744           0.934491           0.938691   \n",
       "\n",
       "     flight category 3  flight category 4  flight category 5  \n",
       "POD           0.975541           0.989702           0.988204  \n",
       "FAR           0.044388           0.064637           0.064516  \n",
       "CSI           0.933251           0.926347           0.925153  "
      ]
     },
     "execution_count": 139,
     "metadata": {},
     "output_type": "execute_result"
    }
   ],
   "source": [
    "%%time\n",
    "test_accuracy_metrics(classifier_rf, winter_data, 3, use_ci = k) #VFR"
   ]
  },
  {
   "cell_type": "code",
   "execution_count": 140,
   "id": "961d2a18-450b-43fb-99c6-0625aa74c045",
   "metadata": {
    "tags": []
   },
   "outputs": [
    {
     "name": "stdout",
     "output_type": "stream",
     "text": [
      "CPU times: user 8.39 s, sys: 2.11 s, total: 10.5 s\n",
      "Wall time: 2.78 s\n"
     ]
    },
    {
     "data": {
      "text/html": [
       "<div>\n",
       "<style scoped>\n",
       "    .dataframe tbody tr th:only-of-type {\n",
       "        vertical-align: middle;\n",
       "    }\n",
       "\n",
       "    .dataframe tbody tr th {\n",
       "        vertical-align: top;\n",
       "    }\n",
       "\n",
       "    .dataframe thead th {\n",
       "        text-align: right;\n",
       "    }\n",
       "</style>\n",
       "<table border=\"1\" class=\"dataframe\">\n",
       "  <thead>\n",
       "    <tr style=\"text-align: right;\">\n",
       "      <th></th>\n",
       "      <th>flight category 0</th>\n",
       "      <th>flight category 1</th>\n",
       "      <th>flight category 2</th>\n",
       "      <th>flight category 3</th>\n",
       "      <th>flight category 4</th>\n",
       "      <th>flight category 5</th>\n",
       "    </tr>\n",
       "  </thead>\n",
       "  <tbody>\n",
       "    <tr>\n",
       "      <th>POD</th>\n",
       "      <td>0.963473</td>\n",
       "      <td>0.955167</td>\n",
       "      <td>0.969965</td>\n",
       "      <td>0.963877</td>\n",
       "      <td>0.967742</td>\n",
       "      <td>0.976461</td>\n",
       "    </tr>\n",
       "    <tr>\n",
       "      <th>FAR</th>\n",
       "      <td>0.061876</td>\n",
       "      <td>0.055834</td>\n",
       "      <td>0.050642</td>\n",
       "      <td>0.044388</td>\n",
       "      <td>0.066932</td>\n",
       "      <td>0.065825</td>\n",
       "    </tr>\n",
       "    <tr>\n",
       "      <th>CSI</th>\n",
       "      <td>0.905904</td>\n",
       "      <td>0.904100</td>\n",
       "      <td>0.922246</td>\n",
       "      <td>0.922571</td>\n",
       "      <td>0.904923</td>\n",
       "      <td>0.913601</td>\n",
       "    </tr>\n",
       "  </tbody>\n",
       "</table>\n",
       "</div>"
      ],
      "text/plain": [
       "     flight category 0  flight category 1  flight category 2  \\\n",
       "POD           0.963473           0.955167           0.969965   \n",
       "FAR           0.061876           0.055834           0.050642   \n",
       "CSI           0.905904           0.904100           0.922246   \n",
       "\n",
       "     flight category 3  flight category 4  flight category 5  \n",
       "POD           0.963877           0.967742           0.976461  \n",
       "FAR           0.044388           0.066932           0.065825  \n",
       "CSI           0.922571           0.904923           0.913601  "
      ]
     },
     "execution_count": 140,
     "metadata": {},
     "output_type": "execute_result"
    }
   ],
   "source": [
    "%%time\n",
    "test_accuracy_metrics(classifier_rf, winter_data, 3) #VFR"
   ]
  },
  {
   "cell_type": "code",
   "execution_count": 141,
   "id": "136f3d44-dd08-4d83-a7a3-c9c8ffa212ce",
   "metadata": {},
   "outputs": [
    {
     "name": "stdout",
     "output_type": "stream",
     "text": [
      "Total predicted events: 29, number of events with prob above ci: 38\n",
      "Total predicted events: 36, number of events with prob above ci: 46\n",
      "Total predicted events: 25, number of events with prob above ci: 37\n",
      "Total predicted events: 35, number of events with prob above ci: 46\n",
      "Total predicted events: 31, number of events with prob above ci: 38\n",
      "Total predicted events: 25, number of events with prob above ci: 39\n",
      "CPU times: user 7.76 s, sys: 2.35 s, total: 10.1 s\n",
      "Wall time: 3.17 s\n"
     ]
    },
    {
     "data": {
      "text/html": [
       "<div>\n",
       "<style scoped>\n",
       "    .dataframe tbody tr th:only-of-type {\n",
       "        vertical-align: middle;\n",
       "    }\n",
       "\n",
       "    .dataframe tbody tr th {\n",
       "        vertical-align: top;\n",
       "    }\n",
       "\n",
       "    .dataframe thead th {\n",
       "        text-align: right;\n",
       "    }\n",
       "</style>\n",
       "<table border=\"1\" class=\"dataframe\">\n",
       "  <thead>\n",
       "    <tr style=\"text-align: right;\">\n",
       "      <th></th>\n",
       "      <th>flight category 0</th>\n",
       "      <th>flight category 1</th>\n",
       "      <th>flight category 2</th>\n",
       "      <th>flight category 3</th>\n",
       "      <th>flight category 4</th>\n",
       "      <th>flight category 5</th>\n",
       "    </tr>\n",
       "  </thead>\n",
       "  <tbody>\n",
       "    <tr>\n",
       "      <th>POD</th>\n",
       "      <td>0.825397</td>\n",
       "      <td>0.784848</td>\n",
       "      <td>0.732000</td>\n",
       "      <td>0.901099</td>\n",
       "      <td>0.817427</td>\n",
       "      <td>0.772059</td>\n",
       "    </tr>\n",
       "    <tr>\n",
       "      <th>FAR</th>\n",
       "      <td>0.315789</td>\n",
       "      <td>0.314815</td>\n",
       "      <td>0.296154</td>\n",
       "      <td>0.286957</td>\n",
       "      <td>0.386293</td>\n",
       "      <td>0.198473</td>\n",
       "    </tr>\n",
       "    <tr>\n",
       "      <th>CSI</th>\n",
       "      <td>0.597701</td>\n",
       "      <td>0.576837</td>\n",
       "      <td>0.559633</td>\n",
       "      <td>0.661290</td>\n",
       "      <td>0.539726</td>\n",
       "      <td>0.648148</td>\n",
       "    </tr>\n",
       "  </tbody>\n",
       "</table>\n",
       "</div>"
      ],
      "text/plain": [
       "     flight category 0  flight category 1  flight category 2  \\\n",
       "POD           0.825397           0.784848           0.732000   \n",
       "FAR           0.315789           0.314815           0.296154   \n",
       "CSI           0.597701           0.576837           0.559633   \n",
       "\n",
       "     flight category 3  flight category 4  flight category 5  \n",
       "POD           0.901099           0.817427           0.772059  \n",
       "FAR           0.286957           0.386293           0.198473  \n",
       "CSI           0.661290           0.539726           0.648148  "
      ]
     },
     "execution_count": 141,
     "metadata": {},
     "output_type": "execute_result"
    }
   ],
   "source": [
    "%%time\n",
    "test_accuracy_metrics(classifier_rf, spring_data, 2, use_ci = k) #MVFR"
   ]
  },
  {
   "cell_type": "code",
   "execution_count": 142,
   "id": "fe93c0ba-700e-4ed6-8803-f68d35df9795",
   "metadata": {},
   "outputs": [
    {
     "name": "stdout",
     "output_type": "stream",
     "text": [
      "CPU times: user 7.36 s, sys: 2.11 s, total: 9.47 s\n",
      "Wall time: 2.69 s\n"
     ]
    },
    {
     "data": {
      "text/html": [
       "<div>\n",
       "<style scoped>\n",
       "    .dataframe tbody tr th:only-of-type {\n",
       "        vertical-align: middle;\n",
       "    }\n",
       "\n",
       "    .dataframe tbody tr th {\n",
       "        vertical-align: top;\n",
       "    }\n",
       "\n",
       "    .dataframe thead th {\n",
       "        text-align: right;\n",
       "    }\n",
       "</style>\n",
       "<table border=\"1\" class=\"dataframe\">\n",
       "  <thead>\n",
       "    <tr style=\"text-align: right;\">\n",
       "      <th></th>\n",
       "      <th>flight category 0</th>\n",
       "      <th>flight category 1</th>\n",
       "      <th>flight category 2</th>\n",
       "      <th>flight category 3</th>\n",
       "      <th>flight category 4</th>\n",
       "      <th>flight category 5</th>\n",
       "    </tr>\n",
       "  </thead>\n",
       "  <tbody>\n",
       "    <tr>\n",
       "      <th>POD</th>\n",
       "      <td>0.540260</td>\n",
       "      <td>0.625604</td>\n",
       "      <td>0.469231</td>\n",
       "      <td>0.634021</td>\n",
       "      <td>0.553371</td>\n",
       "      <td>0.526316</td>\n",
       "    </tr>\n",
       "    <tr>\n",
       "      <th>FAR</th>\n",
       "      <td>0.315789</td>\n",
       "      <td>0.314815</td>\n",
       "      <td>0.296154</td>\n",
       "      <td>0.286957</td>\n",
       "      <td>0.386293</td>\n",
       "      <td>0.198473</td>\n",
       "    </tr>\n",
       "    <tr>\n",
       "      <th>CSI</th>\n",
       "      <td>0.432432</td>\n",
       "      <td>0.485929</td>\n",
       "      <td>0.391863</td>\n",
       "      <td>0.505133</td>\n",
       "      <td>0.410417</td>\n",
       "      <td>0.465632</td>\n",
       "    </tr>\n",
       "  </tbody>\n",
       "</table>\n",
       "</div>"
      ],
      "text/plain": [
       "     flight category 0  flight category 1  flight category 2  \\\n",
       "POD           0.540260           0.625604           0.469231   \n",
       "FAR           0.315789           0.314815           0.296154   \n",
       "CSI           0.432432           0.485929           0.391863   \n",
       "\n",
       "     flight category 3  flight category 4  flight category 5  \n",
       "POD           0.634021           0.553371           0.526316  \n",
       "FAR           0.286957           0.386293           0.198473  \n",
       "CSI           0.505133           0.410417           0.465632  "
      ]
     },
     "execution_count": 142,
     "metadata": {},
     "output_type": "execute_result"
    }
   ],
   "source": [
    "%%time\n",
    "test_accuracy_metrics(classifier_rf, spring_data, 2) #MVFR"
   ]
  },
  {
   "cell_type": "code",
   "execution_count": 143,
   "id": "75899f16-e715-44ef-9df4-62a0831aa0f9",
   "metadata": {},
   "outputs": [
    {
     "name": "stdout",
     "output_type": "stream",
     "text": [
      "Total predicted events: 88, number of events with prob above ci: 115\n",
      "Total predicted events: 99, number of events with prob above ci: 113\n",
      "Total predicted events: 90, number of events with prob above ci: 117\n",
      "Total predicted events: 95, number of events with prob above ci: 121\n",
      "Total predicted events: 86, number of events with prob above ci: 103\n",
      "Total predicted events: 70, number of events with prob above ci: 88\n",
      "CPU times: user 8.69 s, sys: 2.45 s, total: 11.1 s\n",
      "Wall time: 3.28 s\n"
     ]
    },
    {
     "data": {
      "text/html": [
       "<div>\n",
       "<style scoped>\n",
       "    .dataframe tbody tr th:only-of-type {\n",
       "        vertical-align: middle;\n",
       "    }\n",
       "\n",
       "    .dataframe tbody tr th {\n",
       "        vertical-align: top;\n",
       "    }\n",
       "\n",
       "    .dataframe thead th {\n",
       "        text-align: right;\n",
       "    }\n",
       "</style>\n",
       "<table border=\"1\" class=\"dataframe\">\n",
       "  <thead>\n",
       "    <tr style=\"text-align: right;\">\n",
       "      <th></th>\n",
       "      <th>flight category 0</th>\n",
       "      <th>flight category 1</th>\n",
       "      <th>flight category 2</th>\n",
       "      <th>flight category 3</th>\n",
       "      <th>flight category 4</th>\n",
       "      <th>flight category 5</th>\n",
       "    </tr>\n",
       "  </thead>\n",
       "  <tbody>\n",
       "    <tr>\n",
       "      <th>POD</th>\n",
       "      <td>0.778947</td>\n",
       "      <td>0.819130</td>\n",
       "      <td>0.828520</td>\n",
       "      <td>0.847122</td>\n",
       "      <td>0.829630</td>\n",
       "      <td>0.880597</td>\n",
       "    </tr>\n",
       "    <tr>\n",
       "      <th>FAR</th>\n",
       "      <td>0.315871</td>\n",
       "      <td>0.364372</td>\n",
       "      <td>0.334783</td>\n",
       "      <td>0.337553</td>\n",
       "      <td>0.292259</td>\n",
       "      <td>0.211832</td>\n",
       "    </tr>\n",
       "    <tr>\n",
       "      <th>CSI</th>\n",
       "      <td>0.572903</td>\n",
       "      <td>0.557396</td>\n",
       "      <td>0.584713</td>\n",
       "      <td>0.591709</td>\n",
       "      <td>0.617931</td>\n",
       "      <td>0.712069</td>\n",
       "    </tr>\n",
       "  </tbody>\n",
       "</table>\n",
       "</div>"
      ],
      "text/plain": [
       "     flight category 0  flight category 1  flight category 2  \\\n",
       "POD           0.778947           0.819130           0.828520   \n",
       "FAR           0.315871           0.364372           0.334783   \n",
       "CSI           0.572903           0.557396           0.584713   \n",
       "\n",
       "     flight category 3  flight category 4  flight category 5  \n",
       "POD           0.847122           0.829630           0.880597  \n",
       "FAR           0.337553           0.292259           0.211832  \n",
       "CSI           0.591709           0.617931           0.712069  "
      ]
     },
     "execution_count": 143,
     "metadata": {},
     "output_type": "execute_result"
    }
   ],
   "source": [
    "%%time\n",
    "test_accuracy_metrics(classifier_rf, winter_data, 2, use_ci = k) #MVFR"
   ]
  },
  {
   "cell_type": "code",
   "execution_count": 144,
   "id": "e7fffb07-5777-4b7c-8759-062646275066",
   "metadata": {},
   "outputs": [
    {
     "name": "stdout",
     "output_type": "stream",
     "text": [
      "CPU times: user 7.88 s, sys: 2.32 s, total: 10.2 s\n",
      "Wall time: 2.68 s\n"
     ]
    },
    {
     "data": {
      "text/html": [
       "<div>\n",
       "<style scoped>\n",
       "    .dataframe tbody tr th:only-of-type {\n",
       "        vertical-align: middle;\n",
       "    }\n",
       "\n",
       "    .dataframe tbody tr th {\n",
       "        vertical-align: top;\n",
       "    }\n",
       "\n",
       "    .dataframe thead th {\n",
       "        text-align: right;\n",
       "    }\n",
       "</style>\n",
       "<table border=\"1\" class=\"dataframe\">\n",
       "  <thead>\n",
       "    <tr style=\"text-align: right;\">\n",
       "      <th></th>\n",
       "      <th>flight category 0</th>\n",
       "      <th>flight category 1</th>\n",
       "      <th>flight category 2</th>\n",
       "      <th>flight category 3</th>\n",
       "      <th>flight category 4</th>\n",
       "      <th>flight category 5</th>\n",
       "    </tr>\n",
       "  </thead>\n",
       "  <tbody>\n",
       "    <tr>\n",
       "      <th>POD</th>\n",
       "      <td>0.613260</td>\n",
       "      <td>0.669480</td>\n",
       "      <td>0.652916</td>\n",
       "      <td>0.675250</td>\n",
       "      <td>0.609227</td>\n",
       "      <td>0.578512</td>\n",
       "    </tr>\n",
       "    <tr>\n",
       "      <th>FAR</th>\n",
       "      <td>0.315871</td>\n",
       "      <td>0.376147</td>\n",
       "      <td>0.334783</td>\n",
       "      <td>0.344444</td>\n",
       "      <td>0.303876</td>\n",
       "      <td>0.216418</td>\n",
       "    </tr>\n",
       "    <tr>\n",
       "      <th>CSI</th>\n",
       "      <td>0.477933</td>\n",
       "      <td>0.476954</td>\n",
       "      <td>0.491435</td>\n",
       "      <td>0.498416</td>\n",
       "      <td>0.481243</td>\n",
       "      <td>0.498812</td>\n",
       "    </tr>\n",
       "  </tbody>\n",
       "</table>\n",
       "</div>"
      ],
      "text/plain": [
       "     flight category 0  flight category 1  flight category 2  \\\n",
       "POD           0.613260           0.669480           0.652916   \n",
       "FAR           0.315871           0.376147           0.334783   \n",
       "CSI           0.477933           0.476954           0.491435   \n",
       "\n",
       "     flight category 3  flight category 4  flight category 5  \n",
       "POD           0.675250           0.609227           0.578512  \n",
       "FAR           0.344444           0.303876           0.216418  \n",
       "CSI           0.498416           0.481243           0.498812  "
      ]
     },
     "execution_count": 144,
     "metadata": {},
     "output_type": "execute_result"
    }
   ],
   "source": [
    "%%time\n",
    "test_accuracy_metrics(classifier_rf, winter_data, 2) #MVFR"
   ]
  },
  {
   "cell_type": "code",
   "execution_count": 145,
   "id": "a683323d-19b0-46c3-91c1-98f3ecbc86ed",
   "metadata": {},
   "outputs": [
    {
     "name": "stdout",
     "output_type": "stream",
     "text": [
      "Total predicted events: 41, number of events with prob above ci: 47\n",
      "Total predicted events: 34, number of events with prob above ci: 41\n",
      "Total predicted events: 43, number of events with prob above ci: 53\n",
      "Total predicted events: 36, number of events with prob above ci: 44\n",
      "Total predicted events: 37, number of events with prob above ci: 43\n",
      "Total predicted events: 40, number of events with prob above ci: 46\n",
      "CPU times: user 7.4 s, sys: 2.56 s, total: 9.96 s\n",
      "Wall time: 3.13 s\n"
     ]
    },
    {
     "data": {
      "text/html": [
       "<div>\n",
       "<style scoped>\n",
       "    .dataframe tbody tr th:only-of-type {\n",
       "        vertical-align: middle;\n",
       "    }\n",
       "\n",
       "    .dataframe tbody tr th {\n",
       "        vertical-align: top;\n",
       "    }\n",
       "\n",
       "    .dataframe thead th {\n",
       "        text-align: right;\n",
       "    }\n",
       "</style>\n",
       "<table border=\"1\" class=\"dataframe\">\n",
       "  <thead>\n",
       "    <tr style=\"text-align: right;\">\n",
       "      <th></th>\n",
       "      <th>flight category 0</th>\n",
       "      <th>flight category 1</th>\n",
       "      <th>flight category 2</th>\n",
       "      <th>flight category 3</th>\n",
       "      <th>flight category 4</th>\n",
       "      <th>flight category 5</th>\n",
       "    </tr>\n",
       "  </thead>\n",
       "  <tbody>\n",
       "    <tr>\n",
       "      <th>POD</th>\n",
       "      <td>0.915094</td>\n",
       "      <td>0.843077</td>\n",
       "      <td>0.908078</td>\n",
       "      <td>0.853186</td>\n",
       "      <td>0.867257</td>\n",
       "      <td>0.947853</td>\n",
       "    </tr>\n",
       "    <tr>\n",
       "      <th>FAR</th>\n",
       "      <td>0.324826</td>\n",
       "      <td>0.255435</td>\n",
       "      <td>0.281938</td>\n",
       "      <td>0.214286</td>\n",
       "      <td>0.259446</td>\n",
       "      <td>0.255422</td>\n",
       "    </tr>\n",
       "    <tr>\n",
       "      <th>CSI</th>\n",
       "      <td>0.635371</td>\n",
       "      <td>0.653938</td>\n",
       "      <td>0.669405</td>\n",
       "      <td>0.692135</td>\n",
       "      <td>0.665158</td>\n",
       "      <td>0.715278</td>\n",
       "    </tr>\n",
       "  </tbody>\n",
       "</table>\n",
       "</div>"
      ],
      "text/plain": [
       "     flight category 0  flight category 1  flight category 2  \\\n",
       "POD           0.915094           0.843077           0.908078   \n",
       "FAR           0.324826           0.255435           0.281938   \n",
       "CSI           0.635371           0.653938           0.669405   \n",
       "\n",
       "     flight category 3  flight category 4  flight category 5  \n",
       "POD           0.853186           0.867257           0.947853  \n",
       "FAR           0.214286           0.259446           0.255422  \n",
       "CSI           0.692135           0.665158           0.715278  "
      ]
     },
     "execution_count": 145,
     "metadata": {},
     "output_type": "execute_result"
    }
   ],
   "source": [
    "%%time\n",
    "test_accuracy_metrics(classifier_rf, spring_data, 1, use_ci = k) #IFR"
   ]
  },
  {
   "cell_type": "code",
   "execution_count": 146,
   "id": "3e91b13c-59b4-44ea-b63f-c0258a6adc7b",
   "metadata": {},
   "outputs": [
    {
     "name": "stdout",
     "output_type": "stream",
     "text": [
      "CPU times: user 7.35 s, sys: 1.99 s, total: 9.35 s\n",
      "Wall time: 2.7 s\n"
     ]
    },
    {
     "data": {
      "text/html": [
       "<div>\n",
       "<style scoped>\n",
       "    .dataframe tbody tr th:only-of-type {\n",
       "        vertical-align: middle;\n",
       "    }\n",
       "\n",
       "    .dataframe tbody tr th {\n",
       "        vertical-align: top;\n",
       "    }\n",
       "\n",
       "    .dataframe thead th {\n",
       "        text-align: right;\n",
       "    }\n",
       "</style>\n",
       "<table border=\"1\" class=\"dataframe\">\n",
       "  <thead>\n",
       "    <tr style=\"text-align: right;\">\n",
       "      <th></th>\n",
       "      <th>flight category 0</th>\n",
       "      <th>flight category 1</th>\n",
       "      <th>flight category 2</th>\n",
       "      <th>flight category 3</th>\n",
       "      <th>flight category 4</th>\n",
       "      <th>flight category 5</th>\n",
       "    </tr>\n",
       "  </thead>\n",
       "  <tbody>\n",
       "    <tr>\n",
       "      <th>POD</th>\n",
       "      <td>0.678322</td>\n",
       "      <td>0.625571</td>\n",
       "      <td>0.737557</td>\n",
       "      <td>0.733796</td>\n",
       "      <td>0.693364</td>\n",
       "      <td>0.804688</td>\n",
       "    </tr>\n",
       "    <tr>\n",
       "      <th>FAR</th>\n",
       "      <td>0.324826</td>\n",
       "      <td>0.255435</td>\n",
       "      <td>0.281938</td>\n",
       "      <td>0.209476</td>\n",
       "      <td>0.257353</td>\n",
       "      <td>0.274648</td>\n",
       "    </tr>\n",
       "    <tr>\n",
       "      <th>CSI</th>\n",
       "      <td>0.511424</td>\n",
       "      <td>0.515038</td>\n",
       "      <td>0.571930</td>\n",
       "      <td>0.614341</td>\n",
       "      <td>0.559041</td>\n",
       "      <td>0.616766</td>\n",
       "    </tr>\n",
       "  </tbody>\n",
       "</table>\n",
       "</div>"
      ],
      "text/plain": [
       "     flight category 0  flight category 1  flight category 2  \\\n",
       "POD           0.678322           0.625571           0.737557   \n",
       "FAR           0.324826           0.255435           0.281938   \n",
       "CSI           0.511424           0.515038           0.571930   \n",
       "\n",
       "     flight category 3  flight category 4  flight category 5  \n",
       "POD           0.733796           0.693364           0.804688  \n",
       "FAR           0.209476           0.257353           0.274648  \n",
       "CSI           0.614341           0.559041           0.616766  "
      ]
     },
     "execution_count": 146,
     "metadata": {},
     "output_type": "execute_result"
    }
   ],
   "source": [
    "%%time\n",
    "test_accuracy_metrics(classifier_rf, spring_data, 1) #IFR"
   ]
  },
  {
   "cell_type": "code",
   "execution_count": 147,
   "id": "82289bd5-fc9e-4e31-96d5-8ebe73be75dc",
   "metadata": {},
   "outputs": [
    {
     "name": "stdout",
     "output_type": "stream",
     "text": [
      "Total predicted events: 28, number of events with prob above ci: 33\n",
      "Total predicted events: 26, number of events with prob above ci: 32\n",
      "Total predicted events: 29, number of events with prob above ci: 33\n",
      "Total predicted events: 30, number of events with prob above ci: 33\n",
      "Total predicted events: 29, number of events with prob above ci: 35\n",
      "Total predicted events: 36, number of events with prob above ci: 43\n",
      "CPU times: user 8.59 s, sys: 2.59 s, total: 11.2 s\n",
      "Wall time: 3.26 s\n"
     ]
    },
    {
     "data": {
      "text/html": [
       "<div>\n",
       "<style scoped>\n",
       "    .dataframe tbody tr th:only-of-type {\n",
       "        vertical-align: middle;\n",
       "    }\n",
       "\n",
       "    .dataframe tbody tr th {\n",
       "        vertical-align: top;\n",
       "    }\n",
       "\n",
       "    .dataframe thead th {\n",
       "        text-align: right;\n",
       "    }\n",
       "</style>\n",
       "<table border=\"1\" class=\"dataframe\">\n",
       "  <thead>\n",
       "    <tr style=\"text-align: right;\">\n",
       "      <th></th>\n",
       "      <th>flight category 0</th>\n",
       "      <th>flight category 1</th>\n",
       "      <th>flight category 2</th>\n",
       "      <th>flight category 3</th>\n",
       "      <th>flight category 4</th>\n",
       "      <th>flight category 5</th>\n",
       "    </tr>\n",
       "  </thead>\n",
       "  <tbody>\n",
       "    <tr>\n",
       "      <th>POD</th>\n",
       "      <td>0.860825</td>\n",
       "      <td>0.699029</td>\n",
       "      <td>0.904523</td>\n",
       "      <td>0.951872</td>\n",
       "      <td>0.896552</td>\n",
       "      <td>0.923077</td>\n",
       "    </tr>\n",
       "    <tr>\n",
       "      <th>FAR</th>\n",
       "      <td>0.350195</td>\n",
       "      <td>0.283582</td>\n",
       "      <td>0.318182</td>\n",
       "      <td>0.290837</td>\n",
       "      <td>0.315789</td>\n",
       "      <td>0.360502</td>\n",
       "    </tr>\n",
       "    <tr>\n",
       "      <th>CSI</th>\n",
       "      <td>0.588028</td>\n",
       "      <td>0.547529</td>\n",
       "      <td>0.636042</td>\n",
       "      <td>0.684615</td>\n",
       "      <td>0.634146</td>\n",
       "      <td>0.607143</td>\n",
       "    </tr>\n",
       "  </tbody>\n",
       "</table>\n",
       "</div>"
      ],
      "text/plain": [
       "     flight category 0  flight category 1  flight category 2  \\\n",
       "POD           0.860825           0.699029           0.904523   \n",
       "FAR           0.350195           0.283582           0.318182   \n",
       "CSI           0.588028           0.547529           0.636042   \n",
       "\n",
       "     flight category 3  flight category 4  flight category 5  \n",
       "POD           0.951872           0.896552           0.923077  \n",
       "FAR           0.290837           0.315789           0.360502  \n",
       "CSI           0.684615           0.634146           0.607143  "
      ]
     },
     "execution_count": 147,
     "metadata": {},
     "output_type": "execute_result"
    }
   ],
   "source": [
    "%%time\n",
    "test_accuracy_metrics(classifier_rf, winter_data, 1, use_ci = k) #IFR"
   ]
  },
  {
   "cell_type": "code",
   "execution_count": 148,
   "id": "13a461b8-73ee-42f8-9dcb-996a8dfb526a",
   "metadata": {},
   "outputs": [
    {
     "name": "stdout",
     "output_type": "stream",
     "text": [
      "CPU times: user 8.28 s, sys: 2.11 s, total: 10.4 s\n",
      "Wall time: 2.77 s\n"
     ]
    },
    {
     "data": {
      "text/html": [
       "<div>\n",
       "<style scoped>\n",
       "    .dataframe tbody tr th:only-of-type {\n",
       "        vertical-align: middle;\n",
       "    }\n",
       "\n",
       "    .dataframe tbody tr th {\n",
       "        vertical-align: top;\n",
       "    }\n",
       "\n",
       "    .dataframe thead th {\n",
       "        text-align: right;\n",
       "    }\n",
       "</style>\n",
       "<table border=\"1\" class=\"dataframe\">\n",
       "  <thead>\n",
       "    <tr style=\"text-align: right;\">\n",
       "      <th></th>\n",
       "      <th>flight category 0</th>\n",
       "      <th>flight category 1</th>\n",
       "      <th>flight category 2</th>\n",
       "      <th>flight category 3</th>\n",
       "      <th>flight category 4</th>\n",
       "      <th>flight category 5</th>\n",
       "    </tr>\n",
       "  </thead>\n",
       "  <tbody>\n",
       "    <tr>\n",
       "      <th>POD</th>\n",
       "      <td>0.577855</td>\n",
       "      <td>0.509091</td>\n",
       "      <td>0.532394</td>\n",
       "      <td>0.566879</td>\n",
       "      <td>0.608696</td>\n",
       "      <td>0.733813</td>\n",
       "    </tr>\n",
       "    <tr>\n",
       "      <th>FAR</th>\n",
       "      <td>0.374532</td>\n",
       "      <td>0.288136</td>\n",
       "      <td>0.315217</td>\n",
       "      <td>0.307393</td>\n",
       "      <td>0.300000</td>\n",
       "      <td>0.381818</td>\n",
       "    </tr>\n",
       "    <tr>\n",
       "      <th>CSI</th>\n",
       "      <td>0.429306</td>\n",
       "      <td>0.422111</td>\n",
       "      <td>0.427602</td>\n",
       "      <td>0.452926</td>\n",
       "      <td>0.482759</td>\n",
       "      <td>0.504950</td>\n",
       "    </tr>\n",
       "  </tbody>\n",
       "</table>\n",
       "</div>"
      ],
      "text/plain": [
       "     flight category 0  flight category 1  flight category 2  \\\n",
       "POD           0.577855           0.509091           0.532394   \n",
       "FAR           0.374532           0.288136           0.315217   \n",
       "CSI           0.429306           0.422111           0.427602   \n",
       "\n",
       "     flight category 3  flight category 4  flight category 5  \n",
       "POD           0.566879           0.608696           0.733813  \n",
       "FAR           0.307393           0.300000           0.381818  \n",
       "CSI           0.452926           0.482759           0.504950  "
      ]
     },
     "execution_count": 148,
     "metadata": {},
     "output_type": "execute_result"
    }
   ],
   "source": [
    "%%time\n",
    "test_accuracy_metrics(classifier_rf, winter_data, 1) #IFR"
   ]
  },
  {
   "cell_type": "code",
   "execution_count": 149,
   "id": "18d19e49-c157-419c-b11e-8f08100ed009",
   "metadata": {},
   "outputs": [
    {
     "name": "stdout",
     "output_type": "stream",
     "text": [
      "Total predicted events: 10, number of events with prob above ci: 13\n",
      "Total predicted events: 13, number of events with prob above ci: 15\n",
      "Total predicted events: 9, number of events with prob above ci: 12\n",
      "Total predicted events: 13, number of events with prob above ci: 13\n",
      "Total predicted events: 12, number of events with prob above ci: 13\n",
      "Total predicted events: 12, number of events with prob above ci: 14\n",
      "CPU times: user 7.91 s, sys: 2.48 s, total: 10.4 s\n",
      "Wall time: 3.28 s\n"
     ]
    },
    {
     "data": {
      "text/html": [
       "<div>\n",
       "<style scoped>\n",
       "    .dataframe tbody tr th:only-of-type {\n",
       "        vertical-align: middle;\n",
       "    }\n",
       "\n",
       "    .dataframe tbody tr th {\n",
       "        vertical-align: top;\n",
       "    }\n",
       "\n",
       "    .dataframe thead th {\n",
       "        text-align: right;\n",
       "    }\n",
       "</style>\n",
       "<table border=\"1\" class=\"dataframe\">\n",
       "  <thead>\n",
       "    <tr style=\"text-align: right;\">\n",
       "      <th></th>\n",
       "      <th>flight category 0</th>\n",
       "      <th>flight category 1</th>\n",
       "      <th>flight category 2</th>\n",
       "      <th>flight category 3</th>\n",
       "      <th>flight category 4</th>\n",
       "      <th>flight category 5</th>\n",
       "    </tr>\n",
       "  </thead>\n",
       "  <tbody>\n",
       "    <tr>\n",
       "      <th>POD</th>\n",
       "      <td>0.836364</td>\n",
       "      <td>1.000000</td>\n",
       "      <td>0.915789</td>\n",
       "      <td>0.957627</td>\n",
       "      <td>1.000000</td>\n",
       "      <td>0.991870</td>\n",
       "    </tr>\n",
       "    <tr>\n",
       "      <th>FAR</th>\n",
       "      <td>0.192982</td>\n",
       "      <td>0.243056</td>\n",
       "      <td>0.130000</td>\n",
       "      <td>0.162963</td>\n",
       "      <td>0.162963</td>\n",
       "      <td>0.089552</td>\n",
       "    </tr>\n",
       "    <tr>\n",
       "      <th>CSI</th>\n",
       "      <td>0.696970</td>\n",
       "      <td>0.756944</td>\n",
       "      <td>0.805556</td>\n",
       "      <td>0.807143</td>\n",
       "      <td>0.837037</td>\n",
       "      <td>0.903704</td>\n",
       "    </tr>\n",
       "  </tbody>\n",
       "</table>\n",
       "</div>"
      ],
      "text/plain": [
       "     flight category 0  flight category 1  flight category 2  \\\n",
       "POD           0.836364           1.000000           0.915789   \n",
       "FAR           0.192982           0.243056           0.130000   \n",
       "CSI           0.696970           0.756944           0.805556   \n",
       "\n",
       "     flight category 3  flight category 4  flight category 5  \n",
       "POD           0.957627           1.000000           0.991870  \n",
       "FAR           0.162963           0.162963           0.089552  \n",
       "CSI           0.807143           0.837037           0.903704  "
      ]
     },
     "execution_count": 149,
     "metadata": {},
     "output_type": "execute_result"
    }
   ],
   "source": [
    "%%time\n",
    "test_accuracy_metrics(classifier_rf, spring_data, 0, use_ci = k) #LIFR"
   ]
  },
  {
   "cell_type": "code",
   "execution_count": 150,
   "id": "68d4fa32-b8f1-45bf-9b43-c0913c7b670b",
   "metadata": {},
   "outputs": [
    {
     "name": "stdout",
     "output_type": "stream",
     "text": [
      "CPU times: user 6.94 s, sys: 2.23 s, total: 9.17 s\n",
      "Wall time: 2.62 s\n"
     ]
    },
    {
     "data": {
      "text/html": [
       "<div>\n",
       "<style scoped>\n",
       "    .dataframe tbody tr th:only-of-type {\n",
       "        vertical-align: middle;\n",
       "    }\n",
       "\n",
       "    .dataframe tbody tr th {\n",
       "        vertical-align: top;\n",
       "    }\n",
       "\n",
       "    .dataframe thead th {\n",
       "        text-align: right;\n",
       "    }\n",
       "</style>\n",
       "<table border=\"1\" class=\"dataframe\">\n",
       "  <thead>\n",
       "    <tr style=\"text-align: right;\">\n",
       "      <th></th>\n",
       "      <th>flight category 0</th>\n",
       "      <th>flight category 1</th>\n",
       "      <th>flight category 2</th>\n",
       "      <th>flight category 3</th>\n",
       "      <th>flight category 4</th>\n",
       "      <th>flight category 5</th>\n",
       "    </tr>\n",
       "  </thead>\n",
       "  <tbody>\n",
       "    <tr>\n",
       "      <th>POD</th>\n",
       "      <td>0.609272</td>\n",
       "      <td>0.717105</td>\n",
       "      <td>0.608392</td>\n",
       "      <td>0.807143</td>\n",
       "      <td>0.824818</td>\n",
       "      <td>0.835616</td>\n",
       "    </tr>\n",
       "    <tr>\n",
       "      <th>FAR</th>\n",
       "      <td>0.192982</td>\n",
       "      <td>0.243056</td>\n",
       "      <td>0.130000</td>\n",
       "      <td>0.204225</td>\n",
       "      <td>0.162963</td>\n",
       "      <td>0.089552</td>\n",
       "    </tr>\n",
       "    <tr>\n",
       "      <th>CSI</th>\n",
       "      <td>0.531792</td>\n",
       "      <td>0.582888</td>\n",
       "      <td>0.557692</td>\n",
       "      <td>0.668639</td>\n",
       "      <td>0.710692</td>\n",
       "      <td>0.772152</td>\n",
       "    </tr>\n",
       "  </tbody>\n",
       "</table>\n",
       "</div>"
      ],
      "text/plain": [
       "     flight category 0  flight category 1  flight category 2  \\\n",
       "POD           0.609272           0.717105           0.608392   \n",
       "FAR           0.192982           0.243056           0.130000   \n",
       "CSI           0.531792           0.582888           0.557692   \n",
       "\n",
       "     flight category 3  flight category 4  flight category 5  \n",
       "POD           0.807143           0.824818           0.835616  \n",
       "FAR           0.204225           0.162963           0.089552  \n",
       "CSI           0.668639           0.710692           0.772152  "
      ]
     },
     "execution_count": 150,
     "metadata": {},
     "output_type": "execute_result"
    }
   ],
   "source": [
    "%%time\n",
    "test_accuracy_metrics(classifier_rf, spring_data, 0) #LIFR"
   ]
  },
  {
   "cell_type": "code",
   "execution_count": 151,
   "id": "0757addc-da58-4908-9d0f-5b4c801c3fc0",
   "metadata": {},
   "outputs": [
    {
     "name": "stdout",
     "output_type": "stream",
     "text": [
      "Total predicted events: 16, number of events with prob above ci: 18\n",
      "Total predicted events: 18, number of events with prob above ci: 19\n",
      "Total predicted events: 18, number of events with prob above ci: 17\n",
      "Total predicted events: 16, number of events with prob above ci: 19\n",
      "Total predicted events: 18, number of events with prob above ci: 21\n",
      "Total predicted events: 17, number of events with prob above ci: 16\n",
      "CPU times: user 9.2 s, sys: 2.54 s, total: 11.7 s\n",
      "Wall time: 3.41 s\n"
     ]
    },
    {
     "data": {
      "text/html": [
       "<div>\n",
       "<style scoped>\n",
       "    .dataframe tbody tr th:only-of-type {\n",
       "        vertical-align: middle;\n",
       "    }\n",
       "\n",
       "    .dataframe tbody tr th {\n",
       "        vertical-align: top;\n",
       "    }\n",
       "\n",
       "    .dataframe thead th {\n",
       "        text-align: right;\n",
       "    }\n",
       "</style>\n",
       "<table border=\"1\" class=\"dataframe\">\n",
       "  <thead>\n",
       "    <tr style=\"text-align: right;\">\n",
       "      <th></th>\n",
       "      <th>flight category 0</th>\n",
       "      <th>flight category 1</th>\n",
       "      <th>flight category 2</th>\n",
       "      <th>flight category 3</th>\n",
       "      <th>flight category 4</th>\n",
       "      <th>flight category 5</th>\n",
       "    </tr>\n",
       "  </thead>\n",
       "  <tbody>\n",
       "    <tr>\n",
       "      <th>POD</th>\n",
       "      <td>0.875000</td>\n",
       "      <td>0.766667</td>\n",
       "      <td>0.959184</td>\n",
       "      <td>0.921875</td>\n",
       "      <td>0.829268</td>\n",
       "      <td>1.000000</td>\n",
       "    </tr>\n",
       "    <tr>\n",
       "      <th>FAR</th>\n",
       "      <td>0.204545</td>\n",
       "      <td>0.192982</td>\n",
       "      <td>0.364865</td>\n",
       "      <td>0.233766</td>\n",
       "      <td>0.291667</td>\n",
       "      <td>0.326923</td>\n",
       "    </tr>\n",
       "    <tr>\n",
       "      <th>CSI</th>\n",
       "      <td>0.714286</td>\n",
       "      <td>0.647887</td>\n",
       "      <td>0.618421</td>\n",
       "      <td>0.719512</td>\n",
       "      <td>0.618182</td>\n",
       "      <td>0.673077</td>\n",
       "    </tr>\n",
       "  </tbody>\n",
       "</table>\n",
       "</div>"
      ],
      "text/plain": [
       "     flight category 0  flight category 1  flight category 2  \\\n",
       "POD           0.875000           0.766667           0.959184   \n",
       "FAR           0.204545           0.192982           0.364865   \n",
       "CSI           0.714286           0.647887           0.618421   \n",
       "\n",
       "     flight category 3  flight category 4  flight category 5  \n",
       "POD           0.921875           0.829268           1.000000  \n",
       "FAR           0.233766           0.291667           0.326923  \n",
       "CSI           0.719512           0.618182           0.673077  "
      ]
     },
     "execution_count": 151,
     "metadata": {},
     "output_type": "execute_result"
    }
   ],
   "source": [
    "%%time\n",
    "test_accuracy_metrics(classifier_rf, winter_data, 0, use_ci = k) #LIFR"
   ]
  },
  {
   "cell_type": "code",
   "execution_count": 152,
   "id": "0fbe6008-57d3-4d35-853c-fddb96e7232b",
   "metadata": {},
   "outputs": [
    {
     "name": "stdout",
     "output_type": "stream",
     "text": [
      "CPU times: user 8.09 s, sys: 2.12 s, total: 10.2 s\n",
      "Wall time: 2.7 s\n"
     ]
    },
    {
     "data": {
      "text/html": [
       "<div>\n",
       "<style scoped>\n",
       "    .dataframe tbody tr th:only-of-type {\n",
       "        vertical-align: middle;\n",
       "    }\n",
       "\n",
       "    .dataframe tbody tr th {\n",
       "        vertical-align: top;\n",
       "    }\n",
       "\n",
       "    .dataframe thead th {\n",
       "        text-align: right;\n",
       "    }\n",
       "</style>\n",
       "<table border=\"1\" class=\"dataframe\">\n",
       "  <thead>\n",
       "    <tr style=\"text-align: right;\">\n",
       "      <th></th>\n",
       "      <th>flight category 0</th>\n",
       "      <th>flight category 1</th>\n",
       "      <th>flight category 2</th>\n",
       "      <th>flight category 3</th>\n",
       "      <th>flight category 4</th>\n",
       "      <th>flight category 5</th>\n",
       "    </tr>\n",
       "  </thead>\n",
       "  <tbody>\n",
       "    <tr>\n",
       "      <th>POD</th>\n",
       "      <td>0.636364</td>\n",
       "      <td>0.630137</td>\n",
       "      <td>0.716216</td>\n",
       "      <td>0.786667</td>\n",
       "      <td>0.622951</td>\n",
       "      <td>0.425743</td>\n",
       "    </tr>\n",
       "    <tr>\n",
       "      <th>FAR</th>\n",
       "      <td>0.204545</td>\n",
       "      <td>0.333333</td>\n",
       "      <td>0.337500</td>\n",
       "      <td>0.233766</td>\n",
       "      <td>0.283019</td>\n",
       "      <td>0.328125</td>\n",
       "    </tr>\n",
       "    <tr>\n",
       "      <th>CSI</th>\n",
       "      <td>0.546875</td>\n",
       "      <td>0.479167</td>\n",
       "      <td>0.524752</td>\n",
       "      <td>0.634409</td>\n",
       "      <td>0.500000</td>\n",
       "      <td>0.352459</td>\n",
       "    </tr>\n",
       "  </tbody>\n",
       "</table>\n",
       "</div>"
      ],
      "text/plain": [
       "     flight category 0  flight category 1  flight category 2  \\\n",
       "POD           0.636364           0.630137           0.716216   \n",
       "FAR           0.204545           0.333333           0.337500   \n",
       "CSI           0.546875           0.479167           0.524752   \n",
       "\n",
       "     flight category 3  flight category 4  flight category 5  \n",
       "POD           0.786667           0.622951           0.425743  \n",
       "FAR           0.233766           0.283019           0.328125  \n",
       "CSI           0.634409           0.500000           0.352459  "
      ]
     },
     "execution_count": 152,
     "metadata": {},
     "output_type": "execute_result"
    }
   ],
   "source": [
    "%%time\n",
    "test_accuracy_metrics(classifier_rf, winter_data, 0) #LIFR"
   ]
  },
  {
   "cell_type": "code",
   "execution_count": 153,
   "id": "0326811a-31dd-4e90-905a-83dc63f4c081",
   "metadata": {},
   "outputs": [
    {
     "name": "stdout",
     "output_type": "stream",
     "text": [
      "CPU times: user 1.45 s, sys: 312 ms, total: 1.76 s\n",
      "Wall time: 418 ms\n"
     ]
    }
   ],
   "source": [
    "%%time\n",
    "(X, y_list, val_list) = data_split(winter_data)\n",
    "X_train, X_test, y_train, y_test = train_test_split(X, y_list['flight category 0'], train_size=0.7, random_state=42)\n",
    "classifier_rf.fit(X_train, y_train)\n",
    "\n",
    "imports = classifier_rf.feature_importances_"
   ]
  },
  {
   "cell_type": "code",
   "execution_count": 157,
   "id": "23f59bcf-c25b-4950-ad21-0d861d008994",
   "metadata": {},
   "outputs": [
    {
     "data": {
      "text/plain": [
       "array([False, False, False, False, False, False, False, False,  True,\n",
       "       False, False, False, False, False, False, False, False, False,\n",
       "       False, False, False, False, False, False, False, False, False,\n",
       "       False, False, False, False, False, False,  True, False, False,\n",
       "       False, False,  True, False, False, False, False, False, False,\n",
       "       False, False, False, False, False, False, False, False, False,\n",
       "       False, False, False, False, False, False, False, False, False,\n",
       "       False, False, False, False, False, False, False, False,  True,\n",
       "       False, False, False,  True, False, False, False, False, False,\n",
       "       False, False, False, False, False, False,  True, False, False,\n",
       "       False, False, False,  True, False, False, False, False, False,\n",
       "       False, False, False, False, False, False, False, False,  True,\n",
       "       False, False, False,  True, False, False, False, False, False,\n",
       "       False, False, False, False, False, False, False, False, False,\n",
       "       False, False, False, False, False, False, False, False, False,\n",
       "       False, False, False, False, False, False, False, False, False,\n",
       "       False, False, False, False, False, False, False, False, False,\n",
       "       False,  True, False, False, False, False, False, False,  True,\n",
       "       False, False,  True, False,  True, False, False, False, False,\n",
       "       False, False, False, False, False, False, False, False, False,\n",
       "       False, False, False, False, False, False, False, False, False,\n",
       "       False, False, False, False, False, False, False, False, False,\n",
       "       False, False, False, False, False, False, False, False, False,\n",
       "       False, False, False, False, False, False, False, False, False,\n",
       "       False, False, False, False, False, False, False, False, False,\n",
       "       False, False, False, False,  True,  True, False, False, False,\n",
       "       False, False, False, False, False, False, False, False, False,\n",
       "       False, False, False, False, False, False,  True, False, False,\n",
       "       False,  True, False, False, False, False, False, False, False,\n",
       "       False, False,  True, False, False, False, False, False, False,\n",
       "       False, False,  True, False, False, False, False, False, False,\n",
       "       False, False, False, False, False, False, False, False, False,\n",
       "       False, False, False, False, False, False, False, False, False,\n",
       "       False, False, False, False, False, False, False, False, False,\n",
       "       False, False, False, False, False, False, False,  True, False,\n",
       "       False, False, False, False, False, False, False, False, False,\n",
       "       False, False, False, False, False, False, False, False, False,\n",
       "        True, False,  True, False, False, False, False, False, False,\n",
       "       False, False, False, False, False, False, False, False, False,\n",
       "       False, False, False, False,  True, False, False, False, False,\n",
       "       False,  True, False, False, False, False, False, False, False,\n",
       "       False, False, False, False, False, False, False, False, False,\n",
       "       False, False, False, False, False, False, False, False, False,\n",
       "       False, False, False, False, False, False, False,  True, False,\n",
       "       False, False, False, False, False, False, False, False, False,\n",
       "       False, False, False, False, False, False, False, False, False,\n",
       "       False, False, False, False, False, False, False, False, False,\n",
       "       False, False, False, False, False, False, False, False, False,\n",
       "       False, False, False, False, False, False, False, False, False,\n",
       "       False, False, False, False, False, False, False, False, False,\n",
       "       False, False, False, False, False, False, False, False,  True,\n",
       "       False, False, False, False, False, False, False, False, False,\n",
       "       False, False, False, False, False, False, False, False, False,\n",
       "       False, False, False, False, False, False, False, False, False,\n",
       "       False, False, False, False, False, False, False, False, False,\n",
       "       False, False, False, False, False, False, False, False, False,\n",
       "       False, False, False, False, False, False, False, False, False,\n",
       "       False, False, False, False, False, False, False, False, False,\n",
       "       False, False, False, False, False, False, False, False, False,\n",
       "       False, False, False, False, False, False, False, False, False,\n",
       "       False,  True, False, False, False, False, False, False, False,\n",
       "       False, False, False, False, False, False, False, False, False,\n",
       "       False, False, False, False,  True, False, False, False, False,\n",
       "       False, False, False, False, False, False, False, False, False,\n",
       "       False, False, False, False, False, False, False, False, False,\n",
       "       False, False, False, False, False, False, False, False, False,\n",
       "        True, False, False, False, False, False, False, False, False,\n",
       "       False, False, False, False, False, False, False, False, False,\n",
       "       False, False, False, False, False,  True, False, False, False,\n",
       "       False, False, False, False, False, False, False, False, False,\n",
       "        True, False, False, False, False, False, False, False, False,\n",
       "       False, False, False, False,  True, False, False, False])"
      ]
     },
     "execution_count": 157,
     "metadata": {},
     "output_type": "execute_result"
    }
   ],
   "source": [
    "classifier_rf.predict_proba(X_test)[:,1]>0.35"
   ]
  },
  {
   "cell_type": "code",
   "execution_count": null,
   "id": "39d0c80a-872a-4944-9564-e9409d116dce",
   "metadata": {
    "tags": []
   },
   "outputs": [],
   "source": [
    "importances = [(feature, sig) for feature, sig in zip(classifier_rf.feature_names_in_, imports)]\n",
    "importances.sort(key = lambda x: x[1])\n",
    "importances"
   ]
  },
  {
   "cell_type": "code",
   "execution_count": null,
   "id": "fc8ffd62-e8d5-4a56-8872-bc1690633bfe",
   "metadata": {},
   "outputs": [],
   "source": [
    "%%time\n",
    "result = permutation_importance(\n",
    "    classifier_rf, X_test, y_test, random_state=42, n_jobs=-1\n",
    ")\n",
    "#takes about 10 min"
   ]
  },
  {
   "cell_type": "code",
   "execution_count": null,
   "id": "693fc76e-b673-46e4-8101-158741b6e8b5",
   "metadata": {
    "tags": []
   },
   "outputs": [],
   "source": [
    "importances = [(feature, sig) for feature, sig in zip(classifier_rf.feature_names_in_, result['importances_mean'])]\n",
    "#importances.sort(key = lambda x: x[0].split('_')[1])\n",
    "importances.sort(key = lambda x: -x[1])\n",
    "importances = pd.DataFrame(importances)"
   ]
  },
  {
   "cell_type": "code",
   "execution_count": null,
   "id": "0e06cabf-1513-4184-b2ca-a0af3f0ea372",
   "metadata": {},
   "outputs": [],
   "source": [
    "np.max(importances[1]), np.min(importances[1]), np.mean(importances[1]), np.std(importances[1])"
   ]
  },
  {
   "cell_type": "code",
   "execution_count": null,
   "id": "5cb4dcd4-2d95-473b-9729-acbd645f8654",
   "metadata": {},
   "outputs": [],
   "source": [
    "plt.plot(importances[1])"
   ]
  },
  {
   "cell_type": "code",
   "execution_count": null,
   "id": "0eb2d058-07c2-4201-b42d-1c6e875b2293",
   "metadata": {},
   "outputs": [],
   "source": [
    "with pd.option_context('display.max_rows', 999):\n",
    "    print(importances)"
   ]
  },
  {
   "cell_type": "code",
   "execution_count": null,
   "id": "91b07e7d-5ffe-45c2-b6e3-9e55227a1313",
   "metadata": {},
   "outputs": [],
   "source": [
    "data"
   ]
  },
  {
   "cell_type": "code",
   "execution_count": null,
   "id": "ff1c4712-838e-4246-8ecf-1f6a00feb8f6",
   "metadata": {
    "tags": []
   },
   "outputs": [],
   "source": [
    "condition_list = []\n",
    "asos5 = read_metar('Data/BOS_5min.csv')\n",
    "for _, metar_at_time in tqdm(asos5.iterrows()):\n",
    "    vis = metar_at_time['vsby']\n",
    "    cld_list = np.asarray(metar_at_time[['skyc1', 'skyc2', 'skyc3', 'skyc4']])\n",
    "    hgt_list = np.asarray(metar_at_time[['skyl1', 'skyl2', 'skyl3', 'skyl4']])\n",
    "    ovc_hgt = 100000\n",
    "    bkn_hgt = 100000\n",
    "\n",
    "    if 3 in list(cld_list):\n",
    "        ovc_hgt = hgt_list[cld_list == 3]\n",
    "        if len(ovc_hgt) > 1:\n",
    "            ovc_hgt = np.min(ovc_hgt)\n",
    "    if 2 in list(cld_list):\n",
    "        bkn_hgt = hgt_list[cld_list == 2]\n",
    "        if len(bkn_hgt) > 1:\n",
    "            bkn_hgt = np.min(bkn_hgt)\n",
    "    ceiling = np.min([ovc_hgt, bkn_hgt])\n",
    "\n",
    "    if ceiling < 500 or vis < 1:\n",
    "        conditions = 0\n",
    "    elif ceiling < 1000 or vis < 3:\n",
    "        conditions = 1\n",
    "    elif ceiling < 3000 or vis < 5:\n",
    "        conditions = 2\n",
    "    else:\n",
    "        conditions = 3\n",
    "    condition_list.append(conditions)\n",
    "asos5['conditions'] = condition_list"
   ]
  },
  {
   "cell_type": "code",
   "execution_count": null,
   "id": "df2546db-c4ab-4f02-a3ab-0bc4eb7210f5",
   "metadata": {},
   "outputs": [],
   "source": [
    "asos5.to_csv('Data/BOS_5min.csv')"
   ]
  },
  {
   "cell_type": "code",
   "execution_count": null,
   "id": "69b3c6e4-d7b7-44c3-8d8d-6762bb354e1b",
   "metadata": {},
   "outputs": [],
   "source": []
  }
 ],
 "metadata": {
  "kernelspec": {
   "display_name": "Python 3 (ipykernel)",
   "language": "python",
   "name": "python3"
  },
  "language_info": {
   "codemirror_mode": {
    "name": "ipython",
    "version": 3
   },
   "file_extension": ".py",
   "mimetype": "text/x-python",
   "name": "python",
   "nbconvert_exporter": "python",
   "pygments_lexer": "ipython3",
   "version": "3.10.6"
  }
 },
 "nbformat": 4,
 "nbformat_minor": 5
}
