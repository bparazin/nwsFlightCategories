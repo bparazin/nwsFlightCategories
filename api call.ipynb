{
 "cells": [
  {
   "cell_type": "code",
   "execution_count": 1,
   "id": "3c53c2f1-e8c9-412c-af3a-4f5d15fb8439",
   "metadata": {},
   "outputs": [],
   "source": [
    "import pandas as pd\n",
    "import numpy as np\n",
    "import requests\n",
    "from fractions import Fraction\n",
    "from tqdm import tqdm\n",
    "from os import listdir, mkdir\n",
    "import xarray as xr\n",
    "from IOfuncs import *\n",
    "import cartopy.crs as ccrs\n",
    "import s3fs\n",
    "import numcodecs as ncd\n",
    "import pickle\n",
    "\n",
    "#many thanks to this here https://mesowest.utah.edu/html/hrrr/zarr_documentation/html/ex_python_plot_zarr.html\n",
    "\n",
    "fs = s3fs.S3FileSystem(anon=True)\n",
    "\n",
    "metar_list = pd.read_csv('Data/BOS.csv')"
   ]
  },
  {
   "cell_type": "code",
   "execution_count": 5,
   "id": "1ca776d1-cfe0-4d6f-8f45-59954ec8ad53",
   "metadata": {},
   "outputs": [],
   "source": [
    "metar_list['visibility'] = [find_visibility(metar) for metar in metar_list['metar']]\n",
    "metar_list['ceiling'] = [find_ceiling_height(metar) for metar in metar_list['metar']]\n",
    "metar_list['ifr_event'] = ((500 < metar_list['ceiling']) & (metar_list['ceiling'] <= 1000) | \n",
    "                           (1 < metar_list['visibility']) & (metar_list['ceiling'] <= 3))\n",
    "metar_list['lifr_event'] = (metar_list['ceiling'] <= 500) | (metar_list['visibility'] <= 1)\n",
    "metar_list['mvfr_event'] = ((1000 < metar_list['ceiling']) & (metar_list['ceiling'] <= 3000) | \n",
    "                            (3 < metar_list['visibility']) & (metar_list['ceiling'] <= 5))\n",
    "metar_list['vfr_event'] = (3000 < metar_list['ceiling']) | (5 < metar_list['visibility'])\n",
    "metar_list['GLAMP timestamp'] = [f'{format_date(metar_list[\"valid\"][i])}T{GLAMPstamp(metar)}Z'\n",
    "                                 for i, metar in enumerate(metar_list['metar'])]\n",
    "metar_list['HRRR day'] = [f'{format_date(metar_list[\"valid\"][i], hrrrDate=True)}'\n",
    "                                 for i, metar in enumerate(metar_list['metar'])]\n",
    "metar_list['HRRR time'] = [f'{HRRRstamp(metar_list[\"valid\"][i])}' for i, metar in enumerate(metar_list['metar'])]"
   ]
  },
  {
   "cell_type": "code",
   "execution_count": null,
   "id": "a1d9f7b4-0210-4249-9db6-80186b7595df",
   "metadata": {},
   "outputs": [],
   "source": [
    "ifr_list = metar_list[metar_list['ifr_event']]\n",
    "non_ifr_list = metar_list[~metar_list['ifr_event']]\n",
    "np.random.seed(42)\n",
    "non_ifr_draws = non_ifr_list.iloc[np.random.choice(len(non_ifr_list), 2942)]"
   ]
  },
  {
   "cell_type": "code",
   "execution_count": null,
   "id": "8d399e96-fee6-4e51-b38b-cd049ff0f813",
   "metadata": {},
   "outputs": [],
   "source": [
    "#Latlon for Logan airport\n",
    "point_lon, point_lat = -71.0096, 42.3656\n",
    "\n",
    "# (Variable, level):\n",
    "var_list = [('TMP', 'surface'),\n",
    "            ('TMP', '500mb'),\n",
    "            ('TMP', '700mb'),\n",
    "            ('TMP', '850mb'),\n",
    "            ('TMP', '925mb'),\n",
    "            ('TMP', '1000mb'),\n",
    "            ('VGRD', '10m_above_ground'),\n",
    "            ('UGRD', '10m_above_ground'),\n",
    "            ('VGRD', '250mb'),\n",
    "            ('UGRD', '250mb'),\n",
    "            ('VGRD', '300mb'),\n",
    "            ('UGRD', '300mb'),\n",
    "            ('VGRD', '500mb'),\n",
    "            ('UGRD', '500mb'),\n",
    "            ('VGRD', '700mb'),\n",
    "            ('UGRD', '700mb'),\n",
    "            ('VGRD', '850mb'),\n",
    "            ('UGRD', '850mb'),\n",
    "            ('VGRD', '925mb'),\n",
    "            ('UGRD', '925mb'),\n",
    "            ('VGRD', '1000mb'),\n",
    "            ('UGRD', '1000mb'),\n",
    "            ('DPT', '2m_above_ground'),\n",
    "            ('DPT', '500mb'),\n",
    "            ('DPT', '700mb'),\n",
    "            ('DPT', '850mb'),\n",
    "            ('DPT', '925mb'),\n",
    "            ('DPT', '1000mb'),\n",
    "            ('HGT', 'cloud_base'),\n",
    "            ('HGT', 'cloud_ceiling'),\n",
    "            ('VIS', 'surface')]"
   ]
  },
  {
   "cell_type": "code",
   "execution_count": null,
   "id": "0158e57b-36a0-4698-b437-6652575eb415",
   "metadata": {},
   "outputs": [],
   "source": [
    "chunk_index = xr.open_zarr(s3fs.S3Map(\"s3://hrrrzarr/grid/HRRR_chunk_index.zarr\", s3=fs))"
   ]
  },
  {
   "cell_type": "code",
   "execution_count": null,
   "id": "fafc64d0-f878-445a-84b5-9502a283f9ba",
   "metadata": {},
   "outputs": [],
   "source": [
    "projection = ccrs.LambertConformal(central_longitude=262.5, \n",
    "                                   central_latitude=38.5, \n",
    "                                   standard_parallels=(38.5, 38.5),\n",
    "                                    globe=ccrs.Globe(semimajor_axis=6371229,\n",
    "                                                     semiminor_axis=6371229))\n",
    "\n",
    "x, y = projection.transform_point(point_lon, point_lat, ccrs.PlateCarree())\n",
    "\n",
    "nearest_point = chunk_index.sel(x=x, y=y, method=\"nearest\")\n",
    "fcst_chunk_id = f\"0.{nearest_point.chunk_id.values}\""
   ]
  },
  {
   "cell_type": "code",
   "execution_count": null,
   "id": "de033c23-e324-4b4d-9167-1987b0afc222",
   "metadata": {
    "tags": []
   },
   "outputs": [],
   "source": [
    "print(len(ifr_list['HRRR time']))\n",
    "for hr, date in tqdm(zip(ifr_list['HRRR time'], ifr_list['HRRR day'])):\n",
    "    for (var, level) in var_list:\n",
    "        data_url = f'hrrrzarr/sfc/{date}/{date}_{hr}z_fcst.zarr/{level}/{var}/{level}/{var}/'\n",
    "        if f'{date}{hr}' not in listdir('Data/hrrr'):\n",
    "            mkdir(f'Data/hrrr/{date}{hr}')\n",
    "        if f'{var}_{level}.pickle' in listdir(f'Data/hrrr/{date}{hr}'):\n",
    "            continue\n",
    "        data = retrieve_data(data_url + fcst_chunk_id)\n",
    "        with open(f'Data/hrrr/{date}{hr}/{var}_{level}.pickle', 'wb') as handle:\n",
    "            pickle.dump(data, handle, protocol=pickle.HIGHEST_PROTOCOL)"
   ]
  },
  {
   "cell_type": "code",
   "execution_count": 13,
   "id": "e7a38a38-58d5-4fdd-82c2-af4799c30729",
   "metadata": {},
   "outputs": [
    {
     "name": "stdout",
     "output_type": "stream",
     "text": [
      "2942\n"
     ]
    },
    {
     "name": "stderr",
     "output_type": "stream",
     "text": [
      "87it [27:29, 18.96s/it]\n",
      "\n",
      "KeyboardInterrupt\n",
      "\n"
     ]
    }
   ],
   "source": [
    "print(len(non_ifr_draws['HRRR time']))\n",
    "for hr, date in tqdm(zip(non_ifr_draws['HRRR time'], non_ifr_draws['HRRR day'])):\n",
    "    for (var, level) in var_list:\n",
    "        data_url = f'hrrrzarr/sfc/{date}/{date}_{hr}z_fcst.zarr/{level}/{var}/{level}/{var}/'\n",
    "        if f'{date}{hr}' not in listdir('Data/hrrr'):\n",
    "            mkdir(f'Data/hrrr/{date}{hr}')\n",
    "        if f'{var}_{level}.pickle' in listdir(f'Data/hrrr/{date}{hr}'):\n",
    "            continue\n",
    "        data = retrieve_data(data_url + fcst_chunk_id)\n",
    "        with open(f'Data/hrrr/{date}{hr}/{var}_{level}.pickle', 'wb') as handle:\n",
    "            pickle.dump(data, handle, protocol=pickle.HIGHEST_PROTOCOL)"
   ]
  },
  {
   "cell_type": "code",
   "execution_count": 6,
   "id": "bffca0a0-727c-4f04-927c-392da84c9ae7",
   "metadata": {
    "collapsed": true,
    "jupyter": {
     "outputs_hidden": true
    },
    "tags": []
   },
   "outputs": [
    {
     "name": "stderr",
     "output_type": "stream",
     "text": [
      "  2%|█▊                                                                              | 68/2942 [00:00<00:09, 291.01it/s]"
     ]
    },
    {
     "name": "stdout",
     "output_type": "stream",
     "text": [
      "2020-09-28T06\n"
     ]
    },
    {
     "name": "stderr",
     "output_type": "stream",
     "text": [
      "  4%|███▍                                                                            | 128/2942 [00:01<00:30, 91.68it/s]"
     ]
    },
    {
     "name": "stdout",
     "output_type": "stream",
     "text": [
      "2020-09-28T06\n"
     ]
    },
    {
     "name": "stderr",
     "output_type": "stream",
     "text": [
      " 10%|████████                                                                       | 300/2942 [00:01<00:10, 259.04it/s]"
     ]
    },
    {
     "name": "stdout",
     "output_type": "stream",
     "text": [
      "2020-11-27T00\n",
      "2020-11-27T00\n",
      "2020-11-27T00\n",
      "2020-11-27T00\n",
      "2020-11-27T00\n",
      "2020-11-27T00\n",
      "2020-11-27T00\n",
      "2020-11-27T00\n",
      "2020-11-27T00\n",
      "2020-11-27T00\n",
      "2020-11-27T00\n"
     ]
    },
    {
     "name": "stderr",
     "output_type": "stream",
     "text": [
      " 12%|█████████▉                                                                      | 366/2942 [00:07<01:30, 28.33it/s]"
     ]
    },
    {
     "name": "stdout",
     "output_type": "stream",
     "text": [
      "2020-11-27T00\n"
     ]
    },
    {
     "name": "stderr",
     "output_type": "stream",
     "text": [
      "100%|██████████████████████████████████████████████████████████████████████████████| 2942/2942 [00:14<00:00, 209.11it/s]\n"
     ]
    }
   ],
   "source": [
    "for time in tqdm(ifr_list['GLAMP timestamp']):   \n",
    "    if f'{time[:-4]}Z.csv' in listdir('Data/GLAMP IFR data/IFR records'):\n",
    "        continue\n",
    "    base_url = 'https://mesonet.agron.iastate.edu/api/1/mos.json'\n",
    "    params = {'station': 'KBOS',\n",
    "              'model': 'LAV',\n",
    "              'runtime': time}\n",
    "    try:\n",
    "        response = requests.get(base_url, params=params).json()['data']\n",
    "        result = pd.DataFrame(response)\n",
    "        result.to_csv(f'Data/GLAMP IFR data/IFR records/{time[:-4]}Z.csv')\n",
    "    except KeyError:\n",
    "        print(time[:-4])"
   ]
  },
  {
   "cell_type": "code",
   "execution_count": 8,
   "id": "d842452c-354d-4e44-a9f3-28bc63afb125",
   "metadata": {
    "collapsed": true,
    "jupyter": {
     "outputs_hidden": true
    },
    "tags": []
   },
   "outputs": [
    {
     "name": "stderr",
     "output_type": "stream",
     "text": [
      "  5%|███▊                                                                          | 875/17675 [00:06<02:01, 138.79it/s]"
     ]
    },
    {
     "name": "stdout",
     "output_type": "stream",
     "text": [
      "2020-09-28T06\n",
      "2020-09-28T06\n"
     ]
    },
    {
     "name": "stderr",
     "output_type": "stream",
     "text": [
      "  5%|███▉                                                                           | 889/17675 [00:07<09:25, 29.66it/s]"
     ]
    },
    {
     "name": "stdout",
     "output_type": "stream",
     "text": [
      "2020-09-28T06\n",
      "2020-09-28T06\n",
      "2020-09-28T06\n",
      "2020-09-28T06\n",
      "2020-09-28T06\n"
     ]
    },
    {
     "name": "stderr",
     "output_type": "stream",
     "text": [
      "  5%|████                                                                           | 915/17675 [00:10<14:39, 19.06it/s]"
     ]
    },
    {
     "name": "stdout",
     "output_type": "stream",
     "text": [
      "2020-09-28T06\n"
     ]
    },
    {
     "name": "stderr",
     "output_type": "stream",
     "text": [
      " 30%|███████████████████████                                                      | 5291/17675 [00:41<01:25, 145.17it/s]"
     ]
    },
    {
     "name": "stdout",
     "output_type": "stream",
     "text": [
      "2021-03-30T06\n",
      "2021-03-30T06\n",
      "2021-03-30T06\n",
      "2021-03-30T06\n",
      "2021-03-30T06\n"
     ]
    },
    {
     "name": "stderr",
     "output_type": "stream",
     "text": [
      " 30%|███████████████████████▍                                                      | 5321/17675 [00:43<08:55, 23.09it/s]"
     ]
    },
    {
     "name": "stdout",
     "output_type": "stream",
     "text": [
      "2021-03-30T06\n"
     ]
    },
    {
     "name": "stderr",
     "output_type": "stream",
     "text": [
      " 57%|███████████████████████████████████████████▎                                | 10083/17675 [01:18<00:55, 137.15it/s]"
     ]
    },
    {
     "name": "stdout",
     "output_type": "stream",
     "text": [
      "2021-10-14T00\n",
      "2021-10-14T00\n",
      "2021-10-14T00\n",
      "2021-10-14T00\n",
      "2021-10-14T00\n"
     ]
    },
    {
     "name": "stderr",
     "output_type": "stream",
     "text": [
      " 57%|████████████████████████████████████████████                                 | 10111/17675 [01:20<05:36, 22.49it/s]"
     ]
    },
    {
     "name": "stdout",
     "output_type": "stream",
     "text": [
      "2021-10-14T00\n"
     ]
    },
    {
     "name": "stderr",
     "output_type": "stream",
     "text": [
      " 75%|████████████████████████████████████████████████████████▉                   | 13252/17675 [01:43<00:34, 127.97it/s]\n"
     ]
    },
    {
     "ename": "KeyboardInterrupt",
     "evalue": "",
     "output_type": "error",
     "traceback": [
      "\u001b[0;31m---------------------------------------------------------------------------\u001b[0m",
      "\u001b[0;31mKeyboardInterrupt\u001b[0m                         Traceback (most recent call last)",
      "Input \u001b[0;32mIn [8]\u001b[0m, in \u001b[0;36m<cell line: 1>\u001b[0;34m()\u001b[0m\n\u001b[1;32m      1\u001b[0m \u001b[38;5;28;01mfor\u001b[39;00m time \u001b[38;5;129;01min\u001b[39;00m tqdm(non_ifr_list[\u001b[38;5;124m'\u001b[39m\u001b[38;5;124mGLAMP timestamp\u001b[39m\u001b[38;5;124m'\u001b[39m]):   \n\u001b[0;32m----> 2\u001b[0m     \u001b[38;5;28;01mif\u001b[39;00m \u001b[38;5;124mf\u001b[39m\u001b[38;5;124m'\u001b[39m\u001b[38;5;132;01m{\u001b[39;00mtime[:\u001b[38;5;241m-\u001b[39m\u001b[38;5;241m4\u001b[39m]\u001b[38;5;132;01m}\u001b[39;00m\u001b[38;5;124mZ.csv\u001b[39m\u001b[38;5;124m'\u001b[39m \u001b[38;5;129;01min\u001b[39;00m \u001b[43mlistdir\u001b[49m\u001b[43m(\u001b[49m\u001b[38;5;124;43m'\u001b[39;49m\u001b[38;5;124;43mData/GLAMP IFR data/Non-IFR records\u001b[39;49m\u001b[38;5;124;43m'\u001b[39;49m\u001b[43m)\u001b[49m:\n\u001b[1;32m      3\u001b[0m         \u001b[38;5;28;01mcontinue\u001b[39;00m\n\u001b[1;32m      4\u001b[0m     base_url \u001b[38;5;241m=\u001b[39m \u001b[38;5;124m'\u001b[39m\u001b[38;5;124mhttps://mesonet.agron.iastate.edu/api/1/mos.json\u001b[39m\u001b[38;5;124m'\u001b[39m\n",
      "\u001b[0;31mKeyboardInterrupt\u001b[0m: "
     ]
    }
   ],
   "source": [
    "for time in tqdm(non_ifr_list['GLAMP timestamp']):   \n",
    "    if f'{time[:-4]}Z.csv' in listdir('Data/GLAMP IFR data/Non-IFR records'):\n",
    "        continue\n",
    "    base_url = 'https://mesonet.agron.iastate.edu/api/1/mos.json'\n",
    "    params = {'station': 'KBOS',\n",
    "              'model': 'LAV',\n",
    "              'runtime': time}\n",
    "    try:\n",
    "        response = requests.get(base_url, params=params).json()['data']\n",
    "        result = pd.DataFrame(response)\n",
    "        result.to_csv(f'Data/GLAMP IFR data/Non-IFR records/{time[:-4]}Z.csv')\n",
    "    except KeyError:\n",
    "        print(time[:-4])"
   ]
  },
  {
   "cell_type": "markdown",
   "id": "eaa49d1e-c5f5-4a56-ae0b-65a794eeeb4e",
   "metadata": {},
   "source": [
    "2020-09-28T06:00Z, 2020-11-27T00:00Z, 2021-03-30T06, 2021-10-14T00 and 2022-06-29T12 seem to be lost"
   ]
  },
  {
   "cell_type": "code",
   "execution_count": null,
   "id": "023097bb-d979-472d-82cf-4765fc12151b",
   "metadata": {},
   "outputs": [],
   "source": [
    "base_url = 'https://mesonet.agron.iastate.edu/api/1/mos.json'\n",
    "params = {'station': 'KBOS',\n",
    "          'model': 'LAV',\n",
    "          'runtime': '2020-11-27T00:00Z'}\n",
    "response = requests.get(base_url, params=params)\n",
    "print(response)\n",
    "result = pd.DataFrame(response)\n",
    "#result.to_csv(f'Data/GLAMP IFR data/{time[:-4]}Z.csv')"
   ]
  },
  {
   "cell_type": "code",
   "execution_count": 20,
   "id": "290ea973-77bd-4f0f-8740-a6289c6b0171",
   "metadata": {},
   "outputs": [],
   "source": [
    "H2_path = 'Data/hrrr/20210722/subset_dfa361b29e2779abb789dd9ce7618f6cf8d1bd80__hrrr.t00z.wrfsfcf00.grib2'"
   ]
  },
  {
   "cell_type": "code",
   "execution_count": 21,
   "id": "7fc6aa9d-1be5-4db3-94ee-6aff00f8b783",
   "metadata": {},
   "outputs": [],
   "source": [
    "file =  Nio.open_file(H2_path,\"r\")"
   ]
  },
  {
   "cell_type": "code",
   "execution_count": 16,
   "id": "cfc59a8e-5415-4d39-95f8-c810f92f2297",
   "metadata": {},
   "outputs": [],
   "source": [
    "file.close()"
   ]
  },
  {
   "cell_type": "markdown",
   "id": "711ee564-3630-43cf-96c7-65257b13187d",
   "metadata": {},
   "source": [
    "https://www.analyticsvidhya.com/blog/2021/06/understanding-random-forest/ good sklearn tutorial"
   ]
  },
  {
   "cell_type": "code",
   "execution_count": null,
   "id": "2c7f6986-4281-4b48-8a76-fd5297991be7",
   "metadata": {},
   "outputs": [],
   "source": []
  }
 ],
 "metadata": {
  "kernelspec": {
   "display_name": "Python 3 (ipykernel)",
   "language": "python",
   "name": "python3"
  },
  "language_info": {
   "codemirror_mode": {
    "name": "ipython",
    "version": 3
   },
   "file_extension": ".py",
   "mimetype": "text/x-python",
   "name": "python",
   "nbconvert_exporter": "python",
   "pygments_lexer": "ipython3",
   "version": "3.10.6"
  }
 },
 "nbformat": 4,
 "nbformat_minor": 5
}
