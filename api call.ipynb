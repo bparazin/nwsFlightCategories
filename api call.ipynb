{
 "cells": [
  {
   "cell_type": "code",
   "execution_count": 2,
   "id": "3c53c2f1-e8c9-412c-af3a-4f5d15fb8439",
   "metadata": {},
   "outputs": [],
   "source": [
    "import pandas as pd\n",
    "import requests\n",
    "from fractions import Fraction\n",
    "from tqdm import tqdm\n",
    "from os import listdir\n",
    "from herbie.archive import Herbie"
   ]
  },
  {
   "cell_type": "code",
   "execution_count": 3,
   "id": "c355fd44-9400-410b-8db6-c7b6c7d3ede7",
   "metadata": {},
   "outputs": [],
   "source": [
    "metar_list = pd.read_csv('Data/BOS.csv')"
   ]
  },
  {
   "cell_type": "code",
   "execution_count": 4,
   "id": "e96ae191-7a24-4864-8a30-7a2c3053cf82",
   "metadata": {},
   "outputs": [],
   "source": [
    "#this assumes that visibility is always the first value reported in standard miles in the metar\n",
    "def find_visibility(metar):\n",
    "    metar_list = metar.split(' ')\n",
    "    for i,datapoint in enumerate(metar_list):\n",
    "        if datapoint[-2:] == 'SM':\n",
    "            if metar_list[i][0] == 'M':\n",
    "                return float(Fraction(metar_list[i][1:-2]))\n",
    "            else:\n",
    "                return float(Fraction(metar_list[i][:-2]))\n",
    "def find_broken_height(metar):\n",
    "    metar_list = metar.split(' ')\n",
    "    for i,datapoint in enumerate(metar_list):\n",
    "        if datapoint[:3] == 'BKN':\n",
    "            return 100 * int(metar_list[i][3:6])\n",
    "    return None\n",
    "\n",
    "def find_overcast_height(metar):\n",
    "    metar_list = metar.split(' ')\n",
    "    for i,datapoint in enumerate(metar_list):\n",
    "        if datapoint[:3] == 'OVC':\n",
    "            return 100 * int(metar_list[i][3:6])\n",
    "    return None\n",
    "\n",
    "def find_ceiling_height(metar):\n",
    "    if find_overcast_height(metar) is None and find_broken_height(metar) is None:\n",
    "        return None\n",
    "    if find_overcast_height(metar) is None:\n",
    "        return find_broken_height(metar)\n",
    "    if find_broken_height(metar) is None:\n",
    "        return find_overcast_height(metar)\n",
    "    return min(find_overcast_height(metar), find_broken_height(metar))\n",
    "\n",
    "def GLAMPstamp(metar):\n",
    "    metar_list = metar.split(' ')\n",
    "    datapoint = metar_list[1]\n",
    "    initalization_time = None\n",
    "    timestamp = int(datapoint[2:-1])\n",
    "    if timestamp < 600:\n",
    "        initalization_time = '00:00'\n",
    "    elif timestamp < 1200:\n",
    "        initalization_time = '06:00'\n",
    "    elif timestamp < 1800:\n",
    "        initalization_time = '12:00'\n",
    "    else: \n",
    "        initalization_time = '18:00'\n",
    "    return initalization_time\n",
    "\n",
    "def format_date(validString):\n",
    "    dmy = validString.split(' ')[0]\n",
    "    month, day, year = dmy.split('/')\n",
    "    if len(day) == 1:\n",
    "        day = '0' + day\n",
    "    if len(month) == 1:\n",
    "        month = '0' + month\n",
    "    return f'{year}-{month}-{day}'"
   ]
  },
  {
   "cell_type": "code",
   "execution_count": 5,
   "id": "1ca776d1-cfe0-4d6f-8f45-59954ec8ad53",
   "metadata": {},
   "outputs": [],
   "source": [
    "metar_list['visibility'] = [find_visibility(metar) for metar in metar_list['metar']]\n",
    "metar_list['ceiling'] = [find_ceiling_height(metar) for metar in metar_list['metar']]\n",
    "metar_list['ifr_event'] = (metar_list['ceiling'] <= 1000) | (metar_list['visibility'] <= 1)\n",
    "metar_list['GLAMP timestamp'] = [f'{format_date(metar_list[\"valid\"][i])}T{GLAMPstamp(metar)}Z'\n",
    "                                 for i, metar in enumerate(metar_list['metar'])]"
   ]
  },
  {
   "cell_type": "code",
   "execution_count": 6,
   "id": "a1d9f7b4-0210-4249-9db6-80186b7595df",
   "metadata": {},
   "outputs": [],
   "source": [
    "ifr_list = metar_list[metar_list['ifr_event']]\n",
    "non_ifr_list = metar_list[~metar_list['ifr_event']]"
   ]
  },
  {
   "cell_type": "code",
   "execution_count": 8,
   "id": "bffca0a0-727c-4f04-927c-392da84c9ae7",
   "metadata": {
    "tags": []
   },
   "outputs": [
    {
     "name": "stderr",
     "output_type": "stream",
     "text": [
      "  2%|█▊                                                                               | 66/2942 [00:00<00:08, 323.59it/s]"
     ]
    },
    {
     "name": "stdout",
     "output_type": "stream",
     "text": [
      "2020-09-28T06\n"
     ]
    },
    {
     "name": "stderr",
     "output_type": "stream",
     "text": [
      "  4%|███▎                                                                             | 119/2942 [00:01<00:36, 78.13it/s]"
     ]
    },
    {
     "name": "stdout",
     "output_type": "stream",
     "text": [
      "2020-09-28T06\n"
     ]
    },
    {
     "name": "stderr",
     "output_type": "stream",
     "text": [
      " 10%|████████▏                                                                       | 301/2942 [00:01<00:10, 262.77it/s]"
     ]
    },
    {
     "name": "stdout",
     "output_type": "stream",
     "text": [
      "2020-11-27T00\n",
      "2020-11-27T00\n",
      "2020-11-27T00\n",
      "2020-11-27T00\n",
      "2020-11-27T00\n",
      "2020-11-27T00\n",
      "2020-11-27T00\n",
      "2020-11-27T00\n",
      "2020-11-27T00\n",
      "2020-11-27T00\n",
      "2020-11-27T00\n"
     ]
    },
    {
     "name": "stderr",
     "output_type": "stream",
     "text": [
      " 13%|██████████▏                                                                      | 370/2942 [00:07<01:28, 29.02it/s]"
     ]
    },
    {
     "name": "stdout",
     "output_type": "stream",
     "text": [
      "2020-11-27T00\n"
     ]
    },
    {
     "name": "stderr",
     "output_type": "stream",
     "text": [
      "100%|███████████████████████████████████████████████████████████████████████████████| 2942/2942 [00:14<00:00, 205.84it/s]\n"
     ]
    }
   ],
   "source": [
    "for time in tqdm(ifr_list['GLAMP timestamp']):   \n",
    "    if f'{time[:-4]}Z.csv' in listdir('Data/GLAMP IFR data/IFR records'):\n",
    "        continue\n",
    "    base_url = 'https://mesonet.agron.iastate.edu/api/1/mos.json'\n",
    "    params = {'station': 'KBOS',\n",
    "              'model': 'LAV',\n",
    "              'runtime': time}\n",
    "    try:\n",
    "        response = requests.get(base_url, params=params).json()['data']\n",
    "        result = pd.DataFrame(response)\n",
    "        result.to_csv(f'Data/GLAMP IFR data/IFR records/{time[:-4]}Z.csv')\n",
    "    except KeyError:\n",
    "        print(time[:-4])"
   ]
  },
  {
   "cell_type": "code",
   "execution_count": 9,
   "id": "d842452c-354d-4e44-a9f3-28bc63afb125",
   "metadata": {},
   "outputs": [
    {
     "name": "stderr",
     "output_type": "stream",
     "text": [
      "  5%|████                                                                            | 887/17675 [01:38<31:53,  8.77it/s]"
     ]
    },
    {
     "name": "stdout",
     "output_type": "stream",
     "text": [
      "2020-09-28T06\n"
     ]
    },
    {
     "name": "stderr",
     "output_type": "stream",
     "text": [
      "  5%|████                                                                            | 888/17675 [01:38<37:00,  7.56it/s]"
     ]
    },
    {
     "name": "stdout",
     "output_type": "stream",
     "text": [
      "2020-09-28T06\n"
     ]
    },
    {
     "name": "stderr",
     "output_type": "stream",
     "text": [
      "  5%|████                                                                            | 889/17675 [01:38<44:21,  6.31it/s]"
     ]
    },
    {
     "name": "stdout",
     "output_type": "stream",
     "text": [
      "2020-09-28T06\n"
     ]
    },
    {
     "name": "stderr",
     "output_type": "stream",
     "text": [
      "  5%|████                                                                            | 890/17675 [01:39<55:13,  5.07it/s]"
     ]
    },
    {
     "name": "stdout",
     "output_type": "stream",
     "text": [
      "2020-09-28T06\n"
     ]
    },
    {
     "name": "stderr",
     "output_type": "stream",
     "text": [
      "  5%|███▉                                                                          | 891/17675 [01:39<1:05:32,  4.27it/s]"
     ]
    },
    {
     "name": "stdout",
     "output_type": "stream",
     "text": [
      "2020-09-28T06\n"
     ]
    },
    {
     "name": "stderr",
     "output_type": "stream",
     "text": [
      "  5%|███▉                                                                          | 892/17675 [01:40<1:15:30,  3.70it/s]"
     ]
    },
    {
     "name": "stdout",
     "output_type": "stream",
     "text": [
      "2020-09-28T06\n"
     ]
    },
    {
     "name": "stderr",
     "output_type": "stream",
     "text": [
      "  5%|███▉                                                                          | 893/17675 [01:40<1:24:48,  3.30it/s]"
     ]
    },
    {
     "name": "stdout",
     "output_type": "stream",
     "text": [
      "2020-09-28T06\n"
     ]
    },
    {
     "name": "stderr",
     "output_type": "stream",
     "text": [
      "  5%|███▉                                                                          | 894/17675 [01:41<1:33:28,  2.99it/s]"
     ]
    },
    {
     "name": "stdout",
     "output_type": "stream",
     "text": [
      "2020-09-28T06\n"
     ]
    },
    {
     "name": "stderr",
     "output_type": "stream",
     "text": [
      " 15%|███████████▍                                                                   | 2571/17675 [04:57<29:06,  8.65it/s]\n"
     ]
    },
    {
     "ename": "OSError",
     "evalue": "Could not find a suitable TLS CA certificate bundle, invalid path: /home/bparazin/anaconda3/envs/nws/lib/python3.10/site-packages/certifi/cacert.pem",
     "output_type": "error",
     "traceback": [
      "\u001b[0;31m---------------------------------------------------------------------------\u001b[0m",
      "\u001b[0;31mOSError\u001b[0m                                   Traceback (most recent call last)",
      "Input \u001b[0;32mIn [9]\u001b[0m, in \u001b[0;36m<cell line: 1>\u001b[0;34m()\u001b[0m\n\u001b[1;32m      5\u001b[0m params \u001b[38;5;241m=\u001b[39m {\u001b[38;5;124m'\u001b[39m\u001b[38;5;124mstation\u001b[39m\u001b[38;5;124m'\u001b[39m: \u001b[38;5;124m'\u001b[39m\u001b[38;5;124mKBOS\u001b[39m\u001b[38;5;124m'\u001b[39m,\n\u001b[1;32m      6\u001b[0m           \u001b[38;5;124m'\u001b[39m\u001b[38;5;124mmodel\u001b[39m\u001b[38;5;124m'\u001b[39m: \u001b[38;5;124m'\u001b[39m\u001b[38;5;124mLAV\u001b[39m\u001b[38;5;124m'\u001b[39m,\n\u001b[1;32m      7\u001b[0m           \u001b[38;5;124m'\u001b[39m\u001b[38;5;124mruntime\u001b[39m\u001b[38;5;124m'\u001b[39m: time}\n\u001b[1;32m      8\u001b[0m \u001b[38;5;28;01mtry\u001b[39;00m:\n\u001b[0;32m----> 9\u001b[0m     response \u001b[38;5;241m=\u001b[39m \u001b[43mrequests\u001b[49m\u001b[38;5;241;43m.\u001b[39;49m\u001b[43mget\u001b[49m\u001b[43m(\u001b[49m\u001b[43mbase_url\u001b[49m\u001b[43m,\u001b[49m\u001b[43m \u001b[49m\u001b[43mparams\u001b[49m\u001b[38;5;241;43m=\u001b[39;49m\u001b[43mparams\u001b[49m\u001b[43m)\u001b[49m\u001b[38;5;241m.\u001b[39mjson()[\u001b[38;5;124m'\u001b[39m\u001b[38;5;124mdata\u001b[39m\u001b[38;5;124m'\u001b[39m]\n\u001b[1;32m     10\u001b[0m     result \u001b[38;5;241m=\u001b[39m pd\u001b[38;5;241m.\u001b[39mDataFrame(response)\n\u001b[1;32m     11\u001b[0m     result\u001b[38;5;241m.\u001b[39mto_csv(\u001b[38;5;124mf\u001b[39m\u001b[38;5;124m'\u001b[39m\u001b[38;5;124mData/GLAMP IFR data/Non-IFR records/\u001b[39m\u001b[38;5;132;01m{\u001b[39;00mtime[:\u001b[38;5;241m-\u001b[39m\u001b[38;5;241m4\u001b[39m]\u001b[38;5;132;01m}\u001b[39;00m\u001b[38;5;124mZ.csv\u001b[39m\u001b[38;5;124m'\u001b[39m)\n",
      "File \u001b[0;32m~/anaconda3/envs/nws/lib/python3.10/site-packages/requests/api.py:73\u001b[0m, in \u001b[0;36mget\u001b[0;34m(url, params, **kwargs)\u001b[0m\n\u001b[1;32m     62\u001b[0m \u001b[38;5;28;01mdef\u001b[39;00m \u001b[38;5;21mget\u001b[39m(url, params\u001b[38;5;241m=\u001b[39m\u001b[38;5;28;01mNone\u001b[39;00m, \u001b[38;5;241m*\u001b[39m\u001b[38;5;241m*\u001b[39mkwargs):\n\u001b[1;32m     63\u001b[0m     \u001b[38;5;124mr\u001b[39m\u001b[38;5;124;03m\"\"\"Sends a GET request.\u001b[39;00m\n\u001b[1;32m     64\u001b[0m \n\u001b[1;32m     65\u001b[0m \u001b[38;5;124;03m    :param url: URL for the new :class:`Request` object.\u001b[39;00m\n\u001b[0;32m   (...)\u001b[0m\n\u001b[1;32m     70\u001b[0m \u001b[38;5;124;03m    :rtype: requests.Response\u001b[39;00m\n\u001b[1;32m     71\u001b[0m \u001b[38;5;124;03m    \"\"\"\u001b[39;00m\n\u001b[0;32m---> 73\u001b[0m     \u001b[38;5;28;01mreturn\u001b[39;00m \u001b[43mrequest\u001b[49m\u001b[43m(\u001b[49m\u001b[38;5;124;43m\"\u001b[39;49m\u001b[38;5;124;43mget\u001b[39;49m\u001b[38;5;124;43m\"\u001b[39;49m\u001b[43m,\u001b[49m\u001b[43m \u001b[49m\u001b[43murl\u001b[49m\u001b[43m,\u001b[49m\u001b[43m \u001b[49m\u001b[43mparams\u001b[49m\u001b[38;5;241;43m=\u001b[39;49m\u001b[43mparams\u001b[49m\u001b[43m,\u001b[49m\u001b[43m \u001b[49m\u001b[38;5;241;43m*\u001b[39;49m\u001b[38;5;241;43m*\u001b[39;49m\u001b[43mkwargs\u001b[49m\u001b[43m)\u001b[49m\n",
      "File \u001b[0;32m~/anaconda3/envs/nws/lib/python3.10/site-packages/requests/api.py:59\u001b[0m, in \u001b[0;36mrequest\u001b[0;34m(method, url, **kwargs)\u001b[0m\n\u001b[1;32m     55\u001b[0m \u001b[38;5;66;03m# By using the 'with' statement we are sure the session is closed, thus we\u001b[39;00m\n\u001b[1;32m     56\u001b[0m \u001b[38;5;66;03m# avoid leaving sockets open which can trigger a ResourceWarning in some\u001b[39;00m\n\u001b[1;32m     57\u001b[0m \u001b[38;5;66;03m# cases, and look like a memory leak in others.\u001b[39;00m\n\u001b[1;32m     58\u001b[0m \u001b[38;5;28;01mwith\u001b[39;00m sessions\u001b[38;5;241m.\u001b[39mSession() \u001b[38;5;28;01mas\u001b[39;00m session:\n\u001b[0;32m---> 59\u001b[0m     \u001b[38;5;28;01mreturn\u001b[39;00m \u001b[43msession\u001b[49m\u001b[38;5;241;43m.\u001b[39;49m\u001b[43mrequest\u001b[49m\u001b[43m(\u001b[49m\u001b[43mmethod\u001b[49m\u001b[38;5;241;43m=\u001b[39;49m\u001b[43mmethod\u001b[49m\u001b[43m,\u001b[49m\u001b[43m \u001b[49m\u001b[43murl\u001b[49m\u001b[38;5;241;43m=\u001b[39;49m\u001b[43murl\u001b[49m\u001b[43m,\u001b[49m\u001b[43m \u001b[49m\u001b[38;5;241;43m*\u001b[39;49m\u001b[38;5;241;43m*\u001b[39;49m\u001b[43mkwargs\u001b[49m\u001b[43m)\u001b[49m\n",
      "File \u001b[0;32m~/anaconda3/envs/nws/lib/python3.10/site-packages/requests/sessions.py:587\u001b[0m, in \u001b[0;36mSession.request\u001b[0;34m(self, method, url, params, data, headers, cookies, files, auth, timeout, allow_redirects, proxies, hooks, stream, verify, cert, json)\u001b[0m\n\u001b[1;32m    582\u001b[0m send_kwargs \u001b[38;5;241m=\u001b[39m {\n\u001b[1;32m    583\u001b[0m     \u001b[38;5;124m\"\u001b[39m\u001b[38;5;124mtimeout\u001b[39m\u001b[38;5;124m\"\u001b[39m: timeout,\n\u001b[1;32m    584\u001b[0m     \u001b[38;5;124m\"\u001b[39m\u001b[38;5;124mallow_redirects\u001b[39m\u001b[38;5;124m\"\u001b[39m: allow_redirects,\n\u001b[1;32m    585\u001b[0m }\n\u001b[1;32m    586\u001b[0m send_kwargs\u001b[38;5;241m.\u001b[39mupdate(settings)\n\u001b[0;32m--> 587\u001b[0m resp \u001b[38;5;241m=\u001b[39m \u001b[38;5;28;43mself\u001b[39;49m\u001b[38;5;241;43m.\u001b[39;49m\u001b[43msend\u001b[49m\u001b[43m(\u001b[49m\u001b[43mprep\u001b[49m\u001b[43m,\u001b[49m\u001b[43m \u001b[49m\u001b[38;5;241;43m*\u001b[39;49m\u001b[38;5;241;43m*\u001b[39;49m\u001b[43msend_kwargs\u001b[49m\u001b[43m)\u001b[49m\n\u001b[1;32m    589\u001b[0m \u001b[38;5;28;01mreturn\u001b[39;00m resp\n",
      "File \u001b[0;32m~/anaconda3/envs/nws/lib/python3.10/site-packages/requests/sessions.py:701\u001b[0m, in \u001b[0;36mSession.send\u001b[0;34m(self, request, **kwargs)\u001b[0m\n\u001b[1;32m    698\u001b[0m start \u001b[38;5;241m=\u001b[39m preferred_clock()\n\u001b[1;32m    700\u001b[0m \u001b[38;5;66;03m# Send the request\u001b[39;00m\n\u001b[0;32m--> 701\u001b[0m r \u001b[38;5;241m=\u001b[39m \u001b[43madapter\u001b[49m\u001b[38;5;241;43m.\u001b[39;49m\u001b[43msend\u001b[49m\u001b[43m(\u001b[49m\u001b[43mrequest\u001b[49m\u001b[43m,\u001b[49m\u001b[43m \u001b[49m\u001b[38;5;241;43m*\u001b[39;49m\u001b[38;5;241;43m*\u001b[39;49m\u001b[43mkwargs\u001b[49m\u001b[43m)\u001b[49m\n\u001b[1;32m    703\u001b[0m \u001b[38;5;66;03m# Total elapsed time of the request (approximately)\u001b[39;00m\n\u001b[1;32m    704\u001b[0m elapsed \u001b[38;5;241m=\u001b[39m preferred_clock() \u001b[38;5;241m-\u001b[39m start\n",
      "File \u001b[0;32m~/anaconda3/envs/nws/lib/python3.10/site-packages/requests/adapters.py:460\u001b[0m, in \u001b[0;36mHTTPAdapter.send\u001b[0;34m(self, request, stream, timeout, verify, cert, proxies)\u001b[0m\n\u001b[1;32m    457\u001b[0m \u001b[38;5;28;01mexcept\u001b[39;00m LocationValueError \u001b[38;5;28;01mas\u001b[39;00m e:\n\u001b[1;32m    458\u001b[0m     \u001b[38;5;28;01mraise\u001b[39;00m InvalidURL(e, request\u001b[38;5;241m=\u001b[39mrequest)\n\u001b[0;32m--> 460\u001b[0m \u001b[38;5;28;43mself\u001b[39;49m\u001b[38;5;241;43m.\u001b[39;49m\u001b[43mcert_verify\u001b[49m\u001b[43m(\u001b[49m\u001b[43mconn\u001b[49m\u001b[43m,\u001b[49m\u001b[43m \u001b[49m\u001b[43mrequest\u001b[49m\u001b[38;5;241;43m.\u001b[39;49m\u001b[43murl\u001b[49m\u001b[43m,\u001b[49m\u001b[43m \u001b[49m\u001b[43mverify\u001b[49m\u001b[43m,\u001b[49m\u001b[43m \u001b[49m\u001b[43mcert\u001b[49m\u001b[43m)\u001b[49m\n\u001b[1;32m    461\u001b[0m url \u001b[38;5;241m=\u001b[39m \u001b[38;5;28mself\u001b[39m\u001b[38;5;241m.\u001b[39mrequest_url(request, proxies)\n\u001b[1;32m    462\u001b[0m \u001b[38;5;28mself\u001b[39m\u001b[38;5;241m.\u001b[39madd_headers(\n\u001b[1;32m    463\u001b[0m     request,\n\u001b[1;32m    464\u001b[0m     stream\u001b[38;5;241m=\u001b[39mstream,\n\u001b[0;32m   (...)\u001b[0m\n\u001b[1;32m    468\u001b[0m     proxies\u001b[38;5;241m=\u001b[39mproxies,\n\u001b[1;32m    469\u001b[0m )\n",
      "File \u001b[0;32m~/anaconda3/envs/nws/lib/python3.10/site-packages/requests/adapters.py:263\u001b[0m, in \u001b[0;36mHTTPAdapter.cert_verify\u001b[0;34m(self, conn, url, verify, cert)\u001b[0m\n\u001b[1;32m    260\u001b[0m     cert_loc \u001b[38;5;241m=\u001b[39m extract_zipped_paths(DEFAULT_CA_BUNDLE_PATH)\n\u001b[1;32m    262\u001b[0m \u001b[38;5;28;01mif\u001b[39;00m \u001b[38;5;129;01mnot\u001b[39;00m cert_loc \u001b[38;5;129;01mor\u001b[39;00m \u001b[38;5;129;01mnot\u001b[39;00m os\u001b[38;5;241m.\u001b[39mpath\u001b[38;5;241m.\u001b[39mexists(cert_loc):\n\u001b[0;32m--> 263\u001b[0m     \u001b[38;5;28;01mraise\u001b[39;00m \u001b[38;5;167;01mOSError\u001b[39;00m(\n\u001b[1;32m    264\u001b[0m         \u001b[38;5;124mf\u001b[39m\u001b[38;5;124m\"\u001b[39m\u001b[38;5;124mCould not find a suitable TLS CA certificate bundle, \u001b[39m\u001b[38;5;124m\"\u001b[39m\n\u001b[1;32m    265\u001b[0m         \u001b[38;5;124mf\u001b[39m\u001b[38;5;124m\"\u001b[39m\u001b[38;5;124minvalid path: \u001b[39m\u001b[38;5;132;01m{\u001b[39;00mcert_loc\u001b[38;5;132;01m}\u001b[39;00m\u001b[38;5;124m\"\u001b[39m\n\u001b[1;32m    266\u001b[0m     )\n\u001b[1;32m    268\u001b[0m conn\u001b[38;5;241m.\u001b[39mcert_reqs \u001b[38;5;241m=\u001b[39m \u001b[38;5;124m\"\u001b[39m\u001b[38;5;124mCERT_REQUIRED\u001b[39m\u001b[38;5;124m\"\u001b[39m\n\u001b[1;32m    270\u001b[0m \u001b[38;5;28;01mif\u001b[39;00m \u001b[38;5;129;01mnot\u001b[39;00m os\u001b[38;5;241m.\u001b[39mpath\u001b[38;5;241m.\u001b[39misdir(cert_loc):\n",
      "\u001b[0;31mOSError\u001b[0m: Could not find a suitable TLS CA certificate bundle, invalid path: /home/bparazin/anaconda3/envs/nws/lib/python3.10/site-packages/certifi/cacert.pem"
     ]
    }
   ],
   "source": [
    "for time in tqdm(non_ifr_list['GLAMP timestamp']):   \n",
    "    if f'{time[:-4]}Z.csv' in listdir('Data/GLAMP IFR data/Non-IFR records'):\n",
    "        continue\n",
    "    base_url = 'https://mesonet.agron.iastate.edu/api/1/mos.json'\n",
    "    params = {'station': 'KBOS',\n",
    "              'model': 'LAV',\n",
    "              'runtime': time}\n",
    "    try:\n",
    "        response = requests.get(base_url, params=params).json()['data']\n",
    "        result = pd.DataFrame(response)\n",
    "        result.to_csv(f'Data/GLAMP IFR data/Non-IFR records/{time[:-4]}Z.csv')\n",
    "    except KeyError:\n",
    "        print(time[:-4])"
   ]
  },
  {
   "cell_type": "markdown",
   "id": "eaa49d1e-c5f5-4a56-ae0b-65a794eeeb4e",
   "metadata": {},
   "source": [
    "2020-09-28T06:00Z and 2020-11-27T00:00Z seem to be lost"
   ]
  },
  {
   "cell_type": "code",
   "execution_count": 8,
   "id": "023097bb-d979-472d-82cf-4765fc12151b",
   "metadata": {},
   "outputs": [
    {
     "name": "stdout",
     "output_type": "stream",
     "text": [
      "<Response [404]>\n"
     ]
    }
   ],
   "source": [
    "base_url = 'https://mesonet.agron.iastate.edu/api/1/mos.json'\n",
    "params = {'station': 'KBOS',\n",
    "          'model': 'LAV',\n",
    "          'runtime': '2020-11-27T00:00Z'}\n",
    "response = requests.get(base_url, params=params)\n",
    "print(response)\n",
    "result = pd.DataFrame(response)\n",
    "#result.to_csv(f'Data/GLAMP IFR data/{time[:-4]}Z.csv')"
   ]
  },
  {
   "cell_type": "code",
   "execution_count": 5,
   "id": "a8d0c886-3283-4f5d-8ee9-451b374c318c",
   "metadata": {},
   "outputs": [
    {
     "name": "stdout",
     "output_type": "stream",
     "text": [
      "✅ Found ┊ model=hrrr ┊ \u001b[3mproduct=prs\u001b[0m ┊ \u001b[38;2;41;130;13m2021-Jul-21 00:00 UTC\u001b[92m F00\u001b[0m ┊ \u001b[38;2;255;153;0m\u001b[3mGRIB2 @ aws\u001b[0m ┊ \u001b[38;2;255;153;0m\u001b[3mIDX @ aws\u001b[0m\n"
     ]
    }
   ],
   "source": [
    "H2 = Herbie(\"2021-07-21\", model=\"hrrr\", product=\"prs\", save_dir='Data')"
   ]
  },
  {
   "cell_type": "code",
   "execution_count": null,
   "id": "7c2503aa-fc51-476e-a320-2f1909173414",
   "metadata": {},
   "outputs": [
    {
     "name": "stdout",
     "output_type": "stream",
     "text": [
      "👨🏻‍🏭 Created directory: [C:\\Users\\bpara\\Documents\\Git\\nwsFlightCategories\\Data\\hrrr\\20210721]\n",
      "🚛💨  Download Progress: 92.19% of 419.6 MB\r"
     ]
    }
   ],
   "source": [
    "H2.download()"
   ]
  },
  {
   "cell_type": "code",
   "execution_count": null,
   "id": "290ea973-77bd-4f0f-8740-a6289c6b0171",
   "metadata": {},
   "outputs": [],
   "source": [
    "H2_path = 'Data/hrrr/20210721/hrrr.t00z.wrfprsf00.grib2'"
   ]
  },
  {
   "cell_type": "code",
   "execution_count": null,
   "id": "f583452c-0864-4e70-aa22-c6ec5dd18a3b",
   "metadata": {},
   "outputs": [],
   "source": []
  }
 ],
 "metadata": {
  "kernelspec": {
   "display_name": "Python 3 (ipykernel)",
   "language": "python",
   "name": "python3"
  },
  "language_info": {
   "codemirror_mode": {
    "name": "ipython",
    "version": 3
   },
   "file_extension": ".py",
   "mimetype": "text/x-python",
   "name": "python",
   "nbconvert_exporter": "python",
   "pygments_lexer": "ipython3",
   "version": "3.10.4"
  }
 },
 "nbformat": 4,
 "nbformat_minor": 5
}
