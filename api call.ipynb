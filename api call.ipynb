{
 "cells": [
  {
   "cell_type": "code",
   "execution_count": 1,
   "id": "3c53c2f1-e8c9-412c-af3a-4f5d15fb8439",
   "metadata": {},
   "outputs": [],
   "source": [
    "import pandas as pd\n",
    "import numpy as np\n",
    "import requests\n",
    "from fractions import Fraction\n",
    "from tqdm import tqdm\n",
    "from os import listdir, mkdir\n",
    "import xarray as xr\n",
    "from IOfuncs import *\n",
    "import cartopy.crs as ccrs\n",
    "import s3fs\n",
    "import numcodecs as ncd\n",
    "import pickle\n",
    "\n",
    "#many thanks to this here https://mesowest.utah.edu/html/hrrr/zarr_documentation/html/ex_python_plot_zarr.html\n",
    "\n",
    "fs = s3fs.S3FileSystem(anon=True)\n",
    "\n",
    "metar_list = pd.read_csv('Data/BOS.csv')"
   ]
  },
  {
   "cell_type": "code",
   "execution_count": 2,
   "id": "1ca776d1-cfe0-4d6f-8f45-59954ec8ad53",
   "metadata": {},
   "outputs": [],
   "source": [
    "metar_list['visibility'] = [find_visibility(metar) for metar in metar_list['metar']]\n",
    "metar_list['ceiling'] = [find_ceiling_height(metar) for metar in metar_list['metar']]\n",
    "metar_list['ifr_event'] = ((500 < metar_list['ceiling']) & (metar_list['ceiling'] <= 1000) | \n",
    "                           (1 < metar_list['visibility']) & (metar_list['ceiling'] <= 3))\n",
    "metar_list['lifr_event'] = (metar_list['ceiling'] <= 500) | (metar_list['visibility'] <= 1)\n",
    "metar_list['mvfr_event'] = ((1000 < metar_list['ceiling']) & (metar_list['ceiling'] <= 3000) | \n",
    "                            (3 < metar_list['visibility']) & (metar_list['ceiling'] <= 5))\n",
    "metar_list['vfr_event'] = (3000 < metar_list['ceiling']) | (5 < metar_list['visibility'])\n",
    "metar_list['GLAMP timestamp'] = [f'{format_date(metar_list[\"valid\"][i])}T{GLAMPstamp(metar)}Z'\n",
    "                                 for i, metar in enumerate(metar_list['metar'])]\n",
    "metar_list['HRRR day'] = [f'{format_date(metar_list[\"valid\"][i], hrrrDate=True)}'\n",
    "                                 for i, metar in enumerate(metar_list['metar'])]\n",
    "metar_list['HRRR time'] = [f'{HRRRstamp(metar_list[\"valid\"][i])}' for i, metar in enumerate(metar_list['metar'])]"
   ]
  },
  {
   "cell_type": "code",
   "execution_count": 3,
   "id": "a1d9f7b4-0210-4249-9db6-80186b7595df",
   "metadata": {},
   "outputs": [],
   "source": [
    "ifr_list = metar_list[metar_list['ifr_event']]\n",
    "lifr_list = metar_list[metar_list['lifr_event']]\n",
    "mvfr_list = metar_list[metar_list['mvfr_event']]\n",
    "vfr_list = metar_list[metar_list['vfr_event']]"
   ]
  },
  {
   "cell_type": "code",
   "execution_count": 4,
   "id": "8d399e96-fee6-4e51-b38b-cd049ff0f813",
   "metadata": {},
   "outputs": [],
   "source": [
    "#Latlon for Logan airport\n",
    "point_lon, point_lat = -71.0096, 42.3656\n",
    "\n",
    "# (Variable, level):\n",
    "var_list = [('TMP', 'surface'),\n",
    "            ('TMP', '500mb'),\n",
    "            ('TMP', '700mb'),\n",
    "            ('TMP', '850mb'),\n",
    "            ('TMP', '925mb'),\n",
    "            ('TMP', '1000mb'),\n",
    "            ('VGRD', '10m_above_ground'),\n",
    "            ('UGRD', '10m_above_ground'),\n",
    "            ('VGRD', '250mb'),\n",
    "            ('UGRD', '250mb'),\n",
    "            ('VGRD', '300mb'),\n",
    "            ('UGRD', '300mb'),\n",
    "            ('VGRD', '500mb'),\n",
    "            ('UGRD', '500mb'),\n",
    "            ('VGRD', '700mb'),\n",
    "            ('UGRD', '700mb'),\n",
    "            ('VGRD', '850mb'),\n",
    "            ('UGRD', '850mb'),\n",
    "            ('VGRD', '925mb'),\n",
    "            ('UGRD', '925mb'),\n",
    "            ('VGRD', '1000mb'),\n",
    "            ('UGRD', '1000mb'),\n",
    "            ('DPT', '2m_above_ground'),\n",
    "            ('DPT', '500mb'),\n",
    "            ('DPT', '700mb'),\n",
    "            ('DPT', '850mb'),\n",
    "            ('DPT', '925mb'),\n",
    "            ('DPT', '1000mb'),\n",
    "            ('HGT', 'cloud_base'),\n",
    "            ('HGT', 'cloud_ceiling'),\n",
    "            ('VIS', 'surface')]"
   ]
  },
  {
   "cell_type": "code",
   "execution_count": 5,
   "id": "0158e57b-36a0-4698-b437-6652575eb415",
   "metadata": {},
   "outputs": [],
   "source": [
    "chunk_index = xr.open_zarr(s3fs.S3Map(\"s3://hrrrzarr/grid/HRRR_chunk_index.zarr\", s3=fs))"
   ]
  },
  {
   "cell_type": "code",
   "execution_count": 6,
   "id": "fafc64d0-f878-445a-84b5-9502a283f9ba",
   "metadata": {},
   "outputs": [
    {
     "name": "stderr",
     "output_type": "stream",
     "text": [
      "/home/bparazin/anaconda3/envs/nws/lib/python3.10/site-packages/xarray/core/indexes.py:234: FutureWarning: Passing method to Float64Index.get_loc is deprecated and will raise in a future version. Use index.get_indexer([item], method=...) instead.\n",
      "  indexer = self.index.get_loc(\n",
      "/home/bparazin/anaconda3/envs/nws/lib/python3.10/site-packages/xarray/core/indexes.py:234: FutureWarning: Passing method to Float64Index.get_loc is deprecated and will raise in a future version. Use index.get_indexer([item], method=...) instead.\n",
      "  indexer = self.index.get_loc(\n"
     ]
    }
   ],
   "source": [
    "projection = ccrs.LambertConformal(central_longitude=262.5, \n",
    "                                   central_latitude=38.5, \n",
    "                                   standard_parallels=(38.5, 38.5),\n",
    "                                    globe=ccrs.Globe(semimajor_axis=6371229,\n",
    "                                                     semiminor_axis=6371229))\n",
    "\n",
    "x, y = projection.transform_point(point_lon, point_lat, ccrs.PlateCarree())\n",
    "\n",
    "nearest_point = chunk_index.sel(x=x, y=y, method=\"nearest\")\n",
    "fcst_chunk_id = f\"0.{nearest_point.chunk_id.values}\""
   ]
  },
  {
   "cell_type": "code",
   "execution_count": null,
   "id": "e7a38a38-58d5-4fdd-82c2-af4799c30729",
   "metadata": {},
   "outputs": [],
   "source": [
    "event_list = lifr_list\n",
    "\n",
    "print(len(event_list['HRRR time']))\n",
    "for hr, date in tqdm(zip(event_list['HRRR time'], event_list['HRRR day'])):\n",
    "    if f'{date}{hr}.csv' in listdir(f'Data/hrrr'):\n",
    "            continue\n",
    "    df = pd.DataFrame()\n",
    "    for (var, level) in var_list:\n",
    "        data_url = f'hrrrzarr/sfc/{date}/{date}_{hr}z_fcst.zarr/{level}/{var}/{level}/{var}/'\n",
    "        data = retrieve_data(data_url + fcst_chunk_id)\n",
    "        gridpoint_forecast = data[:, nearest_point.in_chunk_x, nearest_point.in_chunk_y]\n",
    "        df[f'{var}_{level}'] = gridpoint_forecast\n",
    "    df.to_csv(f'Data/hrrr/{date}{hr}.csv')"
   ]
  },
  {
   "cell_type": "code",
   "execution_count": null,
   "id": "d0d06c24-f074-4697-9d4f-90bd1a012377",
   "metadata": {},
   "outputs": [],
   "source": [
    "event_list = ifr_list\n",
    "\n",
    "print(len(event_list['HRRR time']))\n",
    "for hr, date in tqdm(zip(event_list['HRRR time'], event_list['HRRR day'])):\n",
    "    if f'{date}{hr}.csv' in listdir(f'Data/hrrr'):\n",
    "        continue\n",
    "    df = pd.DataFrame()\n",
    "    for (var, level) in var_list:\n",
    "        data_url = f'hrrrzarr/sfc/{date}/{date}_{hr}z_fcst.zarr/{level}/{var}/{level}/{var}/'\n",
    "        data = retrieve_data(data_url + fcst_chunk_id)\n",
    "        gridpoint_forecast = data[:, nearest_point.in_chunk_x, nearest_point.in_chunk_y]\n",
    "        df[f'{var}_{level}'] = gridpoint_forecast\n",
    "    df.to_csv(f'Data/hrrr/{date}{hr}.csv')"
   ]
  },
  {
   "cell_type": "code",
   "execution_count": 29,
   "id": "f0f3cbcb-d207-44e3-a6b3-9f0892aa50e0",
   "metadata": {},
   "outputs": [
    {
     "name": "stdout",
     "output_type": "stream",
     "text": [
      "2851\n"
     ]
    },
    {
     "name": "stderr",
     "output_type": "stream",
     "text": [
      "0it [00:00, ?it/s]"
     ]
    },
    {
     "name": "stdout",
     "output_type": "stream",
     "text": [
      "20200823 20\n",
      "20200823 20\n",
      "20200823 20\n",
      "20200823 20\n",
      "20200823 20\n",
      "20200827 16\n",
      "20200827 18\n",
      "20200828 11\n",
      "20200829 08\n",
      "20200829 09\n"
     ]
    },
    {
     "name": "stderr",
     "output_type": "stream",
     "text": [
      "9it [00:25,  2.89s/it]\n"
     ]
    },
    {
     "ename": "KeyboardInterrupt",
     "evalue": "",
     "output_type": "error",
     "traceback": [
      "\u001b[0;31m---------------------------------------------------------------------------\u001b[0m",
      "\u001b[0;31mKeyboardInterrupt\u001b[0m                         Traceback (most recent call last)",
      "Input \u001b[0;32mIn [29]\u001b[0m, in \u001b[0;36m<cell line: 4>\u001b[0;34m()\u001b[0m\n\u001b[1;32m      9\u001b[0m \u001b[38;5;28;01mfor\u001b[39;00m (var, level) \u001b[38;5;129;01min\u001b[39;00m var_list:\n\u001b[1;32m     10\u001b[0m     data_url \u001b[38;5;241m=\u001b[39m \u001b[38;5;124mf\u001b[39m\u001b[38;5;124m'\u001b[39m\u001b[38;5;124mhrrrzarr/sfc/\u001b[39m\u001b[38;5;132;01m{\u001b[39;00mdate\u001b[38;5;132;01m}\u001b[39;00m\u001b[38;5;124m/\u001b[39m\u001b[38;5;132;01m{\u001b[39;00mdate\u001b[38;5;132;01m}\u001b[39;00m\u001b[38;5;124m_\u001b[39m\u001b[38;5;132;01m{\u001b[39;00mhr\u001b[38;5;132;01m}\u001b[39;00m\u001b[38;5;124mz_fcst.zarr/\u001b[39m\u001b[38;5;132;01m{\u001b[39;00mlevel\u001b[38;5;132;01m}\u001b[39;00m\u001b[38;5;124m/\u001b[39m\u001b[38;5;132;01m{\u001b[39;00mvar\u001b[38;5;132;01m}\u001b[39;00m\u001b[38;5;124m/\u001b[39m\u001b[38;5;132;01m{\u001b[39;00mlevel\u001b[38;5;132;01m}\u001b[39;00m\u001b[38;5;124m/\u001b[39m\u001b[38;5;132;01m{\u001b[39;00mvar\u001b[38;5;132;01m}\u001b[39;00m\u001b[38;5;124m/\u001b[39m\u001b[38;5;124m'\u001b[39m\n\u001b[0;32m---> 11\u001b[0m     data \u001b[38;5;241m=\u001b[39m \u001b[43mretrieve_data\u001b[49m\u001b[43m(\u001b[49m\u001b[43mdata_url\u001b[49m\u001b[43m \u001b[49m\u001b[38;5;241;43m+\u001b[39;49m\u001b[43m \u001b[49m\u001b[43mfcst_chunk_id\u001b[49m\u001b[43m)\u001b[49m\n\u001b[1;32m     12\u001b[0m     gridpoint_forecast \u001b[38;5;241m=\u001b[39m data[:, nearest_point\u001b[38;5;241m.\u001b[39min_chunk_x, nearest_point\u001b[38;5;241m.\u001b[39min_chunk_y]\n\u001b[1;32m     13\u001b[0m     df[\u001b[38;5;124mf\u001b[39m\u001b[38;5;124m'\u001b[39m\u001b[38;5;132;01m{\u001b[39;00mvar\u001b[38;5;132;01m}\u001b[39;00m\u001b[38;5;124m_\u001b[39m\u001b[38;5;132;01m{\u001b[39;00mlevel\u001b[38;5;132;01m}\u001b[39;00m\u001b[38;5;124m'\u001b[39m] \u001b[38;5;241m=\u001b[39m gridpoint_forecast\n",
      "File \u001b[0;32m/mnt/c/Users/bpara/Documents/git/nwsFlightCategories/IOfuncs.py:94\u001b[0m, in \u001b[0;36mretrieve_data\u001b[0;34m(s3_url)\u001b[0m\n\u001b[1;32m     92\u001b[0m \u001b[38;5;28;01mdef\u001b[39;00m \u001b[38;5;21mretrieve_data\u001b[39m(s3_url):\n\u001b[1;32m     93\u001b[0m     \u001b[38;5;28;01mwith\u001b[39;00m fs\u001b[38;5;241m.\u001b[39mopen(s3_url, \u001b[38;5;124m'\u001b[39m\u001b[38;5;124mrb\u001b[39m\u001b[38;5;124m'\u001b[39m) \u001b[38;5;28;01mas\u001b[39;00m compressed_data: \u001b[38;5;66;03m# using s3fs\u001b[39;00m\n\u001b[0;32m---> 94\u001b[0m         buffer \u001b[38;5;241m=\u001b[39m ncd\u001b[38;5;241m.\u001b[39mblosc\u001b[38;5;241m.\u001b[39mdecompress(\u001b[43mcompressed_data\u001b[49m\u001b[38;5;241;43m.\u001b[39;49m\u001b[43mread\u001b[49m\u001b[43m(\u001b[49m\u001b[43m)\u001b[49m)\n\u001b[1;32m     96\u001b[0m         dtype \u001b[38;5;241m=\u001b[39m \u001b[38;5;124m\"\u001b[39m\u001b[38;5;124m<f2\u001b[39m\u001b[38;5;124m\"\u001b[39m\n\u001b[1;32m     97\u001b[0m         \u001b[38;5;28;01mif\u001b[39;00m \u001b[38;5;124m\"\u001b[39m\u001b[38;5;124msurface/PRES\u001b[39m\u001b[38;5;124m\"\u001b[39m \u001b[38;5;129;01min\u001b[39;00m s3_url: \u001b[38;5;66;03m# surface/PRES is the only variable with a larger data type\u001b[39;00m\n",
      "File \u001b[0;32m~/anaconda3/envs/nws/lib/python3.10/site-packages/fsspec/spec.py:1575\u001b[0m, in \u001b[0;36mAbstractBufferedFile.read\u001b[0;34m(self, length)\u001b[0m\n\u001b[1;32m   1572\u001b[0m \u001b[38;5;28;01mif\u001b[39;00m length \u001b[38;5;241m==\u001b[39m \u001b[38;5;241m0\u001b[39m:\n\u001b[1;32m   1573\u001b[0m     \u001b[38;5;66;03m# don't even bother calling fetch\u001b[39;00m\n\u001b[1;32m   1574\u001b[0m     \u001b[38;5;28;01mreturn\u001b[39;00m \u001b[38;5;124mb\u001b[39m\u001b[38;5;124m\"\u001b[39m\u001b[38;5;124m\"\u001b[39m\n\u001b[0;32m-> 1575\u001b[0m out \u001b[38;5;241m=\u001b[39m \u001b[38;5;28;43mself\u001b[39;49m\u001b[38;5;241;43m.\u001b[39;49m\u001b[43mcache\u001b[49m\u001b[38;5;241;43m.\u001b[39;49m\u001b[43m_fetch\u001b[49m\u001b[43m(\u001b[49m\u001b[38;5;28;43mself\u001b[39;49m\u001b[38;5;241;43m.\u001b[39;49m\u001b[43mloc\u001b[49m\u001b[43m,\u001b[49m\u001b[43m \u001b[49m\u001b[38;5;28;43mself\u001b[39;49m\u001b[38;5;241;43m.\u001b[39;49m\u001b[43mloc\u001b[49m\u001b[43m \u001b[49m\u001b[38;5;241;43m+\u001b[39;49m\u001b[43m \u001b[49m\u001b[43mlength\u001b[49m\u001b[43m)\u001b[49m\n\u001b[1;32m   1576\u001b[0m \u001b[38;5;28mself\u001b[39m\u001b[38;5;241m.\u001b[39mloc \u001b[38;5;241m+\u001b[39m\u001b[38;5;241m=\u001b[39m \u001b[38;5;28mlen\u001b[39m(out)\n\u001b[1;32m   1577\u001b[0m \u001b[38;5;28;01mreturn\u001b[39;00m out\n",
      "File \u001b[0;32m~/anaconda3/envs/nws/lib/python3.10/site-packages/fsspec/caching.py:377\u001b[0m, in \u001b[0;36mBytesCache._fetch\u001b[0;34m(self, start, end)\u001b[0m\n\u001b[1;32m    371\u001b[0m     \u001b[38;5;28;01mreturn\u001b[39;00m \u001b[38;5;124mb\u001b[39m\u001b[38;5;124m\"\u001b[39m\u001b[38;5;124m\"\u001b[39m\n\u001b[1;32m    373\u001b[0m \u001b[38;5;28;01mif\u001b[39;00m (\u001b[38;5;28mself\u001b[39m\u001b[38;5;241m.\u001b[39mstart \u001b[38;5;129;01mis\u001b[39;00m \u001b[38;5;28;01mNone\u001b[39;00m \u001b[38;5;129;01mor\u001b[39;00m start \u001b[38;5;241m<\u001b[39m \u001b[38;5;28mself\u001b[39m\u001b[38;5;241m.\u001b[39mstart) \u001b[38;5;129;01mand\u001b[39;00m (\n\u001b[1;32m    374\u001b[0m     \u001b[38;5;28mself\u001b[39m\u001b[38;5;241m.\u001b[39mend \u001b[38;5;129;01mis\u001b[39;00m \u001b[38;5;28;01mNone\u001b[39;00m \u001b[38;5;129;01mor\u001b[39;00m end \u001b[38;5;241m>\u001b[39m \u001b[38;5;28mself\u001b[39m\u001b[38;5;241m.\u001b[39mend\n\u001b[1;32m    375\u001b[0m ):\n\u001b[1;32m    376\u001b[0m     \u001b[38;5;66;03m# First read, or extending both before and after\u001b[39;00m\n\u001b[0;32m--> 377\u001b[0m     \u001b[38;5;28mself\u001b[39m\u001b[38;5;241m.\u001b[39mcache \u001b[38;5;241m=\u001b[39m \u001b[38;5;28;43mself\u001b[39;49m\u001b[38;5;241;43m.\u001b[39;49m\u001b[43mfetcher\u001b[49m\u001b[43m(\u001b[49m\u001b[43mstart\u001b[49m\u001b[43m,\u001b[49m\u001b[43m \u001b[49m\u001b[43mbend\u001b[49m\u001b[43m)\u001b[49m\n\u001b[1;32m    378\u001b[0m     \u001b[38;5;28mself\u001b[39m\u001b[38;5;241m.\u001b[39mstart \u001b[38;5;241m=\u001b[39m start\n\u001b[1;32m    379\u001b[0m \u001b[38;5;28;01melif\u001b[39;00m start \u001b[38;5;241m<\u001b[39m \u001b[38;5;28mself\u001b[39m\u001b[38;5;241m.\u001b[39mstart:\n",
      "File \u001b[0;32m~/anaconda3/envs/nws/lib/python3.10/site-packages/s3fs/core.py:2038\u001b[0m, in \u001b[0;36mS3File._fetch_range\u001b[0;34m(self, start, end)\u001b[0m\n\u001b[1;32m   2036\u001b[0m \u001b[38;5;28;01mdef\u001b[39;00m \u001b[38;5;21m_fetch_range\u001b[39m(\u001b[38;5;28mself\u001b[39m, start, end):\n\u001b[1;32m   2037\u001b[0m     \u001b[38;5;28;01mtry\u001b[39;00m:\n\u001b[0;32m-> 2038\u001b[0m         \u001b[38;5;28;01mreturn\u001b[39;00m \u001b[43m_fetch_range\u001b[49m\u001b[43m(\u001b[49m\n\u001b[1;32m   2039\u001b[0m \u001b[43m            \u001b[49m\u001b[38;5;28;43mself\u001b[39;49m\u001b[38;5;241;43m.\u001b[39;49m\u001b[43mfs\u001b[49m\u001b[43m,\u001b[49m\n\u001b[1;32m   2040\u001b[0m \u001b[43m            \u001b[49m\u001b[38;5;28;43mself\u001b[39;49m\u001b[38;5;241;43m.\u001b[39;49m\u001b[43mbucket\u001b[49m\u001b[43m,\u001b[49m\n\u001b[1;32m   2041\u001b[0m \u001b[43m            \u001b[49m\u001b[38;5;28;43mself\u001b[39;49m\u001b[38;5;241;43m.\u001b[39;49m\u001b[43mkey\u001b[49m\u001b[43m,\u001b[49m\n\u001b[1;32m   2042\u001b[0m \u001b[43m            \u001b[49m\u001b[38;5;28;43mself\u001b[39;49m\u001b[38;5;241;43m.\u001b[39;49m\u001b[43mversion_id\u001b[49m\u001b[43m,\u001b[49m\n\u001b[1;32m   2043\u001b[0m \u001b[43m            \u001b[49m\u001b[43mstart\u001b[49m\u001b[43m,\u001b[49m\n\u001b[1;32m   2044\u001b[0m \u001b[43m            \u001b[49m\u001b[43mend\u001b[49m\u001b[43m,\u001b[49m\n\u001b[1;32m   2045\u001b[0m \u001b[43m            \u001b[49m\u001b[43mreq_kw\u001b[49m\u001b[38;5;241;43m=\u001b[39;49m\u001b[38;5;28;43mself\u001b[39;49m\u001b[38;5;241;43m.\u001b[39;49m\u001b[43mreq_kw\u001b[49m\u001b[43m,\u001b[49m\n\u001b[1;32m   2046\u001b[0m \u001b[43m        \u001b[49m\u001b[43m)\u001b[49m\n\u001b[1;32m   2048\u001b[0m     \u001b[38;5;28;01mexcept\u001b[39;00m \u001b[38;5;167;01mOSError\u001b[39;00m \u001b[38;5;28;01mas\u001b[39;00m ex:\n\u001b[1;32m   2049\u001b[0m         \u001b[38;5;28;01mif\u001b[39;00m ex\u001b[38;5;241m.\u001b[39margs[\u001b[38;5;241m0\u001b[39m] \u001b[38;5;241m==\u001b[39m errno\u001b[38;5;241m.\u001b[39mEINVAL \u001b[38;5;129;01mand\u001b[39;00m \u001b[38;5;124m\"\u001b[39m\u001b[38;5;124mpre-conditions\u001b[39m\u001b[38;5;124m\"\u001b[39m \u001b[38;5;129;01min\u001b[39;00m ex\u001b[38;5;241m.\u001b[39margs[\u001b[38;5;241m1\u001b[39m]:\n",
      "File \u001b[0;32m~/anaconda3/envs/nws/lib/python3.10/site-packages/s3fs/core.py:2189\u001b[0m, in \u001b[0;36m_fetch_range\u001b[0;34m(fs, bucket, key, version_id, start, end, req_kw)\u001b[0m\n\u001b[1;32m   2180\u001b[0m logger\u001b[38;5;241m.\u001b[39mdebug(\u001b[38;5;124m\"\u001b[39m\u001b[38;5;124mFetch: \u001b[39m\u001b[38;5;132;01m%s\u001b[39;00m\u001b[38;5;124m/\u001b[39m\u001b[38;5;132;01m%s\u001b[39;00m\u001b[38;5;124m, \u001b[39m\u001b[38;5;132;01m%s\u001b[39;00m\u001b[38;5;124m-\u001b[39m\u001b[38;5;132;01m%s\u001b[39;00m\u001b[38;5;124m\"\u001b[39m, bucket, key, start, end)\n\u001b[1;32m   2181\u001b[0m resp \u001b[38;5;241m=\u001b[39m fs\u001b[38;5;241m.\u001b[39mcall_s3(\n\u001b[1;32m   2182\u001b[0m     \u001b[38;5;124m\"\u001b[39m\u001b[38;5;124mget_object\u001b[39m\u001b[38;5;124m\"\u001b[39m,\n\u001b[1;32m   2183\u001b[0m     Bucket\u001b[38;5;241m=\u001b[39mbucket,\n\u001b[0;32m   (...)\u001b[0m\n\u001b[1;32m   2187\u001b[0m     \u001b[38;5;241m*\u001b[39m\u001b[38;5;241m*\u001b[39mreq_kw,\n\u001b[1;32m   2188\u001b[0m )\n\u001b[0;32m-> 2189\u001b[0m \u001b[38;5;28;01mreturn\u001b[39;00m \u001b[43msync\u001b[49m\u001b[43m(\u001b[49m\u001b[43mfs\u001b[49m\u001b[38;5;241;43m.\u001b[39;49m\u001b[43mloop\u001b[49m\u001b[43m,\u001b[49m\u001b[43m \u001b[49m\u001b[43mresp\u001b[49m\u001b[43m[\u001b[49m\u001b[38;5;124;43m\"\u001b[39;49m\u001b[38;5;124;43mBody\u001b[39;49m\u001b[38;5;124;43m\"\u001b[39;49m\u001b[43m]\u001b[49m\u001b[38;5;241;43m.\u001b[39;49m\u001b[43mread\u001b[49m\u001b[43m)\u001b[49m\n",
      "File \u001b[0;32m~/anaconda3/envs/nws/lib/python3.10/site-packages/fsspec/asyn.py:84\u001b[0m, in \u001b[0;36msync\u001b[0;34m(loop, func, timeout, *args, **kwargs)\u001b[0m\n\u001b[1;32m     81\u001b[0m asyncio\u001b[38;5;241m.\u001b[39mrun_coroutine_threadsafe(_runner(event, coro, result, timeout), loop)\n\u001b[1;32m     82\u001b[0m \u001b[38;5;28;01mwhile\u001b[39;00m \u001b[38;5;28;01mTrue\u001b[39;00m:\n\u001b[1;32m     83\u001b[0m     \u001b[38;5;66;03m# this loops allows thread to get interrupted\u001b[39;00m\n\u001b[0;32m---> 84\u001b[0m     \u001b[38;5;28;01mif\u001b[39;00m \u001b[43mevent\u001b[49m\u001b[38;5;241;43m.\u001b[39;49m\u001b[43mwait\u001b[49m\u001b[43m(\u001b[49m\u001b[38;5;241;43m1\u001b[39;49m\u001b[43m)\u001b[49m:\n\u001b[1;32m     85\u001b[0m         \u001b[38;5;28;01mbreak\u001b[39;00m\n\u001b[1;32m     86\u001b[0m     \u001b[38;5;28;01mif\u001b[39;00m timeout \u001b[38;5;129;01mis\u001b[39;00m \u001b[38;5;129;01mnot\u001b[39;00m \u001b[38;5;28;01mNone\u001b[39;00m:\n",
      "File \u001b[0;32m~/anaconda3/envs/nws/lib/python3.10/threading.py:607\u001b[0m, in \u001b[0;36mEvent.wait\u001b[0;34m(self, timeout)\u001b[0m\n\u001b[1;32m    605\u001b[0m signaled \u001b[38;5;241m=\u001b[39m \u001b[38;5;28mself\u001b[39m\u001b[38;5;241m.\u001b[39m_flag\n\u001b[1;32m    606\u001b[0m \u001b[38;5;28;01mif\u001b[39;00m \u001b[38;5;129;01mnot\u001b[39;00m signaled:\n\u001b[0;32m--> 607\u001b[0m     signaled \u001b[38;5;241m=\u001b[39m \u001b[38;5;28;43mself\u001b[39;49m\u001b[38;5;241;43m.\u001b[39;49m\u001b[43m_cond\u001b[49m\u001b[38;5;241;43m.\u001b[39;49m\u001b[43mwait\u001b[49m\u001b[43m(\u001b[49m\u001b[43mtimeout\u001b[49m\u001b[43m)\u001b[49m\n\u001b[1;32m    608\u001b[0m \u001b[38;5;28;01mreturn\u001b[39;00m signaled\n",
      "File \u001b[0;32m~/anaconda3/envs/nws/lib/python3.10/threading.py:324\u001b[0m, in \u001b[0;36mCondition.wait\u001b[0;34m(self, timeout)\u001b[0m\n\u001b[1;32m    322\u001b[0m \u001b[38;5;28;01melse\u001b[39;00m:\n\u001b[1;32m    323\u001b[0m     \u001b[38;5;28;01mif\u001b[39;00m timeout \u001b[38;5;241m>\u001b[39m \u001b[38;5;241m0\u001b[39m:\n\u001b[0;32m--> 324\u001b[0m         gotit \u001b[38;5;241m=\u001b[39m \u001b[43mwaiter\u001b[49m\u001b[38;5;241;43m.\u001b[39;49m\u001b[43macquire\u001b[49m\u001b[43m(\u001b[49m\u001b[38;5;28;43;01mTrue\u001b[39;49;00m\u001b[43m,\u001b[49m\u001b[43m \u001b[49m\u001b[43mtimeout\u001b[49m\u001b[43m)\u001b[49m\n\u001b[1;32m    325\u001b[0m     \u001b[38;5;28;01melse\u001b[39;00m:\n\u001b[1;32m    326\u001b[0m         gotit \u001b[38;5;241m=\u001b[39m waiter\u001b[38;5;241m.\u001b[39macquire(\u001b[38;5;28;01mFalse\u001b[39;00m)\n",
      "\u001b[0;31mKeyboardInterrupt\u001b[0m: "
     ]
    }
   ],
   "source": [
    "event_list = mvfr_list\n",
    "\n",
    "print(len(event_list['HRRR time']))\n",
    "for hr, date in tqdm(zip(event_list['HRRR time'], event_list['HRRR day'])):\n",
    "    print(date, hr)\n",
    "    if f'{date}{hr}.csv' in listdir(f'Data/hrrr'):\n",
    "        continue\n",
    "    df = pd.DataFrame()\n",
    "    for (var, level) in var_list:\n",
    "        data_url = f'hrrrzarr/sfc/{date}/{date}_{hr}z_fcst.zarr/{level}/{var}/{level}/{var}/'\n",
    "        data = retrieve_data(data_url + fcst_chunk_id)\n",
    "        gridpoint_forecast = data[:, nearest_point.in_chunk_x, nearest_point.in_chunk_y]\n",
    "        df[f'{var}_{level}'] = gridpoint_forecast\n",
    "    df.to_csv(f'Data/hrrr/{date}{hr}.csv')"
   ]
  },
  {
   "cell_type": "code",
   "execution_count": null,
   "id": "290b7960-d11b-461f-8ca8-14128e19a7ba",
   "metadata": {},
   "outputs": [],
   "source": [
    "event_list = vfr_list\n",
    "\n",
    "print(len(event_list['HRRR time']))\n",
    "for hr, date in tqdm(zip(event_list['HRRR time'], event_list['HRRR day'])):\n",
    "    df = pd.DataFrame()\n",
    "    if f'{date}{hr}.csv' in listdir(f'Data/hrrr'):\n",
    "            continue\n",
    "    for (var, level) in var_list:\n",
    "        data_url = f'hrrrzarr/sfc/{date}/{date}_{hr}z_fcst.zarr/{level}/{var}/{level}/{var}/'\n",
    "        data = retrieve_data(data_url + fcst_chunk_id)\n",
    "        gridpoint_forecast = data[:, nearest_point.in_chunk_x, nearest_point.in_chunk_y]\n",
    "        df[f'{var}_{level}'] = gridpoint_forecast\n",
    "    df.to_csv(f'Data/hrrr/{date}{hr}.csv')"
   ]
  },
  {
   "cell_type": "code",
   "execution_count": null,
   "id": "bffca0a0-727c-4f04-927c-392da84c9ae7",
   "metadata": {
    "collapsed": true,
    "jupyter": {
     "outputs_hidden": true
    },
    "tags": []
   },
   "outputs": [
    {
     "name": "stderr",
     "output_type": "stream",
     "text": [
      "  2%|█▊                                                                              | 68/2942 [00:00<00:09, 291.01it/s]"
     ]
    },
    {
     "name": "stdout",
     "output_type": "stream",
     "text": [
      "2020-09-28T06\n"
     ]
    },
    {
     "name": "stderr",
     "output_type": "stream",
     "text": [
      "  4%|███▍                                                                            | 128/2942 [00:01<00:30, 91.68it/s]"
     ]
    },
    {
     "name": "stdout",
     "output_type": "stream",
     "text": [
      "2020-09-28T06\n"
     ]
    },
    {
     "name": "stderr",
     "output_type": "stream",
     "text": [
      " 10%|████████                                                                       | 300/2942 [00:01<00:10, 259.04it/s]"
     ]
    },
    {
     "name": "stdout",
     "output_type": "stream",
     "text": [
      "2020-11-27T00\n",
      "2020-11-27T00\n",
      "2020-11-27T00\n",
      "2020-11-27T00\n",
      "2020-11-27T00\n",
      "2020-11-27T00\n",
      "2020-11-27T00\n",
      "2020-11-27T00\n",
      "2020-11-27T00\n",
      "2020-11-27T00\n",
      "2020-11-27T00\n"
     ]
    },
    {
     "name": "stderr",
     "output_type": "stream",
     "text": [
      " 12%|█████████▉                                                                      | 366/2942 [00:07<01:30, 28.33it/s]"
     ]
    },
    {
     "name": "stdout",
     "output_type": "stream",
     "text": [
      "2020-11-27T00\n"
     ]
    },
    {
     "name": "stderr",
     "output_type": "stream",
     "text": [
      "100%|██████████████████████████████████████████████████████████████████████████████| 2942/2942 [00:14<00:00, 209.11it/s]\n"
     ]
    }
   ],
   "source": [
    "for time in tqdm(event_list['GLAMP timestamp']):   \n",
    "    if f'{time[:-4]}Z.csv' in listdir('Data/GLAMP IFR data/IFR records'):\n",
    "        continue\n",
    "    base_url = 'https://mesonet.agron.iastate.edu/api/1/mos.json'\n",
    "    params = {'station': 'KBOS',\n",
    "              'model': 'LAV',\n",
    "              'runtime': time}\n",
    "    try:\n",
    "        response = requests.get(base_url, params=params).json()['data']\n",
    "        result = pd.DataFrame(response)\n",
    "        result.to_csv(f'Data/GLAMP IFR data/{time[:-4]}Z.csv')\n",
    "    except KeyError:\n",
    "        print(time[:-4])"
   ]
  },
  {
   "cell_type": "markdown",
   "id": "eaa49d1e-c5f5-4a56-ae0b-65a794eeeb4e",
   "metadata": {},
   "source": [
    "2020-09-28T06:00Z, 2020-11-27T00:00Z, 2021-03-30T06, 2021-10-14T00 and 2022-06-29T12 seem to be lost"
   ]
  },
  {
   "cell_type": "code",
   "execution_count": 48,
   "id": "023097bb-d979-472d-82cf-4765fc12151b",
   "metadata": {},
   "outputs": [
    {
     "name": "stdout",
     "output_type": "stream",
     "text": [
      "<Response [200]>\n"
     ]
    }
   ],
   "source": [
    "base_url = 'https://mesonet.agron.iastate.edu/api/1/mos.json'\n",
    "params = {'station': 'KBOS',\n",
    "          'model': 'LAV',\n",
    "          'runtime': '2020-11-26T06:00Z'}\n",
    "response = requests.get(base_url, params=params)\n",
    "print(response)\n",
    "result = pd.DataFrame(response)\n",
    "#result.to_csv(f'Data/GLAMP IFR data/{time[:-4]}Z.csv')"
   ]
  },
  {
   "cell_type": "code",
   "execution_count": 80,
   "id": "f483eed8-4c8c-4ad3-8627-f21724679d76",
   "metadata": {},
   "outputs": [
    {
     "name": "stdout",
     "output_type": "stream",
     "text": [
      "<Response [404]>\n"
     ]
    }
   ],
   "source": [
    "base_url = 'https://mesonet.agron.iastate.edu/api/1/mos.json'\n",
    "params = {'station': 'KBOS',\n",
    "          'model': 'LAV',\n",
    "          'runtime': '2020-07-11T12:00Z'}\n",
    "response = requests.get(base_url, params=params)\n",
    "print(response)\n",
    "result = pd.DataFrame(response)\n",
    "#result.to_csv(f'Data/GLAMP IFR data/{time[:-4]}Z.csv')"
   ]
  },
  {
   "cell_type": "code",
   "execution_count": 20,
   "id": "290ea973-77bd-4f0f-8740-a6289c6b0171",
   "metadata": {},
   "outputs": [],
   "source": [
    "H2_path = 'Data/hrrr/20210722/subset_dfa361b29e2779abb789dd9ce7618f6cf8d1bd80__hrrr.t00z.wrfsfcf00.grib2'"
   ]
  },
  {
   "cell_type": "code",
   "execution_count": 21,
   "id": "7fc6aa9d-1be5-4db3-94ee-6aff00f8b783",
   "metadata": {},
   "outputs": [],
   "source": [
    "file =  Nio.open_file(H2_path,\"r\")"
   ]
  },
  {
   "cell_type": "code",
   "execution_count": 16,
   "id": "cfc59a8e-5415-4d39-95f8-c810f92f2297",
   "metadata": {},
   "outputs": [],
   "source": [
    "file.close()"
   ]
  },
  {
   "cell_type": "markdown",
   "id": "711ee564-3630-43cf-96c7-65257b13187d",
   "metadata": {},
   "source": [
    "https://www.analyticsvidhya.com/blog/2021/06/understanding-random-forest/ good sklearn tutorial"
   ]
  },
  {
   "cell_type": "code",
   "execution_count": 18,
   "id": "2c7f6986-4281-4b48-8a76-fd5297991be7",
   "metadata": {},
   "outputs": [],
   "source": [
    "import datetime as dt"
   ]
  },
  {
   "cell_type": "code",
   "execution_count": 38,
   "id": "dc083c99-d35a-44a1-9c0d-3ae8a8b4bfb1",
   "metadata": {},
   "outputs": [
    {
     "data": {
      "text/plain": [
       "'2022-09-14T10:00Z'"
      ]
     },
     "execution_count": 38,
     "metadata": {},
     "output_type": "execute_result"
    }
   ],
   "source": [
    "f'{str(dt.datetime.now())[:10]}T{str(dt.datetime.now())[11:13]}:00Z'"
   ]
  },
  {
   "cell_type": "code",
   "execution_count": 34,
   "id": "1400d2c8-0672-45b9-afed-77f972943912",
   "metadata": {},
   "outputs": [
    {
     "data": {
      "text/plain": [
       "'10'"
      ]
     },
     "execution_count": 34,
     "metadata": {},
     "output_type": "execute_result"
    }
   ],
   "source": []
  },
  {
   "cell_type": "code",
   "execution_count": 35,
   "id": "aa9d50d9-f431-4d29-bb7a-49263d80d7ec",
   "metadata": {},
   "outputs": [
    {
     "data": {
      "text/plain": [
       "'2022-09-14 10:07:45.830238'"
      ]
     },
     "execution_count": 35,
     "metadata": {},
     "output_type": "execute_result"
    }
   ],
   "source": [
    "str(dt.datetime.now())"
   ]
  },
  {
   "cell_type": "code",
   "execution_count": null,
   "id": "3adc1b0b-4b48-4cb8-b81e-4b1db2261bb7",
   "metadata": {},
   "outputs": [],
   "source": []
  }
 ],
 "metadata": {
  "kernelspec": {
   "display_name": "Python 3 (ipykernel)",
   "language": "python",
   "name": "python3"
  },
  "language_info": {
   "codemirror_mode": {
    "name": "ipython",
    "version": 3
   },
   "file_extension": ".py",
   "mimetype": "text/x-python",
   "name": "python",
   "nbconvert_exporter": "python",
   "pygments_lexer": "ipython3",
   "version": "3.10.6"
  }
 },
 "nbformat": 4,
 "nbformat_minor": 5
}
