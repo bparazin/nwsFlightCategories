{
 "cells": [
  {
   "cell_type": "code",
   "execution_count": 311,
   "id": "3c53c2f1-e8c9-412c-af3a-4f5d15fb8439",
   "metadata": {},
   "outputs": [],
   "source": [
    "import pandas as pd\n",
    "import requests\n",
    "from fractions import Fraction\n",
    "from tqdm import tqdm\n",
    "from os import listdir"
   ]
  },
  {
   "cell_type": "code",
   "execution_count": 89,
   "id": "c355fd44-9400-410b-8db6-c7b6c7d3ede7",
   "metadata": {},
   "outputs": [],
   "source": [
    "metar_list = pd.read_csv('Data/BOS.csv')"
   ]
  },
  {
   "cell_type": "code",
   "execution_count": 136,
   "id": "41e41891-0d26-4c8b-8c46-902ba58e3832",
   "metadata": {},
   "outputs": [],
   "source": [
    "#this assumes that visibility is always the first value reported in standard miles in the metar\n",
    "def find_visibility(metar):\n",
    "    metar_list = metar.split(' ')\n",
    "    for i,datapoint in enumerate(metar_list):\n",
    "        if datapoint[-2:] == 'SM':\n",
    "            if metar_list[i][0] == 'M':\n",
    "                return float(Fraction(metar_list[i][1:-2]))\n",
    "            else:\n",
    "                return float(Fraction(metar_list[i][:-2]))"
   ]
  },
  {
   "cell_type": "code",
   "execution_count": 303,
   "id": "e96ae191-7a24-4864-8a30-7a2c3053cf82",
   "metadata": {},
   "outputs": [],
   "source": [
    "def find_broken_height(metar):\n",
    "    metar_list = metar.split(' ')\n",
    "    for i,datapoint in enumerate(metar_list):\n",
    "        if datapoint[:3] == 'BKN':\n",
    "            return 100 * int(metar_list[i][3:6])\n",
    "    return None\n",
    "\n",
    "def find_overcast_height(metar):\n",
    "    metar_list = metar.split(' ')\n",
    "    for i,datapoint in enumerate(metar_list):\n",
    "        if datapoint[:3] == 'OVC':\n",
    "            return 100 * int(metar_list[i][3:6])\n",
    "    return None\n",
    "\n",
    "def find_ceiling_height(metar):\n",
    "    if find_overcast_height(metar) is None and find_broken_height(metar) is None:\n",
    "        return None\n",
    "    if find_overcast_height(metar) is None:\n",
    "        return find_broken_height(metar)\n",
    "    if find_broken_height(metar) is None:\n",
    "        return find_overcast_height(metar)\n",
    "    return min(find_overcast_height(metar), find_broken_height(metar))\n",
    "\n",
    "def GLAMPstamp(metar):\n",
    "    metar_list = metar.split(' ')\n",
    "    datapoint = metar_list[1]\n",
    "    initalization_time = None\n",
    "    timestamp = int(datapoint[2:-1])\n",
    "    if timestamp < 600:\n",
    "        initalization_time = '00:00'\n",
    "    elif timestamp < 1200:\n",
    "        initalization_time = '06:00'\n",
    "    elif timestamp < 1800:\n",
    "        initalization_time = '12:00'\n",
    "    else: \n",
    "        initalization_time = '18:00'\n",
    "    return initalization_time\n",
    "\n",
    "def format_date(validString):\n",
    "    dmy = validString.split(' ')[0]\n",
    "    month, day, year = dmy.split('/')\n",
    "    if len(day) == 1:\n",
    "        day = '0' + day\n",
    "    if len(month) == 1:\n",
    "        month = '0' + month\n",
    "    return f'{year}-{month}-{day}'"
   ]
  },
  {
   "cell_type": "code",
   "execution_count": 304,
   "id": "1ca776d1-cfe0-4d6f-8f45-59954ec8ad53",
   "metadata": {},
   "outputs": [],
   "source": [
    "metar_list['visibility'] = [find_visibility(metar) for metar in metar_list['metar']]\n",
    "metar_list['ceiling'] = [find_ceiling_height(metar) for metar in metar_list['metar']]\n",
    "metar_list['ifr_event'] = (metar_list['ceiling'] <= 1000) | (metar_list['visibility'] <= 1)\n",
    "metar_list['GLAMP timestamp'] = [f'{format_date(metar_list[\"valid\"][i])}T{GLAMPstamp(metar)}Z'\n",
    "                                 for i, metar in enumerate(metar_list['metar'])]"
   ]
  },
  {
   "cell_type": "code",
   "execution_count": 305,
   "id": "a1d9f7b4-0210-4249-9db6-80186b7595df",
   "metadata": {},
   "outputs": [],
   "source": [
    "ifr_list = metar_list[metar_list['ifr_event']]"
   ]
  },
  {
   "cell_type": "markdown",
   "id": "0f9bb116-c2cf-44c9-8aab-f16ab74d36bc",
   "metadata": {},
   "source": [
    "ifr_list"
   ]
  },
  {
   "cell_type": "code",
   "execution_count": 320,
   "id": "bffca0a0-727c-4f04-927c-392da84c9ae7",
   "metadata": {
    "tags": []
   },
   "outputs": [
    {
     "name": "stderr",
     "output_type": "stream",
     "text": [
      "100%|█████████████████████████████████████████████████████████████████████████████| 2942/2942 [00:06<00:00, 476.72it/s]\n"
     ]
    }
   ],
   "source": [
    "for time in tqdm(ifr_list['GLAMP timestamp']):   \n",
    "    if f'{time[:-4]}Z.csv' in listdir('Data/GLAMP IFR data'):\n",
    "        continue\n",
    "    base_url = 'https://mesonet.agron.iastate.edu/api/1/mos.json'\n",
    "    params = {'station': 'KBOS',\n",
    "              'model': 'LAV',\n",
    "              'runtime': time}\n",
    "    try:\n",
    "        response = requests.get(base_url, params=params).json()['data']\n",
    "        result = pd.DataFrame(response)\n",
    "        result.to_csv(f'Data/GLAMP IFR data/{time[:-4]}Z.csv')\n",
    "    except KeyError:\n",
    "        continue"
   ]
  },
  {
   "cell_type": "markdown",
   "id": "eaa49d1e-c5f5-4a56-ae0b-65a794eeeb4e",
   "metadata": {},
   "source": [
    "2020-09-28T06:00Z and 2020-11-27T00:00Z seem to be lost"
   ]
  },
  {
   "cell_type": "code",
   "execution_count": 322,
   "id": "023097bb-d979-472d-82cf-4765fc12151b",
   "metadata": {},
   "outputs": [
    {
     "name": "stdout",
     "output_type": "stream",
     "text": [
      "<Response [200]>\n"
     ]
    }
   ],
   "source": [
    "base_url = 'https://mesonet.agron.iastate.edu/api/1/mos.json'\n",
    "params = {'station': 'KBOS',\n",
    "          'model': 'LAV',\n",
    "          'runtime': '2020-11-28T00:00Z'}\n",
    "response = requests.get(base_url, params=params)\n",
    "print(response)\n",
    "result = pd.DataFrame(response)\n",
    "#result.to_csv(f'Data/GLAMP IFR data/{time[:-4]}Z.csv')"
   ]
  },
  {
   "cell_type": "code",
   "execution_count": null,
   "id": "db32da0c-61dc-4dd3-acce-6065f2f99370",
   "metadata": {},
   "outputs": [],
   "source": []
  }
 ],
 "metadata": {
  "kernelspec": {
   "display_name": "Python 3 (ipykernel)",
   "language": "python",
   "name": "python3"
  },
  "language_info": {
   "codemirror_mode": {
    "name": "ipython",
    "version": 3
   },
   "file_extension": ".py",
   "mimetype": "text/x-python",
   "name": "python",
   "nbconvert_exporter": "python",
   "pygments_lexer": "ipython3",
   "version": "3.10.4"
  }
 },
 "nbformat": 4,
 "nbformat_minor": 5
}
