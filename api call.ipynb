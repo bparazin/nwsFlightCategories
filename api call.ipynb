{
 "cells": [
  {
   "cell_type": "code",
   "execution_count": 48,
   "id": "3c53c2f1-e8c9-412c-af3a-4f5d15fb8439",
   "metadata": {},
   "outputs": [],
   "source": [
    "import pandas as pd\n",
    "import numpy as np\n",
    "import requests\n",
    "from fractions import Fraction\n",
    "from tqdm import tqdm\n",
    "from os import listdir, mkdir\n",
    "import cfgrib\n",
    "from herbie.archive import Herbie\n",
    "from herbie.tools import fast_Herbie_download\n",
    "import xarray as xr\n",
    "import Nio\n",
    "import Ngl\n",
    "import cartopy.crs as ccrs\n",
    "import s3fs\n",
    "import numcodecs as ncd\n",
    "import pickle\n",
    "\n",
    "#many thanks to this here https://mesowest.utah.edu/html/hrrr/zarr_documentation/html/ex_python_plot_zarr.html\n",
    "\n",
    "fs = s3fs.S3FileSystem(anon=True)\n",
    "\n",
    "metar_list = pd.read_csv('Data/BOS.csv')"
   ]
  },
  {
   "cell_type": "code",
   "execution_count": 28,
   "id": "e96ae191-7a24-4864-8a30-7a2c3053cf82",
   "metadata": {
    "tags": []
   },
   "outputs": [],
   "source": [
    "#this assumes that visibility is always the first value reported in standard miles (ending in SM) in the metar\n",
    "def find_visibility(metar):\n",
    "    metar_list = metar.split(' ')\n",
    "    for i,datapoint in enumerate(metar_list):\n",
    "        if datapoint[-2:] == 'SM':\n",
    "            if metar_list[i][0] == 'M':\n",
    "                #special case to cover >1/4SM visibility\n",
    "                return float(Fraction(metar_list[i][1:-2]))\n",
    "            else:\n",
    "                return float(Fraction(metar_list[i][:-2]))\n",
    "#these two rely on broken and overcast being the first two things with the leading characters BKN and OVC. Both return None \n",
    "#if they don't feature in the METAR\n",
    "def find_broken_height(metar):\n",
    "    metar_list = metar.split(' ')\n",
    "    for i,datapoint in enumerate(metar_list):\n",
    "        if datapoint[:3] == 'BKN':\n",
    "            return 100 * int(metar_list[i][3:6])\n",
    "    return None\n",
    "\n",
    "def find_overcast_height(metar):\n",
    "    metar_list = metar.split(' ')\n",
    "    for i,datapoint in enumerate(metar_list):\n",
    "        if datapoint[:3] == 'OVC':\n",
    "            return 100 * int(metar_list[i][3:6])\n",
    "    return None\n",
    "\n",
    "#Just combines the two above, handling all the NONE cases\n",
    "def find_ceiling_height(metar):\n",
    "    if find_overcast_height(metar) is None and find_broken_height(metar) is None:\n",
    "        return None\n",
    "    if find_overcast_height(metar) is None:\n",
    "        return find_broken_height(metar)\n",
    "    if find_broken_height(metar) is None:\n",
    "        return find_overcast_height(metar)\n",
    "    return min(find_overcast_height(metar), find_broken_height(metar))\n",
    "\n",
    "#This uses the fact that the timestamp of the METAR is always ddttttZ, allowing for easy conversion to 24-hour Zulu time by trimming the ends\n",
    "#Then this just looks at the last 6-hour mark preceding that timestamp\n",
    "def GLAMPstamp(metar):\n",
    "    metar_list = metar.split(' ')\n",
    "    datapoint = metar_list[1]\n",
    "    initalization_time = None\n",
    "    timestamp = int(datapoint[2:-1])\n",
    "    if timestamp < 600:\n",
    "        initalization_time = '00:00'\n",
    "    elif timestamp < 1200:\n",
    "        initalization_time = '06:00'\n",
    "    elif timestamp < 1800:\n",
    "        initalization_time = '12:00'\n",
    "    else: \n",
    "        initalization_time = '18:00'\n",
    "    return initalization_time\n",
    "\n",
    "#Gets the previous hour for the HRRR before the metar\n",
    "def HRRRstamp(metar):\n",
    "    metar_list = metar.split(' ')\n",
    "    datapoint = metar_list[1]\n",
    "    hour = datapoint.split(':')[0]\n",
    "    if len(hour) == 1:\n",
    "        hour = '0' + hour\n",
    "    return hour\n",
    "\n",
    "#This takes a date in mm/dd/yyyy and converts it to yyyy-mm-dd\n",
    "def format_date(validString, hrrrDate=False):\n",
    "    dmy = validString.split(' ')[0]\n",
    "    month, day, year = dmy.split('/')\n",
    "    if len(day) == 1:\n",
    "        day = '0' + day\n",
    "    if len(month) == 1:\n",
    "        month = '0' + month\n",
    "    if hrrrDate:\n",
    "        return f'{year}{month}{day}'\n",
    "    else:\n",
    "        return f'{year}-{month}-{day}'\n",
    "    \n",
    "    \n",
    "def retrieve_data(s3_url):\n",
    "    with fs.open(s3_url, 'rb') as compressed_data: # using s3fs\n",
    "        buffer = ncd.blosc.decompress(compressed_data.read())\n",
    "\n",
    "        dtype = \"<f2\"\n",
    "        if \"surface/PRES\" in s3_url: # surface/PRES is the only variable with a larger data type\n",
    "            dtype = \"<f4\"\n",
    "\n",
    "        chunk = np.frombuffer(buffer, dtype=dtype)\n",
    "        \n",
    "        entry_size = 150*150\n",
    "        num_entries = len(chunk)//entry_size\n",
    "\n",
    "        if num_entries == 1: # analysis file is 2d\n",
    "            data_array = np.reshape(chunk, (150, 150))\n",
    "        else:\n",
    "            data_array = np.reshape(chunk, (num_entries, 150, 150))\n",
    "\n",
    "    return data_array\n"
   ]
  },
  {
   "cell_type": "code",
   "execution_count": 29,
   "id": "1ca776d1-cfe0-4d6f-8f45-59954ec8ad53",
   "metadata": {},
   "outputs": [],
   "source": [
    "metar_list['visibility'] = [find_visibility(metar) for metar in metar_list['metar']]\n",
    "metar_list['ceiling'] = [find_ceiling_height(metar) for metar in metar_list['metar']]\n",
    "metar_list['ifr_event'] = (metar_list['ceiling'] <= 1000) | (metar_list['visibility'] <= 1)\n",
    "metar_list['GLAMP timestamp'] = [f'{format_date(metar_list[\"valid\"][i])}T{GLAMPstamp(metar)}Z'\n",
    "                                 for i, metar in enumerate(metar_list['metar'])]\n",
    "metar_list['HRRR day'] = [f'{format_date(metar_list[\"valid\"][i], hrrrDate=True)}'\n",
    "                                 for i, metar in enumerate(metar_list['metar'])]\n",
    "metar_list['HRRR time'] = [f'{HRRRstamp(metar_list[\"valid\"][i])}' for i, metar in enumerate(metar_list['metar'])]"
   ]
  },
  {
   "cell_type": "code",
   "execution_count": 32,
   "id": "a1d9f7b4-0210-4249-9db6-80186b7595df",
   "metadata": {},
   "outputs": [],
   "source": [
    "ifr_list = metar_list[metar_list['ifr_event']]\n",
    "non_ifr_list = metar_list[~metar_list['ifr_event']]"
   ]
  },
  {
   "cell_type": "code",
   "execution_count": 35,
   "id": "8d399e96-fee6-4e51-b38b-cd049ff0f813",
   "metadata": {},
   "outputs": [],
   "source": [
    "#Latlon for Logan airport\n",
    "point_lon, point_lat = -71.0096, 42.3656\n",
    "\n",
    "# (Variable, level):\n",
    "var_list = [('TMP', 'surface'),\n",
    "            ('TMP', '500mb'),\n",
    "            ('TMP', '700mb'),\n",
    "            ('TMP', '850mb'),\n",
    "            ('TMP', '925mb'),\n",
    "            ('TMP', '1000mb'),\n",
    "            ('VGRD', '10m_above_ground'),\n",
    "            ('UGRD', '10m_above_ground'),\n",
    "            ('VGRD', '250mb'),\n",
    "            ('UGRD', '250mb'),\n",
    "            ('VGRD', '300mb'),\n",
    "            ('UGRD', '300mb'),\n",
    "            ('VGRD', '500mb'),\n",
    "            ('UGRD', '500mb'),\n",
    "            ('VGRD', '700mb'),\n",
    "            ('UGRD', '700mb'),\n",
    "            ('VGRD', '850mb'),\n",
    "            ('UGRD', '850mb'),\n",
    "            ('VGRD', '925mb'),\n",
    "            ('UGRD', '925mb'),\n",
    "            ('VGRD', '1000mb'),\n",
    "            ('UGRD', '1000mb'),\n",
    "            ('DPT', '2m_above_ground'),\n",
    "            ('DPT', '500mb'),\n",
    "            ('DPT', '700mb'),\n",
    "            ('DPT', '850mb'),\n",
    "            ('DPT', '925mb'),\n",
    "            ('DPT', '1000mb'),\n",
    "            ('HGT', 'cloud_base'),\n",
    "            ('HGT', 'cloud_ceiling'),\n",
    "            ('VIS', 'surface')]"
   ]
  },
  {
   "cell_type": "code",
   "execution_count": 36,
   "id": "0158e57b-36a0-4698-b437-6652575eb415",
   "metadata": {},
   "outputs": [],
   "source": [
    "chunk_index = xr.open_zarr(s3fs.S3Map(\"s3://hrrrzarr/grid/HRRR_chunk_index.zarr\", s3=fs))"
   ]
  },
  {
   "cell_type": "code",
   "execution_count": 37,
   "id": "fafc64d0-f878-445a-84b5-9502a283f9ba",
   "metadata": {},
   "outputs": [
    {
     "name": "stderr",
     "output_type": "stream",
     "text": [
      "/home/bparazin/anaconda3/envs/nws/lib/python3.10/site-packages/xarray/core/indexes.py:234: FutureWarning: Passing method to Float64Index.get_loc is deprecated and will raise in a future version. Use index.get_indexer([item], method=...) instead.\n",
      "  indexer = self.index.get_loc(\n",
      "/home/bparazin/anaconda3/envs/nws/lib/python3.10/site-packages/xarray/core/indexes.py:234: FutureWarning: Passing method to Float64Index.get_loc is deprecated and will raise in a future version. Use index.get_indexer([item], method=...) instead.\n",
      "  indexer = self.index.get_loc(\n"
     ]
    }
   ],
   "source": [
    "projection = ccrs.LambertConformal(central_longitude=262.5, \n",
    "                                   central_latitude=38.5, \n",
    "                                   standard_parallels=(38.5, 38.5),\n",
    "                                    globe=ccrs.Globe(semimajor_axis=6371229,\n",
    "                                                     semiminor_axis=6371229))\n",
    "\n",
    "x, y = projection.transform_point(point_lon, point_lat, ccrs.PlateCarree())\n",
    "\n",
    "nearest_point = chunk_index.sel(x=x, y=y, method=\"nearest\")\n",
    "fcst_chunk_id = f\"0.{nearest_point.chunk_id.values}\""
   ]
  },
  {
   "cell_type": "code",
   "execution_count": null,
   "id": "de033c23-e324-4b4d-9167-1987b0afc222",
   "metadata": {
    "tags": []
   },
   "outputs": [
    {
     "name": "stdout",
     "output_type": "stream",
     "text": [
      "2942\n"
     ]
    },
    {
     "name": "stderr",
     "output_type": "stream",
     "text": [
      "25it [00:22,  2.45s/it]"
     ]
    }
   ],
   "source": [
    "print(len(ifr_list['HRRR time']))\n",
    "for hr, date in tqdm(zip(ifr_list['HRRR time'], ifr_list['HRRR day'])):\n",
    "    for (var, level) in var_list:\n",
    "        data_url = f'hrrrzarr/sfc/{date}/{date}_{hr}z_fcst.zarr/{level}/{var}/{level}/{var}/'\n",
    "        if f'{date}{hr}' not in listdir('Data/hrrr'):\n",
    "            mkdir(f'Data/hrrr/{date}{hr}')\n",
    "        if f'{var}_{level}.pickle' in listdir(f'Data/hrrr/{date}{hr}'):\n",
    "            continue\n",
    "        data = retrieve_data(data_url + fcst_chunk_id)\n",
    "        with open(f'Data/hrrr/{date}{hr}/{var}_{level}.pickle', 'wb') as handle:\n",
    "            pickle.dump(data, handle, protocol=pickle.HIGHEST_PROTOCOL)"
   ]
  },
  {
   "cell_type": "code",
   "execution_count": 6,
   "id": "bffca0a0-727c-4f04-927c-392da84c9ae7",
   "metadata": {
    "collapsed": true,
    "jupyter": {
     "outputs_hidden": true
    },
    "tags": []
   },
   "outputs": [
    {
     "name": "stderr",
     "output_type": "stream",
     "text": [
      "  2%|█▊                                                                              | 68/2942 [00:00<00:09, 291.01it/s]"
     ]
    },
    {
     "name": "stdout",
     "output_type": "stream",
     "text": [
      "2020-09-28T06\n"
     ]
    },
    {
     "name": "stderr",
     "output_type": "stream",
     "text": [
      "  4%|███▍                                                                            | 128/2942 [00:01<00:30, 91.68it/s]"
     ]
    },
    {
     "name": "stdout",
     "output_type": "stream",
     "text": [
      "2020-09-28T06\n"
     ]
    },
    {
     "name": "stderr",
     "output_type": "stream",
     "text": [
      " 10%|████████                                                                       | 300/2942 [00:01<00:10, 259.04it/s]"
     ]
    },
    {
     "name": "stdout",
     "output_type": "stream",
     "text": [
      "2020-11-27T00\n",
      "2020-11-27T00\n",
      "2020-11-27T00\n",
      "2020-11-27T00\n",
      "2020-11-27T00\n",
      "2020-11-27T00\n",
      "2020-11-27T00\n",
      "2020-11-27T00\n",
      "2020-11-27T00\n",
      "2020-11-27T00\n",
      "2020-11-27T00\n"
     ]
    },
    {
     "name": "stderr",
     "output_type": "stream",
     "text": [
      " 12%|█████████▉                                                                      | 366/2942 [00:07<01:30, 28.33it/s]"
     ]
    },
    {
     "name": "stdout",
     "output_type": "stream",
     "text": [
      "2020-11-27T00\n"
     ]
    },
    {
     "name": "stderr",
     "output_type": "stream",
     "text": [
      "100%|██████████████████████████████████████████████████████████████████████████████| 2942/2942 [00:14<00:00, 209.11it/s]\n"
     ]
    }
   ],
   "source": [
    "for time in tqdm(ifr_list['GLAMP timestamp']):   \n",
    "    if f'{time[:-4]}Z.csv' in listdir('Data/GLAMP IFR data/IFR records'):\n",
    "        continue\n",
    "    base_url = 'https://mesonet.agron.iastate.edu/api/1/mos.json'\n",
    "    params = {'station': 'KBOS',\n",
    "              'model': 'LAV',\n",
    "              'runtime': time}\n",
    "    try:\n",
    "        response = requests.get(base_url, params=params).json()['data']\n",
    "        result = pd.DataFrame(response)\n",
    "        result.to_csv(f'Data/GLAMP IFR data/IFR records/{time[:-4]}Z.csv')\n",
    "    except KeyError:\n",
    "        print(time[:-4])"
   ]
  },
  {
   "cell_type": "code",
   "execution_count": 8,
   "id": "d842452c-354d-4e44-a9f3-28bc63afb125",
   "metadata": {
    "collapsed": true,
    "jupyter": {
     "outputs_hidden": true
    },
    "tags": []
   },
   "outputs": [
    {
     "name": "stderr",
     "output_type": "stream",
     "text": [
      "  5%|███▊                                                                          | 875/17675 [00:06<02:01, 138.79it/s]"
     ]
    },
    {
     "name": "stdout",
     "output_type": "stream",
     "text": [
      "2020-09-28T06\n",
      "2020-09-28T06\n"
     ]
    },
    {
     "name": "stderr",
     "output_type": "stream",
     "text": [
      "  5%|███▉                                                                           | 889/17675 [00:07<09:25, 29.66it/s]"
     ]
    },
    {
     "name": "stdout",
     "output_type": "stream",
     "text": [
      "2020-09-28T06\n",
      "2020-09-28T06\n",
      "2020-09-28T06\n",
      "2020-09-28T06\n",
      "2020-09-28T06\n"
     ]
    },
    {
     "name": "stderr",
     "output_type": "stream",
     "text": [
      "  5%|████                                                                           | 915/17675 [00:10<14:39, 19.06it/s]"
     ]
    },
    {
     "name": "stdout",
     "output_type": "stream",
     "text": [
      "2020-09-28T06\n"
     ]
    },
    {
     "name": "stderr",
     "output_type": "stream",
     "text": [
      " 30%|███████████████████████                                                      | 5291/17675 [00:41<01:25, 145.17it/s]"
     ]
    },
    {
     "name": "stdout",
     "output_type": "stream",
     "text": [
      "2021-03-30T06\n",
      "2021-03-30T06\n",
      "2021-03-30T06\n",
      "2021-03-30T06\n",
      "2021-03-30T06\n"
     ]
    },
    {
     "name": "stderr",
     "output_type": "stream",
     "text": [
      " 30%|███████████████████████▍                                                      | 5321/17675 [00:43<08:55, 23.09it/s]"
     ]
    },
    {
     "name": "stdout",
     "output_type": "stream",
     "text": [
      "2021-03-30T06\n"
     ]
    },
    {
     "name": "stderr",
     "output_type": "stream",
     "text": [
      " 57%|███████████████████████████████████████████▎                                | 10083/17675 [01:18<00:55, 137.15it/s]"
     ]
    },
    {
     "name": "stdout",
     "output_type": "stream",
     "text": [
      "2021-10-14T00\n",
      "2021-10-14T00\n",
      "2021-10-14T00\n",
      "2021-10-14T00\n",
      "2021-10-14T00\n"
     ]
    },
    {
     "name": "stderr",
     "output_type": "stream",
     "text": [
      " 57%|████████████████████████████████████████████                                 | 10111/17675 [01:20<05:36, 22.49it/s]"
     ]
    },
    {
     "name": "stdout",
     "output_type": "stream",
     "text": [
      "2021-10-14T00\n"
     ]
    },
    {
     "name": "stderr",
     "output_type": "stream",
     "text": [
      " 75%|████████████████████████████████████████████████████████▉                   | 13252/17675 [01:43<00:34, 127.97it/s]\n"
     ]
    },
    {
     "ename": "KeyboardInterrupt",
     "evalue": "",
     "output_type": "error",
     "traceback": [
      "\u001b[0;31m---------------------------------------------------------------------------\u001b[0m",
      "\u001b[0;31mKeyboardInterrupt\u001b[0m                         Traceback (most recent call last)",
      "Input \u001b[0;32mIn [8]\u001b[0m, in \u001b[0;36m<cell line: 1>\u001b[0;34m()\u001b[0m\n\u001b[1;32m      1\u001b[0m \u001b[38;5;28;01mfor\u001b[39;00m time \u001b[38;5;129;01min\u001b[39;00m tqdm(non_ifr_list[\u001b[38;5;124m'\u001b[39m\u001b[38;5;124mGLAMP timestamp\u001b[39m\u001b[38;5;124m'\u001b[39m]):   \n\u001b[0;32m----> 2\u001b[0m     \u001b[38;5;28;01mif\u001b[39;00m \u001b[38;5;124mf\u001b[39m\u001b[38;5;124m'\u001b[39m\u001b[38;5;132;01m{\u001b[39;00mtime[:\u001b[38;5;241m-\u001b[39m\u001b[38;5;241m4\u001b[39m]\u001b[38;5;132;01m}\u001b[39;00m\u001b[38;5;124mZ.csv\u001b[39m\u001b[38;5;124m'\u001b[39m \u001b[38;5;129;01min\u001b[39;00m \u001b[43mlistdir\u001b[49m\u001b[43m(\u001b[49m\u001b[38;5;124;43m'\u001b[39;49m\u001b[38;5;124;43mData/GLAMP IFR data/Non-IFR records\u001b[39;49m\u001b[38;5;124;43m'\u001b[39;49m\u001b[43m)\u001b[49m:\n\u001b[1;32m      3\u001b[0m         \u001b[38;5;28;01mcontinue\u001b[39;00m\n\u001b[1;32m      4\u001b[0m     base_url \u001b[38;5;241m=\u001b[39m \u001b[38;5;124m'\u001b[39m\u001b[38;5;124mhttps://mesonet.agron.iastate.edu/api/1/mos.json\u001b[39m\u001b[38;5;124m'\u001b[39m\n",
      "\u001b[0;31mKeyboardInterrupt\u001b[0m: "
     ]
    }
   ],
   "source": [
    "for time in tqdm(non_ifr_list['GLAMP timestamp']):   \n",
    "    if f'{time[:-4]}Z.csv' in listdir('Data/GLAMP IFR data/Non-IFR records'):\n",
    "        continue\n",
    "    base_url = 'https://mesonet.agron.iastate.edu/api/1/mos.json'\n",
    "    params = {'station': 'KBOS',\n",
    "              'model': 'LAV',\n",
    "              'runtime': time}\n",
    "    try:\n",
    "        response = requests.get(base_url, params=params).json()['data']\n",
    "        result = pd.DataFrame(response)\n",
    "        result.to_csv(f'Data/GLAMP IFR data/Non-IFR records/{time[:-4]}Z.csv')\n",
    "    except KeyError:\n",
    "        print(time[:-4])"
   ]
  },
  {
   "cell_type": "markdown",
   "id": "eaa49d1e-c5f5-4a56-ae0b-65a794eeeb4e",
   "metadata": {},
   "source": [
    "2020-09-28T06:00Z, 2020-11-27T00:00Z, 2021-03-30T06, 2021-10-14T00 and 2022-06-29T12 seem to be lost"
   ]
  },
  {
   "cell_type": "code",
   "execution_count": null,
   "id": "023097bb-d979-472d-82cf-4765fc12151b",
   "metadata": {},
   "outputs": [],
   "source": [
    "base_url = 'https://mesonet.agron.iastate.edu/api/1/mos.json'\n",
    "params = {'station': 'KBOS',\n",
    "          'model': 'LAV',\n",
    "          'runtime': '2020-11-27T00:00Z'}\n",
    "response = requests.get(base_url, params=params)\n",
    "print(response)\n",
    "result = pd.DataFrame(response)\n",
    "#result.to_csv(f'Data/GLAMP IFR data/{time[:-4]}Z.csv')"
   ]
  },
  {
   "cell_type": "code",
   "execution_count": 19,
   "id": "7c2503aa-fc51-476e-a320-2f1909173414",
   "metadata": {
    "tags": []
   },
   "outputs": [
    {
     "name": "stdout",
     "output_type": "stream",
     "text": [
      "✅ Found ┊ model=hrrr ┊ \u001b[3mproduct=sfc\u001b[0m ┊ \u001b[38;2;41;130;13m2021-Jul-22 00:00 UTC\u001b[92m F00\u001b[0m ┊ \u001b[38;2;255;153;0m\u001b[3mGRIB2 @ aws\u001b[0m ┊ \u001b[38;2;255;153;0m\u001b[3mIDX @ aws\u001b[0m\n"
     ]
    },
    {
     "name": "stderr",
     "output_type": "stream",
     "text": [
      "/home/bparazin/anaconda3/envs/nws/lib/python3.10/site-packages/herbie/archive.py:665: UserWarning: This pattern is interpreted as a regular expression, and has match groups. To actually get the groups, use str.extract.\n",
      "  logic = df.search_this.str.contains(searchString)\n"
     ]
    },
    {
     "name": "stdout",
     "output_type": "stream",
     "text": [
      "👨🏻‍🏭 Created directory: [/mnt/c/Users/bpara/Documents/git/nwsFlightCategories/Data/hrrr/20210722]\n"
     ]
    },
    {
     "data": {
      "text/plain": [
       "\u001b[48;2;255;255;255m\u001b[38;2;136;33;27m▌\u001b[0m\u001b[38;2;12;53;118m\u001b[48;2;240;234;210m▌\u001b[38;2;0;0;0m\u001b[1mHerbie\u001b[0m HRRR model \u001b[3msfc\u001b[0m product initialized \u001b[38;2;41;130;13m2021-Jul-22 00:00 UTC\u001b[92m F00\u001b[0m ┊ \u001b[38;2;255;153;0m\u001b[3msource=aws\u001b[0m"
      ]
     },
     "execution_count": 19,
     "metadata": {},
     "output_type": "execute_result"
    }
   ],
   "source": [
    "date=\"2021-07-22\"\n",
    "H2 = Herbie(date, model=\"hrrr\", product=\"sfc\", save_dir='Data')\n",
    "H2.download('(VGRD|UGRD|TMP|DPT|VIS)', save_dir = f'Data/hrrr/{date}')"
   ]
  },
  {
   "cell_type": "code",
   "execution_count": 20,
   "id": "290ea973-77bd-4f0f-8740-a6289c6b0171",
   "metadata": {},
   "outputs": [],
   "source": [
    "H2_path = 'Data/hrrr/20210722/subset_dfa361b29e2779abb789dd9ce7618f6cf8d1bd80__hrrr.t00z.wrfsfcf00.grib2'"
   ]
  },
  {
   "cell_type": "code",
   "execution_count": 21,
   "id": "7fc6aa9d-1be5-4db3-94ee-6aff00f8b783",
   "metadata": {},
   "outputs": [],
   "source": [
    "file =  Nio.open_file(H2_path,\"r\")"
   ]
  },
  {
   "cell_type": "code",
   "execution_count": 16,
   "id": "cfc59a8e-5415-4d39-95f8-c810f92f2297",
   "metadata": {},
   "outputs": [],
   "source": [
    "file.close()"
   ]
  },
  {
   "cell_type": "code",
   "execution_count": 22,
   "id": "245a7767-6b9f-4db9-8c52-376e9dcbce70",
   "metadata": {},
   "outputs": [
    {
     "name": "stdout",
     "output_type": "stream",
     "text": [
      "{'TMP_P0_L1_GLC0': <Nio.NioVariable object at 0x7f065d47e140>, 'TMP_P0_L100_GLC0': <Nio.NioVariable object at 0x7f065d47e260>, 'TMP_P0_L103_GLC0': <Nio.NioVariable object at 0x7f065d47e2c0>, 'DPT_P0_L100_GLC0': <Nio.NioVariable object at 0x7f065d47e170>, 'DPT_P0_L103_GLC0': <Nio.NioVariable object at 0x7f065d47e3e0>, 'UGRD_P0_L100_GLC0': <Nio.NioVariable object at 0x7f065d47cca0>, 'UGRD_P0_L103_GLC0': <Nio.NioVariable object at 0x7f065d47d180>, 'VGRD_P0_L100_GLC0': <Nio.NioVariable object at 0x7f065d47d030>, 'VGRD_P0_L103_GLC0': <Nio.NioVariable object at 0x7f065d47d0c0>, 'VIS_P0_L1_GLC0': <Nio.NioVariable object at 0x7f065d47d000>, 'lv_HTGL2': <Nio.NioVariable object at 0x7f065d47ce20>, 'lv_ISBL1': <Nio.NioVariable object at 0x7f065d47c370>, 'lv_ISBL0': <Nio.NioVariable object at 0x7f065d47cf10>, 'gridrot_0': <Nio.NioVariable object at 0x7f065d47ce80>, 'gridlat_0': <Nio.NioVariable object at 0x7f065d47cc70>, 'gridlon_0': <Nio.NioVariable object at 0x7f065d47d2a0>}\n"
     ]
    }
   ],
   "source": [
    "print(file.variables)"
   ]
  },
  {
   "cell_type": "code",
   "execution_count": 23,
   "id": "a218fae3-011b-4fd2-a06e-cb94a87af940",
   "metadata": {
    "tags": []
   },
   "outputs": [
    {
     "name": "stdout",
     "output_type": "stream",
     "text": [
      "Variable: TMP_P0_L1_GLC0\n",
      "Type: float\n",
      "Total Size: 7620564 bytes\n",
      "            1905141 values\n",
      "Number of Dimensions: 2\n",
      "Dimensions and sizes:\t[ygrid_0 | 1059] x [xgrid_0 | 1799]\n",
      "Coordinates: \n",
      "            ygrid_0: not a coordinate variable\n",
      "            xgrid_0: not a coordinate variable\n",
      "Number of Attributes: 14\n",
      "         center :\tUS National Weather Service - NCEP (WMC)\n",
      "         production_status :\tOperational products\n",
      "         long_name :\tTemperature\n",
      "         units :\tK\n",
      "         _FillValue :\t1e+20\n",
      "         coordinates :\tgridlat_0 gridlon_0\n",
      "         grid_type :\tLambert Conformal can be secant or tangent, conical or bipolar\n",
      "         parameter_discipline_and_category :\tMeteorological products, Temperature\n",
      "         parameter_template_discipline_category_number :\t[0, 0, 0, 0]\n",
      "         level_type :\tGround or water surface\n",
      "         level :\t0\n",
      "         forecast_time :\t0\n",
      "         forecast_time_units :\thours\n",
      "         initial_time :\t07/22/2021 (00:00)\n",
      "\n",
      "Variable: TMP_P0_L100_GLC0\n",
      "Type: float\n",
      "Total Size: 38102820 bytes\n",
      "            9525705 values\n",
      "Number of Dimensions: 3\n",
      "Dimensions and sizes:\t[lv_ISBL0 | 5] x [ygrid_0 | 1059] x [xgrid_0 | 1799]\n",
      "Coordinates: \n",
      "            lv_ISBL0: [50000..100000]\n",
      "            ygrid_0: not a coordinate variable\n",
      "            xgrid_0: not a coordinate variable\n",
      "Number of Attributes: 13\n",
      "         center :\tUS National Weather Service - NCEP (WMC)\n",
      "         production_status :\tOperational products\n",
      "         long_name :\tTemperature\n",
      "         units :\tK\n",
      "         _FillValue :\t1e+20\n",
      "         coordinates :\tgridlat_0 gridlon_0\n",
      "         grid_type :\tLambert Conformal can be secant or tangent, conical or bipolar\n",
      "         parameter_discipline_and_category :\tMeteorological products, Temperature\n",
      "         parameter_template_discipline_category_number :\t[0, 0, 0, 0]\n",
      "         level_type :\tIsobaric surface (Pa)\n",
      "         forecast_time :\t0\n",
      "         forecast_time_units :\thours\n",
      "         initial_time :\t07/22/2021 (00:00)\n",
      "\n",
      "Variable: TMP_P0_L103_GLC0\n",
      "Type: float\n",
      "Total Size: 7620564 bytes\n",
      "            1905141 values\n",
      "Number of Dimensions: 2\n",
      "Dimensions and sizes:\t[ygrid_0 | 1059] x [xgrid_0 | 1799]\n",
      "Coordinates: \n",
      "            ygrid_0: not a coordinate variable\n",
      "            xgrid_0: not a coordinate variable\n",
      "Number of Attributes: 14\n",
      "         center :\tUS National Weather Service - NCEP (WMC)\n",
      "         production_status :\tOperational products\n",
      "         long_name :\tTemperature\n",
      "         units :\tK\n",
      "         _FillValue :\t1e+20\n",
      "         coordinates :\tgridlat_0 gridlon_0\n",
      "         grid_type :\tLambert Conformal can be secant or tangent, conical or bipolar\n",
      "         parameter_discipline_and_category :\tMeteorological products, Temperature\n",
      "         parameter_template_discipline_category_number :\t[0, 0, 0, 0]\n",
      "         level_type :\tSpecified height level above ground (m)\n",
      "         level :\t2\n",
      "         forecast_time :\t0\n",
      "         forecast_time_units :\thours\n",
      "         initial_time :\t07/22/2021 (00:00)\n",
      "\n",
      "Variable: DPT_P0_L100_GLC0\n",
      "Type: float\n",
      "Total Size: 38102820 bytes\n",
      "            9525705 values\n",
      "Number of Dimensions: 3\n",
      "Dimensions and sizes:\t[lv_ISBL0 | 5] x [ygrid_0 | 1059] x [xgrid_0 | 1799]\n",
      "Coordinates: \n",
      "            lv_ISBL0: [50000..100000]\n",
      "            ygrid_0: not a coordinate variable\n",
      "            xgrid_0: not a coordinate variable\n",
      "Number of Attributes: 13\n",
      "         center :\tUS National Weather Service - NCEP (WMC)\n",
      "         production_status :\tOperational products\n",
      "         long_name :\tDew point temperature\n",
      "         units :\tK\n",
      "         _FillValue :\t1e+20\n",
      "         coordinates :\tgridlat_0 gridlon_0\n",
      "         grid_type :\tLambert Conformal can be secant or tangent, conical or bipolar\n",
      "         parameter_discipline_and_category :\tMeteorological products, Temperature\n",
      "         parameter_template_discipline_category_number :\t[0, 0, 0, 6]\n",
      "         level_type :\tIsobaric surface (Pa)\n",
      "         forecast_time :\t0\n",
      "         forecast_time_units :\thours\n",
      "         initial_time :\t07/22/2021 (00:00)\n",
      "\n",
      "Variable: DPT_P0_L103_GLC0\n",
      "Type: float\n",
      "Total Size: 7620564 bytes\n",
      "            1905141 values\n",
      "Number of Dimensions: 2\n",
      "Dimensions and sizes:\t[ygrid_0 | 1059] x [xgrid_0 | 1799]\n",
      "Coordinates: \n",
      "            ygrid_0: not a coordinate variable\n",
      "            xgrid_0: not a coordinate variable\n",
      "Number of Attributes: 14\n",
      "         center :\tUS National Weather Service - NCEP (WMC)\n",
      "         production_status :\tOperational products\n",
      "         long_name :\tDew point temperature\n",
      "         units :\tK\n",
      "         _FillValue :\t1e+20\n",
      "         coordinates :\tgridlat_0 gridlon_0\n",
      "         grid_type :\tLambert Conformal can be secant or tangent, conical or bipolar\n",
      "         parameter_discipline_and_category :\tMeteorological products, Temperature\n",
      "         parameter_template_discipline_category_number :\t[0, 0, 0, 6]\n",
      "         level_type :\tSpecified height level above ground (m)\n",
      "         level :\t2\n",
      "         forecast_time :\t0\n",
      "         forecast_time_units :\thours\n",
      "         initial_time :\t07/22/2021 (00:00)\n",
      "\n",
      "Variable: UGRD_P0_L100_GLC0\n",
      "Type: float\n",
      "Total Size: 53343948 bytes\n",
      "            13335987 values\n",
      "Number of Dimensions: 3\n",
      "Dimensions and sizes:\t[lv_ISBL1 | 7] x [ygrid_0 | 1059] x [xgrid_0 | 1799]\n",
      "Coordinates: \n",
      "            lv_ISBL1: [25000..100000]\n",
      "            ygrid_0: not a coordinate variable\n",
      "            xgrid_0: not a coordinate variable\n",
      "Number of Attributes: 13\n",
      "         center :\tUS National Weather Service - NCEP (WMC)\n",
      "         production_status :\tOperational products\n",
      "         long_name :\tU-component of wind\n",
      "         units :\tm s-1\n",
      "         _FillValue :\t1e+20\n",
      "         coordinates :\tgridlat_0 gridlon_0\n",
      "         grid_type :\tLambert Conformal can be secant or tangent, conical or bipolar\n",
      "         parameter_discipline_and_category :\tMeteorological products, Momentum\n",
      "         parameter_template_discipline_category_number :\t[0, 0, 2, 2]\n",
      "         level_type :\tIsobaric surface (Pa)\n",
      "         forecast_time :\t0\n",
      "         forecast_time_units :\thours\n",
      "         initial_time :\t07/22/2021 (00:00)\n",
      "\n",
      "Variable: UGRD_P0_L103_GLC0\n",
      "Type: float\n",
      "Total Size: 15241128 bytes\n",
      "            3810282 values\n",
      "Number of Dimensions: 3\n",
      "Dimensions and sizes:\t[lv_HTGL2 | 2] x [ygrid_0 | 1059] x [xgrid_0 | 1799]\n",
      "Coordinates: \n",
      "            lv_HTGL2: [10..80]\n",
      "            ygrid_0: not a coordinate variable\n",
      "            xgrid_0: not a coordinate variable\n",
      "Number of Attributes: 13\n",
      "         center :\tUS National Weather Service - NCEP (WMC)\n",
      "         production_status :\tOperational products\n",
      "         long_name :\tU-component of wind\n",
      "         units :\tm s-1\n",
      "         _FillValue :\t1e+20\n",
      "         coordinates :\tgridlat_0 gridlon_0\n",
      "         grid_type :\tLambert Conformal can be secant or tangent, conical or bipolar\n",
      "         parameter_discipline_and_category :\tMeteorological products, Momentum\n",
      "         parameter_template_discipline_category_number :\t[0, 0, 2, 2]\n",
      "         level_type :\tSpecified height level above ground (m)\n",
      "         forecast_time :\t0\n",
      "         forecast_time_units :\thours\n",
      "         initial_time :\t07/22/2021 (00:00)\n",
      "\n",
      "Variable: VGRD_P0_L100_GLC0\n",
      "Type: float\n",
      "Total Size: 53343948 bytes\n",
      "            13335987 values\n",
      "Number of Dimensions: 3\n",
      "Dimensions and sizes:\t[lv_ISBL1 | 7] x [ygrid_0 | 1059] x [xgrid_0 | 1799]\n",
      "Coordinates: \n",
      "            lv_ISBL1: [25000..100000]\n",
      "            ygrid_0: not a coordinate variable\n",
      "            xgrid_0: not a coordinate variable\n",
      "Number of Attributes: 13\n",
      "         center :\tUS National Weather Service - NCEP (WMC)\n",
      "         production_status :\tOperational products\n",
      "         long_name :\tV-component of wind\n",
      "         units :\tm s-1\n",
      "         _FillValue :\t1e+20\n",
      "         coordinates :\tgridlat_0 gridlon_0\n",
      "         grid_type :\tLambert Conformal can be secant or tangent, conical or bipolar\n",
      "         parameter_discipline_and_category :\tMeteorological products, Momentum\n",
      "         parameter_template_discipline_category_number :\t[0, 0, 2, 3]\n",
      "         level_type :\tIsobaric surface (Pa)\n",
      "         forecast_time :\t0\n",
      "         forecast_time_units :\thours\n",
      "         initial_time :\t07/22/2021 (00:00)\n",
      "\n",
      "Variable: VGRD_P0_L103_GLC0\n",
      "Type: float\n",
      "Total Size: 15241128 bytes\n",
      "            3810282 values\n",
      "Number of Dimensions: 3\n",
      "Dimensions and sizes:\t[lv_HTGL2 | 2] x [ygrid_0 | 1059] x [xgrid_0 | 1799]\n",
      "Coordinates: \n",
      "            lv_HTGL2: [10..80]\n",
      "            ygrid_0: not a coordinate variable\n",
      "            xgrid_0: not a coordinate variable\n",
      "Number of Attributes: 13\n",
      "         center :\tUS National Weather Service - NCEP (WMC)\n",
      "         production_status :\tOperational products\n",
      "         long_name :\tV-component of wind\n",
      "         units :\tm s-1\n",
      "         _FillValue :\t1e+20\n",
      "         coordinates :\tgridlat_0 gridlon_0\n",
      "         grid_type :\tLambert Conformal can be secant or tangent, conical or bipolar\n",
      "         parameter_discipline_and_category :\tMeteorological products, Momentum\n",
      "         parameter_template_discipline_category_number :\t[0, 0, 2, 3]\n",
      "         level_type :\tSpecified height level above ground (m)\n",
      "         forecast_time :\t0\n",
      "         forecast_time_units :\thours\n",
      "         initial_time :\t07/22/2021 (00:00)\n",
      "\n",
      "Variable: VIS_P0_L1_GLC0\n",
      "Type: float\n",
      "Total Size: 7620564 bytes\n",
      "            1905141 values\n",
      "Number of Dimensions: 2\n",
      "Dimensions and sizes:\t[ygrid_0 | 1059] x [xgrid_0 | 1799]\n",
      "Coordinates: \n",
      "            ygrid_0: not a coordinate variable\n",
      "            xgrid_0: not a coordinate variable\n",
      "Number of Attributes: 14\n",
      "         center :\tUS National Weather Service - NCEP (WMC)\n",
      "         production_status :\tOperational products\n",
      "         long_name :\tVisibility\n",
      "         units :\tm\n",
      "         _FillValue :\t1e+20\n",
      "         coordinates :\tgridlat_0 gridlon_0\n",
      "         grid_type :\tLambert Conformal can be secant or tangent, conical or bipolar\n",
      "         parameter_discipline_and_category :\tMeteorological products, Physical atmospheric properties\n",
      "         parameter_template_discipline_category_number :\t[0, 0, 19, 0]\n",
      "         level_type :\tGround or water surface\n",
      "         level :\t0\n",
      "         forecast_time :\t0\n",
      "         forecast_time_units :\thours\n",
      "         initial_time :\t07/22/2021 (00:00)\n",
      "\n",
      "Variable: lv_HTGL2\n",
      "Type: float\n",
      "Total Size: 8 bytes\n",
      "            2 values\n",
      "Number of Dimensions: 1\n",
      "Dimensions and sizes:\t[lv_HTGL2 | 2]\n",
      "Coordinates: \n",
      "            lv_HTGL2: [10..80]\n",
      "Number of Attributes: 2\n",
      "         long_name :\tSpecified height level above ground\n",
      "         units :\tm\n",
      "\n",
      "Variable: lv_ISBL1\n",
      "Type: float\n",
      "Total Size: 28 bytes\n",
      "            7 values\n",
      "Number of Dimensions: 1\n",
      "Dimensions and sizes:\t[lv_ISBL1 | 7]\n",
      "Coordinates: \n",
      "            lv_ISBL1: [25000..100000]\n",
      "Number of Attributes: 2\n",
      "         long_name :\tIsobaric surface\n",
      "         units :\tPa\n",
      "\n",
      "Variable: lv_ISBL0\n",
      "Type: float\n",
      "Total Size: 20 bytes\n",
      "            5 values\n",
      "Number of Dimensions: 1\n",
      "Dimensions and sizes:\t[lv_ISBL0 | 5]\n",
      "Coordinates: \n",
      "            lv_ISBL0: [50000..100000]\n",
      "Number of Attributes: 2\n",
      "         long_name :\tIsobaric surface\n",
      "         units :\tPa\n",
      "\n",
      "Variable: gridrot_0\n",
      "Type: float\n",
      "Total Size: 7620564 bytes\n",
      "            1905141 values\n",
      "Number of Dimensions: 2\n",
      "Dimensions and sizes:\t[ygrid_0 | 1059] x [xgrid_0 | 1799]\n",
      "Coordinates: \n",
      "            ygrid_0: not a coordinate variable\n",
      "            xgrid_0: not a coordinate variable\n",
      "Number of Attributes: 7\n",
      "         long_name :\tvector rotation angle\n",
      "         GridType :\tLambert Conformal (secant, tangent, conical or bipolar)\n",
      "         units :\tradians\n",
      "         formula_u :\tUearth = sin(rot)*Vgrid + cos(rot)*Ugrid\n",
      "         formula_v :\tVearth = cos(rot)*Vgrid - sin(rot)*Ugrid\n",
      "         note1 :\tu and v components of vector quantities are resolved relative to grid\n",
      "         note2 :\tapply formulas to derive u and v components relative to earth\n",
      "\n",
      "Variable: gridlat_0\n",
      "Type: float\n",
      "Total Size: 7620564 bytes\n",
      "            1905141 values\n",
      "Number of Dimensions: 2\n",
      "Dimensions and sizes:\t[ygrid_0 | 1059] x [xgrid_0 | 1799]\n",
      "Coordinates: \n",
      "            ygrid_0: not a coordinate variable\n",
      "            xgrid_0: not a coordinate variable\n",
      "Number of Attributes: 11\n",
      "         corners :\t[21.13812, 21.14055, 47.84219, 47.83862]\n",
      "         long_name :\tlatitude\n",
      "         grid_type :\tLambert Conformal (secant, tangent, conical or bipolar)\n",
      "         units :\tdegrees_north\n",
      "         Latin2 :\t38.5\n",
      "         Latin1 :\t38.5\n",
      "         Dy :\t3\n",
      "         Dx :\t3\n",
      "         Lov :\t262.5\n",
      "         Lo1 :\t237.2805\n",
      "         La1 :\t21.13812\n",
      "\n",
      "Variable: gridlon_0\n",
      "Type: float\n",
      "Total Size: 7620564 bytes\n",
      "            1905141 values\n",
      "Number of Dimensions: 2\n",
      "Dimensions and sizes:\t[ygrid_0 | 1059] x [xgrid_0 | 1799]\n",
      "Coordinates: \n",
      "            ygrid_0: not a coordinate variable\n",
      "            xgrid_0: not a coordinate variable\n",
      "Number of Attributes: 11\n",
      "         corners :\t[-122.7195, -72.28972, -60.91719, -134.0955]\n",
      "         long_name :\tlongitude\n",
      "         grid_type :\tLambert Conformal (secant, tangent, conical or bipolar)\n",
      "         units :\tdegrees_east\n",
      "         Latin2 :\t38.5\n",
      "         Latin1 :\t38.5\n",
      "         Dy :\t3\n",
      "         Dx :\t3\n",
      "         Lov :\t262.5\n",
      "         Lo1 :\t237.2805\n",
      "         La1 :\t21.13812\n",
      "\n"
     ]
    }
   ],
   "source": [
    "for key in file.variables:\n",
    "    print(file.variables[key])"
   ]
  },
  {
   "cell_type": "code",
   "execution_count": 43,
   "id": "e1e1ddc7-bc02-482a-8fc0-8dc259833abc",
   "metadata": {},
   "outputs": [
    {
     "data": {
      "text/plain": [
       "{'TMP_P0_L1_GLC0': <Nio.NioVariable object at 0x7f065d47e140>, 'TMP_P0_L100_GLC0': <Nio.NioVariable object at 0x7f065d47e260>, 'TMP_P0_L103_GLC0': <Nio.NioVariable object at 0x7f065d47e2c0>, 'DPT_P0_L100_GLC0': <Nio.NioVariable object at 0x7f065d47e170>, 'DPT_P0_L103_GLC0': <Nio.NioVariable object at 0x7f065d47e3e0>, 'UGRD_P0_L100_GLC0': <Nio.NioVariable object at 0x7f065d47cca0>, 'UGRD_P0_L103_GLC0': <Nio.NioVariable object at 0x7f065d47d180>, 'VGRD_P0_L100_GLC0': <Nio.NioVariable object at 0x7f065d47d030>, 'VGRD_P0_L103_GLC0': <Nio.NioVariable object at 0x7f065d47d0c0>, 'VIS_P0_L1_GLC0': <Nio.NioVariable object at 0x7f065d47d000>, 'lv_HTGL2': <Nio.NioVariable object at 0x7f065d47ce20>, 'lv_ISBL1': <Nio.NioVariable object at 0x7f065d47c370>, 'lv_ISBL0': <Nio.NioVariable object at 0x7f065d47cf10>, 'gridrot_0': <Nio.NioVariable object at 0x7f065d47ce80>, 'gridlat_0': <Nio.NioVariable object at 0x7f065d47cc70>, 'gridlon_0': <Nio.NioVariable object at 0x7f065d47d2a0>}"
      ]
     },
     "execution_count": 43,
     "metadata": {},
     "output_type": "execute_result"
    }
   ],
   "source": [
    "file.variables"
   ]
  },
  {
   "cell_type": "code",
   "execution_count": null,
   "id": "c6919d50-85a9-4b66-83cb-585b8df2d470",
   "metadata": {},
   "outputs": [],
   "source": []
  }
 ],
 "metadata": {
  "kernelspec": {
   "display_name": "Python 3 (ipykernel)",
   "language": "python",
   "name": "python3"
  },
  "language_info": {
   "codemirror_mode": {
    "name": "ipython",
    "version": 3
   },
   "file_extension": ".py",
   "mimetype": "text/x-python",
   "name": "python",
   "nbconvert_exporter": "python",
   "pygments_lexer": "ipython3",
   "version": "3.10.6"
  }
 },
 "nbformat": 4,
 "nbformat_minor": 5
}
